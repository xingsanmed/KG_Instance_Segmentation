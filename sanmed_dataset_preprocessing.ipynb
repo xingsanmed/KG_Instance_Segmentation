{
 "cells": [
  {
   "cell_type": "code",
   "execution_count": 1,
   "metadata": {},
   "outputs": [],
   "source": [
    "import os\n",
    "import glob2\n",
    "import numpy as np\n",
    "import pandas as pd\n",
    "import cv2\n",
    "\n",
    "import matplotlib.pyplot as plt"
   ]
  },
  {
   "cell_type": "code",
   "execution_count": 13,
   "metadata": {},
   "outputs": [],
   "source": [
    "train_dir = '/home/xing/Share/Projects/Sanmed/cell_seg/Data/20201020/train'\n",
    "valid_dir = '/home/xing/Share/Projects/Sanmed/cell_seg/Data/20201020/valid'"
   ]
  },
  {
   "cell_type": "code",
   "execution_count": 14,
   "metadata": {},
   "outputs": [],
   "source": [
    "train_file_list = glob2.glob(os.path.join(train_dir,'*'+'.png'))\n",
    "valid_file_list = glob2.glob(os.path.join(valid_dir,'*'+'.png'))"
   ]
  },
  {
   "cell_type": "code",
   "execution_count": 16,
   "metadata": {},
   "outputs": [
    {
     "data": {
      "text/plain": [
       "10"
      ]
     },
     "execution_count": 16,
     "metadata": {},
     "output_type": "execute_result"
    }
   ],
   "source": [
    "len(valid_file_list)"
   ]
  },
  {
   "cell_type": "code",
   "execution_count": 17,
   "metadata": {},
   "outputs": [],
   "source": [
    "key_fn = lambda x: os.path.split(x)[-1].split('.')[0]"
   ]
  },
  {
   "cell_type": "code",
   "execution_count": 6,
   "metadata": {},
   "outputs": [],
   "source": [
    "ID = []\n",
    "mask_path = []\n",
    "image_path = []\n",
    "\n",
    "for mask_file in file_list:\n",
    "    \n",
    "    sid = key_fn(mask_file)\n",
    "    ID.append(sid)\n",
    "    mask_path.append(mask_file)\n",
    "    img_pth = os.path.join(base_dir,sid+'.jpg')\n",
    "    image_path.append(img_pth)"
   ]
  },
  {
   "cell_type": "code",
   "execution_count": 7,
   "metadata": {},
   "outputs": [],
   "source": [
    "base_df = pd.DataFrame({'sid':ID,\n",
    "                       'image_path':image_path,\n",
    "                       'mask_path':mask_path})"
   ]
  },
  {
   "cell_type": "code",
   "execution_count": 8,
   "metadata": {},
   "outputs": [
    {
     "data": {
      "text/html": [
       "<div>\n",
       "<style scoped>\n",
       "    .dataframe tbody tr th:only-of-type {\n",
       "        vertical-align: middle;\n",
       "    }\n",
       "\n",
       "    .dataframe tbody tr th {\n",
       "        vertical-align: top;\n",
       "    }\n",
       "\n",
       "    .dataframe thead th {\n",
       "        text-align: right;\n",
       "    }\n",
       "</style>\n",
       "<table border=\"1\" class=\"dataframe\">\n",
       "  <thead>\n",
       "    <tr style=\"text-align: right;\">\n",
       "      <th></th>\n",
       "      <th>sid</th>\n",
       "      <th>image_path</th>\n",
       "      <th>mask_path</th>\n",
       "    </tr>\n",
       "  </thead>\n",
       "  <tbody>\n",
       "    <tr>\n",
       "      <th>0</th>\n",
       "      <td>897068_899051_10000</td>\n",
       "      <td>/home/xing/Share/Projects/Sanmed/cell_seg/Data...</td>\n",
       "      <td>/home/xing/Share/Projects/Sanmed/cell_seg/Data...</td>\n",
       "    </tr>\n",
       "    <tr>\n",
       "      <th>1</th>\n",
       "      <td>1245106_1249759_10000</td>\n",
       "      <td>/home/xing/Share/Projects/Sanmed/cell_seg/Data...</td>\n",
       "      <td>/home/xing/Share/Projects/Sanmed/cell_seg/Data...</td>\n",
       "    </tr>\n",
       "    <tr>\n",
       "      <th>2</th>\n",
       "      <td>809842_806027_10000</td>\n",
       "      <td>/home/xing/Share/Projects/Sanmed/cell_seg/Data...</td>\n",
       "      <td>/home/xing/Share/Projects/Sanmed/cell_seg/Data...</td>\n",
       "    </tr>\n",
       "    <tr>\n",
       "      <th>3</th>\n",
       "      <td>1408274_1406233_10000</td>\n",
       "      <td>/home/xing/Share/Projects/Sanmed/cell_seg/Data...</td>\n",
       "      <td>/home/xing/Share/Projects/Sanmed/cell_seg/Data...</td>\n",
       "    </tr>\n",
       "    <tr>\n",
       "      <th>4</th>\n",
       "      <td>753802_751973_10000</td>\n",
       "      <td>/home/xing/Share/Projects/Sanmed/cell_seg/Data...</td>\n",
       "      <td>/home/xing/Share/Projects/Sanmed/cell_seg/Data...</td>\n",
       "    </tr>\n",
       "  </tbody>\n",
       "</table>\n",
       "</div>"
      ],
      "text/plain": [
       "                     sid                                         image_path  \\\n",
       "0    897068_899051_10000  /home/xing/Share/Projects/Sanmed/cell_seg/Data...   \n",
       "1  1245106_1249759_10000  /home/xing/Share/Projects/Sanmed/cell_seg/Data...   \n",
       "2    809842_806027_10000  /home/xing/Share/Projects/Sanmed/cell_seg/Data...   \n",
       "3  1408274_1406233_10000  /home/xing/Share/Projects/Sanmed/cell_seg/Data...   \n",
       "4    753802_751973_10000  /home/xing/Share/Projects/Sanmed/cell_seg/Data...   \n",
       "\n",
       "                                           mask_path  \n",
       "0  /home/xing/Share/Projects/Sanmed/cell_seg/Data...  \n",
       "1  /home/xing/Share/Projects/Sanmed/cell_seg/Data...  \n",
       "2  /home/xing/Share/Projects/Sanmed/cell_seg/Data...  \n",
       "3  /home/xing/Share/Projects/Sanmed/cell_seg/Data...  \n",
       "4  /home/xing/Share/Projects/Sanmed/cell_seg/Data...  "
      ]
     },
     "execution_count": 8,
     "metadata": {},
     "output_type": "execute_result"
    }
   ],
   "source": [
    "base_df.head()"
   ]
  },
  {
   "cell_type": "code",
   "execution_count": 16,
   "metadata": {},
   "outputs": [],
   "source": [
    "base_df.to_csv(os.path.join(base_dir,'base_df.csv'))"
   ]
  },
  {
   "cell_type": "code",
   "execution_count": 9,
   "metadata": {},
   "outputs": [],
   "source": [
    "def mask_generation(mask_path,folder):\n",
    "    from tqdm import tqdm\n",
    "    mask = cv2.imread(mask_path)\n",
    "    mask = np.array(mask,np.uint8)\n",
    "    mask_gray = mask[:,:,0].copy()\n",
    "    uniq = np.unique(mask_gray)\n",
    "    instances = np.delete(uniq,[0])\n",
    "    for inst in tqdm(instances):\n",
    "        print(inst)\n",
    "        mask_new = np.zeros_like(mask_gray)\n",
    "        print(mask_new.shape)\n",
    "        mask_new[mask_gray==inst] = 100\n",
    "        \n",
    "        contours,hierarchy = cv2.findContours(mask_new,cv2.RETR_TREE,cv2.CHAIN_APPROX_SIMPLE)\n",
    "        \n",
    "        for idx,contour in enumerate(contours):\n",
    "            mask_sub = np.zeros_like(mask_gray)\n",
    "            area = cv2.contourArea(contour)\n",
    "            print(area)\n",
    "            if area > 2:\n",
    "                cv2.drawContours(mask_sub,contours,idx,255,-1)\n",
    "                mask_sub = np.where(mask_sub>0,100,0)\n",
    "                mask_nm = os.path.join(folder,'mask_'+str(inst)+'_'+str(idx)+'.png')\n",
    "                print(mask_nm)\n",
    "                cv2.imwrite(mask_nm,mask_sub)"
   ]
  },
  {
   "cell_type": "code",
   "execution_count": 18,
   "metadata": {},
   "outputs": [
    {
     "name": "stderr",
     "output_type": "stream",
     "text": [
      "  3%|▎         | 2/71 [00:00<00:04, 16.13it/s]"
     ]
    },
    {
     "name": "stdout",
     "output_type": "stream",
     "text": [
      "50\n",
      "(2048, 2448)\n",
      "90.0\n",
      "/home/xing/Share/Projects/Sanmed/cell_seg/Data/20201020/valid/671427_671240_10000/masks/mask_50_0.png\n",
      "122.5\n",
      "/home/xing/Share/Projects/Sanmed/cell_seg/Data/20201020/valid/671427_671240_10000/masks/mask_50_1.png\n",
      "53\n",
      "(2048, 2448)\n",
      "115.0\n",
      "/home/xing/Share/Projects/Sanmed/cell_seg/Data/20201020/valid/671427_671240_10000/masks/mask_53_0.png\n",
      "54\n",
      "(2048, 2448)\n",
      "70.0\n",
      "/home/xing/Share/Projects/Sanmed/cell_seg/Data/20201020/valid/671427_671240_10000/masks/mask_54_0.png\n",
      "55\n",
      "(2048, 2448)\n",
      "119.5\n",
      "/home/xing/Share/Projects/Sanmed/cell_seg/Data/20201020/valid/671427_671240_10000/masks/mask_55_0.png\n"
     ]
    },
    {
     "name": "stderr",
     "output_type": "stream",
     "text": [
      "\r",
      "  6%|▌         | 4/71 [00:00<00:04, 14.83it/s]"
     ]
    },
    {
     "name": "stdout",
     "output_type": "stream",
     "text": [
      "193.5\n",
      "/home/xing/Share/Projects/Sanmed/cell_seg/Data/20201020/valid/671427_671240_10000/masks/mask_55_1.png\n",
      "128.5\n",
      "/home/xing/Share/Projects/Sanmed/cell_seg/Data/20201020/valid/671427_671240_10000/masks/mask_55_2.png\n",
      "56\n",
      "(2048, 2448)\n",
      "198.0\n",
      "/home/xing/Share/Projects/Sanmed/cell_seg/Data/20201020/valid/671427_671240_10000/masks/mask_56_0.png\n",
      "226.0\n",
      "/home/xing/Share/Projects/Sanmed/cell_seg/Data/20201020/valid/671427_671240_10000/masks/mask_56_1.png\n",
      "61\n",
      "(2048, 2448)\n",
      "75.0\n",
      "/home/xing/Share/Projects/Sanmed/cell_seg/Data/20201020/valid/671427_671240_10000/masks/mask_61_0.png\n"
     ]
    },
    {
     "name": "stderr",
     "output_type": "stream",
     "text": [
      " 10%|▉         | 7/71 [00:00<00:05, 11.24it/s]"
     ]
    },
    {
     "name": "stdout",
     "output_type": "stream",
     "text": [
      "64\n",
      "(2048, 2448)\n",
      "98.5\n",
      "/home/xing/Share/Projects/Sanmed/cell_seg/Data/20201020/valid/671427_671240_10000/masks/mask_64_0.png\n",
      "65.5\n",
      "/home/xing/Share/Projects/Sanmed/cell_seg/Data/20201020/valid/671427_671240_10000/masks/mask_64_1.png\n",
      "176.0\n",
      "/home/xing/Share/Projects/Sanmed/cell_seg/Data/20201020/valid/671427_671240_10000/masks/mask_64_2.png\n",
      "65\n",
      "(2048, 2448)\n",
      "139.0\n",
      "/home/xing/Share/Projects/Sanmed/cell_seg/Data/20201020/valid/671427_671240_10000/masks/mask_65_0.png\n",
      "67\n",
      "(2048, 2448)\n",
      "228.0\n"
     ]
    },
    {
     "name": "stderr",
     "output_type": "stream",
     "text": [
      " 17%|█▋        | 12/71 [00:00<00:03, 14.86it/s]"
     ]
    },
    {
     "name": "stdout",
     "output_type": "stream",
     "text": [
      "/home/xing/Share/Projects/Sanmed/cell_seg/Data/20201020/valid/671427_671240_10000/masks/mask_67_0.png\n",
      "71\n",
      "(2048, 2448)\n",
      "47.0\n",
      "/home/xing/Share/Projects/Sanmed/cell_seg/Data/20201020/valid/671427_671240_10000/masks/mask_71_0.png\n",
      "76\n",
      "(2048, 2448)\n",
      "106.0\n",
      "/home/xing/Share/Projects/Sanmed/cell_seg/Data/20201020/valid/671427_671240_10000/masks/mask_76_0.png\n",
      "77\n",
      "(2048, 2448)\n",
      "195.5\n",
      "/home/xing/Share/Projects/Sanmed/cell_seg/Data/20201020/valid/671427_671240_10000/masks/mask_77_0.png\n",
      "81\n",
      "(2048, 2448)\n",
      "105.5\n",
      "/home/xing/Share/Projects/Sanmed/cell_seg/Data/20201020/valid/671427_671240_10000/masks/mask_81_0.png\n"
     ]
    },
    {
     "name": "stderr",
     "output_type": "stream",
     "text": [
      "\r",
      " 21%|██        | 15/71 [00:00<00:03, 16.50it/s]"
     ]
    },
    {
     "name": "stdout",
     "output_type": "stream",
     "text": [
      "85\n",
      "(2048, 2448)\n",
      "198.0\n",
      "/home/xing/Share/Projects/Sanmed/cell_seg/Data/20201020/valid/671427_671240_10000/masks/mask_85_0.png\n",
      "86\n",
      "(2048, 2448)\n",
      "82.0\n",
      "/home/xing/Share/Projects/Sanmed/cell_seg/Data/20201020/valid/671427_671240_10000/masks/mask_86_0.png\n",
      "87\n",
      "(2048, 2448)\n",
      "232.5\n",
      "/home/xing/Share/Projects/Sanmed/cell_seg/Data/20201020/valid/671427_671240_10000/masks/mask_87_0.png\n",
      "88\n",
      "(2048, 2448)\n",
      "138.5\n",
      "/home/xing/Share/Projects/Sanmed/cell_seg/Data/20201020/valid/671427_671240_10000/masks/mask_88_0.png\n",
      "89\n",
      "(2048, 2448)\n",
      "213.0\n"
     ]
    },
    {
     "name": "stderr",
     "output_type": "stream",
     "text": [
      "\r",
      " 25%|██▌       | 18/71 [00:01<00:03, 15.60it/s]"
     ]
    },
    {
     "name": "stdout",
     "output_type": "stream",
     "text": [
      "/home/xing/Share/Projects/Sanmed/cell_seg/Data/20201020/valid/671427_671240_10000/masks/mask_89_0.png\n",
      "61.0\n",
      "/home/xing/Share/Projects/Sanmed/cell_seg/Data/20201020/valid/671427_671240_10000/masks/mask_89_1.png\n",
      "124.5\n",
      "/home/xing/Share/Projects/Sanmed/cell_seg/Data/20201020/valid/671427_671240_10000/masks/mask_89_2.png\n",
      "90\n",
      "(2048, 2448)\n",
      "203.5\n",
      "/home/xing/Share/Projects/Sanmed/cell_seg/Data/20201020/valid/671427_671240_10000/masks/mask_90_0.png\n",
      "92\n",
      "(2048, 2448)\n",
      "179.0\n",
      "/home/xing/Share/Projects/Sanmed/cell_seg/Data/20201020/valid/671427_671240_10000/masks/mask_92_0.png\n",
      "105\n",
      "(2048, 2448)\n",
      "92.5\n"
     ]
    },
    {
     "name": "stderr",
     "output_type": "stream",
     "text": [
      " 32%|███▏      | 23/71 [00:01<00:02, 17.68it/s]"
     ]
    },
    {
     "name": "stdout",
     "output_type": "stream",
     "text": [
      "/home/xing/Share/Projects/Sanmed/cell_seg/Data/20201020/valid/671427_671240_10000/masks/mask_105_0.png\n",
      "106\n",
      "(2048, 2448)\n",
      "67.5\n",
      "/home/xing/Share/Projects/Sanmed/cell_seg/Data/20201020/valid/671427_671240_10000/masks/mask_106_0.png\n",
      "114\n",
      "(2048, 2448)\n",
      "169.5\n",
      "/home/xing/Share/Projects/Sanmed/cell_seg/Data/20201020/valid/671427_671240_10000/masks/mask_114_0.png\n",
      "115\n",
      "(2048, 2448)\n",
      "114.5\n",
      "/home/xing/Share/Projects/Sanmed/cell_seg/Data/20201020/valid/671427_671240_10000/masks/mask_115_0.png\n",
      "117\n",
      "(2048, 2448)\n",
      "100.0\n",
      "/home/xing/Share/Projects/Sanmed/cell_seg/Data/20201020/valid/671427_671240_10000/masks/mask_117_0.png\n"
     ]
    },
    {
     "name": "stderr",
     "output_type": "stream",
     "text": [
      " 39%|███▉      | 28/71 [00:01<00:02, 17.18it/s]"
     ]
    },
    {
     "name": "stdout",
     "output_type": "stream",
     "text": [
      "118\n",
      "(2048, 2448)\n",
      "111.0\n",
      "/home/xing/Share/Projects/Sanmed/cell_seg/Data/20201020/valid/671427_671240_10000/masks/mask_118_0.png\n",
      "119\n",
      "(2048, 2448)\n",
      "185.0\n",
      "/home/xing/Share/Projects/Sanmed/cell_seg/Data/20201020/valid/671427_671240_10000/masks/mask_119_0.png\n",
      "150.5\n",
      "/home/xing/Share/Projects/Sanmed/cell_seg/Data/20201020/valid/671427_671240_10000/masks/mask_119_1.png\n",
      "121\n",
      "(2048, 2448)\n",
      "116.5\n",
      "/home/xing/Share/Projects/Sanmed/cell_seg/Data/20201020/valid/671427_671240_10000/masks/mask_121_0.png\n",
      "122\n",
      "(2048, 2448)\n",
      "92.5\n"
     ]
    },
    {
     "name": "stderr",
     "output_type": "stream",
     "text": [
      "\r",
      " 42%|████▏     | 30/71 [00:01<00:02, 15.82it/s]"
     ]
    },
    {
     "name": "stdout",
     "output_type": "stream",
     "text": [
      "/home/xing/Share/Projects/Sanmed/cell_seg/Data/20201020/valid/671427_671240_10000/masks/mask_122_0.png\n",
      "126\n",
      "(2048, 2448)\n",
      "210.0\n",
      "/home/xing/Share/Projects/Sanmed/cell_seg/Data/20201020/valid/671427_671240_10000/masks/mask_126_0.png\n",
      "131.0\n",
      "/home/xing/Share/Projects/Sanmed/cell_seg/Data/20201020/valid/671427_671240_10000/masks/mask_126_1.png\n",
      "130\n",
      "(2048, 2448)\n",
      "73.0\n",
      "/home/xing/Share/Projects/Sanmed/cell_seg/Data/20201020/valid/671427_671240_10000/masks/mask_130_0.png\n",
      "135\n",
      "(2048, 2448)\n",
      "204.0\n",
      "/home/xing/Share/Projects/Sanmed/cell_seg/Data/20201020/valid/671427_671240_10000/masks/mask_135_0.png\n"
     ]
    },
    {
     "name": "stderr",
     "output_type": "stream",
     "text": [
      " 48%|████▊     | 34/71 [00:02<00:02, 16.08it/s]"
     ]
    },
    {
     "name": "stdout",
     "output_type": "stream",
     "text": [
      "139\n",
      "(2048, 2448)\n",
      "58.0\n",
      "/home/xing/Share/Projects/Sanmed/cell_seg/Data/20201020/valid/671427_671240_10000/masks/mask_139_0.png\n",
      "140\n",
      "(2048, 2448)\n",
      "313.5\n",
      "/home/xing/Share/Projects/Sanmed/cell_seg/Data/20201020/valid/671427_671240_10000/masks/mask_140_0.png\n",
      "190.5\n",
      "/home/xing/Share/Projects/Sanmed/cell_seg/Data/20201020/valid/671427_671240_10000/masks/mask_140_1.png\n",
      "141\n",
      "(2048, 2448)\n",
      "177.0\n",
      "/home/xing/Share/Projects/Sanmed/cell_seg/Data/20201020/valid/671427_671240_10000/masks/mask_141_0.png\n",
      "142\n",
      "(2048, 2448)\n",
      "218.0\n",
      "/home/xing/Share/Projects/Sanmed/cell_seg/Data/20201020/valid/671427_671240_10000/masks/mask_142_0.png\n"
     ]
    },
    {
     "name": "stderr",
     "output_type": "stream",
     "text": [
      " 54%|█████▎    | 38/71 [00:02<00:02, 16.26it/s]"
     ]
    },
    {
     "name": "stdout",
     "output_type": "stream",
     "text": [
      "85.0\n",
      "/home/xing/Share/Projects/Sanmed/cell_seg/Data/20201020/valid/671427_671240_10000/masks/mask_142_1.png\n",
      "143\n",
      "(2048, 2448)\n",
      "119.5\n",
      "/home/xing/Share/Projects/Sanmed/cell_seg/Data/20201020/valid/671427_671240_10000/masks/mask_143_0.png\n",
      "68.0\n",
      "/home/xing/Share/Projects/Sanmed/cell_seg/Data/20201020/valid/671427_671240_10000/masks/mask_143_1.png\n",
      "146\n",
      "(2048, 2448)\n",
      "128.5\n",
      "/home/xing/Share/Projects/Sanmed/cell_seg/Data/20201020/valid/671427_671240_10000/masks/mask_146_0.png\n",
      "147\n",
      "(2048, 2448)\n",
      "127.5\n",
      "/home/xing/Share/Projects/Sanmed/cell_seg/Data/20201020/valid/671427_671240_10000/masks/mask_147_0.png\n",
      "148\n"
     ]
    },
    {
     "name": "stderr",
     "output_type": "stream",
     "text": [
      "\r",
      " 58%|█████▊    | 41/71 [00:02<00:01, 17.98it/s]"
     ]
    },
    {
     "name": "stdout",
     "output_type": "stream",
     "text": [
      "(2048, 2448)\n",
      "103.0\n",
      "/home/xing/Share/Projects/Sanmed/cell_seg/Data/20201020/valid/671427_671240_10000/masks/mask_148_0.png\n",
      "150\n",
      "(2048, 2448)\n",
      "95.5\n",
      "/home/xing/Share/Projects/Sanmed/cell_seg/Data/20201020/valid/671427_671240_10000/masks/mask_150_0.png\n",
      "162\n",
      "(2048, 2448)\n",
      "56.5\n",
      "/home/xing/Share/Projects/Sanmed/cell_seg/Data/20201020/valid/671427_671240_10000/masks/mask_162_0.png\n",
      "166\n",
      "(2048, 2448)\n",
      "119.0\n",
      "/home/xing/Share/Projects/Sanmed/cell_seg/Data/20201020/valid/671427_671240_10000/masks/mask_166_0.png\n",
      "169\n",
      "(2048, 2448)\n",
      "105.0\n",
      "/home/xing/Share/Projects/Sanmed/cell_seg/Data/20201020/valid/671427_671240_10000/masks/mask_169_0.png\n"
     ]
    },
    {
     "name": "stderr",
     "output_type": "stream",
     "text": [
      " 66%|██████▌   | 47/71 [00:02<00:01, 20.56it/s]"
     ]
    },
    {
     "name": "stdout",
     "output_type": "stream",
     "text": [
      "173\n",
      "(2048, 2448)\n",
      "232.5\n",
      "/home/xing/Share/Projects/Sanmed/cell_seg/Data/20201020/valid/671427_671240_10000/masks/mask_173_0.png\n",
      "179\n",
      "(2048, 2448)\n",
      "70.0\n",
      "/home/xing/Share/Projects/Sanmed/cell_seg/Data/20201020/valid/671427_671240_10000/masks/mask_179_0.png\n",
      "181\n",
      "(2048, 2448)\n",
      "138.5\n",
      "/home/xing/Share/Projects/Sanmed/cell_seg/Data/20201020/valid/671427_671240_10000/masks/mask_181_0.png\n",
      "183\n",
      "(2048, 2448)\n",
      "131.0\n",
      "/home/xing/Share/Projects/Sanmed/cell_seg/Data/20201020/valid/671427_671240_10000/masks/mask_183_0.png\n",
      "185\n",
      "(2048, 2448)\n",
      "217.5\n",
      "/home/xing/Share/Projects/Sanmed/cell_seg/Data/20201020/valid/671427_671240_10000/masks/mask_185_0.png\n"
     ]
    },
    {
     "name": "stderr",
     "output_type": "stream",
     "text": [
      "\r",
      " 70%|███████   | 50/71 [00:02<00:00, 21.44it/s]"
     ]
    },
    {
     "name": "stdout",
     "output_type": "stream",
     "text": [
      "197\n",
      "(2048, 2448)\n",
      "316.5\n",
      "/home/xing/Share/Projects/Sanmed/cell_seg/Data/20201020/valid/671427_671240_10000/masks/mask_197_0.png\n",
      "198\n",
      "(2048, 2448)\n",
      "152.5\n",
      "/home/xing/Share/Projects/Sanmed/cell_seg/Data/20201020/valid/671427_671240_10000/masks/mask_198_0.png\n",
      "116.0\n",
      "/home/xing/Share/Projects/Sanmed/cell_seg/Data/20201020/valid/671427_671240_10000/masks/mask_198_1.png\n",
      "199\n",
      "(2048, 2448)\n",
      "113.5\n",
      "/home/xing/Share/Projects/Sanmed/cell_seg/Data/20201020/valid/671427_671240_10000/masks/mask_199_0.png\n",
      "200\n",
      "(2048, 2448)\n",
      "129.5\n",
      "/home/xing/Share/Projects/Sanmed/cell_seg/Data/20201020/valid/671427_671240_10000/masks/mask_200_0.png\n"
     ]
    },
    {
     "name": "stderr",
     "output_type": "stream",
     "text": [
      " 77%|███████▋  | 55/71 [00:03<00:00, 18.09it/s]"
     ]
    },
    {
     "name": "stdout",
     "output_type": "stream",
     "text": [
      "87.0\n",
      "/home/xing/Share/Projects/Sanmed/cell_seg/Data/20201020/valid/671427_671240_10000/masks/mask_200_1.png\n",
      "203\n",
      "(2048, 2448)\n",
      "163.5\n",
      "/home/xing/Share/Projects/Sanmed/cell_seg/Data/20201020/valid/671427_671240_10000/masks/mask_203_0.png\n",
      "204\n",
      "(2048, 2448)\n",
      "126.0\n",
      "/home/xing/Share/Projects/Sanmed/cell_seg/Data/20201020/valid/671427_671240_10000/masks/mask_204_0.png\n",
      "64.0\n",
      "/home/xing/Share/Projects/Sanmed/cell_seg/Data/20201020/valid/671427_671240_10000/masks/mask_204_1.png\n",
      "206\n",
      "(2048, 2448)\n",
      "137.0\n",
      "/home/xing/Share/Projects/Sanmed/cell_seg/Data/20201020/valid/671427_671240_10000/masks/mask_206_0.png\n"
     ]
    },
    {
     "name": "stderr",
     "output_type": "stream",
     "text": [
      "\r",
      " 80%|████████  | 57/71 [00:03<00:00, 17.64it/s]"
     ]
    },
    {
     "name": "stdout",
     "output_type": "stream",
     "text": [
      "128.0\n",
      "/home/xing/Share/Projects/Sanmed/cell_seg/Data/20201020/valid/671427_671240_10000/masks/mask_206_1.png\n",
      "208\n",
      "(2048, 2448)\n",
      "91.0\n",
      "/home/xing/Share/Projects/Sanmed/cell_seg/Data/20201020/valid/671427_671240_10000/masks/mask_208_0.png\n",
      "209\n",
      "(2048, 2448)\n",
      "305.5\n",
      "/home/xing/Share/Projects/Sanmed/cell_seg/Data/20201020/valid/671427_671240_10000/masks/mask_209_0.png\n",
      "210\n",
      "(2048, 2448)\n",
      "61.0\n",
      "/home/xing/Share/Projects/Sanmed/cell_seg/Data/20201020/valid/671427_671240_10000/masks/mask_210_0.png\n",
      "214\n",
      "(2048, 2448)\n",
      "144.0\n",
      "/home/xing/Share/Projects/Sanmed/cell_seg/Data/20201020/valid/671427_671240_10000/masks/mask_214_0.png\n"
     ]
    },
    {
     "name": "stderr",
     "output_type": "stream",
     "text": [
      " 87%|████████▋ | 62/71 [00:03<00:00, 16.99it/s]"
     ]
    },
    {
     "name": "stdout",
     "output_type": "stream",
     "text": [
      "77.5\n",
      "/home/xing/Share/Projects/Sanmed/cell_seg/Data/20201020/valid/671427_671240_10000/masks/mask_214_1.png\n",
      "215\n",
      "(2048, 2448)\n",
      "91.5\n",
      "/home/xing/Share/Projects/Sanmed/cell_seg/Data/20201020/valid/671427_671240_10000/masks/mask_215_0.png\n",
      "216\n",
      "(2048, 2448)\n",
      "165.0\n",
      "/home/xing/Share/Projects/Sanmed/cell_seg/Data/20201020/valid/671427_671240_10000/masks/mask_216_0.png\n",
      "100.0\n",
      "/home/xing/Share/Projects/Sanmed/cell_seg/Data/20201020/valid/671427_671240_10000/masks/mask_216_1.png\n",
      "222\n",
      "(2048, 2448)\n",
      "84.5\n",
      "/home/xing/Share/Projects/Sanmed/cell_seg/Data/20201020/valid/671427_671240_10000/masks/mask_222_0.png\n"
     ]
    },
    {
     "name": "stderr",
     "output_type": "stream",
     "text": [
      "\r",
      " 90%|█████████ | 64/71 [00:03<00:00, 16.46it/s]"
     ]
    },
    {
     "name": "stdout",
     "output_type": "stream",
     "text": [
      "224\n",
      "(2048, 2448)\n",
      "109.5\n",
      "/home/xing/Share/Projects/Sanmed/cell_seg/Data/20201020/valid/671427_671240_10000/masks/mask_224_0.png\n",
      "177.5\n",
      "/home/xing/Share/Projects/Sanmed/cell_seg/Data/20201020/valid/671427_671240_10000/masks/mask_224_1.png\n",
      "226\n",
      "(2048, 2448)\n",
      "206.5\n",
      "/home/xing/Share/Projects/Sanmed/cell_seg/Data/20201020/valid/671427_671240_10000/masks/mask_226_0.png\n",
      "227\n",
      "(2048, 2448)\n",
      "81.0\n",
      "/home/xing/Share/Projects/Sanmed/cell_seg/Data/20201020/valid/671427_671240_10000/masks/mask_227_0.png\n",
      "230\n",
      "(2048, 2448)\n",
      "112.0\n",
      "/home/xing/Share/Projects/Sanmed/cell_seg/Data/20201020/valid/671427_671240_10000/masks/mask_230_0.png\n"
     ]
    },
    {
     "name": "stderr",
     "output_type": "stream",
     "text": [
      " 97%|█████████▋| 69/71 [00:03<00:00, 17.52it/s]"
     ]
    },
    {
     "name": "stdout",
     "output_type": "stream",
     "text": [
      "238\n",
      "(2048, 2448)\n",
      "142.0\n",
      "/home/xing/Share/Projects/Sanmed/cell_seg/Data/20201020/valid/671427_671240_10000/masks/mask_238_0.png\n",
      "243\n",
      "(2048, 2448)\n",
      "147.5\n",
      "/home/xing/Share/Projects/Sanmed/cell_seg/Data/20201020/valid/671427_671240_10000/masks/mask_243_0.png\n",
      "249\n",
      "(2048, 2448)\n",
      "268.5\n",
      "/home/xing/Share/Projects/Sanmed/cell_seg/Data/20201020/valid/671427_671240_10000/masks/mask_249_0.png\n",
      "250\n",
      "(2048, 2448)\n",
      "94.5\n"
     ]
    },
    {
     "name": "stderr",
     "output_type": "stream",
     "text": [
      "100%|██████████| 71/71 [00:04<00:00, 17.56it/s]\n",
      "  0%|          | 0/137 [00:00<?, ?it/s]"
     ]
    },
    {
     "name": "stdout",
     "output_type": "stream",
     "text": [
      "/home/xing/Share/Projects/Sanmed/cell_seg/Data/20201020/valid/671427_671240_10000/masks/mask_250_0.png\n",
      "50\n",
      "(2048, 2448)\n"
     ]
    },
    {
     "name": "stderr",
     "output_type": "stream",
     "text": [
      "\r",
      "  1%|▏         | 2/137 [00:00<00:06, 19.72it/s]"
     ]
    },
    {
     "name": "stdout",
     "output_type": "stream",
     "text": [
      "148.5\n",
      "/home/xing/Share/Projects/Sanmed/cell_seg/Data/20201020/valid/648538_649924_10000/masks/mask_50_0.png\n",
      "51\n",
      "(2048, 2448)\n",
      "81.0\n",
      "/home/xing/Share/Projects/Sanmed/cell_seg/Data/20201020/valid/648538_649924_10000/masks/mask_51_0.png\n",
      "52\n",
      "(2048, 2448)\n",
      "57.5\n",
      "/home/xing/Share/Projects/Sanmed/cell_seg/Data/20201020/valid/648538_649924_10000/masks/mask_52_0.png\n",
      "53\n",
      "(2048, 2448)\n",
      "61.0\n",
      "/home/xing/Share/Projects/Sanmed/cell_seg/Data/20201020/valid/648538_649924_10000/masks/mask_53_0.png\n"
     ]
    },
    {
     "name": "stderr",
     "output_type": "stream",
     "text": [
      "  4%|▍         | 6/137 [00:00<00:08, 15.43it/s]"
     ]
    },
    {
     "name": "stdout",
     "output_type": "stream",
     "text": [
      "68.5\n",
      "/home/xing/Share/Projects/Sanmed/cell_seg/Data/20201020/valid/648538_649924_10000/masks/mask_53_1.png\n",
      "54\n",
      "(2048, 2448)\n",
      "61.5\n",
      "/home/xing/Share/Projects/Sanmed/cell_seg/Data/20201020/valid/648538_649924_10000/masks/mask_54_0.png\n",
      "57\n",
      "(2048, 2448)\n",
      "98.5\n",
      "/home/xing/Share/Projects/Sanmed/cell_seg/Data/20201020/valid/648538_649924_10000/masks/mask_57_0.png\n",
      "52.0\n",
      "/home/xing/Share/Projects/Sanmed/cell_seg/Data/20201020/valid/648538_649924_10000/masks/mask_57_1.png\n"
     ]
    },
    {
     "name": "stderr",
     "output_type": "stream",
     "text": [
      "\r",
      "  5%|▌         | 7/137 [00:00<00:11, 11.29it/s]"
     ]
    },
    {
     "name": "stdout",
     "output_type": "stream",
     "text": [
      "58\n",
      "(2048, 2448)\n",
      "84.5\n",
      "/home/xing/Share/Projects/Sanmed/cell_seg/Data/20201020/valid/648538_649924_10000/masks/mask_58_0.png\n",
      "77.5\n",
      "/home/xing/Share/Projects/Sanmed/cell_seg/Data/20201020/valid/648538_649924_10000/masks/mask_58_1.png\n",
      "75.0\n",
      "/home/xing/Share/Projects/Sanmed/cell_seg/Data/20201020/valid/648538_649924_10000/masks/mask_58_2.png\n",
      "59\n",
      "(2048, 2448)\n",
      "75.5\n",
      "/home/xing/Share/Projects/Sanmed/cell_seg/Data/20201020/valid/648538_649924_10000/masks/mask_59_0.png\n",
      "85.5\n",
      "/home/xing/Share/Projects/Sanmed/cell_seg/Data/20201020/valid/648538_649924_10000/masks/mask_59_1.png\n"
     ]
    },
    {
     "name": "stderr",
     "output_type": "stream",
     "text": [
      "\r",
      "  7%|▋         | 9/137 [00:00<00:11, 11.24it/s]"
     ]
    },
    {
     "name": "stdout",
     "output_type": "stream",
     "text": [
      "60\n",
      "(2048, 2448)\n",
      "70.5\n",
      "/home/xing/Share/Projects/Sanmed/cell_seg/Data/20201020/valid/648538_649924_10000/masks/mask_60_0.png\n",
      "142.0\n",
      "/home/xing/Share/Projects/Sanmed/cell_seg/Data/20201020/valid/648538_649924_10000/masks/mask_60_1.png\n",
      "61\n",
      "(2048, 2448)\n",
      "77.0\n",
      "/home/xing/Share/Projects/Sanmed/cell_seg/Data/20201020/valid/648538_649924_10000/masks/mask_61_0.png\n",
      "102.5\n",
      "/home/xing/Share/Projects/Sanmed/cell_seg/Data/20201020/valid/648538_649924_10000/masks/mask_61_1.png\n",
      "62\n",
      "(2048, 2448)\n",
      "77.5\n"
     ]
    },
    {
     "name": "stderr",
     "output_type": "stream",
     "text": [
      "  9%|▉         | 13/137 [00:00<00:09, 13.44it/s]"
     ]
    },
    {
     "name": "stdout",
     "output_type": "stream",
     "text": [
      "/home/xing/Share/Projects/Sanmed/cell_seg/Data/20201020/valid/648538_649924_10000/masks/mask_62_0.png\n",
      "63\n",
      "(2048, 2448)\n",
      "68.0\n",
      "/home/xing/Share/Projects/Sanmed/cell_seg/Data/20201020/valid/648538_649924_10000/masks/mask_63_0.png\n",
      "64\n",
      "(2048, 2448)\n",
      "82.5\n",
      "/home/xing/Share/Projects/Sanmed/cell_seg/Data/20201020/valid/648538_649924_10000/masks/mask_64_0.png\n",
      "65\n",
      "(2048, 2448)\n",
      "127.5\n",
      "/home/xing/Share/Projects/Sanmed/cell_seg/Data/20201020/valid/648538_649924_10000/masks/mask_65_0.png\n",
      "68\n",
      "(2048, 2448)\n",
      "81.0\n",
      "/home/xing/Share/Projects/Sanmed/cell_seg/Data/20201020/valid/648538_649924_10000/masks/mask_68_0.png\n"
     ]
    },
    {
     "name": "stderr",
     "output_type": "stream",
     "text": [
      " 12%|█▏        | 17/137 [00:01<00:09, 13.17it/s]"
     ]
    },
    {
     "name": "stdout",
     "output_type": "stream",
     "text": [
      "69\n",
      "(2048, 2448)\n",
      "179.0\n",
      "/home/xing/Share/Projects/Sanmed/cell_seg/Data/20201020/valid/648538_649924_10000/masks/mask_69_0.png\n",
      "74\n",
      "(2048, 2448)\n",
      "67.0\n",
      "/home/xing/Share/Projects/Sanmed/cell_seg/Data/20201020/valid/648538_649924_10000/masks/mask_74_0.png\n",
      "63.0\n",
      "/home/xing/Share/Projects/Sanmed/cell_seg/Data/20201020/valid/648538_649924_10000/masks/mask_74_1.png\n",
      "73.5\n",
      "/home/xing/Share/Projects/Sanmed/cell_seg/Data/20201020/valid/648538_649924_10000/masks/mask_74_2.png\n",
      "75\n",
      "(2048, 2448)\n",
      "66.0\n"
     ]
    },
    {
     "name": "stderr",
     "output_type": "stream",
     "text": [
      "\r",
      " 15%|█▍        | 20/137 [00:01<00:07, 14.90it/s]"
     ]
    },
    {
     "name": "stdout",
     "output_type": "stream",
     "text": [
      "/home/xing/Share/Projects/Sanmed/cell_seg/Data/20201020/valid/648538_649924_10000/masks/mask_75_0.png\n",
      "76\n",
      "(2048, 2448)\n",
      "55.5\n",
      "/home/xing/Share/Projects/Sanmed/cell_seg/Data/20201020/valid/648538_649924_10000/masks/mask_76_0.png\n",
      "78\n",
      "(2048, 2448)\n",
      "68.0\n",
      "/home/xing/Share/Projects/Sanmed/cell_seg/Data/20201020/valid/648538_649924_10000/masks/mask_78_0.png\n",
      "79\n",
      "(2048, 2448)\n",
      "75.0\n",
      "/home/xing/Share/Projects/Sanmed/cell_seg/Data/20201020/valid/648538_649924_10000/masks/mask_79_0.png\n",
      "145.0\n",
      "/home/xing/Share/Projects/Sanmed/cell_seg/Data/20201020/valid/648538_649924_10000/masks/mask_79_1.png\n"
     ]
    },
    {
     "name": "stderr",
     "output_type": "stream",
     "text": [
      " 18%|█▊        | 24/137 [00:01<00:07, 15.24it/s]"
     ]
    },
    {
     "name": "stdout",
     "output_type": "stream",
     "text": [
      "81\n",
      "(2048, 2448)\n",
      "65.5\n",
      "/home/xing/Share/Projects/Sanmed/cell_seg/Data/20201020/valid/648538_649924_10000/masks/mask_81_0.png\n",
      "82\n",
      "(2048, 2448)\n",
      "47.0\n",
      "/home/xing/Share/Projects/Sanmed/cell_seg/Data/20201020/valid/648538_649924_10000/masks/mask_82_0.png\n",
      "94.5\n",
      "/home/xing/Share/Projects/Sanmed/cell_seg/Data/20201020/valid/648538_649924_10000/masks/mask_82_1.png\n",
      "83\n",
      "(2048, 2448)\n",
      "49.5\n",
      "/home/xing/Share/Projects/Sanmed/cell_seg/Data/20201020/valid/648538_649924_10000/masks/mask_83_0.png\n",
      "84\n",
      "(2048, 2448)\n",
      "76.0\n",
      "/home/xing/Share/Projects/Sanmed/cell_seg/Data/20201020/valid/648538_649924_10000/masks/mask_84_0.png\n"
     ]
    },
    {
     "name": "stderr",
     "output_type": "stream",
     "text": [
      "\r",
      " 19%|█▉        | 26/137 [00:01<00:07, 14.17it/s]"
     ]
    },
    {
     "name": "stdout",
     "output_type": "stream",
     "text": [
      "66.0\n",
      "/home/xing/Share/Projects/Sanmed/cell_seg/Data/20201020/valid/648538_649924_10000/masks/mask_84_1.png\n",
      "86\n",
      "(2048, 2448)\n",
      "25.0\n",
      "/home/xing/Share/Projects/Sanmed/cell_seg/Data/20201020/valid/648538_649924_10000/masks/mask_86_0.png\n",
      "77.5\n",
      "/home/xing/Share/Projects/Sanmed/cell_seg/Data/20201020/valid/648538_649924_10000/masks/mask_86_1.png\n",
      "87\n",
      "(2048, 2448)\n",
      "58.0\n",
      "/home/xing/Share/Projects/Sanmed/cell_seg/Data/20201020/valid/648538_649924_10000/masks/mask_87_0.png\n",
      "88\n",
      "(2048, 2448)\n",
      "100.5\n",
      "/home/xing/Share/Projects/Sanmed/cell_seg/Data/20201020/valid/648538_649924_10000/masks/mask_88_0.png\n"
     ]
    },
    {
     "name": "stderr",
     "output_type": "stream",
     "text": [
      " 23%|██▎       | 31/137 [00:02<00:06, 16.52it/s]"
     ]
    },
    {
     "name": "stdout",
     "output_type": "stream",
     "text": [
      "145.5\n",
      "/home/xing/Share/Projects/Sanmed/cell_seg/Data/20201020/valid/648538_649924_10000/masks/mask_88_1.png\n",
      "89\n",
      "(2048, 2448)\n",
      "7.0\n",
      "/home/xing/Share/Projects/Sanmed/cell_seg/Data/20201020/valid/648538_649924_10000/masks/mask_89_0.png\n",
      "90\n",
      "(2048, 2448)\n",
      "56.5\n",
      "/home/xing/Share/Projects/Sanmed/cell_seg/Data/20201020/valid/648538_649924_10000/masks/mask_90_0.png\n",
      "91\n",
      "(2048, 2448)\n",
      "74.5\n",
      "/home/xing/Share/Projects/Sanmed/cell_seg/Data/20201020/valid/648538_649924_10000/masks/mask_91_0.png\n",
      "93\n",
      "(2048, 2448)\n",
      "93.0\n",
      "/home/xing/Share/Projects/Sanmed/cell_seg/Data/20201020/valid/648538_649924_10000/masks/mask_93_0.png\n"
     ]
    },
    {
     "name": "stderr",
     "output_type": "stream",
     "text": [
      "\r",
      " 24%|██▍       | 33/137 [00:02<00:06, 15.13it/s]"
     ]
    },
    {
     "name": "stdout",
     "output_type": "stream",
     "text": [
      "62.0\n",
      "/home/xing/Share/Projects/Sanmed/cell_seg/Data/20201020/valid/648538_649924_10000/masks/mask_93_1.png\n",
      "94\n",
      "(2048, 2448)\n",
      "73.0\n",
      "/home/xing/Share/Projects/Sanmed/cell_seg/Data/20201020/valid/648538_649924_10000/masks/mask_94_0.png\n",
      "66.5\n",
      "/home/xing/Share/Projects/Sanmed/cell_seg/Data/20201020/valid/648538_649924_10000/masks/mask_94_1.png\n",
      "97\n",
      "(2048, 2448)\n",
      "69.0\n",
      "/home/xing/Share/Projects/Sanmed/cell_seg/Data/20201020/valid/648538_649924_10000/masks/mask_97_0.png\n",
      "55.0\n",
      "/home/xing/Share/Projects/Sanmed/cell_seg/Data/20201020/valid/648538_649924_10000/masks/mask_97_1.png\n",
      "98\n",
      "(2048, 2448)\n",
      "85.0\n"
     ]
    },
    {
     "name": "stderr",
     "output_type": "stream",
     "text": [
      " 28%|██▊       | 38/137 [00:02<00:06, 16.29it/s]"
     ]
    },
    {
     "name": "stdout",
     "output_type": "stream",
     "text": [
      "/home/xing/Share/Projects/Sanmed/cell_seg/Data/20201020/valid/648538_649924_10000/masks/mask_98_0.png\n",
      "52.5\n",
      "/home/xing/Share/Projects/Sanmed/cell_seg/Data/20201020/valid/648538_649924_10000/masks/mask_98_1.png\n",
      "99\n",
      "(2048, 2448)\n",
      "117.0\n",
      "/home/xing/Share/Projects/Sanmed/cell_seg/Data/20201020/valid/648538_649924_10000/masks/mask_99_0.png\n",
      "101\n",
      "(2048, 2448)\n",
      "58.0\n",
      "/home/xing/Share/Projects/Sanmed/cell_seg/Data/20201020/valid/648538_649924_10000/masks/mask_101_0.png\n",
      "102\n",
      "(2048, 2448)\n",
      "85.0\n",
      "/home/xing/Share/Projects/Sanmed/cell_seg/Data/20201020/valid/648538_649924_10000/masks/mask_102_0.png\n",
      "104\n",
      "(2048, 2448)\n",
      "64.0\n"
     ]
    },
    {
     "name": "stderr",
     "output_type": "stream",
     "text": [
      "\r",
      " 30%|██▉       | 41/137 [00:02<00:05, 17.89it/s]"
     ]
    },
    {
     "name": "stdout",
     "output_type": "stream",
     "text": [
      "/home/xing/Share/Projects/Sanmed/cell_seg/Data/20201020/valid/648538_649924_10000/masks/mask_104_0.png\n",
      "105\n",
      "(2048, 2448)\n",
      "73.0\n",
      "/home/xing/Share/Projects/Sanmed/cell_seg/Data/20201020/valid/648538_649924_10000/masks/mask_105_0.png\n",
      "107\n",
      "(2048, 2448)\n",
      "10.0\n",
      "/home/xing/Share/Projects/Sanmed/cell_seg/Data/20201020/valid/648538_649924_10000/masks/mask_107_0.png\n",
      "108\n",
      "(2048, 2448)\n",
      "81.0\n",
      "/home/xing/Share/Projects/Sanmed/cell_seg/Data/20201020/valid/648538_649924_10000/masks/mask_108_0.png\n",
      "144.5\n",
      "/home/xing/Share/Projects/Sanmed/cell_seg/Data/20201020/valid/648538_649924_10000/masks/mask_108_1.png\n",
      "109\n",
      "(2048, 2448)\n",
      "74.0\n"
     ]
    },
    {
     "name": "stderr",
     "output_type": "stream",
     "text": [
      " 33%|███▎      | 45/137 [00:02<00:05, 16.91it/s]"
     ]
    },
    {
     "name": "stdout",
     "output_type": "stream",
     "text": [
      "/home/xing/Share/Projects/Sanmed/cell_seg/Data/20201020/valid/648538_649924_10000/masks/mask_109_0.png\n",
      "110\n",
      "(2048, 2448)\n",
      "94.0\n",
      "/home/xing/Share/Projects/Sanmed/cell_seg/Data/20201020/valid/648538_649924_10000/masks/mask_110_0.png\n",
      "194.0\n",
      "/home/xing/Share/Projects/Sanmed/cell_seg/Data/20201020/valid/648538_649924_10000/masks/mask_110_1.png\n",
      "111\n",
      "(2048, 2448)\n",
      "69.5\n",
      "/home/xing/Share/Projects/Sanmed/cell_seg/Data/20201020/valid/648538_649924_10000/masks/mask_111_0.png\n",
      "112\n",
      "(2048, 2448)\n",
      "97.5\n",
      "/home/xing/Share/Projects/Sanmed/cell_seg/Data/20201020/valid/648538_649924_10000/masks/mask_112_0.png\n",
      "114\n",
      "(2048, 2448)\n",
      "81.0\n"
     ]
    },
    {
     "name": "stderr",
     "output_type": "stream",
     "text": [
      "\r",
      " 35%|███▌      | 48/137 [00:03<00:04, 18.39it/s]"
     ]
    },
    {
     "name": "stdout",
     "output_type": "stream",
     "text": [
      "/home/xing/Share/Projects/Sanmed/cell_seg/Data/20201020/valid/648538_649924_10000/masks/mask_114_0.png\n",
      "115\n",
      "(2048, 2448)\n",
      "46.5\n",
      "/home/xing/Share/Projects/Sanmed/cell_seg/Data/20201020/valid/648538_649924_10000/masks/mask_115_0.png\n",
      "117\n",
      "(2048, 2448)\n",
      "95.5\n",
      "/home/xing/Share/Projects/Sanmed/cell_seg/Data/20201020/valid/648538_649924_10000/masks/mask_117_0.png\n",
      "71.0\n",
      "/home/xing/Share/Projects/Sanmed/cell_seg/Data/20201020/valid/648538_649924_10000/masks/mask_117_1.png\n",
      "83.0\n",
      "/home/xing/Share/Projects/Sanmed/cell_seg/Data/20201020/valid/648538_649924_10000/masks/mask_117_2.png\n",
      "121\n",
      "(2048, 2448)\n",
      "63.5\n"
     ]
    },
    {
     "name": "stderr",
     "output_type": "stream",
     "text": [
      "\r",
      " 36%|███▋      | 50/137 [00:03<00:05, 16.01it/s]"
     ]
    },
    {
     "name": "stdout",
     "output_type": "stream",
     "text": [
      "/home/xing/Share/Projects/Sanmed/cell_seg/Data/20201020/valid/648538_649924_10000/masks/mask_121_0.png\n",
      "122\n",
      "(2048, 2448)\n",
      "71.0\n",
      "/home/xing/Share/Projects/Sanmed/cell_seg/Data/20201020/valid/648538_649924_10000/masks/mask_122_0.png\n",
      "61.0\n",
      "/home/xing/Share/Projects/Sanmed/cell_seg/Data/20201020/valid/648538_649924_10000/masks/mask_122_1.png\n",
      "124\n",
      "(2048, 2448)\n",
      "131.5\n",
      "/home/xing/Share/Projects/Sanmed/cell_seg/Data/20201020/valid/648538_649924_10000/masks/mask_124_0.png\n",
      "72.0\n",
      "/home/xing/Share/Projects/Sanmed/cell_seg/Data/20201020/valid/648538_649924_10000/masks/mask_124_1.png\n",
      "60.0\n"
     ]
    },
    {
     "name": "stderr",
     "output_type": "stream",
     "text": [
      " 39%|███▉      | 54/137 [00:03<00:06, 13.80it/s]"
     ]
    },
    {
     "name": "stdout",
     "output_type": "stream",
     "text": [
      "/home/xing/Share/Projects/Sanmed/cell_seg/Data/20201020/valid/648538_649924_10000/masks/mask_124_2.png\n",
      "126\n",
      "(2048, 2448)\n",
      "94.0\n",
      "/home/xing/Share/Projects/Sanmed/cell_seg/Data/20201020/valid/648538_649924_10000/masks/mask_126_0.png\n",
      "68.5\n",
      "/home/xing/Share/Projects/Sanmed/cell_seg/Data/20201020/valid/648538_649924_10000/masks/mask_126_1.png\n",
      "127\n",
      "(2048, 2448)\n",
      "91.0\n",
      "/home/xing/Share/Projects/Sanmed/cell_seg/Data/20201020/valid/648538_649924_10000/masks/mask_127_0.png\n",
      "128\n",
      "(2048, 2448)\n",
      "77.0\n",
      "/home/xing/Share/Projects/Sanmed/cell_seg/Data/20201020/valid/648538_649924_10000/masks/mask_128_0.png\n"
     ]
    },
    {
     "name": "stderr",
     "output_type": "stream",
     "text": [
      "\r",
      " 41%|████      | 56/137 [00:03<00:05, 13.63it/s]"
     ]
    },
    {
     "name": "stdout",
     "output_type": "stream",
     "text": [
      "48.0\n",
      "/home/xing/Share/Projects/Sanmed/cell_seg/Data/20201020/valid/648538_649924_10000/masks/mask_128_1.png\n",
      "130\n",
      "(2048, 2448)\n",
      "55.5\n",
      "/home/xing/Share/Projects/Sanmed/cell_seg/Data/20201020/valid/648538_649924_10000/masks/mask_130_0.png\n",
      "131\n",
      "(2048, 2448)\n",
      "76.5\n",
      "/home/xing/Share/Projects/Sanmed/cell_seg/Data/20201020/valid/648538_649924_10000/masks/mask_131_0.png\n",
      "97.5\n",
      "/home/xing/Share/Projects/Sanmed/cell_seg/Data/20201020/valid/648538_649924_10000/masks/mask_131_1.png\n",
      "132\n",
      "(2048, 2448)\n"
     ]
    },
    {
     "name": "stderr",
     "output_type": "stream",
     "text": [
      "\r",
      " 42%|████▏     | 58/137 [00:03<00:06, 12.31it/s]"
     ]
    },
    {
     "name": "stdout",
     "output_type": "stream",
     "text": [
      "105.5\n",
      "/home/xing/Share/Projects/Sanmed/cell_seg/Data/20201020/valid/648538_649924_10000/masks/mask_132_0.png\n",
      "91.0\n",
      "/home/xing/Share/Projects/Sanmed/cell_seg/Data/20201020/valid/648538_649924_10000/masks/mask_132_1.png\n",
      "134\n",
      "(2048, 2448)\n",
      "72.0\n",
      "/home/xing/Share/Projects/Sanmed/cell_seg/Data/20201020/valid/648538_649924_10000/masks/mask_134_0.png\n",
      "76.5\n",
      "/home/xing/Share/Projects/Sanmed/cell_seg/Data/20201020/valid/648538_649924_10000/masks/mask_134_1.png\n",
      "75.5\n",
      "/home/xing/Share/Projects/Sanmed/cell_seg/Data/20201020/valid/648538_649924_10000/masks/mask_134_2.png\n"
     ]
    },
    {
     "name": "stderr",
     "output_type": "stream",
     "text": [
      " 45%|████▌     | 62/137 [00:04<00:05, 12.78it/s]"
     ]
    },
    {
     "name": "stdout",
     "output_type": "stream",
     "text": [
      "135\n",
      "(2048, 2448)\n",
      "47.5\n",
      "/home/xing/Share/Projects/Sanmed/cell_seg/Data/20201020/valid/648538_649924_10000/masks/mask_135_0.png\n",
      "140\n",
      "(2048, 2448)\n",
      "91.0\n",
      "/home/xing/Share/Projects/Sanmed/cell_seg/Data/20201020/valid/648538_649924_10000/masks/mask_140_0.png\n",
      "56.5\n",
      "/home/xing/Share/Projects/Sanmed/cell_seg/Data/20201020/valid/648538_649924_10000/masks/mask_140_1.png\n",
      "143\n",
      "(2048, 2448)\n",
      "108.0\n",
      "/home/xing/Share/Projects/Sanmed/cell_seg/Data/20201020/valid/648538_649924_10000/masks/mask_143_0.png\n",
      "144\n",
      "(2048, 2448)\n",
      "117.5\n",
      "/home/xing/Share/Projects/Sanmed/cell_seg/Data/20201020/valid/648538_649924_10000/masks/mask_144_0.png\n"
     ]
    },
    {
     "name": "stderr",
     "output_type": "stream",
     "text": [
      "\r",
      " 47%|████▋     | 65/137 [00:04<00:05, 13.29it/s]"
     ]
    },
    {
     "name": "stdout",
     "output_type": "stream",
     "text": [
      "145\n",
      "(2048, 2448)\n",
      "60.5\n",
      "/home/xing/Share/Projects/Sanmed/cell_seg/Data/20201020/valid/648538_649924_10000/masks/mask_145_0.png\n",
      "146\n",
      "(2048, 2448)\n",
      "69.5\n",
      "/home/xing/Share/Projects/Sanmed/cell_seg/Data/20201020/valid/648538_649924_10000/masks/mask_146_0.png\n",
      "56.5\n",
      "/home/xing/Share/Projects/Sanmed/cell_seg/Data/20201020/valid/648538_649924_10000/masks/mask_146_1.png\n",
      "114.5\n",
      "/home/xing/Share/Projects/Sanmed/cell_seg/Data/20201020/valid/648538_649924_10000/masks/mask_146_2.png\n",
      "148\n",
      "(2048, 2448)\n",
      "110.5\n",
      "/home/xing/Share/Projects/Sanmed/cell_seg/Data/20201020/valid/648538_649924_10000/masks/mask_148_0.png\n"
     ]
    },
    {
     "name": "stderr",
     "output_type": "stream",
     "text": [
      " 50%|█████     | 69/137 [00:04<00:04, 15.06it/s]"
     ]
    },
    {
     "name": "stdout",
     "output_type": "stream",
     "text": [
      "104.5\n",
      "/home/xing/Share/Projects/Sanmed/cell_seg/Data/20201020/valid/648538_649924_10000/masks/mask_148_1.png\n",
      "150\n",
      "(2048, 2448)\n",
      "68.5\n",
      "/home/xing/Share/Projects/Sanmed/cell_seg/Data/20201020/valid/648538_649924_10000/masks/mask_150_0.png\n",
      "152\n",
      "(2048, 2448)\n",
      "65.0\n",
      "/home/xing/Share/Projects/Sanmed/cell_seg/Data/20201020/valid/648538_649924_10000/masks/mask_152_0.png\n",
      "155\n",
      "(2048, 2448)\n",
      "81.0\n",
      "/home/xing/Share/Projects/Sanmed/cell_seg/Data/20201020/valid/648538_649924_10000/masks/mask_155_0.png\n",
      "158\n",
      "(2048, 2448)\n"
     ]
    },
    {
     "name": "stderr",
     "output_type": "stream",
     "text": [
      "\r",
      " 52%|█████▏    | 71/137 [00:04<00:04, 14.68it/s]"
     ]
    },
    {
     "name": "stdout",
     "output_type": "stream",
     "text": [
      "68.0\n",
      "/home/xing/Share/Projects/Sanmed/cell_seg/Data/20201020/valid/648538_649924_10000/masks/mask_158_0.png\n",
      "159\n",
      "(2048, 2448)\n",
      "50.0\n",
      "/home/xing/Share/Projects/Sanmed/cell_seg/Data/20201020/valid/648538_649924_10000/masks/mask_159_0.png\n",
      "48.0\n",
      "/home/xing/Share/Projects/Sanmed/cell_seg/Data/20201020/valid/648538_649924_10000/masks/mask_159_1.png\n",
      "161\n",
      "(2048, 2448)\n",
      "69.0\n",
      "/home/xing/Share/Projects/Sanmed/cell_seg/Data/20201020/valid/648538_649924_10000/masks/mask_161_0.png\n",
      "162\n",
      "(2048, 2448)\n",
      "45.0\n"
     ]
    },
    {
     "name": "stderr",
     "output_type": "stream",
     "text": [
      " 55%|█████▌    | 76/137 [00:05<00:03, 16.37it/s]"
     ]
    },
    {
     "name": "stdout",
     "output_type": "stream",
     "text": [
      "/home/xing/Share/Projects/Sanmed/cell_seg/Data/20201020/valid/648538_649924_10000/masks/mask_162_0.png\n",
      "163\n",
      "(2048, 2448)\n",
      "52.0\n",
      "/home/xing/Share/Projects/Sanmed/cell_seg/Data/20201020/valid/648538_649924_10000/masks/mask_163_0.png\n",
      "164\n",
      "(2048, 2448)\n",
      "62.0\n",
      "/home/xing/Share/Projects/Sanmed/cell_seg/Data/20201020/valid/648538_649924_10000/masks/mask_164_0.png\n",
      "165\n",
      "(2048, 2448)\n",
      "109.0\n",
      "/home/xing/Share/Projects/Sanmed/cell_seg/Data/20201020/valid/648538_649924_10000/masks/mask_165_0.png\n",
      "113.0\n",
      "/home/xing/Share/Projects/Sanmed/cell_seg/Data/20201020/valid/648538_649924_10000/masks/mask_165_1.png\n",
      "166\n",
      "(2048, 2448)\n",
      "64.0\n"
     ]
    },
    {
     "name": "stderr",
     "output_type": "stream",
     "text": [
      "\r",
      " 58%|█████▊    | 79/137 [00:05<00:03, 17.83it/s]"
     ]
    },
    {
     "name": "stdout",
     "output_type": "stream",
     "text": [
      "/home/xing/Share/Projects/Sanmed/cell_seg/Data/20201020/valid/648538_649924_10000/masks/mask_166_0.png\n",
      "167\n",
      "(2048, 2448)\n",
      "91.5\n",
      "/home/xing/Share/Projects/Sanmed/cell_seg/Data/20201020/valid/648538_649924_10000/masks/mask_167_0.png\n",
      "169\n",
      "(2048, 2448)\n",
      "74.5\n",
      "/home/xing/Share/Projects/Sanmed/cell_seg/Data/20201020/valid/648538_649924_10000/masks/mask_169_0.png\n",
      "172\n",
      "(2048, 2448)\n",
      "70.0\n",
      "/home/xing/Share/Projects/Sanmed/cell_seg/Data/20201020/valid/648538_649924_10000/masks/mask_172_0.png\n",
      "173\n",
      "(2048, 2448)\n",
      "70.5\n",
      "/home/xing/Share/Projects/Sanmed/cell_seg/Data/20201020/valid/648538_649924_10000/masks/mask_173_0.png\n"
     ]
    },
    {
     "name": "stderr",
     "output_type": "stream",
     "text": [
      " 62%|██████▏   | 85/137 [00:05<00:02, 20.28it/s]"
     ]
    },
    {
     "name": "stdout",
     "output_type": "stream",
     "text": [
      "174\n",
      "(2048, 2448)\n",
      "65.5\n",
      "/home/xing/Share/Projects/Sanmed/cell_seg/Data/20201020/valid/648538_649924_10000/masks/mask_174_0.png\n",
      "175\n",
      "(2048, 2448)\n",
      "59.0\n",
      "/home/xing/Share/Projects/Sanmed/cell_seg/Data/20201020/valid/648538_649924_10000/masks/mask_175_0.png\n",
      "177\n",
      "(2048, 2448)\n",
      "96.5\n",
      "/home/xing/Share/Projects/Sanmed/cell_seg/Data/20201020/valid/648538_649924_10000/masks/mask_177_0.png\n",
      "178\n",
      "(2048, 2448)\n",
      "74.5\n",
      "/home/xing/Share/Projects/Sanmed/cell_seg/Data/20201020/valid/648538_649924_10000/masks/mask_178_0.png\n",
      "179\n",
      "(2048, 2448)\n",
      "71.0\n",
      "/home/xing/Share/Projects/Sanmed/cell_seg/Data/20201020/valid/648538_649924_10000/masks/mask_179_0.png\n"
     ]
    },
    {
     "name": "stderr",
     "output_type": "stream",
     "text": [
      "\r",
      " 64%|██████▍   | 88/137 [00:05<00:02, 17.21it/s]"
     ]
    },
    {
     "name": "stdout",
     "output_type": "stream",
     "text": [
      "68.5\n",
      "/home/xing/Share/Projects/Sanmed/cell_seg/Data/20201020/valid/648538_649924_10000/masks/mask_179_1.png\n",
      "180\n",
      "(2048, 2448)\n",
      "73.5\n",
      "/home/xing/Share/Projects/Sanmed/cell_seg/Data/20201020/valid/648538_649924_10000/masks/mask_180_0.png\n",
      "36.0\n",
      "/home/xing/Share/Projects/Sanmed/cell_seg/Data/20201020/valid/648538_649924_10000/masks/mask_180_1.png\n",
      "54.0\n",
      "/home/xing/Share/Projects/Sanmed/cell_seg/Data/20201020/valid/648538_649924_10000/masks/mask_180_2.png\n",
      "182\n",
      "(2048, 2448)\n",
      "82.0\n",
      "/home/xing/Share/Projects/Sanmed/cell_seg/Data/20201020/valid/648538_649924_10000/masks/mask_182_0.png\n",
      "184\n",
      "(2048, 2448)\n",
      "79.5\n"
     ]
    },
    {
     "name": "stderr",
     "output_type": "stream",
     "text": [
      "\r",
      " 66%|██████▋   | 91/137 [00:05<00:02, 16.80it/s]"
     ]
    },
    {
     "name": "stdout",
     "output_type": "stream",
     "text": [
      "/home/xing/Share/Projects/Sanmed/cell_seg/Data/20201020/valid/648538_649924_10000/masks/mask_184_0.png\n",
      "185\n",
      "(2048, 2448)\n",
      "128.5\n",
      "/home/xing/Share/Projects/Sanmed/cell_seg/Data/20201020/valid/648538_649924_10000/masks/mask_185_0.png\n",
      "186\n",
      "(2048, 2448)\n",
      "94.0\n",
      "/home/xing/Share/Projects/Sanmed/cell_seg/Data/20201020/valid/648538_649924_10000/masks/mask_186_0.png\n",
      "72.0\n",
      "/home/xing/Share/Projects/Sanmed/cell_seg/Data/20201020/valid/648538_649924_10000/masks/mask_186_1.png\n",
      "188\n",
      "(2048, 2448)\n",
      "50.5\n",
      "/home/xing/Share/Projects/Sanmed/cell_seg/Data/20201020/valid/648538_649924_10000/masks/mask_188_0.png\n"
     ]
    },
    {
     "name": "stderr",
     "output_type": "stream",
     "text": [
      "\r",
      " 68%|██████▊   | 93/137 [00:05<00:02, 17.56it/s]"
     ]
    },
    {
     "name": "stdout",
     "output_type": "stream",
     "text": [
      "189\n",
      "(2048, 2448)\n",
      "105.0\n",
      "/home/xing/Share/Projects/Sanmed/cell_seg/Data/20201020/valid/648538_649924_10000/masks/mask_189_0.png\n",
      "190\n",
      "(2048, 2448)\n",
      "60.0\n",
      "/home/xing/Share/Projects/Sanmed/cell_seg/Data/20201020/valid/648538_649924_10000/masks/mask_190_0.png\n",
      "55.0\n",
      "/home/xing/Share/Projects/Sanmed/cell_seg/Data/20201020/valid/648538_649924_10000/masks/mask_190_1.png\n",
      "191\n",
      "(2048, 2448)\n",
      "68.0\n",
      "/home/xing/Share/Projects/Sanmed/cell_seg/Data/20201020/valid/648538_649924_10000/masks/mask_191_0.png\n",
      "78.5\n",
      "/home/xing/Share/Projects/Sanmed/cell_seg/Data/20201020/valid/648538_649924_10000/masks/mask_191_1.png\n"
     ]
    },
    {
     "name": "stderr",
     "output_type": "stream",
     "text": [
      " 71%|███████   | 97/137 [00:06<00:02, 15.51it/s]"
     ]
    },
    {
     "name": "stdout",
     "output_type": "stream",
     "text": [
      "192\n",
      "(2048, 2448)\n",
      "56.0\n",
      "/home/xing/Share/Projects/Sanmed/cell_seg/Data/20201020/valid/648538_649924_10000/masks/mask_192_0.png\n",
      "195\n",
      "(2048, 2448)\n",
      "71.5\n",
      "/home/xing/Share/Projects/Sanmed/cell_seg/Data/20201020/valid/648538_649924_10000/masks/mask_195_0.png\n",
      "51.0\n",
      "/home/xing/Share/Projects/Sanmed/cell_seg/Data/20201020/valid/648538_649924_10000/masks/mask_195_1.png\n",
      "196\n",
      "(2048, 2448)\n",
      "83.0\n",
      "/home/xing/Share/Projects/Sanmed/cell_seg/Data/20201020/valid/648538_649924_10000/masks/mask_196_0.png\n",
      "73.0\n",
      "/home/xing/Share/Projects/Sanmed/cell_seg/Data/20201020/valid/648538_649924_10000/masks/mask_196_1.png\n"
     ]
    },
    {
     "name": "stderr",
     "output_type": "stream",
     "text": [
      "\r",
      " 72%|███████▏  | 99/137 [00:06<00:03, 12.44it/s]"
     ]
    },
    {
     "name": "stdout",
     "output_type": "stream",
     "text": [
      "95.5\n",
      "/home/xing/Share/Projects/Sanmed/cell_seg/Data/20201020/valid/648538_649924_10000/masks/mask_196_2.png\n",
      "57.0\n",
      "/home/xing/Share/Projects/Sanmed/cell_seg/Data/20201020/valid/648538_649924_10000/masks/mask_196_3.png\n",
      "200\n",
      "(2048, 2448)\n",
      "95.0\n",
      "/home/xing/Share/Projects/Sanmed/cell_seg/Data/20201020/valid/648538_649924_10000/masks/mask_200_0.png\n",
      "67.0\n",
      "/home/xing/Share/Projects/Sanmed/cell_seg/Data/20201020/valid/648538_649924_10000/masks/mask_200_1.png\n",
      "201\n",
      "(2048, 2448)\n",
      "68.5\n",
      "/home/xing/Share/Projects/Sanmed/cell_seg/Data/20201020/valid/648538_649924_10000/masks/mask_201_0.png\n",
      "87.0\n"
     ]
    },
    {
     "name": "stderr",
     "output_type": "stream",
     "text": [
      "\r",
      " 74%|███████▎  | 101/137 [00:06<00:02, 13.21it/s]"
     ]
    },
    {
     "name": "stdout",
     "output_type": "stream",
     "text": [
      "/home/xing/Share/Projects/Sanmed/cell_seg/Data/20201020/valid/648538_649924_10000/masks/mask_201_1.png\n",
      "202\n",
      "(2048, 2448)\n",
      "117.0\n",
      "/home/xing/Share/Projects/Sanmed/cell_seg/Data/20201020/valid/648538_649924_10000/masks/mask_202_0.png\n",
      "205\n",
      "(2048, 2448)\n",
      "135.0\n",
      "/home/xing/Share/Projects/Sanmed/cell_seg/Data/20201020/valid/648538_649924_10000/masks/mask_205_0.png\n",
      "206\n",
      "(2048, 2448)\n",
      "61.0\n",
      "/home/xing/Share/Projects/Sanmed/cell_seg/Data/20201020/valid/648538_649924_10000/masks/mask_206_0.png\n",
      "209\n",
      "(2048, 2448)\n",
      "61.0\n",
      "/home/xing/Share/Projects/Sanmed/cell_seg/Data/20201020/valid/648538_649924_10000/masks/mask_209_0.png\n"
     ]
    },
    {
     "name": "stderr",
     "output_type": "stream",
     "text": [
      " 77%|███████▋  | 106/137 [00:06<00:02, 14.84it/s]"
     ]
    },
    {
     "name": "stdout",
     "output_type": "stream",
     "text": [
      "210\n",
      "(2048, 2448)\n",
      "148.0\n",
      "/home/xing/Share/Projects/Sanmed/cell_seg/Data/20201020/valid/648538_649924_10000/masks/mask_210_0.png\n",
      "212\n",
      "(2048, 2448)\n",
      "78.0\n",
      "/home/xing/Share/Projects/Sanmed/cell_seg/Data/20201020/valid/648538_649924_10000/masks/mask_212_0.png\n",
      "90.5\n",
      "/home/xing/Share/Projects/Sanmed/cell_seg/Data/20201020/valid/648538_649924_10000/masks/mask_212_1.png\n",
      "213\n",
      "(2048, 2448)\n",
      "314.5\n",
      "/home/xing/Share/Projects/Sanmed/cell_seg/Data/20201020/valid/648538_649924_10000/masks/mask_213_0.png\n",
      "214\n",
      "(2048, 2448)\n",
      "63.0\n",
      "/home/xing/Share/Projects/Sanmed/cell_seg/Data/20201020/valid/648538_649924_10000/masks/mask_214_0.png\n"
     ]
    },
    {
     "name": "stderr",
     "output_type": "stream",
     "text": [
      "\r",
      " 80%|███████▉  | 109/137 [00:07<00:01, 16.77it/s]"
     ]
    },
    {
     "name": "stdout",
     "output_type": "stream",
     "text": [
      "215\n",
      "(2048, 2448)\n",
      "56.0\n",
      "/home/xing/Share/Projects/Sanmed/cell_seg/Data/20201020/valid/648538_649924_10000/masks/mask_215_0.png\n",
      "216\n",
      "(2048, 2448)\n",
      "68.0\n",
      "/home/xing/Share/Projects/Sanmed/cell_seg/Data/20201020/valid/648538_649924_10000/masks/mask_216_0.png\n",
      "217\n",
      "(2048, 2448)\n",
      "64.0\n",
      "/home/xing/Share/Projects/Sanmed/cell_seg/Data/20201020/valid/648538_649924_10000/masks/mask_217_0.png\n",
      "138.5\n",
      "/home/xing/Share/Projects/Sanmed/cell_seg/Data/20201020/valid/648538_649924_10000/masks/mask_217_1.png\n",
      "79.0\n",
      "/home/xing/Share/Projects/Sanmed/cell_seg/Data/20201020/valid/648538_649924_10000/masks/mask_217_2.png\n"
     ]
    },
    {
     "name": "stderr",
     "output_type": "stream",
     "text": [
      " 82%|████████▏ | 113/137 [00:07<00:01, 15.38it/s]"
     ]
    },
    {
     "name": "stdout",
     "output_type": "stream",
     "text": [
      "218\n",
      "(2048, 2448)\n",
      "132.5\n",
      "/home/xing/Share/Projects/Sanmed/cell_seg/Data/20201020/valid/648538_649924_10000/masks/mask_218_0.png\n",
      "219\n",
      "(2048, 2448)\n",
      "61.5\n",
      "/home/xing/Share/Projects/Sanmed/cell_seg/Data/20201020/valid/648538_649924_10000/masks/mask_219_0.png\n",
      "89.5\n",
      "/home/xing/Share/Projects/Sanmed/cell_seg/Data/20201020/valid/648538_649924_10000/masks/mask_219_1.png\n",
      "220\n",
      "(2048, 2448)\n",
      "129.5\n",
      "/home/xing/Share/Projects/Sanmed/cell_seg/Data/20201020/valid/648538_649924_10000/masks/mask_220_0.png\n",
      "221\n",
      "(2048, 2448)\n",
      "52.0\n",
      "/home/xing/Share/Projects/Sanmed/cell_seg/Data/20201020/valid/648538_649924_10000/masks/mask_221_0.png\n"
     ]
    },
    {
     "name": "stderr",
     "output_type": "stream",
     "text": [
      "\r",
      " 84%|████████▍ | 115/137 [00:07<00:01, 15.63it/s]"
     ]
    },
    {
     "name": "stdout",
     "output_type": "stream",
     "text": [
      "120.0\n",
      "/home/xing/Share/Projects/Sanmed/cell_seg/Data/20201020/valid/648538_649924_10000/masks/mask_221_1.png\n",
      "222\n",
      "(2048, 2448)\n",
      "62.0\n",
      "/home/xing/Share/Projects/Sanmed/cell_seg/Data/20201020/valid/648538_649924_10000/masks/mask_222_0.png\n",
      "138.0\n",
      "/home/xing/Share/Projects/Sanmed/cell_seg/Data/20201020/valid/648538_649924_10000/masks/mask_222_1.png\n",
      "64.0\n",
      "/home/xing/Share/Projects/Sanmed/cell_seg/Data/20201020/valid/648538_649924_10000/masks/mask_222_2.png\n",
      "223\n",
      "(2048, 2448)\n",
      "85.0\n",
      "/home/xing/Share/Projects/Sanmed/cell_seg/Data/20201020/valid/648538_649924_10000/masks/mask_223_0.png\n",
      "81.5\n"
     ]
    },
    {
     "name": "stderr",
     "output_type": "stream",
     "text": [
      "\r",
      " 85%|████████▌ | 117/137 [00:07<00:01, 13.41it/s]"
     ]
    },
    {
     "name": "stdout",
     "output_type": "stream",
     "text": [
      "/home/xing/Share/Projects/Sanmed/cell_seg/Data/20201020/valid/648538_649924_10000/masks/mask_223_1.png\n",
      "224\n",
      "(2048, 2448)\n",
      "102.0\n",
      "/home/xing/Share/Projects/Sanmed/cell_seg/Data/20201020/valid/648538_649924_10000/masks/mask_224_0.png\n",
      "116.0\n",
      "/home/xing/Share/Projects/Sanmed/cell_seg/Data/20201020/valid/648538_649924_10000/masks/mask_224_1.png\n",
      "66.0\n",
      "/home/xing/Share/Projects/Sanmed/cell_seg/Data/20201020/valid/648538_649924_10000/masks/mask_224_2.png\n",
      "229\n",
      "(2048, 2448)\n",
      "60.0\n",
      "/home/xing/Share/Projects/Sanmed/cell_seg/Data/20201020/valid/648538_649924_10000/masks/mask_229_0.png\n",
      "84.5\n"
     ]
    },
    {
     "name": "stderr",
     "output_type": "stream",
     "text": [
      " 89%|████████▉ | 122/137 [00:07<00:01, 14.06it/s]"
     ]
    },
    {
     "name": "stdout",
     "output_type": "stream",
     "text": [
      "/home/xing/Share/Projects/Sanmed/cell_seg/Data/20201020/valid/648538_649924_10000/masks/mask_229_1.png\n",
      "230\n",
      "(2048, 2448)\n",
      "59.5\n",
      "/home/xing/Share/Projects/Sanmed/cell_seg/Data/20201020/valid/648538_649924_10000/masks/mask_230_0.png\n",
      "231\n",
      "(2048, 2448)\n",
      "109.5\n",
      "/home/xing/Share/Projects/Sanmed/cell_seg/Data/20201020/valid/648538_649924_10000/masks/mask_231_0.png\n",
      "232\n",
      "(2048, 2448)\n",
      "66.5\n",
      "/home/xing/Share/Projects/Sanmed/cell_seg/Data/20201020/valid/648538_649924_10000/masks/mask_232_0.png\n",
      "233\n",
      "(2048, 2448)\n",
      "53.5\n",
      "/home/xing/Share/Projects/Sanmed/cell_seg/Data/20201020/valid/648538_649924_10000/masks/mask_233_0.png\n",
      "63.0\n"
     ]
    },
    {
     "name": "stderr",
     "output_type": "stream",
     "text": [
      " 92%|█████████▏| 126/137 [00:08<00:00, 14.82it/s]"
     ]
    },
    {
     "name": "stdout",
     "output_type": "stream",
     "text": [
      "/home/xing/Share/Projects/Sanmed/cell_seg/Data/20201020/valid/648538_649924_10000/masks/mask_233_1.png\n",
      "234\n",
      "(2048, 2448)\n",
      "69.0\n",
      "/home/xing/Share/Projects/Sanmed/cell_seg/Data/20201020/valid/648538_649924_10000/masks/mask_234_0.png\n",
      "235\n",
      "(2048, 2448)\n",
      "55.0\n",
      "/home/xing/Share/Projects/Sanmed/cell_seg/Data/20201020/valid/648538_649924_10000/masks/mask_235_0.png\n",
      "117.5\n",
      "/home/xing/Share/Projects/Sanmed/cell_seg/Data/20201020/valid/648538_649924_10000/masks/mask_235_1.png\n",
      "236\n",
      "(2048, 2448)\n",
      "77.5\n",
      "/home/xing/Share/Projects/Sanmed/cell_seg/Data/20201020/valid/648538_649924_10000/masks/mask_236_0.png\n",
      "237\n",
      "(2048, 2448)\n"
     ]
    },
    {
     "name": "stderr",
     "output_type": "stream",
     "text": [
      "\r",
      " 93%|█████████▎| 128/137 [00:08<00:00, 13.78it/s]"
     ]
    },
    {
     "name": "stdout",
     "output_type": "stream",
     "text": [
      "95.5\n",
      "/home/xing/Share/Projects/Sanmed/cell_seg/Data/20201020/valid/648538_649924_10000/masks/mask_237_0.png\n",
      "66.0\n",
      "/home/xing/Share/Projects/Sanmed/cell_seg/Data/20201020/valid/648538_649924_10000/masks/mask_237_1.png\n",
      "239\n",
      "(2048, 2448)\n",
      "62.0\n",
      "/home/xing/Share/Projects/Sanmed/cell_seg/Data/20201020/valid/648538_649924_10000/masks/mask_239_0.png\n",
      "87.5\n",
      "/home/xing/Share/Projects/Sanmed/cell_seg/Data/20201020/valid/648538_649924_10000/masks/mask_239_1.png\n",
      "240\n",
      "(2048, 2448)\n",
      "83.0\n",
      "/home/xing/Share/Projects/Sanmed/cell_seg/Data/20201020/valid/648538_649924_10000/masks/mask_240_0.png\n"
     ]
    },
    {
     "name": "stderr",
     "output_type": "stream",
     "text": [
      "\r",
      " 95%|█████████▍| 130/137 [00:08<00:00, 13.21it/s]"
     ]
    },
    {
     "name": "stdout",
     "output_type": "stream",
     "text": [
      "58.0\n",
      "/home/xing/Share/Projects/Sanmed/cell_seg/Data/20201020/valid/648538_649924_10000/masks/mask_240_1.png\n",
      "241\n",
      "(2048, 2448)\n",
      "210.0\n",
      "/home/xing/Share/Projects/Sanmed/cell_seg/Data/20201020/valid/648538_649924_10000/masks/mask_241_0.png\n",
      "68.5\n",
      "/home/xing/Share/Projects/Sanmed/cell_seg/Data/20201020/valid/648538_649924_10000/masks/mask_241_1.png\n",
      "243\n",
      "(2048, 2448)\n",
      "72.0\n",
      "/home/xing/Share/Projects/Sanmed/cell_seg/Data/20201020/valid/648538_649924_10000/masks/mask_243_0.png\n",
      "77.0\n",
      "/home/xing/Share/Projects/Sanmed/cell_seg/Data/20201020/valid/648538_649924_10000/masks/mask_243_1.png\n"
     ]
    },
    {
     "name": "stderr",
     "output_type": "stream",
     "text": [
      "\r",
      " 96%|█████████▋| 132/137 [00:08<00:00, 12.85it/s]"
     ]
    },
    {
     "name": "stdout",
     "output_type": "stream",
     "text": [
      "55.5\n",
      "/home/xing/Share/Projects/Sanmed/cell_seg/Data/20201020/valid/648538_649924_10000/masks/mask_243_2.png\n",
      "245\n",
      "(2048, 2448)\n",
      "63.0\n",
      "/home/xing/Share/Projects/Sanmed/cell_seg/Data/20201020/valid/648538_649924_10000/masks/mask_245_0.png\n",
      "246\n",
      "(2048, 2448)\n",
      "96.5\n",
      "/home/xing/Share/Projects/Sanmed/cell_seg/Data/20201020/valid/648538_649924_10000/masks/mask_246_0.png\n",
      "247\n",
      "(2048, 2448)\n",
      "67.0\n",
      "/home/xing/Share/Projects/Sanmed/cell_seg/Data/20201020/valid/648538_649924_10000/masks/mask_247_0.png\n",
      "73.5\n",
      "/home/xing/Share/Projects/Sanmed/cell_seg/Data/20201020/valid/648538_649924_10000/masks/mask_247_1.png\n"
     ]
    },
    {
     "name": "stderr",
     "output_type": "stream",
     "text": [
      "100%|██████████| 137/137 [00:09<00:00, 15.15it/s]\n"
     ]
    },
    {
     "name": "stdout",
     "output_type": "stream",
     "text": [
      "248\n",
      "(2048, 2448)\n",
      "70.5\n",
      "/home/xing/Share/Projects/Sanmed/cell_seg/Data/20201020/valid/648538_649924_10000/masks/mask_248_0.png\n",
      "249\n",
      "(2048, 2448)\n",
      "184.0\n",
      "/home/xing/Share/Projects/Sanmed/cell_seg/Data/20201020/valid/648538_649924_10000/masks/mask_249_0.png\n",
      "85.5\n",
      "/home/xing/Share/Projects/Sanmed/cell_seg/Data/20201020/valid/648538_649924_10000/masks/mask_249_1.png\n",
      "250\n",
      "(2048, 2448)\n",
      "73.5\n",
      "/home/xing/Share/Projects/Sanmed/cell_seg/Data/20201020/valid/648538_649924_10000/masks/mask_250_0.png\n"
     ]
    },
    {
     "name": "stderr",
     "output_type": "stream",
     "text": [
      "  1%|▏         | 2/143 [00:00<00:08, 16.60it/s]"
     ]
    },
    {
     "name": "stdout",
     "output_type": "stream",
     "text": [
      "50\n",
      "(2048, 2448)\n",
      "88.5\n",
      "/home/xing/Share/Projects/Sanmed/cell_seg/Data/20201020/valid/653802_650142_10000/masks/mask_50_0.png\n",
      "238.0\n",
      "/home/xing/Share/Projects/Sanmed/cell_seg/Data/20201020/valid/653802_650142_10000/masks/mask_50_1.png\n",
      "51\n",
      "(2048, 2448)\n",
      "97.5\n",
      "/home/xing/Share/Projects/Sanmed/cell_seg/Data/20201020/valid/653802_650142_10000/masks/mask_51_0.png\n",
      "52\n",
      "(2048, 2448)\n",
      "102.0\n",
      "/home/xing/Share/Projects/Sanmed/cell_seg/Data/20201020/valid/653802_650142_10000/masks/mask_52_0.png\n",
      "192.0\n",
      "/home/xing/Share/Projects/Sanmed/cell_seg/Data/20201020/valid/653802_650142_10000/masks/mask_52_1.png\n",
      "53\n",
      "(2048, 2448)\n"
     ]
    },
    {
     "name": "stderr",
     "output_type": "stream",
     "text": [
      "  4%|▍         | 6/143 [00:00<00:08, 15.85it/s]"
     ]
    },
    {
     "name": "stdout",
     "output_type": "stream",
     "text": [
      "87.5\n",
      "/home/xing/Share/Projects/Sanmed/cell_seg/Data/20201020/valid/653802_650142_10000/masks/mask_53_0.png\n",
      "54\n",
      "(2048, 2448)\n",
      "132.5\n",
      "/home/xing/Share/Projects/Sanmed/cell_seg/Data/20201020/valid/653802_650142_10000/masks/mask_54_0.png\n",
      "55\n",
      "(2048, 2448)\n",
      "117.0\n",
      "/home/xing/Share/Projects/Sanmed/cell_seg/Data/20201020/valid/653802_650142_10000/masks/mask_55_0.png\n",
      "139.0\n",
      "/home/xing/Share/Projects/Sanmed/cell_seg/Data/20201020/valid/653802_650142_10000/masks/mask_55_1.png\n",
      "57\n",
      "(2048, 2448)\n",
      "178.0\n",
      "/home/xing/Share/Projects/Sanmed/cell_seg/Data/20201020/valid/653802_650142_10000/masks/mask_57_0.png\n"
     ]
    },
    {
     "name": "stderr",
     "output_type": "stream",
     "text": [
      "  7%|▋         | 10/143 [00:00<00:08, 15.97it/s]"
     ]
    },
    {
     "name": "stdout",
     "output_type": "stream",
     "text": [
      "60\n",
      "(2048, 2448)\n",
      "225.5\n",
      "/home/xing/Share/Projects/Sanmed/cell_seg/Data/20201020/valid/653802_650142_10000/masks/mask_60_0.png\n",
      "61\n",
      "(2048, 2448)\n",
      "121.5\n",
      "/home/xing/Share/Projects/Sanmed/cell_seg/Data/20201020/valid/653802_650142_10000/masks/mask_61_0.png\n",
      "62\n",
      "(2048, 2448)\n",
      "71.0\n",
      "/home/xing/Share/Projects/Sanmed/cell_seg/Data/20201020/valid/653802_650142_10000/masks/mask_62_0.png\n",
      "101.5\n",
      "/home/xing/Share/Projects/Sanmed/cell_seg/Data/20201020/valid/653802_650142_10000/masks/mask_62_1.png\n",
      "63\n",
      "(2048, 2448)\n",
      "101.5\n"
     ]
    },
    {
     "name": "stderr",
     "output_type": "stream",
     "text": [
      "\r",
      "  8%|▊         | 12/143 [00:00<00:08, 14.84it/s]"
     ]
    },
    {
     "name": "stdout",
     "output_type": "stream",
     "text": [
      "/home/xing/Share/Projects/Sanmed/cell_seg/Data/20201020/valid/653802_650142_10000/masks/mask_63_0.png\n",
      "118.0\n",
      "/home/xing/Share/Projects/Sanmed/cell_seg/Data/20201020/valid/653802_650142_10000/masks/mask_63_1.png\n",
      "41.5\n",
      "/home/xing/Share/Projects/Sanmed/cell_seg/Data/20201020/valid/653802_650142_10000/masks/mask_63_2.png\n",
      "64\n",
      "(2048, 2448)\n",
      "124.0\n",
      "/home/xing/Share/Projects/Sanmed/cell_seg/Data/20201020/valid/653802_650142_10000/masks/mask_64_0.png\n",
      "65\n",
      "(2048, 2448)\n",
      "78.5\n",
      "/home/xing/Share/Projects/Sanmed/cell_seg/Data/20201020/valid/653802_650142_10000/masks/mask_65_0.png\n",
      "124.0\n",
      "/home/xing/Share/Projects/Sanmed/cell_seg/Data/20201020/valid/653802_650142_10000/masks/mask_65_1.png\n"
     ]
    },
    {
     "name": "stderr",
     "output_type": "stream",
     "text": [
      "\r",
      " 10%|▉         | 14/143 [00:01<00:11, 11.35it/s]"
     ]
    },
    {
     "name": "stdout",
     "output_type": "stream",
     "text": [
      "134.0\n",
      "/home/xing/Share/Projects/Sanmed/cell_seg/Data/20201020/valid/653802_650142_10000/masks/mask_65_2.png\n",
      "230.5\n",
      "/home/xing/Share/Projects/Sanmed/cell_seg/Data/20201020/valid/653802_650142_10000/masks/mask_65_3.png\n",
      "66\n",
      "(2048, 2448)\n",
      "145.0\n",
      "/home/xing/Share/Projects/Sanmed/cell_seg/Data/20201020/valid/653802_650142_10000/masks/mask_66_0.png\n",
      "168.0\n",
      "/home/xing/Share/Projects/Sanmed/cell_seg/Data/20201020/valid/653802_650142_10000/masks/mask_66_1.png\n",
      "91.5\n",
      "/home/xing/Share/Projects/Sanmed/cell_seg/Data/20201020/valid/653802_650142_10000/masks/mask_66_2.png\n",
      "67\n",
      "(2048, 2448)\n",
      "96.0\n"
     ]
    },
    {
     "name": "stderr",
     "output_type": "stream",
     "text": [
      "\r",
      " 11%|█         | 16/143 [00:01<00:10, 12.45it/s]"
     ]
    },
    {
     "name": "stdout",
     "output_type": "stream",
     "text": [
      "/home/xing/Share/Projects/Sanmed/cell_seg/Data/20201020/valid/653802_650142_10000/masks/mask_67_0.png\n",
      "68\n",
      "(2048, 2448)\n",
      "104.0\n",
      "/home/xing/Share/Projects/Sanmed/cell_seg/Data/20201020/valid/653802_650142_10000/masks/mask_68_0.png\n",
      "108.5\n",
      "/home/xing/Share/Projects/Sanmed/cell_seg/Data/20201020/valid/653802_650142_10000/masks/mask_68_1.png\n",
      "69\n",
      "(2048, 2448)\n",
      "100.0\n",
      "/home/xing/Share/Projects/Sanmed/cell_seg/Data/20201020/valid/653802_650142_10000/masks/mask_69_0.png\n",
      "341.0\n",
      "/home/xing/Share/Projects/Sanmed/cell_seg/Data/20201020/valid/653802_650142_10000/masks/mask_69_1.png\n",
      "70\n",
      "(2048, 2448)\n",
      "172.5\n"
     ]
    },
    {
     "name": "stderr",
     "output_type": "stream",
     "text": [
      "\r",
      " 13%|█▎        | 18/143 [00:01<00:10, 11.66it/s]"
     ]
    },
    {
     "name": "stdout",
     "output_type": "stream",
     "text": [
      "/home/xing/Share/Projects/Sanmed/cell_seg/Data/20201020/valid/653802_650142_10000/masks/mask_70_0.png\n",
      "229.5\n",
      "/home/xing/Share/Projects/Sanmed/cell_seg/Data/20201020/valid/653802_650142_10000/masks/mask_70_1.png\n",
      "157.5\n",
      "/home/xing/Share/Projects/Sanmed/cell_seg/Data/20201020/valid/653802_650142_10000/masks/mask_70_2.png\n",
      "71\n",
      "(2048, 2448)\n",
      "147.0\n",
      "/home/xing/Share/Projects/Sanmed/cell_seg/Data/20201020/valid/653802_650142_10000/masks/mask_71_0.png\n",
      "173.0\n",
      "/home/xing/Share/Projects/Sanmed/cell_seg/Data/20201020/valid/653802_650142_10000/masks/mask_71_1.png\n",
      "72\n",
      "(2048, 2448)\n",
      "134.5\n",
      "/home/xing/Share/Projects/Sanmed/cell_seg/Data/20201020/valid/653802_650142_10000/masks/mask_72_0.png\n"
     ]
    },
    {
     "name": "stderr",
     "output_type": "stream",
     "text": [
      "\r",
      " 14%|█▍        | 20/143 [00:01<00:12,  9.96it/s]"
     ]
    },
    {
     "name": "stdout",
     "output_type": "stream",
     "text": [
      "114.5\n",
      "/home/xing/Share/Projects/Sanmed/cell_seg/Data/20201020/valid/653802_650142_10000/masks/mask_72_1.png\n",
      "106.0\n",
      "/home/xing/Share/Projects/Sanmed/cell_seg/Data/20201020/valid/653802_650142_10000/masks/mask_72_2.png\n",
      "106.5\n",
      "/home/xing/Share/Projects/Sanmed/cell_seg/Data/20201020/valid/653802_650142_10000/masks/mask_72_3.png\n",
      "103.0\n",
      "/home/xing/Share/Projects/Sanmed/cell_seg/Data/20201020/valid/653802_650142_10000/masks/mask_72_4.png\n",
      "74\n",
      "(2048, 2448)\n",
      "201.0\n",
      "/home/xing/Share/Projects/Sanmed/cell_seg/Data/20201020/valid/653802_650142_10000/masks/mask_74_0.png\n",
      "154.0\n"
     ]
    },
    {
     "name": "stderr",
     "output_type": "stream",
     "text": [
      " 17%|█▋        | 24/143 [00:01<00:09, 12.41it/s]"
     ]
    },
    {
     "name": "stdout",
     "output_type": "stream",
     "text": [
      "/home/xing/Share/Projects/Sanmed/cell_seg/Data/20201020/valid/653802_650142_10000/masks/mask_74_1.png\n",
      "77\n",
      "(2048, 2448)\n",
      "196.0\n",
      "/home/xing/Share/Projects/Sanmed/cell_seg/Data/20201020/valid/653802_650142_10000/masks/mask_77_0.png\n",
      "78\n",
      "(2048, 2448)\n",
      "121.5\n",
      "/home/xing/Share/Projects/Sanmed/cell_seg/Data/20201020/valid/653802_650142_10000/masks/mask_78_0.png\n",
      "79\n",
      "(2048, 2448)\n",
      "163.5\n",
      "/home/xing/Share/Projects/Sanmed/cell_seg/Data/20201020/valid/653802_650142_10000/masks/mask_79_0.png\n",
      "80\n",
      "(2048, 2448)\n",
      "42.0\n"
     ]
    },
    {
     "name": "stderr",
     "output_type": "stream",
     "text": [
      "\r",
      " 18%|█▊        | 26/143 [00:02<00:09, 11.86it/s]"
     ]
    },
    {
     "name": "stdout",
     "output_type": "stream",
     "text": [
      "/home/xing/Share/Projects/Sanmed/cell_seg/Data/20201020/valid/653802_650142_10000/masks/mask_80_0.png\n",
      "149.5\n",
      "/home/xing/Share/Projects/Sanmed/cell_seg/Data/20201020/valid/653802_650142_10000/masks/mask_80_1.png\n",
      "106.0\n",
      "/home/xing/Share/Projects/Sanmed/cell_seg/Data/20201020/valid/653802_650142_10000/masks/mask_80_2.png\n",
      "81\n",
      "(2048, 2448)\n",
      "192.5\n",
      "/home/xing/Share/Projects/Sanmed/cell_seg/Data/20201020/valid/653802_650142_10000/masks/mask_81_0.png\n",
      "82\n",
      "(2048, 2448)\n",
      "103.0\n",
      "/home/xing/Share/Projects/Sanmed/cell_seg/Data/20201020/valid/653802_650142_10000/masks/mask_82_0.png\n"
     ]
    },
    {
     "name": "stderr",
     "output_type": "stream",
     "text": [
      "\r",
      " 20%|█▉        | 28/143 [00:02<00:10, 10.59it/s]"
     ]
    },
    {
     "name": "stdout",
     "output_type": "stream",
     "text": [
      "163.0\n",
      "/home/xing/Share/Projects/Sanmed/cell_seg/Data/20201020/valid/653802_650142_10000/masks/mask_82_1.png\n",
      "110.5\n",
      "/home/xing/Share/Projects/Sanmed/cell_seg/Data/20201020/valid/653802_650142_10000/masks/mask_82_2.png\n",
      "83\n",
      "(2048, 2448)\n",
      "89.5\n",
      "/home/xing/Share/Projects/Sanmed/cell_seg/Data/20201020/valid/653802_650142_10000/masks/mask_83_0.png\n",
      "118.5\n",
      "/home/xing/Share/Projects/Sanmed/cell_seg/Data/20201020/valid/653802_650142_10000/masks/mask_83_1.png\n",
      "240.0\n",
      "/home/xing/Share/Projects/Sanmed/cell_seg/Data/20201020/valid/653802_650142_10000/masks/mask_83_2.png\n",
      "84\n",
      "(2048, 2448)\n",
      "137.5\n"
     ]
    },
    {
     "name": "stderr",
     "output_type": "stream",
     "text": [
      "\r",
      " 21%|██        | 30/143 [00:02<00:09, 11.59it/s]"
     ]
    },
    {
     "name": "stdout",
     "output_type": "stream",
     "text": [
      "/home/xing/Share/Projects/Sanmed/cell_seg/Data/20201020/valid/653802_650142_10000/masks/mask_84_0.png\n",
      "164.5\n",
      "/home/xing/Share/Projects/Sanmed/cell_seg/Data/20201020/valid/653802_650142_10000/masks/mask_84_1.png\n",
      "85\n",
      "(2048, 2448)\n",
      "101.0\n",
      "/home/xing/Share/Projects/Sanmed/cell_seg/Data/20201020/valid/653802_650142_10000/masks/mask_85_0.png\n",
      "87\n",
      "(2048, 2448)\n",
      "119.0\n",
      "/home/xing/Share/Projects/Sanmed/cell_seg/Data/20201020/valid/653802_650142_10000/masks/mask_87_0.png\n",
      "131.5\n",
      "/home/xing/Share/Projects/Sanmed/cell_seg/Data/20201020/valid/653802_650142_10000/masks/mask_87_1.png\n"
     ]
    },
    {
     "name": "stderr",
     "output_type": "stream",
     "text": [
      "\r",
      " 22%|██▏       | 32/143 [00:02<00:09, 11.15it/s]"
     ]
    },
    {
     "name": "stdout",
     "output_type": "stream",
     "text": [
      "89\n",
      "(2048, 2448)\n",
      "159.5\n",
      "/home/xing/Share/Projects/Sanmed/cell_seg/Data/20201020/valid/653802_650142_10000/masks/mask_89_0.png\n",
      "159.0\n",
      "/home/xing/Share/Projects/Sanmed/cell_seg/Data/20201020/valid/653802_650142_10000/masks/mask_89_1.png\n",
      "90\n",
      "(2048, 2448)\n",
      "132.5\n",
      "/home/xing/Share/Projects/Sanmed/cell_seg/Data/20201020/valid/653802_650142_10000/masks/mask_90_0.png\n",
      "96\n",
      "(2048, 2448)\n",
      "102.0\n",
      "/home/xing/Share/Projects/Sanmed/cell_seg/Data/20201020/valid/653802_650142_10000/masks/mask_96_0.png\n",
      "121.0\n",
      "/home/xing/Share/Projects/Sanmed/cell_seg/Data/20201020/valid/653802_650142_10000/masks/mask_96_1.png\n"
     ]
    },
    {
     "name": "stderr",
     "output_type": "stream",
     "text": [
      " 25%|██▌       | 36/143 [00:02<00:08, 12.14it/s]"
     ]
    },
    {
     "name": "stdout",
     "output_type": "stream",
     "text": [
      "97\n",
      "(2048, 2448)\n",
      "128.0\n",
      "/home/xing/Share/Projects/Sanmed/cell_seg/Data/20201020/valid/653802_650142_10000/masks/mask_97_0.png\n",
      "99\n",
      "(2048, 2448)\n",
      "102.5\n",
      "/home/xing/Share/Projects/Sanmed/cell_seg/Data/20201020/valid/653802_650142_10000/masks/mask_99_0.png\n",
      "179.5\n",
      "/home/xing/Share/Projects/Sanmed/cell_seg/Data/20201020/valid/653802_650142_10000/masks/mask_99_1.png\n",
      "107.0\n",
      "/home/xing/Share/Projects/Sanmed/cell_seg/Data/20201020/valid/653802_650142_10000/masks/mask_99_2.png\n",
      "100\n",
      "(2048, 2448)\n",
      "186.0\n",
      "/home/xing/Share/Projects/Sanmed/cell_seg/Data/20201020/valid/653802_650142_10000/masks/mask_100_0.png\n"
     ]
    },
    {
     "name": "stderr",
     "output_type": "stream",
     "text": [
      "\r",
      " 27%|██▋       | 38/143 [00:03<00:09, 10.61it/s]"
     ]
    },
    {
     "name": "stdout",
     "output_type": "stream",
     "text": [
      "133.0\n",
      "/home/xing/Share/Projects/Sanmed/cell_seg/Data/20201020/valid/653802_650142_10000/masks/mask_100_1.png\n",
      "137.0\n",
      "/home/xing/Share/Projects/Sanmed/cell_seg/Data/20201020/valid/653802_650142_10000/masks/mask_100_2.png\n",
      "151.5\n",
      "/home/xing/Share/Projects/Sanmed/cell_seg/Data/20201020/valid/653802_650142_10000/masks/mask_100_3.png\n",
      "101\n",
      "(2048, 2448)\n",
      "261.5\n",
      "/home/xing/Share/Projects/Sanmed/cell_seg/Data/20201020/valid/653802_650142_10000/masks/mask_101_0.png\n",
      "95.5\n",
      "/home/xing/Share/Projects/Sanmed/cell_seg/Data/20201020/valid/653802_650142_10000/masks/mask_101_1.png\n",
      "102\n",
      "(2048, 2448)\n"
     ]
    },
    {
     "name": "stderr",
     "output_type": "stream",
     "text": [
      "\r",
      " 28%|██▊       | 40/143 [00:03<00:08, 11.78it/s]"
     ]
    },
    {
     "name": "stdout",
     "output_type": "stream",
     "text": [
      "94.5\n",
      "/home/xing/Share/Projects/Sanmed/cell_seg/Data/20201020/valid/653802_650142_10000/masks/mask_102_0.png\n",
      "138.5\n",
      "/home/xing/Share/Projects/Sanmed/cell_seg/Data/20201020/valid/653802_650142_10000/masks/mask_102_1.png\n",
      "103\n",
      "(2048, 2448)\n",
      "89.5\n",
      "/home/xing/Share/Projects/Sanmed/cell_seg/Data/20201020/valid/653802_650142_10000/masks/mask_103_0.png\n",
      "105\n",
      "(2048, 2448)\n",
      "105.0\n",
      "/home/xing/Share/Projects/Sanmed/cell_seg/Data/20201020/valid/653802_650142_10000/masks/mask_105_0.png\n",
      "106\n",
      "(2048, 2448)\n",
      "140.0\n",
      "/home/xing/Share/Projects/Sanmed/cell_seg/Data/20201020/valid/653802_650142_10000/masks/mask_106_0.png\n"
     ]
    },
    {
     "name": "stderr",
     "output_type": "stream",
     "text": [
      " 31%|███       | 44/143 [00:03<00:07, 13.53it/s]"
     ]
    },
    {
     "name": "stdout",
     "output_type": "stream",
     "text": [
      "198.5\n",
      "/home/xing/Share/Projects/Sanmed/cell_seg/Data/20201020/valid/653802_650142_10000/masks/mask_106_1.png\n",
      "109\n",
      "(2048, 2448)\n",
      "135.5\n",
      "/home/xing/Share/Projects/Sanmed/cell_seg/Data/20201020/valid/653802_650142_10000/masks/mask_109_0.png\n",
      "94.0\n",
      "/home/xing/Share/Projects/Sanmed/cell_seg/Data/20201020/valid/653802_650142_10000/masks/mask_109_1.png\n",
      "110\n",
      "(2048, 2448)\n",
      "178.0\n",
      "/home/xing/Share/Projects/Sanmed/cell_seg/Data/20201020/valid/653802_650142_10000/masks/mask_110_0.png\n",
      "113\n",
      "(2048, 2448)\n",
      "129.5\n",
      "/home/xing/Share/Projects/Sanmed/cell_seg/Data/20201020/valid/653802_650142_10000/masks/mask_113_0.png\n"
     ]
    },
    {
     "name": "stderr",
     "output_type": "stream",
     "text": [
      "\r",
      " 32%|███▏      | 46/143 [00:03<00:07, 12.29it/s]"
     ]
    },
    {
     "name": "stdout",
     "output_type": "stream",
     "text": [
      "86.0\n",
      "/home/xing/Share/Projects/Sanmed/cell_seg/Data/20201020/valid/653802_650142_10000/masks/mask_113_1.png\n",
      "114\n",
      "(2048, 2448)\n",
      "117.5\n",
      "/home/xing/Share/Projects/Sanmed/cell_seg/Data/20201020/valid/653802_650142_10000/masks/mask_114_0.png\n",
      "116.5\n",
      "/home/xing/Share/Projects/Sanmed/cell_seg/Data/20201020/valid/653802_650142_10000/masks/mask_114_1.png\n",
      "115\n",
      "(2048, 2448)\n",
      "126.0\n",
      "/home/xing/Share/Projects/Sanmed/cell_seg/Data/20201020/valid/653802_650142_10000/masks/mask_115_0.png\n",
      "92.5\n"
     ]
    },
    {
     "name": "stderr",
     "output_type": "stream",
     "text": [
      "\r",
      " 34%|███▎      | 48/143 [00:03<00:08, 11.86it/s]"
     ]
    },
    {
     "name": "stdout",
     "output_type": "stream",
     "text": [
      "/home/xing/Share/Projects/Sanmed/cell_seg/Data/20201020/valid/653802_650142_10000/masks/mask_115_1.png\n",
      "116\n",
      "(2048, 2448)\n",
      "86.0\n",
      "/home/xing/Share/Projects/Sanmed/cell_seg/Data/20201020/valid/653802_650142_10000/masks/mask_116_0.png\n",
      "103.0\n",
      "/home/xing/Share/Projects/Sanmed/cell_seg/Data/20201020/valid/653802_650142_10000/masks/mask_116_1.png\n",
      "117\n",
      "(2048, 2448)\n",
      "125.0\n",
      "/home/xing/Share/Projects/Sanmed/cell_seg/Data/20201020/valid/653802_650142_10000/masks/mask_117_0.png\n",
      "118\n",
      "(2048, 2448)\n",
      "101.0\n",
      "/home/xing/Share/Projects/Sanmed/cell_seg/Data/20201020/valid/653802_650142_10000/masks/mask_118_0.png\n"
     ]
    },
    {
     "name": "stderr",
     "output_type": "stream",
     "text": [
      " 36%|███▋      | 52/143 [00:04<00:06, 13.70it/s]"
     ]
    },
    {
     "name": "stdout",
     "output_type": "stream",
     "text": [
      "97.0\n",
      "/home/xing/Share/Projects/Sanmed/cell_seg/Data/20201020/valid/653802_650142_10000/masks/mask_118_1.png\n",
      "120\n",
      "(2048, 2448)\n",
      "131.0\n",
      "/home/xing/Share/Projects/Sanmed/cell_seg/Data/20201020/valid/653802_650142_10000/masks/mask_120_0.png\n",
      "121\n",
      "(2048, 2448)\n",
      "126.0\n",
      "/home/xing/Share/Projects/Sanmed/cell_seg/Data/20201020/valid/653802_650142_10000/masks/mask_121_0.png\n",
      "77.5\n",
      "/home/xing/Share/Projects/Sanmed/cell_seg/Data/20201020/valid/653802_650142_10000/masks/mask_121_1.png\n",
      "123\n",
      "(2048, 2448)\n",
      "73.0\n",
      "/home/xing/Share/Projects/Sanmed/cell_seg/Data/20201020/valid/653802_650142_10000/masks/mask_123_0.png\n"
     ]
    },
    {
     "name": "stderr",
     "output_type": "stream",
     "text": [
      "\r",
      " 38%|███▊      | 55/143 [00:04<00:05, 15.64it/s]"
     ]
    },
    {
     "name": "stdout",
     "output_type": "stream",
     "text": [
      "124\n",
      "(2048, 2448)\n",
      "135.0\n",
      "/home/xing/Share/Projects/Sanmed/cell_seg/Data/20201020/valid/653802_650142_10000/masks/mask_124_0.png\n",
      "125\n",
      "(2048, 2448)\n",
      "159.0\n",
      "/home/xing/Share/Projects/Sanmed/cell_seg/Data/20201020/valid/653802_650142_10000/masks/mask_125_0.png\n",
      "126\n",
      "(2048, 2448)\n",
      "163.5\n",
      "/home/xing/Share/Projects/Sanmed/cell_seg/Data/20201020/valid/653802_650142_10000/masks/mask_126_0.png\n",
      "99.5\n",
      "/home/xing/Share/Projects/Sanmed/cell_seg/Data/20201020/valid/653802_650142_10000/masks/mask_126_1.png\n",
      "127\n",
      "(2048, 2448)\n",
      "156.5\n",
      "/home/xing/Share/Projects/Sanmed/cell_seg/Data/20201020/valid/653802_650142_10000/masks/mask_127_0.png\n"
     ]
    },
    {
     "name": "stderr",
     "output_type": "stream",
     "text": [
      " 41%|████▏     | 59/143 [00:04<00:05, 14.65it/s]"
     ]
    },
    {
     "name": "stdout",
     "output_type": "stream",
     "text": [
      "128\n",
      "(2048, 2448)\n",
      "146.0\n",
      "/home/xing/Share/Projects/Sanmed/cell_seg/Data/20201020/valid/653802_650142_10000/masks/mask_128_0.png\n",
      "218.5\n",
      "/home/xing/Share/Projects/Sanmed/cell_seg/Data/20201020/valid/653802_650142_10000/masks/mask_128_1.png\n",
      "129\n",
      "(2048, 2448)\n",
      "145.5\n",
      "/home/xing/Share/Projects/Sanmed/cell_seg/Data/20201020/valid/653802_650142_10000/masks/mask_129_0.png\n",
      "158.5\n",
      "/home/xing/Share/Projects/Sanmed/cell_seg/Data/20201020/valid/653802_650142_10000/masks/mask_129_1.png\n",
      "130\n",
      "(2048, 2448)\n",
      "146.5\n",
      "/home/xing/Share/Projects/Sanmed/cell_seg/Data/20201020/valid/653802_650142_10000/masks/mask_130_0.png\n"
     ]
    },
    {
     "name": "stderr",
     "output_type": "stream",
     "text": [
      "\r",
      " 43%|████▎     | 62/143 [00:04<00:04, 16.49it/s]"
     ]
    },
    {
     "name": "stdout",
     "output_type": "stream",
     "text": [
      "132\n",
      "(2048, 2448)\n",
      "120.5\n",
      "/home/xing/Share/Projects/Sanmed/cell_seg/Data/20201020/valid/653802_650142_10000/masks/mask_132_0.png\n",
      "134\n",
      "(2048, 2448)\n",
      "103.0\n",
      "/home/xing/Share/Projects/Sanmed/cell_seg/Data/20201020/valid/653802_650142_10000/masks/mask_134_0.png\n",
      "135\n",
      "(2048, 2448)\n",
      "97.5\n",
      "/home/xing/Share/Projects/Sanmed/cell_seg/Data/20201020/valid/653802_650142_10000/masks/mask_135_0.png\n",
      "93.0\n",
      "/home/xing/Share/Projects/Sanmed/cell_seg/Data/20201020/valid/653802_650142_10000/masks/mask_135_1.png\n",
      "136\n",
      "(2048, 2448)\n",
      "108.0\n",
      "/home/xing/Share/Projects/Sanmed/cell_seg/Data/20201020/valid/653802_650142_10000/masks/mask_136_0.png\n"
     ]
    },
    {
     "name": "stderr",
     "output_type": "stream",
     "text": [
      " 47%|████▋     | 67/143 [00:04<00:04, 18.15it/s]"
     ]
    },
    {
     "name": "stdout",
     "output_type": "stream",
     "text": [
      "138\n",
      "(2048, 2448)\n",
      "44.0\n",
      "/home/xing/Share/Projects/Sanmed/cell_seg/Data/20201020/valid/653802_650142_10000/masks/mask_138_0.png\n",
      "140\n",
      "(2048, 2448)\n",
      "87.5\n",
      "/home/xing/Share/Projects/Sanmed/cell_seg/Data/20201020/valid/653802_650142_10000/masks/mask_140_0.png\n",
      "141\n",
      "(2048, 2448)\n",
      "215.0\n",
      "/home/xing/Share/Projects/Sanmed/cell_seg/Data/20201020/valid/653802_650142_10000/masks/mask_141_0.png\n",
      "142\n",
      "(2048, 2448)\n",
      "128.5\n",
      "/home/xing/Share/Projects/Sanmed/cell_seg/Data/20201020/valid/653802_650142_10000/masks/mask_142_0.png\n",
      "148\n",
      "(2048, 2448)\n",
      "162.5\n",
      "/home/xing/Share/Projects/Sanmed/cell_seg/Data/20201020/valid/653802_650142_10000/masks/mask_148_0.png\n"
     ]
    },
    {
     "name": "stderr",
     "output_type": "stream",
     "text": [
      " 50%|█████     | 72/143 [00:05<00:03, 18.24it/s]"
     ]
    },
    {
     "name": "stdout",
     "output_type": "stream",
     "text": [
      "119.0\n",
      "/home/xing/Share/Projects/Sanmed/cell_seg/Data/20201020/valid/653802_650142_10000/masks/mask_148_1.png\n",
      "151\n",
      "(2048, 2448)\n",
      "191.5\n",
      "/home/xing/Share/Projects/Sanmed/cell_seg/Data/20201020/valid/653802_650142_10000/masks/mask_151_0.png\n",
      "152\n",
      "(2048, 2448)\n",
      "179.5\n",
      "/home/xing/Share/Projects/Sanmed/cell_seg/Data/20201020/valid/653802_650142_10000/masks/mask_152_0.png\n",
      "153\n",
      "(2048, 2448)\n",
      "120.0\n",
      "/home/xing/Share/Projects/Sanmed/cell_seg/Data/20201020/valid/653802_650142_10000/masks/mask_153_0.png\n",
      "154\n",
      "(2048, 2448)\n",
      "171.0\n"
     ]
    },
    {
     "name": "stderr",
     "output_type": "stream",
     "text": [
      "\r",
      " 52%|█████▏    | 74/143 [00:05<00:03, 18.45it/s]"
     ]
    },
    {
     "name": "stdout",
     "output_type": "stream",
     "text": [
      "/home/xing/Share/Projects/Sanmed/cell_seg/Data/20201020/valid/653802_650142_10000/masks/mask_154_0.png\n",
      "155\n",
      "(2048, 2448)\n",
      "117.0\n",
      "/home/xing/Share/Projects/Sanmed/cell_seg/Data/20201020/valid/653802_650142_10000/masks/mask_155_0.png\n",
      "156\n",
      "(2048, 2448)\n",
      "152.0\n",
      "/home/xing/Share/Projects/Sanmed/cell_seg/Data/20201020/valid/653802_650142_10000/masks/mask_156_0.png\n",
      "140.5\n",
      "/home/xing/Share/Projects/Sanmed/cell_seg/Data/20201020/valid/653802_650142_10000/masks/mask_156_1.png\n",
      "157\n",
      "(2048, 2448)\n",
      "123.5\n",
      "/home/xing/Share/Projects/Sanmed/cell_seg/Data/20201020/valid/653802_650142_10000/masks/mask_157_0.png\n"
     ]
    },
    {
     "name": "stderr",
     "output_type": "stream",
     "text": [
      " 55%|█████▍    | 78/143 [00:05<00:04, 15.02it/s]"
     ]
    },
    {
     "name": "stdout",
     "output_type": "stream",
     "text": [
      "159\n",
      "(2048, 2448)\n",
      "82.5\n",
      "/home/xing/Share/Projects/Sanmed/cell_seg/Data/20201020/valid/653802_650142_10000/masks/mask_159_0.png\n",
      "161\n",
      "(2048, 2448)\n",
      "138.0\n",
      "/home/xing/Share/Projects/Sanmed/cell_seg/Data/20201020/valid/653802_650142_10000/masks/mask_161_0.png\n",
      "63.5\n",
      "/home/xing/Share/Projects/Sanmed/cell_seg/Data/20201020/valid/653802_650142_10000/masks/mask_161_1.png\n",
      "87.5\n",
      "/home/xing/Share/Projects/Sanmed/cell_seg/Data/20201020/valid/653802_650142_10000/masks/mask_161_2.png\n",
      "164\n",
      "(2048, 2448)\n",
      "94.5\n",
      "/home/xing/Share/Projects/Sanmed/cell_seg/Data/20201020/valid/653802_650142_10000/masks/mask_164_0.png\n"
     ]
    },
    {
     "name": "stderr",
     "output_type": "stream",
     "text": [
      "\r",
      " 56%|█████▌    | 80/143 [00:05<00:05, 12.04it/s]"
     ]
    },
    {
     "name": "stdout",
     "output_type": "stream",
     "text": [
      "109.5\n",
      "/home/xing/Share/Projects/Sanmed/cell_seg/Data/20201020/valid/653802_650142_10000/masks/mask_164_1.png\n",
      "165\n",
      "(2048, 2448)\n",
      "154.0\n",
      "/home/xing/Share/Projects/Sanmed/cell_seg/Data/20201020/valid/653802_650142_10000/masks/mask_165_0.png\n",
      "121.5\n",
      "/home/xing/Share/Projects/Sanmed/cell_seg/Data/20201020/valid/653802_650142_10000/masks/mask_165_1.png\n",
      "168.5\n",
      "/home/xing/Share/Projects/Sanmed/cell_seg/Data/20201020/valid/653802_650142_10000/masks/mask_165_2.png\n",
      "166\n",
      "(2048, 2448)\n",
      "113.0\n"
     ]
    },
    {
     "name": "stderr",
     "output_type": "stream",
     "text": [
      "\r",
      " 57%|█████▋    | 82/143 [00:06<00:04, 12.88it/s]"
     ]
    },
    {
     "name": "stdout",
     "output_type": "stream",
     "text": [
      "/home/xing/Share/Projects/Sanmed/cell_seg/Data/20201020/valid/653802_650142_10000/masks/mask_166_0.png\n",
      "167\n",
      "(2048, 2448)\n",
      "126.5\n",
      "/home/xing/Share/Projects/Sanmed/cell_seg/Data/20201020/valid/653802_650142_10000/masks/mask_167_0.png\n",
      "108.0\n",
      "/home/xing/Share/Projects/Sanmed/cell_seg/Data/20201020/valid/653802_650142_10000/masks/mask_167_1.png\n",
      "168\n",
      "(2048, 2448)\n",
      "178.0\n",
      "/home/xing/Share/Projects/Sanmed/cell_seg/Data/20201020/valid/653802_650142_10000/masks/mask_168_0.png\n",
      "169\n",
      "(2048, 2448)\n",
      "123.5\n",
      "/home/xing/Share/Projects/Sanmed/cell_seg/Data/20201020/valid/653802_650142_10000/masks/mask_169_0.png\n",
      "170\n",
      "(2048, 2448)\n"
     ]
    },
    {
     "name": "stderr",
     "output_type": "stream",
     "text": [
      " 61%|██████    | 87/143 [00:06<00:03, 15.50it/s]"
     ]
    },
    {
     "name": "stdout",
     "output_type": "stream",
     "text": [
      "95.5\n",
      "/home/xing/Share/Projects/Sanmed/cell_seg/Data/20201020/valid/653802_650142_10000/masks/mask_170_0.png\n",
      "175\n",
      "(2048, 2448)\n",
      "98.0\n",
      "/home/xing/Share/Projects/Sanmed/cell_seg/Data/20201020/valid/653802_650142_10000/masks/mask_175_0.png\n",
      "176\n",
      "(2048, 2448)\n",
      "133.0\n",
      "/home/xing/Share/Projects/Sanmed/cell_seg/Data/20201020/valid/653802_650142_10000/masks/mask_176_0.png\n",
      "177\n",
      "(2048, 2448)\n",
      "129.5\n",
      "/home/xing/Share/Projects/Sanmed/cell_seg/Data/20201020/valid/653802_650142_10000/masks/mask_177_0.png\n"
     ]
    },
    {
     "name": "stderr",
     "output_type": "stream",
     "text": [
      "\r",
      " 62%|██████▏   | 89/143 [00:06<00:03, 16.56it/s]"
     ]
    },
    {
     "name": "stdout",
     "output_type": "stream",
     "text": [
      "179\n",
      "(2048, 2448)\n",
      "200.5\n",
      "/home/xing/Share/Projects/Sanmed/cell_seg/Data/20201020/valid/653802_650142_10000/masks/mask_179_0.png\n",
      "180\n",
      "(2048, 2448)\n",
      "113.0\n",
      "/home/xing/Share/Projects/Sanmed/cell_seg/Data/20201020/valid/653802_650142_10000/masks/mask_180_0.png\n",
      "129.5\n",
      "/home/xing/Share/Projects/Sanmed/cell_seg/Data/20201020/valid/653802_650142_10000/masks/mask_180_1.png\n",
      "137.5\n",
      "/home/xing/Share/Projects/Sanmed/cell_seg/Data/20201020/valid/653802_650142_10000/masks/mask_180_2.png\n",
      "146.0\n",
      "/home/xing/Share/Projects/Sanmed/cell_seg/Data/20201020/valid/653802_650142_10000/masks/mask_180_3.png\n"
     ]
    },
    {
     "name": "stderr",
     "output_type": "stream",
     "text": [
      "\r",
      " 64%|██████▎   | 91/143 [00:06<00:04, 11.97it/s]"
     ]
    },
    {
     "name": "stdout",
     "output_type": "stream",
     "text": [
      "181\n",
      "(2048, 2448)\n",
      "147.5\n",
      "/home/xing/Share/Projects/Sanmed/cell_seg/Data/20201020/valid/653802_650142_10000/masks/mask_181_0.png\n",
      "150.0\n",
      "/home/xing/Share/Projects/Sanmed/cell_seg/Data/20201020/valid/653802_650142_10000/masks/mask_181_1.png\n",
      "112.0\n",
      "/home/xing/Share/Projects/Sanmed/cell_seg/Data/20201020/valid/653802_650142_10000/masks/mask_181_2.png\n",
      "182\n",
      "(2048, 2448)\n",
      "92.0\n",
      "/home/xing/Share/Projects/Sanmed/cell_seg/Data/20201020/valid/653802_650142_10000/masks/mask_182_0.png\n",
      "183\n",
      "(2048, 2448)\n",
      "111.5\n",
      "/home/xing/Share/Projects/Sanmed/cell_seg/Data/20201020/valid/653802_650142_10000/masks/mask_183_0.png\n"
     ]
    },
    {
     "name": "stderr",
     "output_type": "stream",
     "text": [
      "\r",
      " 66%|██████▌   | 94/143 [00:06<00:03, 13.24it/s]"
     ]
    },
    {
     "name": "stdout",
     "output_type": "stream",
     "text": [
      "184\n",
      "(2048, 2448)\n",
      "142.5\n",
      "/home/xing/Share/Projects/Sanmed/cell_seg/Data/20201020/valid/653802_650142_10000/masks/mask_184_0.png\n",
      "122.5\n",
      "/home/xing/Share/Projects/Sanmed/cell_seg/Data/20201020/valid/653802_650142_10000/masks/mask_184_1.png\n",
      "185\n",
      "(2048, 2448)\n",
      "167.5\n",
      "/home/xing/Share/Projects/Sanmed/cell_seg/Data/20201020/valid/653802_650142_10000/masks/mask_185_0.png\n",
      "187\n",
      "(2048, 2448)\n",
      "107.0\n",
      "/home/xing/Share/Projects/Sanmed/cell_seg/Data/20201020/valid/653802_650142_10000/masks/mask_187_0.png\n",
      "111.5\n",
      "/home/xing/Share/Projects/Sanmed/cell_seg/Data/20201020/valid/653802_650142_10000/masks/mask_187_1.png\n"
     ]
    },
    {
     "name": "stderr",
     "output_type": "stream",
     "text": [
      "\r",
      " 67%|██████▋   | 96/143 [00:07<00:03, 12.97it/s]"
     ]
    },
    {
     "name": "stdout",
     "output_type": "stream",
     "text": [
      "103.0\n",
      "/home/xing/Share/Projects/Sanmed/cell_seg/Data/20201020/valid/653802_650142_10000/masks/mask_187_2.png\n",
      "189\n",
      "(2048, 2448)\n",
      "133.5\n",
      "/home/xing/Share/Projects/Sanmed/cell_seg/Data/20201020/valid/653802_650142_10000/masks/mask_189_0.png\n",
      "116.0\n",
      "/home/xing/Share/Projects/Sanmed/cell_seg/Data/20201020/valid/653802_650142_10000/masks/mask_189_1.png\n",
      "190\n",
      "(2048, 2448)\n",
      "158.5\n",
      "/home/xing/Share/Projects/Sanmed/cell_seg/Data/20201020/valid/653802_650142_10000/masks/mask_190_0.png\n",
      "178.5\n"
     ]
    },
    {
     "name": "stderr",
     "output_type": "stream",
     "text": [
      "\r",
      " 69%|██████▊   | 98/143 [00:07<00:03, 11.60it/s]"
     ]
    },
    {
     "name": "stdout",
     "output_type": "stream",
     "text": [
      "/home/xing/Share/Projects/Sanmed/cell_seg/Data/20201020/valid/653802_650142_10000/masks/mask_190_1.png\n",
      "192\n",
      "(2048, 2448)\n",
      "126.5\n",
      "/home/xing/Share/Projects/Sanmed/cell_seg/Data/20201020/valid/653802_650142_10000/masks/mask_192_0.png\n",
      "99.5\n",
      "/home/xing/Share/Projects/Sanmed/cell_seg/Data/20201020/valid/653802_650142_10000/masks/mask_192_1.png\n",
      "193\n",
      "(2048, 2448)\n",
      "246.5\n",
      "/home/xing/Share/Projects/Sanmed/cell_seg/Data/20201020/valid/653802_650142_10000/masks/mask_193_0.png\n",
      "186.0\n"
     ]
    },
    {
     "name": "stderr",
     "output_type": "stream",
     "text": [
      " 71%|███████▏  | 102/143 [00:07<00:03, 12.50it/s]"
     ]
    },
    {
     "name": "stdout",
     "output_type": "stream",
     "text": [
      "/home/xing/Share/Projects/Sanmed/cell_seg/Data/20201020/valid/653802_650142_10000/masks/mask_193_1.png\n",
      "194\n",
      "(2048, 2448)\n",
      "98.0\n",
      "/home/xing/Share/Projects/Sanmed/cell_seg/Data/20201020/valid/653802_650142_10000/masks/mask_194_0.png\n",
      "195\n",
      "(2048, 2448)\n",
      "91.5\n",
      "/home/xing/Share/Projects/Sanmed/cell_seg/Data/20201020/valid/653802_650142_10000/masks/mask_195_0.png\n",
      "156.0\n",
      "/home/xing/Share/Projects/Sanmed/cell_seg/Data/20201020/valid/653802_650142_10000/masks/mask_195_1.png\n",
      "196\n",
      "(2048, 2448)\n",
      "115.5\n",
      "/home/xing/Share/Projects/Sanmed/cell_seg/Data/20201020/valid/653802_650142_10000/masks/mask_196_0.png\n",
      "124.0\n"
     ]
    },
    {
     "name": "stderr",
     "output_type": "stream",
     "text": [
      "\r",
      " 73%|███████▎  | 104/143 [00:07<00:03, 11.97it/s]"
     ]
    },
    {
     "name": "stdout",
     "output_type": "stream",
     "text": [
      "/home/xing/Share/Projects/Sanmed/cell_seg/Data/20201020/valid/653802_650142_10000/masks/mask_196_1.png\n",
      "128.5\n",
      "/home/xing/Share/Projects/Sanmed/cell_seg/Data/20201020/valid/653802_650142_10000/masks/mask_196_2.png\n",
      "197\n",
      "(2048, 2448)\n",
      "113.5\n",
      "/home/xing/Share/Projects/Sanmed/cell_seg/Data/20201020/valid/653802_650142_10000/masks/mask_197_0.png\n",
      "198\n",
      "(2048, 2448)\n",
      "141.5\n",
      "/home/xing/Share/Projects/Sanmed/cell_seg/Data/20201020/valid/653802_650142_10000/masks/mask_198_0.png\n",
      "200\n",
      "(2048, 2448)\n",
      "111.0\n"
     ]
    },
    {
     "name": "stderr",
     "output_type": "stream",
     "text": [
      " 76%|███████▌  | 108/143 [00:07<00:02, 14.48it/s]"
     ]
    },
    {
     "name": "stdout",
     "output_type": "stream",
     "text": [
      "/home/xing/Share/Projects/Sanmed/cell_seg/Data/20201020/valid/653802_650142_10000/masks/mask_200_0.png\n",
      "202\n",
      "(2048, 2448)\n",
      "112.5\n",
      "/home/xing/Share/Projects/Sanmed/cell_seg/Data/20201020/valid/653802_650142_10000/masks/mask_202_0.png\n",
      "203\n",
      "(2048, 2448)\n",
      "104.0\n",
      "/home/xing/Share/Projects/Sanmed/cell_seg/Data/20201020/valid/653802_650142_10000/masks/mask_203_0.png\n",
      "205\n",
      "(2048, 2448)\n",
      "139.0\n",
      "/home/xing/Share/Projects/Sanmed/cell_seg/Data/20201020/valid/653802_650142_10000/masks/mask_205_0.png\n",
      "206\n",
      "(2048, 2448)\n",
      "121.0\n"
     ]
    },
    {
     "name": "stderr",
     "output_type": "stream",
     "text": [
      "\r",
      " 78%|███████▊  | 111/143 [00:08<00:02, 15.14it/s]"
     ]
    },
    {
     "name": "stdout",
     "output_type": "stream",
     "text": [
      "/home/xing/Share/Projects/Sanmed/cell_seg/Data/20201020/valid/653802_650142_10000/masks/mask_206_0.png\n",
      "207\n",
      "(2048, 2448)\n",
      "73.0\n",
      "/home/xing/Share/Projects/Sanmed/cell_seg/Data/20201020/valid/653802_650142_10000/masks/mask_207_0.png\n",
      "171.5\n",
      "/home/xing/Share/Projects/Sanmed/cell_seg/Data/20201020/valid/653802_650142_10000/masks/mask_207_1.png\n",
      "208\n",
      "(2048, 2448)\n",
      "111.5\n",
      "/home/xing/Share/Projects/Sanmed/cell_seg/Data/20201020/valid/653802_650142_10000/masks/mask_208_0.png\n",
      "209\n",
      "(2048, 2448)\n",
      "248.5\n",
      "/home/xing/Share/Projects/Sanmed/cell_seg/Data/20201020/valid/653802_650142_10000/masks/mask_209_0.png\n",
      "210\n",
      "(2048, 2448)\n",
      "118.5\n"
     ]
    },
    {
     "name": "stderr",
     "output_type": "stream",
     "text": [
      " 81%|████████  | 116/143 [00:08<00:01, 16.66it/s]"
     ]
    },
    {
     "name": "stdout",
     "output_type": "stream",
     "text": [
      "/home/xing/Share/Projects/Sanmed/cell_seg/Data/20201020/valid/653802_650142_10000/masks/mask_210_0.png\n",
      "211\n",
      "(2048, 2448)\n",
      "98.0\n",
      "/home/xing/Share/Projects/Sanmed/cell_seg/Data/20201020/valid/653802_650142_10000/masks/mask_211_0.png\n",
      "212\n",
      "(2048, 2448)\n",
      "140.0\n",
      "/home/xing/Share/Projects/Sanmed/cell_seg/Data/20201020/valid/653802_650142_10000/masks/mask_212_0.png\n",
      "101.0\n",
      "/home/xing/Share/Projects/Sanmed/cell_seg/Data/20201020/valid/653802_650142_10000/masks/mask_212_1.png\n",
      "214\n",
      "(2048, 2448)\n",
      "102.5\n",
      "/home/xing/Share/Projects/Sanmed/cell_seg/Data/20201020/valid/653802_650142_10000/masks/mask_214_0.png\n",
      "118.5\n"
     ]
    },
    {
     "name": "stderr",
     "output_type": "stream",
     "text": [
      "\r",
      " 83%|████████▎ | 118/143 [00:08<00:01, 16.48it/s]"
     ]
    },
    {
     "name": "stdout",
     "output_type": "stream",
     "text": [
      "/home/xing/Share/Projects/Sanmed/cell_seg/Data/20201020/valid/653802_650142_10000/masks/mask_214_1.png\n",
      "216\n",
      "(2048, 2448)\n",
      "101.5\n",
      "/home/xing/Share/Projects/Sanmed/cell_seg/Data/20201020/valid/653802_650142_10000/masks/mask_216_0.png\n",
      "217\n",
      "(2048, 2448)\n",
      "77.5\n",
      "/home/xing/Share/Projects/Sanmed/cell_seg/Data/20201020/valid/653802_650142_10000/masks/mask_217_0.png\n",
      "207.5\n",
      "/home/xing/Share/Projects/Sanmed/cell_seg/Data/20201020/valid/653802_650142_10000/masks/mask_217_1.png\n",
      "195.0\n",
      "/home/xing/Share/Projects/Sanmed/cell_seg/Data/20201020/valid/653802_650142_10000/masks/mask_217_2.png\n",
      "218\n",
      "(2048, 2448)\n",
      "89.5\n"
     ]
    },
    {
     "name": "stderr",
     "output_type": "stream",
     "text": [
      " 85%|████████▌ | 122/143 [00:08<00:01, 14.47it/s]"
     ]
    },
    {
     "name": "stdout",
     "output_type": "stream",
     "text": [
      "/home/xing/Share/Projects/Sanmed/cell_seg/Data/20201020/valid/653802_650142_10000/masks/mask_218_0.png\n",
      "162.0\n",
      "/home/xing/Share/Projects/Sanmed/cell_seg/Data/20201020/valid/653802_650142_10000/masks/mask_218_1.png\n",
      "219\n",
      "(2048, 2448)\n",
      "162.5\n",
      "/home/xing/Share/Projects/Sanmed/cell_seg/Data/20201020/valid/653802_650142_10000/masks/mask_219_0.png\n",
      "221\n",
      "(2048, 2448)\n",
      "89.5\n",
      "/home/xing/Share/Projects/Sanmed/cell_seg/Data/20201020/valid/653802_650142_10000/masks/mask_221_0.png\n",
      "280.0\n",
      "/home/xing/Share/Projects/Sanmed/cell_seg/Data/20201020/valid/653802_650142_10000/masks/mask_221_1.png\n",
      "222\n",
      "(2048, 2448)\n",
      "120.0\n"
     ]
    },
    {
     "name": "stderr",
     "output_type": "stream",
     "text": [
      "\r",
      " 87%|████████▋ | 124/143 [00:08<00:01, 14.82it/s]"
     ]
    },
    {
     "name": "stdout",
     "output_type": "stream",
     "text": [
      "/home/xing/Share/Projects/Sanmed/cell_seg/Data/20201020/valid/653802_650142_10000/masks/mask_222_0.png\n",
      "223\n",
      "(2048, 2448)\n",
      "119.0\n",
      "/home/xing/Share/Projects/Sanmed/cell_seg/Data/20201020/valid/653802_650142_10000/masks/mask_223_0.png\n",
      "115.5\n",
      "/home/xing/Share/Projects/Sanmed/cell_seg/Data/20201020/valid/653802_650142_10000/masks/mask_223_1.png\n",
      "224\n",
      "(2048, 2448)\n",
      "109.5\n",
      "/home/xing/Share/Projects/Sanmed/cell_seg/Data/20201020/valid/653802_650142_10000/masks/mask_224_0.png\n",
      "226\n",
      "(2048, 2448)\n",
      "193.0\n",
      "/home/xing/Share/Projects/Sanmed/cell_seg/Data/20201020/valid/653802_650142_10000/masks/mask_226_0.png\n",
      "227\n",
      "(2048, 2448)\n",
      "137.0\n"
     ]
    },
    {
     "name": "stderr",
     "output_type": "stream",
     "text": [
      " 90%|█████████ | 129/143 [00:09<00:00, 16.27it/s]"
     ]
    },
    {
     "name": "stdout",
     "output_type": "stream",
     "text": [
      "/home/xing/Share/Projects/Sanmed/cell_seg/Data/20201020/valid/653802_650142_10000/masks/mask_227_0.png\n",
      "228\n",
      "(2048, 2448)\n",
      "134.0\n",
      "/home/xing/Share/Projects/Sanmed/cell_seg/Data/20201020/valid/653802_650142_10000/masks/mask_228_0.png\n",
      "266.0\n",
      "/home/xing/Share/Projects/Sanmed/cell_seg/Data/20201020/valid/653802_650142_10000/masks/mask_228_1.png\n",
      "230\n",
      "(2048, 2448)\n",
      "212.5\n",
      "/home/xing/Share/Projects/Sanmed/cell_seg/Data/20201020/valid/653802_650142_10000/masks/mask_230_0.png\n",
      "231\n",
      "(2048, 2448)\n",
      "318.5\n",
      "/home/xing/Share/Projects/Sanmed/cell_seg/Data/20201020/valid/653802_650142_10000/masks/mask_231_0.png\n",
      "232\n",
      "(2048, 2448)\n"
     ]
    },
    {
     "name": "stderr",
     "output_type": "stream",
     "text": [
      "\r",
      " 92%|█████████▏| 131/143 [00:09<00:00, 16.17it/s]"
     ]
    },
    {
     "name": "stdout",
     "output_type": "stream",
     "text": [
      "105.0\n",
      "/home/xing/Share/Projects/Sanmed/cell_seg/Data/20201020/valid/653802_650142_10000/masks/mask_232_0.png\n",
      "78.0\n",
      "/home/xing/Share/Projects/Sanmed/cell_seg/Data/20201020/valid/653802_650142_10000/masks/mask_232_1.png\n",
      "233\n",
      "(2048, 2448)\n",
      "178.0\n",
      "/home/xing/Share/Projects/Sanmed/cell_seg/Data/20201020/valid/653802_650142_10000/masks/mask_233_0.png\n",
      "235\n",
      "(2048, 2448)\n",
      "160.0\n",
      "/home/xing/Share/Projects/Sanmed/cell_seg/Data/20201020/valid/653802_650142_10000/masks/mask_235_0.png\n",
      "236\n",
      "(2048, 2448)\n",
      "98.5\n",
      "/home/xing/Share/Projects/Sanmed/cell_seg/Data/20201020/valid/653802_650142_10000/masks/mask_236_0.png\n"
     ]
    },
    {
     "name": "stderr",
     "output_type": "stream",
     "text": [
      " 95%|█████████▌| 136/143 [00:09<00:00, 15.75it/s]"
     ]
    },
    {
     "name": "stdout",
     "output_type": "stream",
     "text": [
      "237\n",
      "(2048, 2448)\n",
      "126.5\n",
      "/home/xing/Share/Projects/Sanmed/cell_seg/Data/20201020/valid/653802_650142_10000/masks/mask_237_0.png\n",
      "120.0\n",
      "/home/xing/Share/Projects/Sanmed/cell_seg/Data/20201020/valid/653802_650142_10000/masks/mask_237_1.png\n",
      "238\n",
      "(2048, 2448)\n",
      "127.5\n",
      "/home/xing/Share/Projects/Sanmed/cell_seg/Data/20201020/valid/653802_650142_10000/masks/mask_238_0.png\n",
      "167.5\n",
      "/home/xing/Share/Projects/Sanmed/cell_seg/Data/20201020/valid/653802_650142_10000/masks/mask_238_1.png\n",
      "239\n",
      "(2048, 2448)\n",
      "118.0\n",
      "/home/xing/Share/Projects/Sanmed/cell_seg/Data/20201020/valid/653802_650142_10000/masks/mask_239_0.png\n"
     ]
    },
    {
     "name": "stderr",
     "output_type": "stream",
     "text": [
      "\r",
      " 97%|█████████▋| 138/143 [00:09<00:00, 12.52it/s]"
     ]
    },
    {
     "name": "stdout",
     "output_type": "stream",
     "text": [
      "134.0\n",
      "/home/xing/Share/Projects/Sanmed/cell_seg/Data/20201020/valid/653802_650142_10000/masks/mask_239_1.png\n",
      "93.0\n",
      "/home/xing/Share/Projects/Sanmed/cell_seg/Data/20201020/valid/653802_650142_10000/masks/mask_239_2.png\n",
      "241\n",
      "(2048, 2448)\n",
      "103.0\n",
      "/home/xing/Share/Projects/Sanmed/cell_seg/Data/20201020/valid/653802_650142_10000/masks/mask_241_0.png\n",
      "135.5\n",
      "/home/xing/Share/Projects/Sanmed/cell_seg/Data/20201020/valid/653802_650142_10000/masks/mask_241_1.png\n",
      "243\n",
      "(2048, 2448)\n",
      "174.5\n"
     ]
    },
    {
     "name": "stderr",
     "output_type": "stream",
     "text": [
      "\r",
      " 99%|█████████▊| 141/143 [00:10<00:00, 13.55it/s]"
     ]
    },
    {
     "name": "stdout",
     "output_type": "stream",
     "text": [
      "/home/xing/Share/Projects/Sanmed/cell_seg/Data/20201020/valid/653802_650142_10000/masks/mask_243_0.png\n",
      "245\n",
      "(2048, 2448)\n",
      "97.5\n",
      "/home/xing/Share/Projects/Sanmed/cell_seg/Data/20201020/valid/653802_650142_10000/masks/mask_245_0.png\n",
      "246\n",
      "(2048, 2448)\n",
      "161.5\n",
      "/home/xing/Share/Projects/Sanmed/cell_seg/Data/20201020/valid/653802_650142_10000/masks/mask_246_0.png\n",
      "111.5\n",
      "/home/xing/Share/Projects/Sanmed/cell_seg/Data/20201020/valid/653802_650142_10000/masks/mask_246_1.png\n",
      "247\n",
      "(2048, 2448)\n",
      "133.5\n",
      "/home/xing/Share/Projects/Sanmed/cell_seg/Data/20201020/valid/653802_650142_10000/masks/mask_247_0.png\n"
     ]
    },
    {
     "name": "stderr",
     "output_type": "stream",
     "text": [
      "100%|██████████| 143/143 [00:10<00:00, 14.09it/s]\n"
     ]
    },
    {
     "name": "stdout",
     "output_type": "stream",
     "text": [
      "225.5\n",
      "/home/xing/Share/Projects/Sanmed/cell_seg/Data/20201020/valid/653802_650142_10000/masks/mask_247_1.png\n",
      "248\n",
      "(2048, 2448)\n",
      "96.5\n",
      "/home/xing/Share/Projects/Sanmed/cell_seg/Data/20201020/valid/653802_650142_10000/masks/mask_248_0.png\n"
     ]
    },
    {
     "name": "stderr",
     "output_type": "stream",
     "text": [
      "  3%|▎         | 3/101 [00:00<00:04, 23.06it/s]"
     ]
    },
    {
     "name": "stdout",
     "output_type": "stream",
     "text": [
      "50\n",
      "(2048, 2448)\n",
      "120.0\n",
      "/home/xing/Share/Projects/Sanmed/cell_seg/Data/20201020/valid/640370_640578_10000/masks/mask_50_0.png\n",
      "53\n",
      "(2048, 2448)\n",
      "85.0\n",
      "/home/xing/Share/Projects/Sanmed/cell_seg/Data/20201020/valid/640370_640578_10000/masks/mask_53_0.png\n",
      "54\n",
      "(2048, 2448)\n",
      "108.5\n",
      "/home/xing/Share/Projects/Sanmed/cell_seg/Data/20201020/valid/640370_640578_10000/masks/mask_54_0.png\n",
      "57\n",
      "(2048, 2448)\n",
      "149.5\n",
      "/home/xing/Share/Projects/Sanmed/cell_seg/Data/20201020/valid/640370_640578_10000/masks/mask_57_0.png\n",
      "217.0\n",
      "/home/xing/Share/Projects/Sanmed/cell_seg/Data/20201020/valid/640370_640578_10000/masks/mask_57_1.png\n"
     ]
    },
    {
     "name": "stderr",
     "output_type": "stream",
     "text": [
      "  7%|▋         | 7/101 [00:00<00:06, 15.25it/s]"
     ]
    },
    {
     "name": "stdout",
     "output_type": "stream",
     "text": [
      "2.0\n",
      "2.0\n",
      "7.0\n",
      "/home/xing/Share/Projects/Sanmed/cell_seg/Data/20201020/valid/640370_640578_10000/masks/mask_57_4.png\n",
      "113.0\n",
      "/home/xing/Share/Projects/Sanmed/cell_seg/Data/20201020/valid/640370_640578_10000/masks/mask_57_5.png\n",
      "64\n",
      "(2048, 2448)\n",
      "111.0\n",
      "/home/xing/Share/Projects/Sanmed/cell_seg/Data/20201020/valid/640370_640578_10000/masks/mask_64_0.png\n",
      "65\n",
      "(2048, 2448)\n",
      "157.0\n",
      "/home/xing/Share/Projects/Sanmed/cell_seg/Data/20201020/valid/640370_640578_10000/masks/mask_65_0.png\n",
      "66\n",
      "(2048, 2448)\n",
      "99.0\n",
      "/home/xing/Share/Projects/Sanmed/cell_seg/Data/20201020/valid/640370_640578_10000/masks/mask_66_0.png\n",
      "67\n",
      "(2048, 2448)\n"
     ]
    },
    {
     "name": "stderr",
     "output_type": "stream",
     "text": [
      "\r",
      "  9%|▉         | 9/101 [00:00<00:06, 14.35it/s]"
     ]
    },
    {
     "name": "stdout",
     "output_type": "stream",
     "text": [
      "116.5\n",
      "/home/xing/Share/Projects/Sanmed/cell_seg/Data/20201020/valid/640370_640578_10000/masks/mask_67_0.png\n",
      "52.0\n",
      "/home/xing/Share/Projects/Sanmed/cell_seg/Data/20201020/valid/640370_640578_10000/masks/mask_67_1.png\n",
      "146.5\n",
      "/home/xing/Share/Projects/Sanmed/cell_seg/Data/20201020/valid/640370_640578_10000/masks/mask_67_2.png\n",
      "68\n",
      "(2048, 2448)\n",
      "75.0\n",
      "/home/xing/Share/Projects/Sanmed/cell_seg/Data/20201020/valid/640370_640578_10000/masks/mask_68_0.png\n",
      "70\n",
      "(2048, 2448)\n",
      "74.0\n",
      "/home/xing/Share/Projects/Sanmed/cell_seg/Data/20201020/valid/640370_640578_10000/masks/mask_70_0.png\n",
      "76\n",
      "(2048, 2448)\n",
      "118.0\n"
     ]
    },
    {
     "name": "stderr",
     "output_type": "stream",
     "text": [
      "\r",
      " 12%|█▏        | 12/101 [00:00<00:05, 16.27it/s]"
     ]
    },
    {
     "name": "stdout",
     "output_type": "stream",
     "text": [
      "/home/xing/Share/Projects/Sanmed/cell_seg/Data/20201020/valid/640370_640578_10000/masks/mask_76_0.png\n",
      "77\n",
      "(2048, 2448)\n",
      "87.5\n",
      "/home/xing/Share/Projects/Sanmed/cell_seg/Data/20201020/valid/640370_640578_10000/masks/mask_77_0.png\n",
      "78\n",
      "(2048, 2448)\n",
      "104.0\n",
      "/home/xing/Share/Projects/Sanmed/cell_seg/Data/20201020/valid/640370_640578_10000/masks/mask_78_0.png\n",
      "80\n",
      "(2048, 2448)\n",
      "169.0\n",
      "/home/xing/Share/Projects/Sanmed/cell_seg/Data/20201020/valid/640370_640578_10000/masks/mask_80_0.png\n",
      "81\n",
      "(2048, 2448)\n",
      "77.5\n",
      "/home/xing/Share/Projects/Sanmed/cell_seg/Data/20201020/valid/640370_640578_10000/masks/mask_81_0.png\n",
      "102.0\n"
     ]
    },
    {
     "name": "stderr",
     "output_type": "stream",
     "text": [
      " 18%|█▊        | 18/101 [00:00<00:04, 18.49it/s]"
     ]
    },
    {
     "name": "stdout",
     "output_type": "stream",
     "text": [
      "/home/xing/Share/Projects/Sanmed/cell_seg/Data/20201020/valid/640370_640578_10000/masks/mask_81_1.png\n",
      "84\n",
      "(2048, 2448)\n",
      "58.0\n",
      "/home/xing/Share/Projects/Sanmed/cell_seg/Data/20201020/valid/640370_640578_10000/masks/mask_84_0.png\n",
      "85\n",
      "(2048, 2448)\n",
      "214.5\n",
      "/home/xing/Share/Projects/Sanmed/cell_seg/Data/20201020/valid/640370_640578_10000/masks/mask_85_0.png\n",
      "86\n",
      "(2048, 2448)\n",
      "110.5\n",
      "/home/xing/Share/Projects/Sanmed/cell_seg/Data/20201020/valid/640370_640578_10000/masks/mask_86_0.png\n",
      "87\n",
      "(2048, 2448)\n",
      "109.5\n",
      "/home/xing/Share/Projects/Sanmed/cell_seg/Data/20201020/valid/640370_640578_10000/masks/mask_87_0.png\n",
      "90\n",
      "(2048, 2448)\n",
      "261.0\n"
     ]
    },
    {
     "name": "stderr",
     "output_type": "stream",
     "text": [
      "\r",
      " 20%|█▉        | 20/101 [00:01<00:04, 17.68it/s]"
     ]
    },
    {
     "name": "stdout",
     "output_type": "stream",
     "text": [
      "/home/xing/Share/Projects/Sanmed/cell_seg/Data/20201020/valid/640370_640578_10000/masks/mask_90_0.png\n",
      "175.5\n",
      "/home/xing/Share/Projects/Sanmed/cell_seg/Data/20201020/valid/640370_640578_10000/masks/mask_90_1.png\n",
      "93\n",
      "(2048, 2448)\n",
      "125.0\n",
      "/home/xing/Share/Projects/Sanmed/cell_seg/Data/20201020/valid/640370_640578_10000/masks/mask_93_0.png\n",
      "94\n",
      "(2048, 2448)\n",
      "68.0\n",
      "/home/xing/Share/Projects/Sanmed/cell_seg/Data/20201020/valid/640370_640578_10000/masks/mask_94_0.png\n",
      "104.5\n",
      "/home/xing/Share/Projects/Sanmed/cell_seg/Data/20201020/valid/640370_640578_10000/masks/mask_94_1.png\n"
     ]
    },
    {
     "name": "stderr",
     "output_type": "stream",
     "text": [
      " 24%|██▍       | 24/101 [00:01<00:04, 15.60it/s]"
     ]
    },
    {
     "name": "stdout",
     "output_type": "stream",
     "text": [
      "95\n",
      "(2048, 2448)\n",
      "93.0\n",
      "/home/xing/Share/Projects/Sanmed/cell_seg/Data/20201020/valid/640370_640578_10000/masks/mask_95_0.png\n",
      "71.5\n",
      "/home/xing/Share/Projects/Sanmed/cell_seg/Data/20201020/valid/640370_640578_10000/masks/mask_95_1.png\n",
      "96\n",
      "(2048, 2448)\n",
      "70.0\n",
      "/home/xing/Share/Projects/Sanmed/cell_seg/Data/20201020/valid/640370_640578_10000/masks/mask_96_0.png\n",
      "97\n",
      "(2048, 2448)\n",
      "80.0\n",
      "/home/xing/Share/Projects/Sanmed/cell_seg/Data/20201020/valid/640370_640578_10000/masks/mask_97_0.png\n",
      "98\n",
      "(2048, 2448)\n",
      "61.5\n",
      "/home/xing/Share/Projects/Sanmed/cell_seg/Data/20201020/valid/640370_640578_10000/masks/mask_98_0.png\n"
     ]
    },
    {
     "name": "stderr",
     "output_type": "stream",
     "text": [
      "\r",
      " 27%|██▋       | 27/101 [00:01<00:04, 16.40it/s]"
     ]
    },
    {
     "name": "stdout",
     "output_type": "stream",
     "text": [
      "100\n",
      "(2048, 2448)\n",
      "102.5\n",
      "/home/xing/Share/Projects/Sanmed/cell_seg/Data/20201020/valid/640370_640578_10000/masks/mask_100_0.png\n",
      "105.5\n",
      "/home/xing/Share/Projects/Sanmed/cell_seg/Data/20201020/valid/640370_640578_10000/masks/mask_100_1.png\n",
      "101\n",
      "(2048, 2448)\n",
      "117.5\n",
      "/home/xing/Share/Projects/Sanmed/cell_seg/Data/20201020/valid/640370_640578_10000/masks/mask_101_0.png\n",
      "103\n",
      "(2048, 2448)\n",
      "148.0\n",
      "/home/xing/Share/Projects/Sanmed/cell_seg/Data/20201020/valid/640370_640578_10000/masks/mask_103_0.png\n",
      "104\n",
      "(2048, 2448)\n",
      "100.0\n",
      "/home/xing/Share/Projects/Sanmed/cell_seg/Data/20201020/valid/640370_640578_10000/masks/mask_104_0.png\n"
     ]
    },
    {
     "name": "stderr",
     "output_type": "stream",
     "text": [
      " 33%|███▎      | 33/101 [00:01<00:03, 18.26it/s]"
     ]
    },
    {
     "name": "stdout",
     "output_type": "stream",
     "text": [
      "105\n",
      "(2048, 2448)\n",
      "77.5\n",
      "/home/xing/Share/Projects/Sanmed/cell_seg/Data/20201020/valid/640370_640578_10000/masks/mask_105_0.png\n",
      "106\n",
      "(2048, 2448)\n",
      "59.5\n",
      "/home/xing/Share/Projects/Sanmed/cell_seg/Data/20201020/valid/640370_640578_10000/masks/mask_106_0.png\n",
      "108\n",
      "(2048, 2448)\n",
      "114.0\n",
      "/home/xing/Share/Projects/Sanmed/cell_seg/Data/20201020/valid/640370_640578_10000/masks/mask_108_0.png\n",
      "109\n",
      "(2048, 2448)\n",
      "108.5\n",
      "/home/xing/Share/Projects/Sanmed/cell_seg/Data/20201020/valid/640370_640578_10000/masks/mask_109_0.png\n",
      "110\n",
      "(2048, 2448)\n",
      "158.5\n"
     ]
    },
    {
     "name": "stderr",
     "output_type": "stream",
     "text": [
      "\r",
      " 36%|███▌      | 36/101 [00:02<00:03, 17.43it/s]"
     ]
    },
    {
     "name": "stdout",
     "output_type": "stream",
     "text": [
      "/home/xing/Share/Projects/Sanmed/cell_seg/Data/20201020/valid/640370_640578_10000/masks/mask_110_0.png\n",
      "111\n",
      "(2048, 2448)\n",
      "91.0\n",
      "/home/xing/Share/Projects/Sanmed/cell_seg/Data/20201020/valid/640370_640578_10000/masks/mask_111_0.png\n",
      "118.0\n",
      "/home/xing/Share/Projects/Sanmed/cell_seg/Data/20201020/valid/640370_640578_10000/masks/mask_111_1.png\n",
      "112\n",
      "(2048, 2448)\n",
      "85.5\n",
      "/home/xing/Share/Projects/Sanmed/cell_seg/Data/20201020/valid/640370_640578_10000/masks/mask_112_0.png\n",
      "116\n",
      "(2048, 2448)\n",
      "120.0\n",
      "/home/xing/Share/Projects/Sanmed/cell_seg/Data/20201020/valid/640370_640578_10000/masks/mask_116_0.png\n"
     ]
    },
    {
     "name": "stderr",
     "output_type": "stream",
     "text": [
      " 42%|████▏     | 42/101 [00:02<00:02, 19.77it/s]"
     ]
    },
    {
     "name": "stdout",
     "output_type": "stream",
     "text": [
      "123\n",
      "(2048, 2448)\n",
      "84.5\n",
      "/home/xing/Share/Projects/Sanmed/cell_seg/Data/20201020/valid/640370_640578_10000/masks/mask_123_0.png\n",
      "124\n",
      "(2048, 2448)\n",
      "193.0\n",
      "/home/xing/Share/Projects/Sanmed/cell_seg/Data/20201020/valid/640370_640578_10000/masks/mask_124_0.png\n",
      "127\n",
      "(2048, 2448)\n",
      "104.5\n",
      "/home/xing/Share/Projects/Sanmed/cell_seg/Data/20201020/valid/640370_640578_10000/masks/mask_127_0.png\n",
      "131\n",
      "(2048, 2448)\n",
      "85.0\n",
      "/home/xing/Share/Projects/Sanmed/cell_seg/Data/20201020/valid/640370_640578_10000/masks/mask_131_0.png\n",
      "133\n",
      "(2048, 2448)\n",
      "86.0\n",
      "/home/xing/Share/Projects/Sanmed/cell_seg/Data/20201020/valid/640370_640578_10000/masks/mask_133_0.png\n"
     ]
    },
    {
     "name": "stderr",
     "output_type": "stream",
     "text": [
      "\r",
      " 45%|████▍     | 45/101 [00:02<00:02, 19.40it/s]"
     ]
    },
    {
     "name": "stdout",
     "output_type": "stream",
     "text": [
      "134\n",
      "(2048, 2448)\n",
      "118.0\n",
      "/home/xing/Share/Projects/Sanmed/cell_seg/Data/20201020/valid/640370_640578_10000/masks/mask_134_0.png\n",
      "135\n",
      "(2048, 2448)\n",
      "96.0\n",
      "/home/xing/Share/Projects/Sanmed/cell_seg/Data/20201020/valid/640370_640578_10000/masks/mask_135_0.png\n",
      "120.0\n",
      "/home/xing/Share/Projects/Sanmed/cell_seg/Data/20201020/valid/640370_640578_10000/masks/mask_135_1.png\n",
      "136\n",
      "(2048, 2448)\n",
      "153.0\n",
      "/home/xing/Share/Projects/Sanmed/cell_seg/Data/20201020/valid/640370_640578_10000/masks/mask_136_0.png\n",
      "123.5\n",
      "/home/xing/Share/Projects/Sanmed/cell_seg/Data/20201020/valid/640370_640578_10000/masks/mask_136_1.png\n",
      "139\n",
      "(2048, 2448)\n"
     ]
    },
    {
     "name": "stderr",
     "output_type": "stream",
     "text": [
      " 49%|████▊     | 49/101 [00:02<00:02, 17.78it/s]"
     ]
    },
    {
     "name": "stdout",
     "output_type": "stream",
     "text": [
      "188.0\n",
      "/home/xing/Share/Projects/Sanmed/cell_seg/Data/20201020/valid/640370_640578_10000/masks/mask_139_0.png\n",
      "140\n",
      "(2048, 2448)\n",
      "196.5\n",
      "/home/xing/Share/Projects/Sanmed/cell_seg/Data/20201020/valid/640370_640578_10000/masks/mask_140_0.png\n",
      "248.0\n",
      "/home/xing/Share/Projects/Sanmed/cell_seg/Data/20201020/valid/640370_640578_10000/masks/mask_140_1.png\n",
      "141\n",
      "(2048, 2448)\n",
      "205.5\n",
      "/home/xing/Share/Projects/Sanmed/cell_seg/Data/20201020/valid/640370_640578_10000/masks/mask_141_0.png\n",
      "142\n",
      "(2048, 2448)\n",
      "76.5\n",
      "/home/xing/Share/Projects/Sanmed/cell_seg/Data/20201020/valid/640370_640578_10000/masks/mask_142_0.png\n"
     ]
    },
    {
     "name": "stderr",
     "output_type": "stream",
     "text": [
      "\r",
      " 50%|█████     | 51/101 [00:02<00:03, 15.81it/s]"
     ]
    },
    {
     "name": "stdout",
     "output_type": "stream",
     "text": [
      "143\n",
      "(2048, 2448)\n",
      "50.0\n",
      "/home/xing/Share/Projects/Sanmed/cell_seg/Data/20201020/valid/640370_640578_10000/masks/mask_143_0.png\n",
      "277.0\n",
      "/home/xing/Share/Projects/Sanmed/cell_seg/Data/20201020/valid/640370_640578_10000/masks/mask_143_1.png\n",
      "191.5\n",
      "/home/xing/Share/Projects/Sanmed/cell_seg/Data/20201020/valid/640370_640578_10000/masks/mask_143_2.png\n",
      "144\n",
      "(2048, 2448)\n",
      "118.5\n",
      "/home/xing/Share/Projects/Sanmed/cell_seg/Data/20201020/valid/640370_640578_10000/masks/mask_144_0.png\n",
      "145\n",
      "(2048, 2448)\n",
      "98.5\n",
      "/home/xing/Share/Projects/Sanmed/cell_seg/Data/20201020/valid/640370_640578_10000/masks/mask_145_0.png\n",
      "146\n",
      "(2048, 2448)\n"
     ]
    },
    {
     "name": "stderr",
     "output_type": "stream",
     "text": [
      " 55%|█████▌    | 56/101 [00:03<00:02, 16.56it/s]"
     ]
    },
    {
     "name": "stdout",
     "output_type": "stream",
     "text": [
      "68.5\n",
      "/home/xing/Share/Projects/Sanmed/cell_seg/Data/20201020/valid/640370_640578_10000/masks/mask_146_0.png\n",
      "79.5\n",
      "/home/xing/Share/Projects/Sanmed/cell_seg/Data/20201020/valid/640370_640578_10000/masks/mask_146_1.png\n",
      "148\n",
      "(2048, 2448)\n",
      "88.5\n",
      "/home/xing/Share/Projects/Sanmed/cell_seg/Data/20201020/valid/640370_640578_10000/masks/mask_148_0.png\n",
      "132.5\n",
      "/home/xing/Share/Projects/Sanmed/cell_seg/Data/20201020/valid/640370_640578_10000/masks/mask_148_1.png\n",
      "149\n",
      "(2048, 2448)\n",
      "64.5\n",
      "/home/xing/Share/Projects/Sanmed/cell_seg/Data/20201020/valid/640370_640578_10000/masks/mask_149_0.png\n",
      "151\n",
      "(2048, 2448)\n",
      "119.5\n"
     ]
    },
    {
     "name": "stderr",
     "output_type": "stream",
     "text": [
      "\r",
      " 57%|█████▋    | 58/101 [00:03<00:02, 16.50it/s]"
     ]
    },
    {
     "name": "stdout",
     "output_type": "stream",
     "text": [
      "/home/xing/Share/Projects/Sanmed/cell_seg/Data/20201020/valid/640370_640578_10000/masks/mask_151_0.png\n",
      "191.5\n",
      "/home/xing/Share/Projects/Sanmed/cell_seg/Data/20201020/valid/640370_640578_10000/masks/mask_151_1.png\n",
      "153\n",
      "(2048, 2448)\n",
      "126.5\n",
      "/home/xing/Share/Projects/Sanmed/cell_seg/Data/20201020/valid/640370_640578_10000/masks/mask_153_0.png\n",
      "155\n",
      "(2048, 2448)\n",
      "98.0\n",
      "/home/xing/Share/Projects/Sanmed/cell_seg/Data/20201020/valid/640370_640578_10000/masks/mask_155_0.png\n",
      "158\n",
      "(2048, 2448)\n",
      "105.0\n",
      "/home/xing/Share/Projects/Sanmed/cell_seg/Data/20201020/valid/640370_640578_10000/masks/mask_158_0.png\n",
      "159\n",
      "(2048, 2448)\n",
      "200.0\n"
     ]
    },
    {
     "name": "stderr",
     "output_type": "stream",
     "text": [
      " 63%|██████▎   | 64/101 [00:03<00:02, 18.28it/s]"
     ]
    },
    {
     "name": "stdout",
     "output_type": "stream",
     "text": [
      "/home/xing/Share/Projects/Sanmed/cell_seg/Data/20201020/valid/640370_640578_10000/masks/mask_159_0.png\n",
      "160\n",
      "(2048, 2448)\n",
      "122.5\n",
      "/home/xing/Share/Projects/Sanmed/cell_seg/Data/20201020/valid/640370_640578_10000/masks/mask_160_0.png\n",
      "163\n",
      "(2048, 2448)\n",
      "84.5\n",
      "/home/xing/Share/Projects/Sanmed/cell_seg/Data/20201020/valid/640370_640578_10000/masks/mask_163_0.png\n",
      "166\n",
      "(2048, 2448)\n",
      "143.5\n",
      "/home/xing/Share/Projects/Sanmed/cell_seg/Data/20201020/valid/640370_640578_10000/masks/mask_166_0.png\n",
      "132.5\n",
      "/home/xing/Share/Projects/Sanmed/cell_seg/Data/20201020/valid/640370_640578_10000/masks/mask_166_1.png\n",
      "169\n",
      "(2048, 2448)\n",
      "75.0\n"
     ]
    },
    {
     "name": "stderr",
     "output_type": "stream",
     "text": [
      "\r",
      " 65%|██████▌   | 66/101 [00:03<00:01, 17.57it/s]"
     ]
    },
    {
     "name": "stdout",
     "output_type": "stream",
     "text": [
      "/home/xing/Share/Projects/Sanmed/cell_seg/Data/20201020/valid/640370_640578_10000/masks/mask_169_0.png\n",
      "171\n",
      "(2048, 2448)\n",
      "83.0\n",
      "/home/xing/Share/Projects/Sanmed/cell_seg/Data/20201020/valid/640370_640578_10000/masks/mask_171_0.png\n",
      "47.0\n",
      "/home/xing/Share/Projects/Sanmed/cell_seg/Data/20201020/valid/640370_640578_10000/masks/mask_171_1.png\n",
      "172\n",
      "(2048, 2448)\n",
      "107.0\n",
      "/home/xing/Share/Projects/Sanmed/cell_seg/Data/20201020/valid/640370_640578_10000/masks/mask_172_0.png\n",
      "174\n",
      "(2048, 2448)\n",
      "171.0\n",
      "/home/xing/Share/Projects/Sanmed/cell_seg/Data/20201020/valid/640370_640578_10000/masks/mask_174_0.png\n",
      "180\n",
      "(2048, 2448)\n",
      "144.5\n"
     ]
    },
    {
     "name": "stderr",
     "output_type": "stream",
     "text": [
      " 70%|███████   | 71/101 [00:03<00:01, 18.05it/s]"
     ]
    },
    {
     "name": "stdout",
     "output_type": "stream",
     "text": [
      "/home/xing/Share/Projects/Sanmed/cell_seg/Data/20201020/valid/640370_640578_10000/masks/mask_180_0.png\n",
      "181\n",
      "(2048, 2448)\n",
      "96.5\n",
      "/home/xing/Share/Projects/Sanmed/cell_seg/Data/20201020/valid/640370_640578_10000/masks/mask_181_0.png\n",
      "182\n",
      "(2048, 2448)\n",
      "86.5\n",
      "/home/xing/Share/Projects/Sanmed/cell_seg/Data/20201020/valid/640370_640578_10000/masks/mask_182_0.png\n",
      "135.0\n",
      "/home/xing/Share/Projects/Sanmed/cell_seg/Data/20201020/valid/640370_640578_10000/masks/mask_182_1.png\n",
      "183\n",
      "(2048, 2448)\n",
      "120.0\n",
      "/home/xing/Share/Projects/Sanmed/cell_seg/Data/20201020/valid/640370_640578_10000/masks/mask_183_0.png\n",
      "185\n",
      "(2048, 2448)\n",
      "105.5\n"
     ]
    },
    {
     "name": "stderr",
     "output_type": "stream",
     "text": [
      "\r",
      " 73%|███████▎  | 74/101 [00:04<00:01, 19.37it/s]"
     ]
    },
    {
     "name": "stdout",
     "output_type": "stream",
     "text": [
      "/home/xing/Share/Projects/Sanmed/cell_seg/Data/20201020/valid/640370_640578_10000/masks/mask_185_0.png\n",
      "189\n",
      "(2048, 2448)\n",
      "98.5\n",
      "/home/xing/Share/Projects/Sanmed/cell_seg/Data/20201020/valid/640370_640578_10000/masks/mask_189_0.png\n",
      "195\n",
      "(2048, 2448)\n",
      "115.0\n",
      "/home/xing/Share/Projects/Sanmed/cell_seg/Data/20201020/valid/640370_640578_10000/masks/mask_195_0.png\n",
      "199\n",
      "(2048, 2448)\n",
      "96.0\n",
      "/home/xing/Share/Projects/Sanmed/cell_seg/Data/20201020/valid/640370_640578_10000/masks/mask_199_0.png\n",
      "93.0\n",
      "/home/xing/Share/Projects/Sanmed/cell_seg/Data/20201020/valid/640370_640578_10000/masks/mask_199_1.png\n",
      "200\n",
      "(2048, 2448)\n",
      "96.5\n"
     ]
    },
    {
     "name": "stderr",
     "output_type": "stream",
     "text": [
      " 78%|███████▊  | 79/101 [00:04<00:01, 18.26it/s]"
     ]
    },
    {
     "name": "stdout",
     "output_type": "stream",
     "text": [
      "/home/xing/Share/Projects/Sanmed/cell_seg/Data/20201020/valid/640370_640578_10000/masks/mask_200_0.png\n",
      "202\n",
      "(2048, 2448)\n",
      "140.0\n",
      "/home/xing/Share/Projects/Sanmed/cell_seg/Data/20201020/valid/640370_640578_10000/masks/mask_202_0.png\n",
      "134.5\n",
      "/home/xing/Share/Projects/Sanmed/cell_seg/Data/20201020/valid/640370_640578_10000/masks/mask_202_1.png\n",
      "203\n",
      "(2048, 2448)\n",
      "86.0\n",
      "/home/xing/Share/Projects/Sanmed/cell_seg/Data/20201020/valid/640370_640578_10000/masks/mask_203_0.png\n",
      "204\n",
      "(2048, 2448)\n",
      "111.0\n",
      "/home/xing/Share/Projects/Sanmed/cell_seg/Data/20201020/valid/640370_640578_10000/masks/mask_204_0.png\n",
      "206\n",
      "(2048, 2448)\n",
      "119.0\n"
     ]
    },
    {
     "name": "stderr",
     "output_type": "stream",
     "text": [
      "\r",
      " 81%|████████  | 82/101 [00:04<00:01, 18.35it/s]"
     ]
    },
    {
     "name": "stdout",
     "output_type": "stream",
     "text": [
      "/home/xing/Share/Projects/Sanmed/cell_seg/Data/20201020/valid/640370_640578_10000/masks/mask_206_0.png\n",
      "209\n",
      "(2048, 2448)\n",
      "102.5\n",
      "/home/xing/Share/Projects/Sanmed/cell_seg/Data/20201020/valid/640370_640578_10000/masks/mask_209_0.png\n",
      "145.5\n",
      "/home/xing/Share/Projects/Sanmed/cell_seg/Data/20201020/valid/640370_640578_10000/masks/mask_209_1.png\n",
      "211\n",
      "(2048, 2448)\n",
      "87.0\n",
      "/home/xing/Share/Projects/Sanmed/cell_seg/Data/20201020/valid/640370_640578_10000/masks/mask_211_0.png\n",
      "106.0\n",
      "/home/xing/Share/Projects/Sanmed/cell_seg/Data/20201020/valid/640370_640578_10000/masks/mask_211_1.png\n",
      "213\n",
      "(2048, 2448)\n",
      "75.0\n",
      "/home/xing/Share/Projects/Sanmed/cell_seg/Data/20201020/valid/640370_640578_10000/masks/mask_213_0.png\n"
     ]
    },
    {
     "name": "stderr",
     "output_type": "stream",
     "text": [
      " 85%|████████▌ | 86/101 [00:04<00:00, 15.84it/s]"
     ]
    },
    {
     "name": "stdout",
     "output_type": "stream",
     "text": [
      "214\n",
      "(2048, 2448)\n",
      "203.5\n",
      "/home/xing/Share/Projects/Sanmed/cell_seg/Data/20201020/valid/640370_640578_10000/masks/mask_214_0.png\n",
      "126.5\n",
      "/home/xing/Share/Projects/Sanmed/cell_seg/Data/20201020/valid/640370_640578_10000/masks/mask_214_1.png\n",
      "215\n",
      "(2048, 2448)\n",
      "101.0\n",
      "/home/xing/Share/Projects/Sanmed/cell_seg/Data/20201020/valid/640370_640578_10000/masks/mask_215_0.png\n",
      "151.5\n",
      "/home/xing/Share/Projects/Sanmed/cell_seg/Data/20201020/valid/640370_640578_10000/masks/mask_215_1.png\n",
      "216\n",
      "(2048, 2448)\n",
      "89.0\n",
      "/home/xing/Share/Projects/Sanmed/cell_seg/Data/20201020/valid/640370_640578_10000/masks/mask_216_0.png\n",
      "219\n",
      "(2048, 2448)\n"
     ]
    },
    {
     "name": "stderr",
     "output_type": "stream",
     "text": [
      "\r",
      " 88%|████████▊ | 89/101 [00:04<00:00, 16.37it/s]"
     ]
    },
    {
     "name": "stdout",
     "output_type": "stream",
     "text": [
      "112.5\n",
      "/home/xing/Share/Projects/Sanmed/cell_seg/Data/20201020/valid/640370_640578_10000/masks/mask_219_0.png\n",
      "223\n",
      "(2048, 2448)\n",
      "176.0\n",
      "/home/xing/Share/Projects/Sanmed/cell_seg/Data/20201020/valid/640370_640578_10000/masks/mask_223_0.png\n",
      "131.5\n",
      "/home/xing/Share/Projects/Sanmed/cell_seg/Data/20201020/valid/640370_640578_10000/masks/mask_223_1.png\n",
      "226\n",
      "(2048, 2448)\n",
      "73.5\n",
      "/home/xing/Share/Projects/Sanmed/cell_seg/Data/20201020/valid/640370_640578_10000/masks/mask_226_0.png\n",
      "228\n",
      "(2048, 2448)\n",
      "91.0\n",
      "/home/xing/Share/Projects/Sanmed/cell_seg/Data/20201020/valid/640370_640578_10000/masks/mask_228_0.png\n"
     ]
    },
    {
     "name": "stderr",
     "output_type": "stream",
     "text": [
      " 92%|█████████▏| 93/101 [00:05<00:00, 16.26it/s]"
     ]
    },
    {
     "name": "stdout",
     "output_type": "stream",
     "text": [
      "112.0\n",
      "/home/xing/Share/Projects/Sanmed/cell_seg/Data/20201020/valid/640370_640578_10000/masks/mask_228_1.png\n",
      "229\n",
      "(2048, 2448)\n",
      "225.0\n",
      "/home/xing/Share/Projects/Sanmed/cell_seg/Data/20201020/valid/640370_640578_10000/masks/mask_229_0.png\n",
      "234\n",
      "(2048, 2448)\n",
      "119.0\n",
      "/home/xing/Share/Projects/Sanmed/cell_seg/Data/20201020/valid/640370_640578_10000/masks/mask_234_0.png\n",
      "67.5\n",
      "/home/xing/Share/Projects/Sanmed/cell_seg/Data/20201020/valid/640370_640578_10000/masks/mask_234_1.png\n",
      "236\n",
      "(2048, 2448)\n",
      "128.5\n",
      "/home/xing/Share/Projects/Sanmed/cell_seg/Data/20201020/valid/640370_640578_10000/masks/mask_236_0.png\n"
     ]
    },
    {
     "name": "stderr",
     "output_type": "stream",
     "text": [
      "\r",
      " 94%|█████████▍| 95/101 [00:05<00:00, 12.84it/s]"
     ]
    },
    {
     "name": "stdout",
     "output_type": "stream",
     "text": [
      "92.5\n",
      "/home/xing/Share/Projects/Sanmed/cell_seg/Data/20201020/valid/640370_640578_10000/masks/mask_236_1.png\n",
      "93.0\n",
      "/home/xing/Share/Projects/Sanmed/cell_seg/Data/20201020/valid/640370_640578_10000/masks/mask_236_2.png\n",
      "238\n",
      "(2048, 2448)\n",
      "130.5\n",
      "/home/xing/Share/Projects/Sanmed/cell_seg/Data/20201020/valid/640370_640578_10000/masks/mask_238_0.png\n",
      "143.0\n",
      "/home/xing/Share/Projects/Sanmed/cell_seg/Data/20201020/valid/640370_640578_10000/masks/mask_238_1.png\n",
      "136.0\n",
      "/home/xing/Share/Projects/Sanmed/cell_seg/Data/20201020/valid/640370_640578_10000/masks/mask_238_2.png\n",
      "239\n",
      "(2048, 2448)\n",
      "70.5\n"
     ]
    },
    {
     "name": "stderr",
     "output_type": "stream",
     "text": [
      "\r",
      " 96%|█████████▌| 97/101 [00:05<00:00, 13.74it/s]"
     ]
    },
    {
     "name": "stdout",
     "output_type": "stream",
     "text": [
      "/home/xing/Share/Projects/Sanmed/cell_seg/Data/20201020/valid/640370_640578_10000/masks/mask_239_0.png\n",
      "227.5\n",
      "/home/xing/Share/Projects/Sanmed/cell_seg/Data/20201020/valid/640370_640578_10000/masks/mask_239_1.png\n",
      "241\n",
      "(2048, 2448)\n",
      "172.0\n",
      "/home/xing/Share/Projects/Sanmed/cell_seg/Data/20201020/valid/640370_640578_10000/masks/mask_241_0.png\n",
      "242\n",
      "(2048, 2448)\n",
      "114.0\n",
      "/home/xing/Share/Projects/Sanmed/cell_seg/Data/20201020/valid/640370_640578_10000/masks/mask_242_0.png\n",
      "245\n",
      "(2048, 2448)\n",
      "70.0\n",
      "/home/xing/Share/Projects/Sanmed/cell_seg/Data/20201020/valid/640370_640578_10000/masks/mask_245_0.png\n",
      "110.0\n"
     ]
    },
    {
     "name": "stderr",
     "output_type": "stream",
     "text": [
      "100%|██████████| 101/101 [00:05<00:00, 17.51it/s]"
     ]
    },
    {
     "name": "stdout",
     "output_type": "stream",
     "text": [
      "/home/xing/Share/Projects/Sanmed/cell_seg/Data/20201020/valid/640370_640578_10000/masks/mask_245_1.png\n",
      "248\n",
      "(2048, 2448)\n",
      "84.5\n",
      "/home/xing/Share/Projects/Sanmed/cell_seg/Data/20201020/valid/640370_640578_10000/masks/mask_248_0.png\n",
      "249\n",
      "(2048, 2448)\n",
      "184.5\n",
      "/home/xing/Share/Projects/Sanmed/cell_seg/Data/20201020/valid/640370_640578_10000/masks/mask_249_0.png\n"
     ]
    },
    {
     "name": "stderr",
     "output_type": "stream",
     "text": [
      "\n",
      "  2%|▏         | 2/103 [00:00<00:06, 16.48it/s]"
     ]
    },
    {
     "name": "stdout",
     "output_type": "stream",
     "text": [
      "50\n",
      "(2048, 2448)\n",
      "147.5\n",
      "/home/xing/Share/Projects/Sanmed/cell_seg/Data/20201020/valid/663538_662116_10000/masks/mask_50_0.png\n",
      "384.5\n",
      "/home/xing/Share/Projects/Sanmed/cell_seg/Data/20201020/valid/663538_662116_10000/masks/mask_50_1.png\n",
      "51\n",
      "(2048, 2448)\n",
      "108.5\n",
      "/home/xing/Share/Projects/Sanmed/cell_seg/Data/20201020/valid/663538_662116_10000/masks/mask_51_0.png\n",
      "52\n",
      "(2048, 2448)\n",
      "125.0\n",
      "/home/xing/Share/Projects/Sanmed/cell_seg/Data/20201020/valid/663538_662116_10000/masks/mask_52_0.png\n",
      "53\n",
      "(2048, 2448)\n",
      "208.0\n",
      "/home/xing/Share/Projects/Sanmed/cell_seg/Data/20201020/valid/663538_662116_10000/masks/mask_53_0.png\n"
     ]
    },
    {
     "name": "stderr",
     "output_type": "stream",
     "text": [
      "\r",
      "  5%|▍         | 5/103 [00:00<00:05, 18.17it/s]"
     ]
    },
    {
     "name": "stdout",
     "output_type": "stream",
     "text": [
      "55\n",
      "(2048, 2448)\n",
      "119.0\n",
      "/home/xing/Share/Projects/Sanmed/cell_seg/Data/20201020/valid/663538_662116_10000/masks/mask_55_0.png\n",
      "56\n",
      "(2048, 2448)\n",
      "189.0\n",
      "/home/xing/Share/Projects/Sanmed/cell_seg/Data/20201020/valid/663538_662116_10000/masks/mask_56_0.png\n",
      "122.0\n",
      "/home/xing/Share/Projects/Sanmed/cell_seg/Data/20201020/valid/663538_662116_10000/masks/mask_56_1.png\n",
      "58\n",
      "(2048, 2448)\n",
      "59.5\n",
      "/home/xing/Share/Projects/Sanmed/cell_seg/Data/20201020/valid/663538_662116_10000/masks/mask_58_0.png\n",
      "127.5\n",
      "/home/xing/Share/Projects/Sanmed/cell_seg/Data/20201020/valid/663538_662116_10000/masks/mask_58_1.png\n"
     ]
    },
    {
     "name": "stderr",
     "output_type": "stream",
     "text": [
      "  9%|▊         | 9/103 [00:00<00:05, 15.68it/s]"
     ]
    },
    {
     "name": "stdout",
     "output_type": "stream",
     "text": [
      "59\n",
      "(2048, 2448)\n",
      "172.5\n",
      "/home/xing/Share/Projects/Sanmed/cell_seg/Data/20201020/valid/663538_662116_10000/masks/mask_59_0.png\n",
      "60\n",
      "(2048, 2448)\n",
      "165.0\n",
      "/home/xing/Share/Projects/Sanmed/cell_seg/Data/20201020/valid/663538_662116_10000/masks/mask_60_0.png\n",
      "211.0\n",
      "/home/xing/Share/Projects/Sanmed/cell_seg/Data/20201020/valid/663538_662116_10000/masks/mask_60_1.png\n",
      "62\n",
      "(2048, 2448)\n",
      "149.0\n",
      "/home/xing/Share/Projects/Sanmed/cell_seg/Data/20201020/valid/663538_662116_10000/masks/mask_62_0.png\n",
      "104.0\n",
      "/home/xing/Share/Projects/Sanmed/cell_seg/Data/20201020/valid/663538_662116_10000/masks/mask_62_1.png\n"
     ]
    },
    {
     "name": "stderr",
     "output_type": "stream",
     "text": [
      " 13%|█▎        | 13/103 [00:00<00:05, 15.75it/s]"
     ]
    },
    {
     "name": "stdout",
     "output_type": "stream",
     "text": [
      "64\n",
      "(2048, 2448)\n",
      "217.5\n",
      "/home/xing/Share/Projects/Sanmed/cell_seg/Data/20201020/valid/663538_662116_10000/masks/mask_64_0.png\n",
      "65\n",
      "(2048, 2448)\n",
      "99.0\n",
      "/home/xing/Share/Projects/Sanmed/cell_seg/Data/20201020/valid/663538_662116_10000/masks/mask_65_0.png\n",
      "70\n",
      "(2048, 2448)\n",
      "115.0\n",
      "/home/xing/Share/Projects/Sanmed/cell_seg/Data/20201020/valid/663538_662116_10000/masks/mask_70_0.png\n",
      "155.5\n",
      "/home/xing/Share/Projects/Sanmed/cell_seg/Data/20201020/valid/663538_662116_10000/masks/mask_70_1.png\n",
      "72\n",
      "(2048, 2448)\n",
      "170.0\n",
      "/home/xing/Share/Projects/Sanmed/cell_seg/Data/20201020/valid/663538_662116_10000/masks/mask_72_0.png\n"
     ]
    },
    {
     "name": "stderr",
     "output_type": "stream",
     "text": [
      "\r",
      " 15%|█▍        | 15/103 [00:00<00:05, 15.09it/s]"
     ]
    },
    {
     "name": "stdout",
     "output_type": "stream",
     "text": [
      "73\n",
      "(2048, 2448)\n",
      "134.5\n",
      "/home/xing/Share/Projects/Sanmed/cell_seg/Data/20201020/valid/663538_662116_10000/masks/mask_73_0.png\n",
      "163.0\n",
      "/home/xing/Share/Projects/Sanmed/cell_seg/Data/20201020/valid/663538_662116_10000/masks/mask_73_1.png\n",
      "74\n",
      "(2048, 2448)\n",
      "220.5\n",
      "/home/xing/Share/Projects/Sanmed/cell_seg/Data/20201020/valid/663538_662116_10000/masks/mask_74_0.png\n",
      "78\n",
      "(2048, 2448)\n",
      "122.5\n",
      "/home/xing/Share/Projects/Sanmed/cell_seg/Data/20201020/valid/663538_662116_10000/masks/mask_78_0.png\n"
     ]
    },
    {
     "name": "stderr",
     "output_type": "stream",
     "text": [
      " 18%|█▊        | 19/103 [00:01<00:05, 14.90it/s]"
     ]
    },
    {
     "name": "stdout",
     "output_type": "stream",
     "text": [
      "110.5\n",
      "/home/xing/Share/Projects/Sanmed/cell_seg/Data/20201020/valid/663538_662116_10000/masks/mask_78_1.png\n",
      "79\n",
      "(2048, 2448)\n",
      "188.5\n",
      "/home/xing/Share/Projects/Sanmed/cell_seg/Data/20201020/valid/663538_662116_10000/masks/mask_79_0.png\n",
      "81\n",
      "(2048, 2448)\n",
      "126.0\n",
      "/home/xing/Share/Projects/Sanmed/cell_seg/Data/20201020/valid/663538_662116_10000/masks/mask_81_0.png\n",
      "147.0\n",
      "/home/xing/Share/Projects/Sanmed/cell_seg/Data/20201020/valid/663538_662116_10000/masks/mask_81_1.png\n",
      "82\n",
      "(2048, 2448)\n",
      "98.0\n",
      "/home/xing/Share/Projects/Sanmed/cell_seg/Data/20201020/valid/663538_662116_10000/masks/mask_82_0.png\n"
     ]
    },
    {
     "name": "stderr",
     "output_type": "stream",
     "text": [
      "\r",
      " 21%|██▏       | 22/103 [00:01<00:04, 16.64it/s]"
     ]
    },
    {
     "name": "stdout",
     "output_type": "stream",
     "text": [
      "83\n",
      "(2048, 2448)\n",
      "127.0\n",
      "/home/xing/Share/Projects/Sanmed/cell_seg/Data/20201020/valid/663538_662116_10000/masks/mask_83_0.png\n",
      "85\n",
      "(2048, 2448)\n",
      "107.5\n",
      "/home/xing/Share/Projects/Sanmed/cell_seg/Data/20201020/valid/663538_662116_10000/masks/mask_85_0.png\n",
      "86\n",
      "(2048, 2448)\n",
      "108.0\n",
      "/home/xing/Share/Projects/Sanmed/cell_seg/Data/20201020/valid/663538_662116_10000/masks/mask_86_0.png\n",
      "87\n",
      "(2048, 2448)\n",
      "77.0\n",
      "/home/xing/Share/Projects/Sanmed/cell_seg/Data/20201020/valid/663538_662116_10000/masks/mask_87_0.png\n",
      "125.5\n",
      "/home/xing/Share/Projects/Sanmed/cell_seg/Data/20201020/valid/663538_662116_10000/masks/mask_87_1.png\n"
     ]
    },
    {
     "name": "stderr",
     "output_type": "stream",
     "text": [
      " 25%|██▌       | 26/103 [00:01<00:04, 15.53it/s]"
     ]
    },
    {
     "name": "stdout",
     "output_type": "stream",
     "text": [
      "131.0\n",
      "/home/xing/Share/Projects/Sanmed/cell_seg/Data/20201020/valid/663538_662116_10000/masks/mask_87_2.png\n",
      "89\n",
      "(2048, 2448)\n",
      "189.5\n",
      "/home/xing/Share/Projects/Sanmed/cell_seg/Data/20201020/valid/663538_662116_10000/masks/mask_89_0.png\n",
      "90\n",
      "(2048, 2448)\n",
      "94.5\n",
      "/home/xing/Share/Projects/Sanmed/cell_seg/Data/20201020/valid/663538_662116_10000/masks/mask_90_0.png\n",
      "112.0\n",
      "/home/xing/Share/Projects/Sanmed/cell_seg/Data/20201020/valid/663538_662116_10000/masks/mask_90_1.png\n",
      "92\n",
      "(2048, 2448)\n",
      "127.0\n",
      "/home/xing/Share/Projects/Sanmed/cell_seg/Data/20201020/valid/663538_662116_10000/masks/mask_92_0.png\n"
     ]
    },
    {
     "name": "stderr",
     "output_type": "stream",
     "text": [
      "\r",
      " 28%|██▊       | 29/103 [00:01<00:04, 17.32it/s]"
     ]
    },
    {
     "name": "stdout",
     "output_type": "stream",
     "text": [
      "94\n",
      "(2048, 2448)\n",
      "188.0\n",
      "/home/xing/Share/Projects/Sanmed/cell_seg/Data/20201020/valid/663538_662116_10000/masks/mask_94_0.png\n",
      "98\n",
      "(2048, 2448)\n",
      "153.0\n",
      "/home/xing/Share/Projects/Sanmed/cell_seg/Data/20201020/valid/663538_662116_10000/masks/mask_98_0.png\n",
      "99\n",
      "(2048, 2448)\n",
      "88.5\n",
      "/home/xing/Share/Projects/Sanmed/cell_seg/Data/20201020/valid/663538_662116_10000/masks/mask_99_0.png\n",
      "130.5\n",
      "/home/xing/Share/Projects/Sanmed/cell_seg/Data/20201020/valid/663538_662116_10000/masks/mask_99_1.png\n",
      "112.0\n",
      "/home/xing/Share/Projects/Sanmed/cell_seg/Data/20201020/valid/663538_662116_10000/masks/mask_99_2.png\n"
     ]
    },
    {
     "name": "stderr",
     "output_type": "stream",
     "text": [
      "\r",
      " 30%|███       | 31/103 [00:01<00:05, 13.22it/s]"
     ]
    },
    {
     "name": "stdout",
     "output_type": "stream",
     "text": [
      "103\n",
      "(2048, 2448)\n",
      "110.5\n",
      "/home/xing/Share/Projects/Sanmed/cell_seg/Data/20201020/valid/663538_662116_10000/masks/mask_103_0.png\n",
      "118.0\n",
      "/home/xing/Share/Projects/Sanmed/cell_seg/Data/20201020/valid/663538_662116_10000/masks/mask_103_1.png\n",
      "95.0\n",
      "/home/xing/Share/Projects/Sanmed/cell_seg/Data/20201020/valid/663538_662116_10000/masks/mask_103_2.png\n",
      "104\n",
      "(2048, 2448)\n",
      "119.5\n",
      "/home/xing/Share/Projects/Sanmed/cell_seg/Data/20201020/valid/663538_662116_10000/masks/mask_104_0.png\n",
      "105\n",
      "(2048, 2448)\n",
      "108.0\n",
      "/home/xing/Share/Projects/Sanmed/cell_seg/Data/20201020/valid/663538_662116_10000/masks/mask_105_0.png\n"
     ]
    },
    {
     "name": "stderr",
     "output_type": "stream",
     "text": [
      "\r",
      " 32%|███▏      | 33/103 [00:02<00:05, 13.88it/s]"
     ]
    },
    {
     "name": "stdout",
     "output_type": "stream",
     "text": [
      "99.0\n",
      "/home/xing/Share/Projects/Sanmed/cell_seg/Data/20201020/valid/663538_662116_10000/masks/mask_105_1.png\n",
      "109\n",
      "(2048, 2448)\n",
      "139.5\n",
      "/home/xing/Share/Projects/Sanmed/cell_seg/Data/20201020/valid/663538_662116_10000/masks/mask_109_0.png\n",
      "111\n",
      "(2048, 2448)\n",
      "81.0\n",
      "/home/xing/Share/Projects/Sanmed/cell_seg/Data/20201020/valid/663538_662116_10000/masks/mask_111_0.png\n",
      "114\n",
      "(2048, 2448)\n",
      "126.0\n",
      "/home/xing/Share/Projects/Sanmed/cell_seg/Data/20201020/valid/663538_662116_10000/masks/mask_114_0.png\n",
      "133.5\n",
      "/home/xing/Share/Projects/Sanmed/cell_seg/Data/20201020/valid/663538_662116_10000/masks/mask_114_1.png\n"
     ]
    },
    {
     "name": "stderr",
     "output_type": "stream",
     "text": [
      " 38%|███▊      | 39/103 [00:02<00:04, 15.80it/s]"
     ]
    },
    {
     "name": "stdout",
     "output_type": "stream",
     "text": [
      "116\n",
      "(2048, 2448)\n",
      "90.5\n",
      "/home/xing/Share/Projects/Sanmed/cell_seg/Data/20201020/valid/663538_662116_10000/masks/mask_116_0.png\n",
      "117\n",
      "(2048, 2448)\n",
      "115.0\n",
      "/home/xing/Share/Projects/Sanmed/cell_seg/Data/20201020/valid/663538_662116_10000/masks/mask_117_0.png\n",
      "118\n",
      "(2048, 2448)\n",
      "384.0\n",
      "/home/xing/Share/Projects/Sanmed/cell_seg/Data/20201020/valid/663538_662116_10000/masks/mask_118_0.png\n",
      "105.5\n",
      "/home/xing/Share/Projects/Sanmed/cell_seg/Data/20201020/valid/663538_662116_10000/masks/mask_118_1.png\n",
      "122\n",
      "(2048, 2448)\n",
      "97.5\n",
      "/home/xing/Share/Projects/Sanmed/cell_seg/Data/20201020/valid/663538_662116_10000/masks/mask_122_0.png\n"
     ]
    },
    {
     "name": "stderr",
     "output_type": "stream",
     "text": [
      "\r",
      " 41%|████      | 42/103 [00:02<00:03, 17.55it/s]"
     ]
    },
    {
     "name": "stdout",
     "output_type": "stream",
     "text": [
      "126\n",
      "(2048, 2448)\n",
      "79.0\n",
      "/home/xing/Share/Projects/Sanmed/cell_seg/Data/20201020/valid/663538_662116_10000/masks/mask_126_0.png\n",
      "127\n",
      "(2048, 2448)\n",
      "223.5\n",
      "/home/xing/Share/Projects/Sanmed/cell_seg/Data/20201020/valid/663538_662116_10000/masks/mask_127_0.png\n",
      "132\n",
      "(2048, 2448)\n",
      "186.5\n",
      "/home/xing/Share/Projects/Sanmed/cell_seg/Data/20201020/valid/663538_662116_10000/masks/mask_132_0.png\n",
      "133\n",
      "(2048, 2448)\n",
      "162.5\n",
      "/home/xing/Share/Projects/Sanmed/cell_seg/Data/20201020/valid/663538_662116_10000/masks/mask_133_0.png\n",
      "135\n",
      "(2048, 2448)\n",
      "109.0\n",
      "/home/xing/Share/Projects/Sanmed/cell_seg/Data/20201020/valid/663538_662116_10000/masks/mask_135_0.png\n"
     ]
    },
    {
     "name": "stderr",
     "output_type": "stream",
     "text": [
      " 47%|████▋     | 48/103 [00:02<00:02, 18.84it/s]"
     ]
    },
    {
     "name": "stdout",
     "output_type": "stream",
     "text": [
      "136\n",
      "(2048, 2448)\n",
      "95.0\n",
      "/home/xing/Share/Projects/Sanmed/cell_seg/Data/20201020/valid/663538_662116_10000/masks/mask_136_0.png\n",
      "140\n",
      "(2048, 2448)\n",
      "138.5\n",
      "/home/xing/Share/Projects/Sanmed/cell_seg/Data/20201020/valid/663538_662116_10000/masks/mask_140_0.png\n",
      "129.0\n",
      "/home/xing/Share/Projects/Sanmed/cell_seg/Data/20201020/valid/663538_662116_10000/masks/mask_140_1.png\n",
      "142\n",
      "(2048, 2448)\n",
      "172.5\n",
      "/home/xing/Share/Projects/Sanmed/cell_seg/Data/20201020/valid/663538_662116_10000/masks/mask_142_0.png\n",
      "146\n",
      "(2048, 2448)\n",
      "208.5\n",
      "/home/xing/Share/Projects/Sanmed/cell_seg/Data/20201020/valid/663538_662116_10000/masks/mask_146_0.png\n"
     ]
    },
    {
     "name": "stderr",
     "output_type": "stream",
     "text": [
      "\r",
      " 49%|████▊     | 50/103 [00:02<00:02, 18.04it/s]"
     ]
    },
    {
     "name": "stdout",
     "output_type": "stream",
     "text": [
      "148\n",
      "(2048, 2448)\n",
      "105.5\n",
      "/home/xing/Share/Projects/Sanmed/cell_seg/Data/20201020/valid/663538_662116_10000/masks/mask_148_0.png\n",
      "83.0\n",
      "/home/xing/Share/Projects/Sanmed/cell_seg/Data/20201020/valid/663538_662116_10000/masks/mask_148_1.png\n",
      "149\n",
      "(2048, 2448)\n",
      "74.5\n",
      "/home/xing/Share/Projects/Sanmed/cell_seg/Data/20201020/valid/663538_662116_10000/masks/mask_149_0.png\n",
      "150\n",
      "(2048, 2448)\n",
      "115.0\n",
      "/home/xing/Share/Projects/Sanmed/cell_seg/Data/20201020/valid/663538_662116_10000/masks/mask_150_0.png\n",
      "153\n",
      "(2048, 2448)\n",
      "132.5\n",
      "/home/xing/Share/Projects/Sanmed/cell_seg/Data/20201020/valid/663538_662116_10000/masks/mask_153_0.png\n"
     ]
    },
    {
     "name": "stderr",
     "output_type": "stream",
     "text": [
      " 54%|█████▍    | 56/103 [00:03<00:02, 19.05it/s]"
     ]
    },
    {
     "name": "stdout",
     "output_type": "stream",
     "text": [
      "154\n",
      "(2048, 2448)\n",
      "217.0\n",
      "/home/xing/Share/Projects/Sanmed/cell_seg/Data/20201020/valid/663538_662116_10000/masks/mask_154_0.png\n",
      "155\n",
      "(2048, 2448)\n",
      "123.5\n",
      "/home/xing/Share/Projects/Sanmed/cell_seg/Data/20201020/valid/663538_662116_10000/masks/mask_155_0.png\n",
      "101.5\n",
      "/home/xing/Share/Projects/Sanmed/cell_seg/Data/20201020/valid/663538_662116_10000/masks/mask_155_1.png\n",
      "156\n",
      "(2048, 2448)\n",
      "81.0\n",
      "/home/xing/Share/Projects/Sanmed/cell_seg/Data/20201020/valid/663538_662116_10000/masks/mask_156_0.png\n",
      "160\n",
      "(2048, 2448)\n",
      "93.5\n",
      "/home/xing/Share/Projects/Sanmed/cell_seg/Data/20201020/valid/663538_662116_10000/masks/mask_160_0.png\n"
     ]
    },
    {
     "name": "stderr",
     "output_type": "stream",
     "text": [
      "\r",
      " 56%|█████▋    | 58/103 [00:03<00:02, 17.87it/s]"
     ]
    },
    {
     "name": "stdout",
     "output_type": "stream",
     "text": [
      "115.5\n",
      "/home/xing/Share/Projects/Sanmed/cell_seg/Data/20201020/valid/663538_662116_10000/masks/mask_160_1.png\n",
      "163\n",
      "(2048, 2448)\n",
      "137.0\n",
      "/home/xing/Share/Projects/Sanmed/cell_seg/Data/20201020/valid/663538_662116_10000/masks/mask_163_0.png\n",
      "164\n",
      "(2048, 2448)\n",
      "110.0\n",
      "/home/xing/Share/Projects/Sanmed/cell_seg/Data/20201020/valid/663538_662116_10000/masks/mask_164_0.png\n",
      "103.5\n",
      "/home/xing/Share/Projects/Sanmed/cell_seg/Data/20201020/valid/663538_662116_10000/masks/mask_164_1.png\n",
      "166\n",
      "(2048, 2448)\n",
      "102.5\n",
      "/home/xing/Share/Projects/Sanmed/cell_seg/Data/20201020/valid/663538_662116_10000/masks/mask_166_0.png\n"
     ]
    },
    {
     "name": "stderr",
     "output_type": "stream",
     "text": [
      " 60%|██████    | 62/103 [00:03<00:02, 16.64it/s]"
     ]
    },
    {
     "name": "stdout",
     "output_type": "stream",
     "text": [
      "167\n",
      "(2048, 2448)\n",
      "113.5\n",
      "/home/xing/Share/Projects/Sanmed/cell_seg/Data/20201020/valid/663538_662116_10000/masks/mask_167_0.png\n",
      "169\n",
      "(2048, 2448)\n",
      "137.0\n",
      "/home/xing/Share/Projects/Sanmed/cell_seg/Data/20201020/valid/663538_662116_10000/masks/mask_169_0.png\n",
      "77.0\n",
      "/home/xing/Share/Projects/Sanmed/cell_seg/Data/20201020/valid/663538_662116_10000/masks/mask_169_1.png\n",
      "170\n",
      "(2048, 2448)\n",
      "390.0\n",
      "/home/xing/Share/Projects/Sanmed/cell_seg/Data/20201020/valid/663538_662116_10000/masks/mask_170_0.png\n",
      "171\n",
      "(2048, 2448)\n",
      "95.5\n",
      "/home/xing/Share/Projects/Sanmed/cell_seg/Data/20201020/valid/663538_662116_10000/masks/mask_171_0.png\n"
     ]
    },
    {
     "name": "stderr",
     "output_type": "stream",
     "text": [
      " 66%|██████▌   | 68/103 [00:03<00:01, 19.34it/s]"
     ]
    },
    {
     "name": "stdout",
     "output_type": "stream",
     "text": [
      "174\n",
      "(2048, 2448)\n",
      "95.0\n",
      "/home/xing/Share/Projects/Sanmed/cell_seg/Data/20201020/valid/663538_662116_10000/masks/mask_174_0.png\n",
      "176\n",
      "(2048, 2448)\n",
      "116.0\n",
      "/home/xing/Share/Projects/Sanmed/cell_seg/Data/20201020/valid/663538_662116_10000/masks/mask_176_0.png\n",
      "177\n",
      "(2048, 2448)\n",
      "137.5\n",
      "/home/xing/Share/Projects/Sanmed/cell_seg/Data/20201020/valid/663538_662116_10000/masks/mask_177_0.png\n",
      "178\n",
      "(2048, 2448)\n",
      "100.0\n",
      "/home/xing/Share/Projects/Sanmed/cell_seg/Data/20201020/valid/663538_662116_10000/masks/mask_178_0.png\n",
      "179\n",
      "(2048, 2448)\n",
      "152.0\n",
      "/home/xing/Share/Projects/Sanmed/cell_seg/Data/20201020/valid/663538_662116_10000/masks/mask_179_0.png\n"
     ]
    },
    {
     "name": "stderr",
     "output_type": "stream",
     "text": [
      "\r",
      " 69%|██████▉   | 71/103 [00:04<00:01, 20.31it/s]"
     ]
    },
    {
     "name": "stdout",
     "output_type": "stream",
     "text": [
      "184\n",
      "(2048, 2448)\n",
      "84.5\n",
      "/home/xing/Share/Projects/Sanmed/cell_seg/Data/20201020/valid/663538_662116_10000/masks/mask_184_0.png\n",
      "187\n",
      "(2048, 2448)\n",
      "94.0\n",
      "/home/xing/Share/Projects/Sanmed/cell_seg/Data/20201020/valid/663538_662116_10000/masks/mask_187_0.png\n",
      "188\n",
      "(2048, 2448)\n",
      "49.5\n",
      "/home/xing/Share/Projects/Sanmed/cell_seg/Data/20201020/valid/663538_662116_10000/masks/mask_188_0.png\n",
      "193\n",
      "(2048, 2448)\n",
      "206.0\n",
      "/home/xing/Share/Projects/Sanmed/cell_seg/Data/20201020/valid/663538_662116_10000/masks/mask_193_0.png\n",
      "205.5\n",
      "/home/xing/Share/Projects/Sanmed/cell_seg/Data/20201020/valid/663538_662116_10000/masks/mask_193_1.png\n"
     ]
    },
    {
     "name": "stderr",
     "output_type": "stream",
     "text": [
      " 75%|███████▍  | 77/103 [00:04<00:01, 20.27it/s]"
     ]
    },
    {
     "name": "stdout",
     "output_type": "stream",
     "text": [
      "194\n",
      "(2048, 2448)\n",
      "118.0\n",
      "/home/xing/Share/Projects/Sanmed/cell_seg/Data/20201020/valid/663538_662116_10000/masks/mask_194_0.png\n",
      "196\n",
      "(2048, 2448)\n",
      "86.0\n",
      "/home/xing/Share/Projects/Sanmed/cell_seg/Data/20201020/valid/663538_662116_10000/masks/mask_196_0.png\n",
      "198\n",
      "(2048, 2448)\n",
      "103.5\n",
      "/home/xing/Share/Projects/Sanmed/cell_seg/Data/20201020/valid/663538_662116_10000/masks/mask_198_0.png\n",
      "200\n",
      "(2048, 2448)\n",
      "195.0\n",
      "/home/xing/Share/Projects/Sanmed/cell_seg/Data/20201020/valid/663538_662116_10000/masks/mask_200_0.png\n",
      "202\n",
      "(2048, 2448)\n",
      "108.5\n",
      "/home/xing/Share/Projects/Sanmed/cell_seg/Data/20201020/valid/663538_662116_10000/masks/mask_202_0.png\n"
     ]
    },
    {
     "name": "stderr",
     "output_type": "stream",
     "text": [
      "\r",
      " 78%|███████▊  | 80/103 [00:04<00:01, 18.23it/s]"
     ]
    },
    {
     "name": "stdout",
     "output_type": "stream",
     "text": [
      "203\n",
      "(2048, 2448)\n",
      "140.5\n",
      "/home/xing/Share/Projects/Sanmed/cell_seg/Data/20201020/valid/663538_662116_10000/masks/mask_203_0.png\n",
      "100.5\n",
      "/home/xing/Share/Projects/Sanmed/cell_seg/Data/20201020/valid/663538_662116_10000/masks/mask_203_1.png\n",
      "113.0\n",
      "/home/xing/Share/Projects/Sanmed/cell_seg/Data/20201020/valid/663538_662116_10000/masks/mask_203_2.png\n",
      "205\n",
      "(2048, 2448)\n",
      "261.5\n",
      "/home/xing/Share/Projects/Sanmed/cell_seg/Data/20201020/valid/663538_662116_10000/masks/mask_205_0.png\n",
      "208\n",
      "(2048, 2448)\n",
      "125.5\n",
      "/home/xing/Share/Projects/Sanmed/cell_seg/Data/20201020/valid/663538_662116_10000/masks/mask_208_0.png\n"
     ]
    },
    {
     "name": "stderr",
     "output_type": "stream",
     "text": [
      "\r",
      " 81%|████████  | 83/103 [00:04<00:01, 19.61it/s]"
     ]
    },
    {
     "name": "stdout",
     "output_type": "stream",
     "text": [
      "209\n",
      "(2048, 2448)\n",
      "178.0\n",
      "/home/xing/Share/Projects/Sanmed/cell_seg/Data/20201020/valid/663538_662116_10000/masks/mask_209_0.png\n",
      "210\n",
      "(2048, 2448)\n",
      "134.0\n",
      "/home/xing/Share/Projects/Sanmed/cell_seg/Data/20201020/valid/663538_662116_10000/masks/mask_210_0.png\n",
      "213\n",
      "(2048, 2448)\n",
      "115.0\n",
      "/home/xing/Share/Projects/Sanmed/cell_seg/Data/20201020/valid/663538_662116_10000/masks/mask_213_0.png\n",
      "214\n",
      "(2048, 2448)\n",
      "158.0\n",
      "/home/xing/Share/Projects/Sanmed/cell_seg/Data/20201020/valid/663538_662116_10000/masks/mask_214_0.png\n",
      "216\n",
      "(2048, 2448)\n",
      "138.0\n",
      "/home/xing/Share/Projects/Sanmed/cell_seg/Data/20201020/valid/663538_662116_10000/masks/mask_216_0.png\n"
     ]
    },
    {
     "name": "stderr",
     "output_type": "stream",
     "text": [
      " 85%|████████▌ | 88/103 [00:04<00:00, 17.57it/s]"
     ]
    },
    {
     "name": "stdout",
     "output_type": "stream",
     "text": [
      "129.5\n",
      "/home/xing/Share/Projects/Sanmed/cell_seg/Data/20201020/valid/663538_662116_10000/masks/mask_216_1.png\n",
      "126.0\n",
      "/home/xing/Share/Projects/Sanmed/cell_seg/Data/20201020/valid/663538_662116_10000/masks/mask_216_2.png\n",
      "218\n",
      "(2048, 2448)\n",
      "149.0\n",
      "/home/xing/Share/Projects/Sanmed/cell_seg/Data/20201020/valid/663538_662116_10000/masks/mask_218_0.png\n",
      "139.0\n",
      "/home/xing/Share/Projects/Sanmed/cell_seg/Data/20201020/valid/663538_662116_10000/masks/mask_218_1.png\n",
      "222\n",
      "(2048, 2448)\n",
      "137.0\n",
      "/home/xing/Share/Projects/Sanmed/cell_seg/Data/20201020/valid/663538_662116_10000/masks/mask_222_0.png\n",
      "224\n",
      "(2048, 2448)\n",
      "214.5\n"
     ]
    },
    {
     "name": "stderr",
     "output_type": "stream",
     "text": [
      "\r",
      " 87%|████████▋ | 90/103 [00:05<00:00, 17.22it/s]"
     ]
    },
    {
     "name": "stdout",
     "output_type": "stream",
     "text": [
      "/home/xing/Share/Projects/Sanmed/cell_seg/Data/20201020/valid/663538_662116_10000/masks/mask_224_0.png\n",
      "227\n",
      "(2048, 2448)\n",
      "128.0\n",
      "/home/xing/Share/Projects/Sanmed/cell_seg/Data/20201020/valid/663538_662116_10000/masks/mask_227_0.png\n",
      "131.0\n",
      "/home/xing/Share/Projects/Sanmed/cell_seg/Data/20201020/valid/663538_662116_10000/masks/mask_227_1.png\n",
      "230\n",
      "(2048, 2448)\n",
      "231.5\n",
      "/home/xing/Share/Projects/Sanmed/cell_seg/Data/20201020/valid/663538_662116_10000/masks/mask_230_0.png\n",
      "231\n",
      "(2048, 2448)\n",
      "91.0\n",
      "/home/xing/Share/Projects/Sanmed/cell_seg/Data/20201020/valid/663538_662116_10000/masks/mask_231_0.png\n",
      "232\n",
      "(2048, 2448)\n",
      "99.0\n"
     ]
    },
    {
     "name": "stderr",
     "output_type": "stream",
     "text": [
      "\r",
      " 90%|█████████ | 93/103 [00:05<00:00, 17.60it/s]"
     ]
    },
    {
     "name": "stdout",
     "output_type": "stream",
     "text": [
      "/home/xing/Share/Projects/Sanmed/cell_seg/Data/20201020/valid/663538_662116_10000/masks/mask_232_0.png\n",
      "88.0\n",
      "/home/xing/Share/Projects/Sanmed/cell_seg/Data/20201020/valid/663538_662116_10000/masks/mask_232_1.png\n",
      "235\n",
      "(2048, 2448)\n",
      "89.0\n",
      "/home/xing/Share/Projects/Sanmed/cell_seg/Data/20201020/valid/663538_662116_10000/masks/mask_235_0.png\n",
      "239\n",
      "(2048, 2448)\n",
      "137.0\n",
      "/home/xing/Share/Projects/Sanmed/cell_seg/Data/20201020/valid/663538_662116_10000/masks/mask_239_0.png\n",
      "240\n",
      "(2048, 2448)\n",
      "151.5\n",
      "/home/xing/Share/Projects/Sanmed/cell_seg/Data/20201020/valid/663538_662116_10000/masks/mask_240_0.png\n"
     ]
    },
    {
     "name": "stderr",
     "output_type": "stream",
     "text": [
      " 96%|█████████▌| 99/103 [00:05<00:00, 18.01it/s]"
     ]
    },
    {
     "name": "stdout",
     "output_type": "stream",
     "text": [
      "241\n",
      "(2048, 2448)\n",
      "87.5\n",
      "/home/xing/Share/Projects/Sanmed/cell_seg/Data/20201020/valid/663538_662116_10000/masks/mask_241_0.png\n",
      "242\n",
      "(2048, 2448)\n",
      "145.5\n",
      "/home/xing/Share/Projects/Sanmed/cell_seg/Data/20201020/valid/663538_662116_10000/masks/mask_242_0.png\n",
      "243\n",
      "(2048, 2448)\n",
      "245.5\n",
      "/home/xing/Share/Projects/Sanmed/cell_seg/Data/20201020/valid/663538_662116_10000/masks/mask_243_0.png\n",
      "93.0\n",
      "/home/xing/Share/Projects/Sanmed/cell_seg/Data/20201020/valid/663538_662116_10000/masks/mask_243_1.png\n",
      "244\n",
      "(2048, 2448)\n",
      "161.5\n",
      "/home/xing/Share/Projects/Sanmed/cell_seg/Data/20201020/valid/663538_662116_10000/masks/mask_244_0.png\n"
     ]
    },
    {
     "name": "stderr",
     "output_type": "stream",
     "text": [
      "100%|██████████| 103/103 [00:05<00:00, 17.69it/s]"
     ]
    },
    {
     "name": "stdout",
     "output_type": "stream",
     "text": [
      "246\n",
      "(2048, 2448)\n",
      "92.0\n",
      "/home/xing/Share/Projects/Sanmed/cell_seg/Data/20201020/valid/663538_662116_10000/masks/mask_246_0.png\n",
      "152.0\n",
      "/home/xing/Share/Projects/Sanmed/cell_seg/Data/20201020/valid/663538_662116_10000/masks/mask_246_1.png\n",
      "247\n",
      "(2048, 2448)\n",
      "116.5\n",
      "/home/xing/Share/Projects/Sanmed/cell_seg/Data/20201020/valid/663538_662116_10000/masks/mask_247_0.png\n",
      "248\n",
      "(2048, 2448)\n",
      "100.0\n",
      "/home/xing/Share/Projects/Sanmed/cell_seg/Data/20201020/valid/663538_662116_10000/masks/mask_248_0.png\n"
     ]
    },
    {
     "name": "stderr",
     "output_type": "stream",
     "text": [
      "\n",
      "  2%|▏         | 2/110 [00:00<00:06, 16.16it/s]"
     ]
    },
    {
     "name": "stdout",
     "output_type": "stream",
     "text": [
      "50\n",
      "(2048, 2448)\n",
      "107.0\n",
      "/home/xing/Share/Projects/Sanmed/cell_seg/Data/20201020/valid/658274_655590_10000/masks/mask_50_0.png\n",
      "51\n",
      "(2048, 2448)\n",
      "113.5\n",
      "/home/xing/Share/Projects/Sanmed/cell_seg/Data/20201020/valid/658274_655590_10000/masks/mask_51_0.png\n",
      "142.5\n",
      "/home/xing/Share/Projects/Sanmed/cell_seg/Data/20201020/valid/658274_655590_10000/masks/mask_51_1.png\n",
      "54\n",
      "(2048, 2448)\n",
      "83.5\n",
      "/home/xing/Share/Projects/Sanmed/cell_seg/Data/20201020/valid/658274_655590_10000/masks/mask_54_0.png\n",
      "55\n",
      "(2048, 2448)\n",
      "222.0\n",
      "/home/xing/Share/Projects/Sanmed/cell_seg/Data/20201020/valid/658274_655590_10000/masks/mask_55_0.png\n"
     ]
    },
    {
     "name": "stderr",
     "output_type": "stream",
     "text": [
      "\r",
      "  5%|▍         | 5/110 [00:00<00:05, 17.86it/s]"
     ]
    },
    {
     "name": "stdout",
     "output_type": "stream",
     "text": [
      "56\n",
      "(2048, 2448)\n",
      "353.5\n",
      "/home/xing/Share/Projects/Sanmed/cell_seg/Data/20201020/valid/658274_655590_10000/masks/mask_56_0.png\n",
      "60\n",
      "(2048, 2448)\n",
      "103.0\n",
      "/home/xing/Share/Projects/Sanmed/cell_seg/Data/20201020/valid/658274_655590_10000/masks/mask_60_0.png\n",
      "63\n",
      "(2048, 2448)\n",
      "160.5\n",
      "/home/xing/Share/Projects/Sanmed/cell_seg/Data/20201020/valid/658274_655590_10000/masks/mask_63_0.png\n",
      "64\n",
      "(2048, 2448)\n",
      "108.0\n",
      "/home/xing/Share/Projects/Sanmed/cell_seg/Data/20201020/valid/658274_655590_10000/masks/mask_64_0.png\n",
      "117.0\n",
      "/home/xing/Share/Projects/Sanmed/cell_seg/Data/20201020/valid/658274_655590_10000/masks/mask_64_1.png\n"
     ]
    },
    {
     "name": "stderr",
     "output_type": "stream",
     "text": [
      "  9%|▉         | 10/110 [00:00<00:06, 16.17it/s]"
     ]
    },
    {
     "name": "stdout",
     "output_type": "stream",
     "text": [
      "120.0\n",
      "/home/xing/Share/Projects/Sanmed/cell_seg/Data/20201020/valid/658274_655590_10000/masks/mask_64_2.png\n",
      "62.0\n",
      "/home/xing/Share/Projects/Sanmed/cell_seg/Data/20201020/valid/658274_655590_10000/masks/mask_64_3.png\n",
      "66\n",
      "(2048, 2448)\n",
      "119.5\n",
      "/home/xing/Share/Projects/Sanmed/cell_seg/Data/20201020/valid/658274_655590_10000/masks/mask_66_0.png\n",
      "113.5\n",
      "/home/xing/Share/Projects/Sanmed/cell_seg/Data/20201020/valid/658274_655590_10000/masks/mask_66_1.png\n",
      "67\n",
      "(2048, 2448)\n",
      "95.0\n",
      "/home/xing/Share/Projects/Sanmed/cell_seg/Data/20201020/valid/658274_655590_10000/masks/mask_67_0.png\n",
      "68\n",
      "(2048, 2448)\n",
      "101.5\n"
     ]
    },
    {
     "name": "stderr",
     "output_type": "stream",
     "text": [
      "\r",
      " 12%|█▏        | 13/110 [00:00<00:05, 17.89it/s]"
     ]
    },
    {
     "name": "stdout",
     "output_type": "stream",
     "text": [
      "/home/xing/Share/Projects/Sanmed/cell_seg/Data/20201020/valid/658274_655590_10000/masks/mask_68_0.png\n",
      "69\n",
      "(2048, 2448)\n",
      "102.0\n",
      "/home/xing/Share/Projects/Sanmed/cell_seg/Data/20201020/valid/658274_655590_10000/masks/mask_69_0.png\n",
      "70\n",
      "(2048, 2448)\n",
      "108.5\n",
      "/home/xing/Share/Projects/Sanmed/cell_seg/Data/20201020/valid/658274_655590_10000/masks/mask_70_0.png\n",
      "71\n",
      "(2048, 2448)\n",
      "106.0\n",
      "/home/xing/Share/Projects/Sanmed/cell_seg/Data/20201020/valid/658274_655590_10000/masks/mask_71_0.png\n",
      "72\n",
      "(2048, 2448)\n",
      "135.5\n",
      "/home/xing/Share/Projects/Sanmed/cell_seg/Data/20201020/valid/658274_655590_10000/masks/mask_72_0.png\n"
     ]
    },
    {
     "name": "stderr",
     "output_type": "stream",
     "text": [
      " 15%|█▌        | 17/110 [00:00<00:05, 17.31it/s]"
     ]
    },
    {
     "name": "stdout",
     "output_type": "stream",
     "text": [
      "115.5\n",
      "/home/xing/Share/Projects/Sanmed/cell_seg/Data/20201020/valid/658274_655590_10000/masks/mask_72_1.png\n",
      "73\n",
      "(2048, 2448)\n",
      "239.0\n",
      "/home/xing/Share/Projects/Sanmed/cell_seg/Data/20201020/valid/658274_655590_10000/masks/mask_73_0.png\n",
      "75\n",
      "(2048, 2448)\n",
      "65.0\n",
      "/home/xing/Share/Projects/Sanmed/cell_seg/Data/20201020/valid/658274_655590_10000/masks/mask_75_0.png\n",
      "78\n",
      "(2048, 2448)\n",
      "117.5\n",
      "/home/xing/Share/Projects/Sanmed/cell_seg/Data/20201020/valid/658274_655590_10000/masks/mask_78_0.png\n",
      "79\n"
     ]
    },
    {
     "name": "stderr",
     "output_type": "stream",
     "text": [
      " 20%|██        | 22/110 [00:01<00:04, 19.00it/s]"
     ]
    },
    {
     "name": "stdout",
     "output_type": "stream",
     "text": [
      "(2048, 2448)\n",
      "222.5\n",
      "/home/xing/Share/Projects/Sanmed/cell_seg/Data/20201020/valid/658274_655590_10000/masks/mask_79_0.png\n",
      "82\n",
      "(2048, 2448)\n",
      "103.5\n",
      "/home/xing/Share/Projects/Sanmed/cell_seg/Data/20201020/valid/658274_655590_10000/masks/mask_82_0.png\n",
      "84\n",
      "(2048, 2448)\n",
      "233.0\n",
      "/home/xing/Share/Projects/Sanmed/cell_seg/Data/20201020/valid/658274_655590_10000/masks/mask_84_0.png\n",
      "85\n",
      "(2048, 2448)\n",
      "110.5\n",
      "/home/xing/Share/Projects/Sanmed/cell_seg/Data/20201020/valid/658274_655590_10000/masks/mask_85_0.png\n",
      "86\n",
      "(2048, 2448)\n",
      "98.5\n"
     ]
    },
    {
     "name": "stderr",
     "output_type": "stream",
     "text": [
      "\r",
      " 23%|██▎       | 25/110 [00:01<00:04, 19.83it/s]"
     ]
    },
    {
     "name": "stdout",
     "output_type": "stream",
     "text": [
      "/home/xing/Share/Projects/Sanmed/cell_seg/Data/20201020/valid/658274_655590_10000/masks/mask_86_0.png\n",
      "87\n",
      "(2048, 2448)\n",
      "99.0\n",
      "/home/xing/Share/Projects/Sanmed/cell_seg/Data/20201020/valid/658274_655590_10000/masks/mask_87_0.png\n",
      "90\n",
      "(2048, 2448)\n",
      "104.5\n",
      "/home/xing/Share/Projects/Sanmed/cell_seg/Data/20201020/valid/658274_655590_10000/masks/mask_90_0.png\n",
      "92\n",
      "(2048, 2448)\n",
      "117.0\n",
      "/home/xing/Share/Projects/Sanmed/cell_seg/Data/20201020/valid/658274_655590_10000/masks/mask_92_0.png\n",
      "93\n",
      "(2048, 2448)\n",
      "148.0\n",
      "/home/xing/Share/Projects/Sanmed/cell_seg/Data/20201020/valid/658274_655590_10000/masks/mask_93_0.png\n"
     ]
    },
    {
     "name": "stderr",
     "output_type": "stream",
     "text": [
      " 28%|██▊       | 31/110 [00:01<00:03, 21.27it/s]"
     ]
    },
    {
     "name": "stdout",
     "output_type": "stream",
     "text": [
      "95\n",
      "(2048, 2448)\n",
      "209.5\n",
      "/home/xing/Share/Projects/Sanmed/cell_seg/Data/20201020/valid/658274_655590_10000/masks/mask_95_0.png\n",
      "96\n",
      "(2048, 2448)\n",
      "89.0\n",
      "/home/xing/Share/Projects/Sanmed/cell_seg/Data/20201020/valid/658274_655590_10000/masks/mask_96_0.png\n",
      "98\n",
      "(2048, 2448)\n",
      "110.0\n",
      "/home/xing/Share/Projects/Sanmed/cell_seg/Data/20201020/valid/658274_655590_10000/masks/mask_98_0.png\n",
      "99\n",
      "(2048, 2448)\n",
      "226.5\n",
      "/home/xing/Share/Projects/Sanmed/cell_seg/Data/20201020/valid/658274_655590_10000/masks/mask_99_0.png\n",
      "101\n",
      "(2048, 2448)\n",
      "98.0\n",
      "/home/xing/Share/Projects/Sanmed/cell_seg/Data/20201020/valid/658274_655590_10000/masks/mask_101_0.png\n"
     ]
    },
    {
     "name": "stderr",
     "output_type": "stream",
     "text": [
      "\r",
      " 31%|███       | 34/110 [00:01<00:04, 17.41it/s]"
     ]
    },
    {
     "name": "stdout",
     "output_type": "stream",
     "text": [
      "102\n",
      "(2048, 2448)\n",
      "123.5\n",
      "/home/xing/Share/Projects/Sanmed/cell_seg/Data/20201020/valid/658274_655590_10000/masks/mask_102_0.png\n",
      "93.5\n",
      "/home/xing/Share/Projects/Sanmed/cell_seg/Data/20201020/valid/658274_655590_10000/masks/mask_102_1.png\n",
      "123.0\n",
      "/home/xing/Share/Projects/Sanmed/cell_seg/Data/20201020/valid/658274_655590_10000/masks/mask_102_2.png\n",
      "106\n",
      "(2048, 2448)\n",
      "78.5\n",
      "/home/xing/Share/Projects/Sanmed/cell_seg/Data/20201020/valid/658274_655590_10000/masks/mask_106_0.png\n",
      "88.5\n",
      "/home/xing/Share/Projects/Sanmed/cell_seg/Data/20201020/valid/658274_655590_10000/masks/mask_106_1.png\n"
     ]
    },
    {
     "name": "stderr",
     "output_type": "stream",
     "text": [
      "\r",
      " 34%|███▎      | 37/110 [00:02<00:03, 18.38it/s]"
     ]
    },
    {
     "name": "stdout",
     "output_type": "stream",
     "text": [
      "109\n",
      "(2048, 2448)\n",
      "106.5\n",
      "/home/xing/Share/Projects/Sanmed/cell_seg/Data/20201020/valid/658274_655590_10000/masks/mask_109_0.png\n",
      "110\n",
      "(2048, 2448)\n",
      "191.5\n",
      "/home/xing/Share/Projects/Sanmed/cell_seg/Data/20201020/valid/658274_655590_10000/masks/mask_110_0.png\n",
      "112\n",
      "(2048, 2448)\n",
      "59.5\n",
      "/home/xing/Share/Projects/Sanmed/cell_seg/Data/20201020/valid/658274_655590_10000/masks/mask_112_0.png\n",
      "113\n",
      "(2048, 2448)\n",
      "114.0\n",
      "/home/xing/Share/Projects/Sanmed/cell_seg/Data/20201020/valid/658274_655590_10000/masks/mask_113_0.png\n",
      "365.5\n"
     ]
    },
    {
     "name": "stderr",
     "output_type": "stream",
     "text": [
      " 37%|███▋      | 41/110 [00:02<00:04, 16.97it/s]"
     ]
    },
    {
     "name": "stdout",
     "output_type": "stream",
     "text": [
      "/home/xing/Share/Projects/Sanmed/cell_seg/Data/20201020/valid/658274_655590_10000/masks/mask_113_1.png\n",
      "114\n",
      "(2048, 2448)\n",
      "129.5\n",
      "/home/xing/Share/Projects/Sanmed/cell_seg/Data/20201020/valid/658274_655590_10000/masks/mask_114_0.png\n",
      "117\n",
      "(2048, 2448)\n",
      "113.5\n",
      "/home/xing/Share/Projects/Sanmed/cell_seg/Data/20201020/valid/658274_655590_10000/masks/mask_117_0.png\n",
      "122\n",
      "(2048, 2448)\n",
      "158.0\n",
      "/home/xing/Share/Projects/Sanmed/cell_seg/Data/20201020/valid/658274_655590_10000/masks/mask_122_0.png\n",
      "97.0\n",
      "/home/xing/Share/Projects/Sanmed/cell_seg/Data/20201020/valid/658274_655590_10000/masks/mask_122_1.png\n",
      "126\n",
      "(2048, 2448)\n",
      "246.5\n"
     ]
    },
    {
     "name": "stderr",
     "output_type": "stream",
     "text": [
      "\r",
      " 39%|███▉      | 43/110 [00:02<00:03, 16.79it/s]"
     ]
    },
    {
     "name": "stdout",
     "output_type": "stream",
     "text": [
      "/home/xing/Share/Projects/Sanmed/cell_seg/Data/20201020/valid/658274_655590_10000/masks/mask_126_0.png\n",
      "128\n",
      "(2048, 2448)\n",
      "198.5\n",
      "/home/xing/Share/Projects/Sanmed/cell_seg/Data/20201020/valid/658274_655590_10000/masks/mask_128_0.png\n",
      "72.5\n",
      "/home/xing/Share/Projects/Sanmed/cell_seg/Data/20201020/valid/658274_655590_10000/masks/mask_128_1.png\n",
      "129\n",
      "(2048, 2448)\n",
      "143.0\n",
      "/home/xing/Share/Projects/Sanmed/cell_seg/Data/20201020/valid/658274_655590_10000/masks/mask_129_0.png\n",
      "130\n",
      "(2048, 2448)\n",
      "51.5\n",
      "/home/xing/Share/Projects/Sanmed/cell_seg/Data/20201020/valid/658274_655590_10000/masks/mask_130_0.png\n",
      "131\n",
      "(2048, 2448)\n",
      "192.5\n"
     ]
    },
    {
     "name": "stderr",
     "output_type": "stream",
     "text": [
      " 45%|████▍     | 49/110 [00:02<00:03, 19.59it/s]"
     ]
    },
    {
     "name": "stdout",
     "output_type": "stream",
     "text": [
      "/home/xing/Share/Projects/Sanmed/cell_seg/Data/20201020/valid/658274_655590_10000/masks/mask_131_0.png\n",
      "134\n",
      "(2048, 2448)\n",
      "86.5\n",
      "/home/xing/Share/Projects/Sanmed/cell_seg/Data/20201020/valid/658274_655590_10000/masks/mask_134_0.png\n",
      "137\n",
      "(2048, 2448)\n",
      "166.0\n",
      "/home/xing/Share/Projects/Sanmed/cell_seg/Data/20201020/valid/658274_655590_10000/masks/mask_137_0.png\n",
      "138\n",
      "(2048, 2448)\n",
      "156.0\n",
      "/home/xing/Share/Projects/Sanmed/cell_seg/Data/20201020/valid/658274_655590_10000/masks/mask_138_0.png\n",
      "142\n",
      "(2048, 2448)\n",
      "163.5\n",
      "/home/xing/Share/Projects/Sanmed/cell_seg/Data/20201020/valid/658274_655590_10000/masks/mask_142_0.png\n",
      "143\n",
      "(2048, 2448)\n",
      "100.0\n"
     ]
    },
    {
     "name": "stderr",
     "output_type": "stream",
     "text": [
      "\r",
      " 47%|████▋     | 52/110 [00:02<00:03, 17.83it/s]"
     ]
    },
    {
     "name": "stdout",
     "output_type": "stream",
     "text": [
      "/home/xing/Share/Projects/Sanmed/cell_seg/Data/20201020/valid/658274_655590_10000/masks/mask_143_0.png\n",
      "221.0\n",
      "/home/xing/Share/Projects/Sanmed/cell_seg/Data/20201020/valid/658274_655590_10000/masks/mask_143_1.png\n",
      "82.5\n",
      "/home/xing/Share/Projects/Sanmed/cell_seg/Data/20201020/valid/658274_655590_10000/masks/mask_143_2.png\n",
      "145\n",
      "(2048, 2448)\n",
      "166.5\n",
      "/home/xing/Share/Projects/Sanmed/cell_seg/Data/20201020/valid/658274_655590_10000/masks/mask_145_0.png\n",
      "147\n",
      "(2048, 2448)\n",
      "122.5\n",
      "/home/xing/Share/Projects/Sanmed/cell_seg/Data/20201020/valid/658274_655590_10000/masks/mask_147_0.png\n",
      "153\n",
      "(2048, 2448)\n",
      "107.0\n"
     ]
    },
    {
     "name": "stderr",
     "output_type": "stream",
     "text": [
      "\r",
      " 50%|█████     | 55/110 [00:02<00:02, 19.28it/s]"
     ]
    },
    {
     "name": "stdout",
     "output_type": "stream",
     "text": [
      "/home/xing/Share/Projects/Sanmed/cell_seg/Data/20201020/valid/658274_655590_10000/masks/mask_153_0.png\n",
      "154\n",
      "(2048, 2448)\n",
      "71.0\n",
      "/home/xing/Share/Projects/Sanmed/cell_seg/Data/20201020/valid/658274_655590_10000/masks/mask_154_0.png\n",
      "158\n",
      "(2048, 2448)\n",
      "51.5\n",
      "/home/xing/Share/Projects/Sanmed/cell_seg/Data/20201020/valid/658274_655590_10000/masks/mask_158_0.png\n",
      "159\n",
      "(2048, 2448)\n",
      "315.5\n",
      "/home/xing/Share/Projects/Sanmed/cell_seg/Data/20201020/valid/658274_655590_10000/masks/mask_159_0.png\n",
      "160\n",
      "(2048, 2448)\n",
      "96.5\n",
      "/home/xing/Share/Projects/Sanmed/cell_seg/Data/20201020/valid/658274_655590_10000/masks/mask_160_0.png\n",
      "188.5\n"
     ]
    },
    {
     "name": "stderr",
     "output_type": "stream",
     "text": [
      " 55%|█████▍    | 60/110 [00:03<00:02, 17.81it/s]"
     ]
    },
    {
     "name": "stdout",
     "output_type": "stream",
     "text": [
      "/home/xing/Share/Projects/Sanmed/cell_seg/Data/20201020/valid/658274_655590_10000/masks/mask_160_1.png\n",
      "163\n",
      "(2048, 2448)\n",
      "80.0\n",
      "/home/xing/Share/Projects/Sanmed/cell_seg/Data/20201020/valid/658274_655590_10000/masks/mask_163_0.png\n",
      "102.5\n",
      "/home/xing/Share/Projects/Sanmed/cell_seg/Data/20201020/valid/658274_655590_10000/masks/mask_163_1.png\n",
      "164\n",
      "(2048, 2448)\n",
      "109.5\n",
      "/home/xing/Share/Projects/Sanmed/cell_seg/Data/20201020/valid/658274_655590_10000/masks/mask_164_0.png\n",
      "165\n",
      "(2048, 2448)\n",
      "109.5\n",
      "/home/xing/Share/Projects/Sanmed/cell_seg/Data/20201020/valid/658274_655590_10000/masks/mask_165_0.png\n",
      "166\n",
      "(2048, 2448)\n",
      "75.5\n"
     ]
    },
    {
     "name": "stderr",
     "output_type": "stream",
     "text": [
      "\r",
      " 57%|█████▋    | 63/110 [00:03<00:02, 18.83it/s]"
     ]
    },
    {
     "name": "stdout",
     "output_type": "stream",
     "text": [
      "/home/xing/Share/Projects/Sanmed/cell_seg/Data/20201020/valid/658274_655590_10000/masks/mask_166_0.png\n",
      "167\n",
      "(2048, 2448)\n",
      "135.0\n",
      "/home/xing/Share/Projects/Sanmed/cell_seg/Data/20201020/valid/658274_655590_10000/masks/mask_167_0.png\n",
      "168\n",
      "(2048, 2448)\n",
      "212.5\n",
      "/home/xing/Share/Projects/Sanmed/cell_seg/Data/20201020/valid/658274_655590_10000/masks/mask_168_0.png\n",
      "170\n",
      "(2048, 2448)\n",
      "134.5\n",
      "/home/xing/Share/Projects/Sanmed/cell_seg/Data/20201020/valid/658274_655590_10000/masks/mask_170_0.png\n",
      "172\n",
      "(2048, 2448)\n",
      "89.5\n",
      "/home/xing/Share/Projects/Sanmed/cell_seg/Data/20201020/valid/658274_655590_10000/masks/mask_172_0.png\n"
     ]
    },
    {
     "name": "stderr",
     "output_type": "stream",
     "text": [
      " 62%|██████▏   | 68/110 [00:03<00:02, 17.43it/s]"
     ]
    },
    {
     "name": "stdout",
     "output_type": "stream",
     "text": [
      "173\n",
      "(2048, 2448)\n",
      "100.0\n",
      "/home/xing/Share/Projects/Sanmed/cell_seg/Data/20201020/valid/658274_655590_10000/masks/mask_173_0.png\n",
      "174\n",
      "(2048, 2448)\n",
      "214.5\n",
      "/home/xing/Share/Projects/Sanmed/cell_seg/Data/20201020/valid/658274_655590_10000/masks/mask_174_0.png\n",
      "88.5\n",
      "/home/xing/Share/Projects/Sanmed/cell_seg/Data/20201020/valid/658274_655590_10000/masks/mask_174_1.png\n",
      "175\n",
      "(2048, 2448)\n",
      "187.5\n",
      "/home/xing/Share/Projects/Sanmed/cell_seg/Data/20201020/valid/658274_655590_10000/masks/mask_175_0.png\n",
      "176\n",
      "(2048, 2448)\n",
      "74.5\n",
      "/home/xing/Share/Projects/Sanmed/cell_seg/Data/20201020/valid/658274_655590_10000/masks/mask_176_0.png\n"
     ]
    },
    {
     "name": "stderr",
     "output_type": "stream",
     "text": [
      " 66%|██████▋   | 73/110 [00:03<00:02, 18.18it/s]"
     ]
    },
    {
     "name": "stdout",
     "output_type": "stream",
     "text": [
      "178\n",
      "(2048, 2448)\n",
      "109.5\n",
      "/home/xing/Share/Projects/Sanmed/cell_seg/Data/20201020/valid/658274_655590_10000/masks/mask_178_0.png\n",
      "181\n",
      "(2048, 2448)\n",
      "115.5\n",
      "/home/xing/Share/Projects/Sanmed/cell_seg/Data/20201020/valid/658274_655590_10000/masks/mask_181_0.png\n",
      "182.0\n",
      "/home/xing/Share/Projects/Sanmed/cell_seg/Data/20201020/valid/658274_655590_10000/masks/mask_181_1.png\n",
      "184\n",
      "(2048, 2448)\n",
      "149.5\n",
      "/home/xing/Share/Projects/Sanmed/cell_seg/Data/20201020/valid/658274_655590_10000/masks/mask_184_0.png\n",
      "186\n",
      "(2048, 2448)\n",
      "113.0\n",
      "/home/xing/Share/Projects/Sanmed/cell_seg/Data/20201020/valid/658274_655590_10000/masks/mask_186_0.png\n"
     ]
    },
    {
     "name": "stderr",
     "output_type": "stream",
     "text": [
      "\r",
      " 69%|██████▉   | 76/110 [00:04<00:01, 19.35it/s]"
     ]
    },
    {
     "name": "stdout",
     "output_type": "stream",
     "text": [
      "189\n",
      "(2048, 2448)\n",
      "70.5\n",
      "/home/xing/Share/Projects/Sanmed/cell_seg/Data/20201020/valid/658274_655590_10000/masks/mask_189_0.png\n",
      "190\n",
      "(2048, 2448)\n",
      "167.5\n",
      "/home/xing/Share/Projects/Sanmed/cell_seg/Data/20201020/valid/658274_655590_10000/masks/mask_190_0.png\n",
      "192\n",
      "(2048, 2448)\n",
      "135.0\n",
      "/home/xing/Share/Projects/Sanmed/cell_seg/Data/20201020/valid/658274_655590_10000/masks/mask_192_0.png\n",
      "197\n",
      "(2048, 2448)\n",
      "123.5\n",
      "/home/xing/Share/Projects/Sanmed/cell_seg/Data/20201020/valid/658274_655590_10000/masks/mask_197_0.png\n",
      "198\n",
      "(2048, 2448)\n",
      "75.0\n",
      "/home/xing/Share/Projects/Sanmed/cell_seg/Data/20201020/valid/658274_655590_10000/masks/mask_198_0.png\n"
     ]
    },
    {
     "name": "stderr",
     "output_type": "stream",
     "text": [
      " 75%|███████▍  | 82/110 [00:04<00:01, 19.78it/s]"
     ]
    },
    {
     "name": "stdout",
     "output_type": "stream",
     "text": [
      "200\n",
      "(2048, 2448)\n",
      "152.5\n",
      "/home/xing/Share/Projects/Sanmed/cell_seg/Data/20201020/valid/658274_655590_10000/masks/mask_200_0.png\n",
      "202\n",
      "(2048, 2448)\n",
      "130.0\n",
      "/home/xing/Share/Projects/Sanmed/cell_seg/Data/20201020/valid/658274_655590_10000/masks/mask_202_0.png\n",
      "114.0\n",
      "/home/xing/Share/Projects/Sanmed/cell_seg/Data/20201020/valid/658274_655590_10000/masks/mask_202_1.png\n",
      "203\n",
      "(2048, 2448)\n",
      "134.5\n",
      "/home/xing/Share/Projects/Sanmed/cell_seg/Data/20201020/valid/658274_655590_10000/masks/mask_203_0.png\n",
      "204\n",
      "(2048, 2448)\n",
      "134.0\n",
      "/home/xing/Share/Projects/Sanmed/cell_seg/Data/20201020/valid/658274_655590_10000/masks/mask_204_0.png\n"
     ]
    },
    {
     "name": "stderr",
     "output_type": "stream",
     "text": [
      "\r",
      " 77%|███████▋  | 85/110 [00:04<00:01, 20.84it/s]"
     ]
    },
    {
     "name": "stdout",
     "output_type": "stream",
     "text": [
      "206\n",
      "(2048, 2448)\n",
      "217.0\n",
      "/home/xing/Share/Projects/Sanmed/cell_seg/Data/20201020/valid/658274_655590_10000/masks/mask_206_0.png\n",
      "208\n",
      "(2048, 2448)\n",
      "80.0\n",
      "/home/xing/Share/Projects/Sanmed/cell_seg/Data/20201020/valid/658274_655590_10000/masks/mask_208_0.png\n",
      "210\n",
      "(2048, 2448)\n",
      "65.0\n",
      "/home/xing/Share/Projects/Sanmed/cell_seg/Data/20201020/valid/658274_655590_10000/masks/mask_210_0.png\n",
      "77.0\n",
      "/home/xing/Share/Projects/Sanmed/cell_seg/Data/20201020/valid/658274_655590_10000/masks/mask_210_1.png\n",
      "212\n",
      "(2048, 2448)\n",
      "87.0\n",
      "/home/xing/Share/Projects/Sanmed/cell_seg/Data/20201020/valid/658274_655590_10000/masks/mask_212_0.png\n"
     ]
    },
    {
     "name": "stderr",
     "output_type": "stream",
     "text": [
      "\r",
      " 80%|████████  | 88/110 [00:04<00:01, 20.05it/s]"
     ]
    },
    {
     "name": "stdout",
     "output_type": "stream",
     "text": [
      "213\n",
      "(2048, 2448)\n",
      "123.0\n",
      "/home/xing/Share/Projects/Sanmed/cell_seg/Data/20201020/valid/658274_655590_10000/masks/mask_213_0.png\n",
      "216\n",
      "(2048, 2448)\n",
      "189.0\n",
      "/home/xing/Share/Projects/Sanmed/cell_seg/Data/20201020/valid/658274_655590_10000/masks/mask_216_0.png\n",
      "314.5\n",
      "/home/xing/Share/Projects/Sanmed/cell_seg/Data/20201020/valid/658274_655590_10000/masks/mask_216_1.png\n",
      "217\n",
      "(2048, 2448)\n",
      "252.5\n",
      "/home/xing/Share/Projects/Sanmed/cell_seg/Data/20201020/valid/658274_655590_10000/masks/mask_217_0.png\n",
      "135.5\n",
      "/home/xing/Share/Projects/Sanmed/cell_seg/Data/20201020/valid/658274_655590_10000/masks/mask_217_1.png\n"
     ]
    },
    {
     "name": "stderr",
     "output_type": "stream",
     "text": [
      "\r",
      " 83%|████████▎ | 91/110 [00:04<00:01, 18.09it/s]"
     ]
    },
    {
     "name": "stdout",
     "output_type": "stream",
     "text": [
      "218\n",
      "(2048, 2448)\n",
      "103.5\n",
      "/home/xing/Share/Projects/Sanmed/cell_seg/Data/20201020/valid/658274_655590_10000/masks/mask_218_0.png\n",
      "220\n",
      "(2048, 2448)\n",
      "185.0\n",
      "/home/xing/Share/Projects/Sanmed/cell_seg/Data/20201020/valid/658274_655590_10000/masks/mask_220_0.png\n",
      "221\n",
      "(2048, 2448)\n",
      "80.0\n",
      "/home/xing/Share/Projects/Sanmed/cell_seg/Data/20201020/valid/658274_655590_10000/masks/mask_221_0.png\n",
      "73.5\n",
      "/home/xing/Share/Projects/Sanmed/cell_seg/Data/20201020/valid/658274_655590_10000/masks/mask_221_1.png\n",
      "83.5\n",
      "/home/xing/Share/Projects/Sanmed/cell_seg/Data/20201020/valid/658274_655590_10000/masks/mask_221_2.png\n"
     ]
    },
    {
     "name": "stderr",
     "output_type": "stream",
     "text": [
      " 87%|████████▋ | 96/110 [00:05<00:00, 17.68it/s]"
     ]
    },
    {
     "name": "stdout",
     "output_type": "stream",
     "text": [
      "222\n",
      "(2048, 2448)\n",
      "82.0\n",
      "/home/xing/Share/Projects/Sanmed/cell_seg/Data/20201020/valid/658274_655590_10000/masks/mask_222_0.png\n",
      "223\n",
      "(2048, 2448)\n",
      "142.5\n",
      "/home/xing/Share/Projects/Sanmed/cell_seg/Data/20201020/valid/658274_655590_10000/masks/mask_223_0.png\n",
      "225\n",
      "(2048, 2448)\n",
      "197.0\n",
      "/home/xing/Share/Projects/Sanmed/cell_seg/Data/20201020/valid/658274_655590_10000/masks/mask_225_0.png\n",
      "226\n",
      "(2048, 2448)\n",
      "106.5\n",
      "/home/xing/Share/Projects/Sanmed/cell_seg/Data/20201020/valid/658274_655590_10000/masks/mask_226_0.png\n",
      "227\n",
      "(2048, 2448)\n",
      "261.0\n",
      "/home/xing/Share/Projects/Sanmed/cell_seg/Data/20201020/valid/658274_655590_10000/masks/mask_227_0.png\n"
     ]
    },
    {
     "name": "stderr",
     "output_type": "stream",
     "text": [
      "\r",
      " 90%|█████████ | 99/110 [00:05<00:00, 19.13it/s]"
     ]
    },
    {
     "name": "stdout",
     "output_type": "stream",
     "text": [
      "229\n",
      "(2048, 2448)\n",
      "115.0\n",
      "/home/xing/Share/Projects/Sanmed/cell_seg/Data/20201020/valid/658274_655590_10000/masks/mask_229_0.png\n",
      "231\n",
      "(2048, 2448)\n",
      "155.5\n",
      "/home/xing/Share/Projects/Sanmed/cell_seg/Data/20201020/valid/658274_655590_10000/masks/mask_231_0.png\n",
      "233\n",
      "(2048, 2448)\n",
      "71.5\n",
      "/home/xing/Share/Projects/Sanmed/cell_seg/Data/20201020/valid/658274_655590_10000/masks/mask_233_0.png\n",
      "234\n",
      "(2048, 2448)\n",
      "83.5\n",
      "/home/xing/Share/Projects/Sanmed/cell_seg/Data/20201020/valid/658274_655590_10000/masks/mask_234_0.png\n",
      "71.0\n",
      "/home/xing/Share/Projects/Sanmed/cell_seg/Data/20201020/valid/658274_655590_10000/masks/mask_234_1.png\n"
     ]
    },
    {
     "name": "stderr",
     "output_type": "stream",
     "text": [
      " 95%|█████████▌| 105/110 [00:05<00:00, 20.16it/s]"
     ]
    },
    {
     "name": "stdout",
     "output_type": "stream",
     "text": [
      "237\n",
      "(2048, 2448)\n",
      "104.5\n",
      "/home/xing/Share/Projects/Sanmed/cell_seg/Data/20201020/valid/658274_655590_10000/masks/mask_237_0.png\n",
      "239\n",
      "(2048, 2448)\n",
      "127.0\n",
      "/home/xing/Share/Projects/Sanmed/cell_seg/Data/20201020/valid/658274_655590_10000/masks/mask_239_0.png\n",
      "241\n",
      "(2048, 2448)\n",
      "33.0\n",
      "/home/xing/Share/Projects/Sanmed/cell_seg/Data/20201020/valid/658274_655590_10000/masks/mask_241_0.png\n",
      "243\n",
      "(2048, 2448)\n",
      "117.5\n",
      "/home/xing/Share/Projects/Sanmed/cell_seg/Data/20201020/valid/658274_655590_10000/masks/mask_243_0.png\n",
      "244\n",
      "(2048, 2448)\n",
      "118.5\n",
      "/home/xing/Share/Projects/Sanmed/cell_seg/Data/20201020/valid/658274_655590_10000/masks/mask_244_0.png\n"
     ]
    },
    {
     "name": "stderr",
     "output_type": "stream",
     "text": [
      "100%|██████████| 110/110 [00:05<00:00, 19.05it/s]"
     ]
    },
    {
     "name": "stdout",
     "output_type": "stream",
     "text": [
      "246\n",
      "(2048, 2448)\n",
      "90.0\n",
      "/home/xing/Share/Projects/Sanmed/cell_seg/Data/20201020/valid/658274_655590_10000/masks/mask_246_0.png\n",
      "247\n",
      "(2048, 2448)\n",
      "67.5\n",
      "/home/xing/Share/Projects/Sanmed/cell_seg/Data/20201020/valid/658274_655590_10000/masks/mask_247_0.png\n",
      "248\n",
      "(2048, 2448)\n",
      "137.5\n",
      "/home/xing/Share/Projects/Sanmed/cell_seg/Data/20201020/valid/658274_655590_10000/masks/mask_248_0.png\n"
     ]
    },
    {
     "name": "stderr",
     "output_type": "stream",
     "text": [
      "\n",
      "  1%|          | 1/93 [00:00<00:11,  8.14it/s]"
     ]
    },
    {
     "name": "stdout",
     "output_type": "stream",
     "text": [
      "50\n",
      "(2048, 2448)\n",
      "179.5\n",
      "/home/xing/Share/Projects/Sanmed/cell_seg/Data/20201020/valid/655107_656676_10000/masks/mask_50_0.png\n",
      "201.5\n",
      "/home/xing/Share/Projects/Sanmed/cell_seg/Data/20201020/valid/655107_656676_10000/masks/mask_50_1.png\n",
      "150.5\n",
      "/home/xing/Share/Projects/Sanmed/cell_seg/Data/20201020/valid/655107_656676_10000/masks/mask_50_2.png\n",
      "51\n",
      "(2048, 2448)\n",
      "101.0\n",
      "/home/xing/Share/Projects/Sanmed/cell_seg/Data/20201020/valid/655107_656676_10000/masks/mask_51_0.png\n",
      "54\n",
      "(2048, 2448)\n",
      "178.0\n",
      "/home/xing/Share/Projects/Sanmed/cell_seg/Data/20201020/valid/655107_656676_10000/masks/mask_54_0.png\n"
     ]
    },
    {
     "name": "stderr",
     "output_type": "stream",
     "text": [
      "  6%|▋         | 6/93 [00:00<00:07, 11.67it/s]"
     ]
    },
    {
     "name": "stdout",
     "output_type": "stream",
     "text": [
      "57\n",
      "(2048, 2448)\n",
      "138.0\n",
      "/home/xing/Share/Projects/Sanmed/cell_seg/Data/20201020/valid/655107_656676_10000/masks/mask_57_0.png\n",
      "58\n",
      "(2048, 2448)\n",
      "110.0\n",
      "/home/xing/Share/Projects/Sanmed/cell_seg/Data/20201020/valid/655107_656676_10000/masks/mask_58_0.png\n",
      "59\n",
      "(2048, 2448)\n",
      "82.5\n",
      "/home/xing/Share/Projects/Sanmed/cell_seg/Data/20201020/valid/655107_656676_10000/masks/mask_59_0.png\n",
      "60\n",
      "(2048, 2448)\n",
      "120.0\n",
      "/home/xing/Share/Projects/Sanmed/cell_seg/Data/20201020/valid/655107_656676_10000/masks/mask_60_0.png\n",
      "63\n",
      "(2048, 2448)\n",
      "95.0\n"
     ]
    },
    {
     "name": "stderr",
     "output_type": "stream",
     "text": [
      "\r",
      " 10%|▉         | 9/93 [00:00<00:06, 13.53it/s]"
     ]
    },
    {
     "name": "stdout",
     "output_type": "stream",
     "text": [
      "/home/xing/Share/Projects/Sanmed/cell_seg/Data/20201020/valid/655107_656676_10000/masks/mask_63_0.png\n",
      "64\n",
      "(2048, 2448)\n",
      "107.5\n",
      "/home/xing/Share/Projects/Sanmed/cell_seg/Data/20201020/valid/655107_656676_10000/masks/mask_64_0.png\n",
      "68\n",
      "(2048, 2448)\n",
      "91.5\n",
      "/home/xing/Share/Projects/Sanmed/cell_seg/Data/20201020/valid/655107_656676_10000/masks/mask_68_0.png\n",
      "70\n",
      "(2048, 2448)\n",
      "139.5\n",
      "/home/xing/Share/Projects/Sanmed/cell_seg/Data/20201020/valid/655107_656676_10000/masks/mask_70_0.png\n",
      "72\n",
      "(2048, 2448)\n",
      "103.5\n",
      "/home/xing/Share/Projects/Sanmed/cell_seg/Data/20201020/valid/655107_656676_10000/masks/mask_72_0.png\n"
     ]
    },
    {
     "name": "stderr",
     "output_type": "stream",
     "text": [
      " 16%|█▌        | 15/93 [00:00<00:04, 15.71it/s]"
     ]
    },
    {
     "name": "stdout",
     "output_type": "stream",
     "text": [
      "85.5\n",
      "/home/xing/Share/Projects/Sanmed/cell_seg/Data/20201020/valid/655107_656676_10000/masks/mask_72_1.png\n",
      "73\n",
      "(2048, 2448)\n",
      "27.5\n",
      "/home/xing/Share/Projects/Sanmed/cell_seg/Data/20201020/valid/655107_656676_10000/masks/mask_73_0.png\n",
      "74\n",
      "(2048, 2448)\n",
      "117.5\n",
      "/home/xing/Share/Projects/Sanmed/cell_seg/Data/20201020/valid/655107_656676_10000/masks/mask_74_0.png\n",
      "75\n",
      "(2048, 2448)\n",
      "87.0\n",
      "/home/xing/Share/Projects/Sanmed/cell_seg/Data/20201020/valid/655107_656676_10000/masks/mask_75_0.png\n",
      "76\n",
      "(2048, 2448)\n",
      "132.0\n"
     ]
    },
    {
     "name": "stderr",
     "output_type": "stream",
     "text": [
      "\r",
      " 18%|█▊        | 17/93 [00:01<00:05, 14.51it/s]"
     ]
    },
    {
     "name": "stdout",
     "output_type": "stream",
     "text": [
      "/home/xing/Share/Projects/Sanmed/cell_seg/Data/20201020/valid/655107_656676_10000/masks/mask_76_0.png\n",
      "104.5\n",
      "/home/xing/Share/Projects/Sanmed/cell_seg/Data/20201020/valid/655107_656676_10000/masks/mask_76_1.png\n",
      "77\n",
      "(2048, 2448)\n",
      "109.5\n",
      "/home/xing/Share/Projects/Sanmed/cell_seg/Data/20201020/valid/655107_656676_10000/masks/mask_77_0.png\n",
      "228.0\n",
      "/home/xing/Share/Projects/Sanmed/cell_seg/Data/20201020/valid/655107_656676_10000/masks/mask_77_1.png\n",
      "81\n",
      "(2048, 2448)\n",
      "106.5\n",
      "/home/xing/Share/Projects/Sanmed/cell_seg/Data/20201020/valid/655107_656676_10000/masks/mask_81_0.png\n"
     ]
    },
    {
     "name": "stderr",
     "output_type": "stream",
     "text": [
      "\r",
      " 20%|██        | 19/93 [00:01<00:05, 13.87it/s]"
     ]
    },
    {
     "name": "stdout",
     "output_type": "stream",
     "text": [
      "114.0\n",
      "/home/xing/Share/Projects/Sanmed/cell_seg/Data/20201020/valid/655107_656676_10000/masks/mask_81_1.png\n",
      "83\n",
      "(2048, 2448)\n",
      "118.5\n",
      "/home/xing/Share/Projects/Sanmed/cell_seg/Data/20201020/valid/655107_656676_10000/masks/mask_83_0.png\n",
      "84\n",
      "(2048, 2448)\n",
      "167.5\n",
      "/home/xing/Share/Projects/Sanmed/cell_seg/Data/20201020/valid/655107_656676_10000/masks/mask_84_0.png\n",
      "85\n",
      "(2048, 2448)\n",
      "127.0\n",
      "/home/xing/Share/Projects/Sanmed/cell_seg/Data/20201020/valid/655107_656676_10000/masks/mask_85_0.png\n",
      "87\n",
      "(2048, 2448)\n",
      "139.0\n"
     ]
    },
    {
     "name": "stderr",
     "output_type": "stream",
     "text": [
      " 26%|██▌       | 24/93 [00:01<00:04, 16.48it/s]"
     ]
    },
    {
     "name": "stdout",
     "output_type": "stream",
     "text": [
      "/home/xing/Share/Projects/Sanmed/cell_seg/Data/20201020/valid/655107_656676_10000/masks/mask_87_0.png\n",
      "88\n",
      "(2048, 2448)\n",
      "138.0\n",
      "/home/xing/Share/Projects/Sanmed/cell_seg/Data/20201020/valid/655107_656676_10000/masks/mask_88_0.png\n",
      "90\n",
      "(2048, 2448)\n",
      "106.5\n",
      "/home/xing/Share/Projects/Sanmed/cell_seg/Data/20201020/valid/655107_656676_10000/masks/mask_90_0.png\n",
      "97\n",
      "(2048, 2448)\n",
      "304.5\n",
      "/home/xing/Share/Projects/Sanmed/cell_seg/Data/20201020/valid/655107_656676_10000/masks/mask_97_0.png\n",
      "95.5\n",
      "/home/xing/Share/Projects/Sanmed/cell_seg/Data/20201020/valid/655107_656676_10000/masks/mask_97_1.png\n"
     ]
    },
    {
     "name": "stderr",
     "output_type": "stream",
     "text": [
      "\r",
      " 28%|██▊       | 26/93 [00:01<00:04, 15.50it/s]"
     ]
    },
    {
     "name": "stdout",
     "output_type": "stream",
     "text": [
      "99\n",
      "(2048, 2448)\n",
      "110.0\n",
      "/home/xing/Share/Projects/Sanmed/cell_seg/Data/20201020/valid/655107_656676_10000/masks/mask_99_0.png\n",
      "100\n",
      "(2048, 2448)\n",
      "61.5\n",
      "/home/xing/Share/Projects/Sanmed/cell_seg/Data/20201020/valid/655107_656676_10000/masks/mask_100_0.png\n",
      "103\n",
      "(2048, 2448)\n",
      "91.5\n",
      "/home/xing/Share/Projects/Sanmed/cell_seg/Data/20201020/valid/655107_656676_10000/masks/mask_103_0.png\n",
      "106\n",
      "(2048, 2448)\n",
      "196.0\n",
      "/home/xing/Share/Projects/Sanmed/cell_seg/Data/20201020/valid/655107_656676_10000/masks/mask_106_0.png\n",
      "141.5\n",
      "/home/xing/Share/Projects/Sanmed/cell_seg/Data/20201020/valid/655107_656676_10000/masks/mask_106_1.png\n"
     ]
    },
    {
     "name": "stderr",
     "output_type": "stream",
     "text": [
      " 34%|███▍      | 32/93 [00:01<00:03, 16.30it/s]"
     ]
    },
    {
     "name": "stdout",
     "output_type": "stream",
     "text": [
      "109\n",
      "(2048, 2448)\n",
      "135.0\n",
      "/home/xing/Share/Projects/Sanmed/cell_seg/Data/20201020/valid/655107_656676_10000/masks/mask_109_0.png\n",
      "115\n",
      "(2048, 2448)\n",
      "104.5\n",
      "/home/xing/Share/Projects/Sanmed/cell_seg/Data/20201020/valid/655107_656676_10000/masks/mask_115_0.png\n",
      "116\n",
      "(2048, 2448)\n",
      "119.5\n",
      "/home/xing/Share/Projects/Sanmed/cell_seg/Data/20201020/valid/655107_656676_10000/masks/mask_116_0.png\n",
      "166.0\n",
      "/home/xing/Share/Projects/Sanmed/cell_seg/Data/20201020/valid/655107_656676_10000/masks/mask_116_1.png\n",
      "118\n",
      "(2048, 2448)\n",
      "286.0\n",
      "/home/xing/Share/Projects/Sanmed/cell_seg/Data/20201020/valid/655107_656676_10000/masks/mask_118_0.png\n"
     ]
    },
    {
     "name": "stderr",
     "output_type": "stream",
     "text": [
      "\r",
      " 38%|███▊      | 35/93 [00:02<00:03, 17.82it/s]"
     ]
    },
    {
     "name": "stdout",
     "output_type": "stream",
     "text": [
      "119\n",
      "(2048, 2448)\n",
      "158.5\n",
      "/home/xing/Share/Projects/Sanmed/cell_seg/Data/20201020/valid/655107_656676_10000/masks/mask_119_0.png\n",
      "125\n",
      "(2048, 2448)\n",
      "90.5\n",
      "/home/xing/Share/Projects/Sanmed/cell_seg/Data/20201020/valid/655107_656676_10000/masks/mask_125_0.png\n",
      "126\n",
      "(2048, 2448)\n",
      "64.5\n",
      "/home/xing/Share/Projects/Sanmed/cell_seg/Data/20201020/valid/655107_656676_10000/masks/mask_126_0.png\n",
      "128\n",
      "(2048, 2448)\n",
      "90.0\n",
      "/home/xing/Share/Projects/Sanmed/cell_seg/Data/20201020/valid/655107_656676_10000/masks/mask_128_0.png\n",
      "130\n",
      "(2048, 2448)\n",
      "131.5\n",
      "/home/xing/Share/Projects/Sanmed/cell_seg/Data/20201020/valid/655107_656676_10000/masks/mask_130_0.png\n"
     ]
    },
    {
     "name": "stderr",
     "output_type": "stream",
     "text": [
      " 43%|████▎     | 40/93 [00:02<00:02, 19.01it/s]"
     ]
    },
    {
     "name": "stdout",
     "output_type": "stream",
     "text": [
      "131\n",
      "(2048, 2448)\n",
      "236.0\n",
      "/home/xing/Share/Projects/Sanmed/cell_seg/Data/20201020/valid/655107_656676_10000/masks/mask_131_0.png\n",
      "138\n",
      "(2048, 2448)\n",
      "93.0\n",
      "/home/xing/Share/Projects/Sanmed/cell_seg/Data/20201020/valid/655107_656676_10000/masks/mask_138_0.png\n",
      "139\n",
      "(2048, 2448)\n",
      "168.0\n",
      "/home/xing/Share/Projects/Sanmed/cell_seg/Data/20201020/valid/655107_656676_10000/masks/mask_139_0.png\n",
      "141\n",
      "(2048, 2448)\n",
      "164.0\n",
      "/home/xing/Share/Projects/Sanmed/cell_seg/Data/20201020/valid/655107_656676_10000/masks/mask_141_0.png\n"
     ]
    },
    {
     "name": "stderr",
     "output_type": "stream",
     "text": [
      " 48%|████▊     | 45/93 [00:02<00:02, 19.60it/s]"
     ]
    },
    {
     "name": "stdout",
     "output_type": "stream",
     "text": [
      "143\n",
      "(2048, 2448)\n",
      "127.0\n",
      "/home/xing/Share/Projects/Sanmed/cell_seg/Data/20201020/valid/655107_656676_10000/masks/mask_143_0.png\n",
      "145\n",
      "(2048, 2448)\n",
      "136.5\n",
      "/home/xing/Share/Projects/Sanmed/cell_seg/Data/20201020/valid/655107_656676_10000/masks/mask_145_0.png\n",
      "146\n",
      "(2048, 2448)\n",
      "129.5\n",
      "/home/xing/Share/Projects/Sanmed/cell_seg/Data/20201020/valid/655107_656676_10000/masks/mask_146_0.png\n",
      "147\n",
      "(2048, 2448)\n",
      "170.0\n",
      "/home/xing/Share/Projects/Sanmed/cell_seg/Data/20201020/valid/655107_656676_10000/masks/mask_147_0.png\n",
      "182.0\n"
     ]
    },
    {
     "name": "stderr",
     "output_type": "stream",
     "text": [
      " 53%|█████▎    | 49/93 [00:02<00:02, 18.31it/s]"
     ]
    },
    {
     "name": "stdout",
     "output_type": "stream",
     "text": [
      "/home/xing/Share/Projects/Sanmed/cell_seg/Data/20201020/valid/655107_656676_10000/masks/mask_147_1.png\n",
      "148\n",
      "(2048, 2448)\n",
      "146.0\n",
      "/home/xing/Share/Projects/Sanmed/cell_seg/Data/20201020/valid/655107_656676_10000/masks/mask_148_0.png\n",
      "150\n",
      "(2048, 2448)\n",
      "184.0\n",
      "/home/xing/Share/Projects/Sanmed/cell_seg/Data/20201020/valid/655107_656676_10000/masks/mask_150_0.png\n",
      "152\n",
      "(2048, 2448)\n",
      "102.5\n",
      "/home/xing/Share/Projects/Sanmed/cell_seg/Data/20201020/valid/655107_656676_10000/masks/mask_152_0.png\n",
      "153\n",
      "(2048, 2448)\n",
      "96.0\n",
      "/home/xing/Share/Projects/Sanmed/cell_seg/Data/20201020/valid/655107_656676_10000/masks/mask_153_0.png\n"
     ]
    },
    {
     "name": "stderr",
     "output_type": "stream",
     "text": [
      "\r",
      " 55%|█████▍    | 51/93 [00:02<00:02, 16.73it/s]"
     ]
    },
    {
     "name": "stdout",
     "output_type": "stream",
     "text": [
      "107.5\n",
      "/home/xing/Share/Projects/Sanmed/cell_seg/Data/20201020/valid/655107_656676_10000/masks/mask_153_1.png\n",
      "156\n",
      "(2048, 2448)\n",
      "237.0\n",
      "/home/xing/Share/Projects/Sanmed/cell_seg/Data/20201020/valid/655107_656676_10000/masks/mask_156_0.png\n",
      "158\n",
      "(2048, 2448)\n",
      "165.5\n",
      "/home/xing/Share/Projects/Sanmed/cell_seg/Data/20201020/valid/655107_656676_10000/masks/mask_158_0.png\n",
      "160\n",
      "(2048, 2448)\n",
      "152.0\n",
      "/home/xing/Share/Projects/Sanmed/cell_seg/Data/20201020/valid/655107_656676_10000/masks/mask_160_0.png\n",
      "163\n",
      "(2048, 2448)\n",
      "103.5\n"
     ]
    },
    {
     "name": "stderr",
     "output_type": "stream",
     "text": [
      "\r",
      " 58%|█████▊    | 54/93 [00:03<00:02, 16.72it/s]"
     ]
    },
    {
     "name": "stdout",
     "output_type": "stream",
     "text": [
      "/home/xing/Share/Projects/Sanmed/cell_seg/Data/20201020/valid/655107_656676_10000/masks/mask_163_0.png\n",
      "148.0\n",
      "/home/xing/Share/Projects/Sanmed/cell_seg/Data/20201020/valid/655107_656676_10000/masks/mask_163_1.png\n",
      "164\n",
      "(2048, 2448)\n",
      "199.5\n",
      "/home/xing/Share/Projects/Sanmed/cell_seg/Data/20201020/valid/655107_656676_10000/masks/mask_164_0.png\n",
      "167\n",
      "(2048, 2448)\n",
      "98.5\n",
      "/home/xing/Share/Projects/Sanmed/cell_seg/Data/20201020/valid/655107_656676_10000/masks/mask_167_0.png\n",
      "171\n",
      "(2048, 2448)\n",
      "161.0\n",
      "/home/xing/Share/Projects/Sanmed/cell_seg/Data/20201020/valid/655107_656676_10000/masks/mask_171_0.png\n"
     ]
    },
    {
     "name": "stderr",
     "output_type": "stream",
     "text": [
      " 63%|██████▎   | 59/93 [00:03<00:01, 17.03it/s]"
     ]
    },
    {
     "name": "stdout",
     "output_type": "stream",
     "text": [
      "175\n",
      "(2048, 2448)\n",
      "121.5\n",
      "/home/xing/Share/Projects/Sanmed/cell_seg/Data/20201020/valid/655107_656676_10000/masks/mask_175_0.png\n",
      "176\n",
      "(2048, 2448)\n",
      "186.0\n",
      "/home/xing/Share/Projects/Sanmed/cell_seg/Data/20201020/valid/655107_656676_10000/masks/mask_176_0.png\n",
      "191.0\n",
      "/home/xing/Share/Projects/Sanmed/cell_seg/Data/20201020/valid/655107_656676_10000/masks/mask_176_1.png\n",
      "178\n",
      "(2048, 2448)\n",
      "57.5\n",
      "/home/xing/Share/Projects/Sanmed/cell_seg/Data/20201020/valid/655107_656676_10000/masks/mask_178_0.png\n",
      "179\n",
      "(2048, 2448)\n",
      "100.0\n",
      "/home/xing/Share/Projects/Sanmed/cell_seg/Data/20201020/valid/655107_656676_10000/masks/mask_179_0.png\n"
     ]
    },
    {
     "name": "stderr",
     "output_type": "stream",
     "text": [
      "\r",
      " 67%|██████▋   | 62/93 [00:03<00:01, 17.97it/s]"
     ]
    },
    {
     "name": "stdout",
     "output_type": "stream",
     "text": [
      "181\n",
      "(2048, 2448)\n",
      "119.5\n",
      "/home/xing/Share/Projects/Sanmed/cell_seg/Data/20201020/valid/655107_656676_10000/masks/mask_181_0.png\n",
      "183\n",
      "(2048, 2448)\n",
      "182.0\n",
      "/home/xing/Share/Projects/Sanmed/cell_seg/Data/20201020/valid/655107_656676_10000/masks/mask_183_0.png\n",
      "189\n",
      "(2048, 2448)\n",
      "110.0\n",
      "/home/xing/Share/Projects/Sanmed/cell_seg/Data/20201020/valid/655107_656676_10000/masks/mask_189_0.png\n",
      "113.5\n",
      "/home/xing/Share/Projects/Sanmed/cell_seg/Data/20201020/valid/655107_656676_10000/masks/mask_189_1.png\n"
     ]
    },
    {
     "name": "stderr",
     "output_type": "stream",
     "text": [
      " 71%|███████   | 66/93 [00:03<00:01, 15.57it/s]"
     ]
    },
    {
     "name": "stdout",
     "output_type": "stream",
     "text": [
      "190\n",
      "(2048, 2448)\n",
      "130.5\n",
      "/home/xing/Share/Projects/Sanmed/cell_seg/Data/20201020/valid/655107_656676_10000/masks/mask_190_0.png\n",
      "192\n",
      "(2048, 2448)\n",
      "110.5\n",
      "/home/xing/Share/Projects/Sanmed/cell_seg/Data/20201020/valid/655107_656676_10000/masks/mask_192_0.png\n",
      "91.5\n",
      "/home/xing/Share/Projects/Sanmed/cell_seg/Data/20201020/valid/655107_656676_10000/masks/mask_192_1.png\n",
      "193\n",
      "(2048, 2448)\n",
      "151.0\n",
      "/home/xing/Share/Projects/Sanmed/cell_seg/Data/20201020/valid/655107_656676_10000/masks/mask_193_0.png\n",
      "195\n",
      "(2048, 2448)\n",
      "151.5\n",
      "/home/xing/Share/Projects/Sanmed/cell_seg/Data/20201020/valid/655107_656676_10000/masks/mask_195_0.png\n"
     ]
    },
    {
     "name": "stderr",
     "output_type": "stream",
     "text": [
      " 76%|███████▋  | 71/93 [00:04<00:01, 16.50it/s]"
     ]
    },
    {
     "name": "stdout",
     "output_type": "stream",
     "text": [
      "199\n",
      "(2048, 2448)\n",
      "219.0\n",
      "/home/xing/Share/Projects/Sanmed/cell_seg/Data/20201020/valid/655107_656676_10000/masks/mask_199_0.png\n",
      "200\n",
      "(2048, 2448)\n",
      "119.0\n",
      "/home/xing/Share/Projects/Sanmed/cell_seg/Data/20201020/valid/655107_656676_10000/masks/mask_200_0.png\n",
      "203\n",
      "(2048, 2448)\n",
      "120.5\n",
      "/home/xing/Share/Projects/Sanmed/cell_seg/Data/20201020/valid/655107_656676_10000/masks/mask_203_0.png\n",
      "115.5\n",
      "/home/xing/Share/Projects/Sanmed/cell_seg/Data/20201020/valid/655107_656676_10000/masks/mask_203_1.png\n",
      "208\n",
      "(2048, 2448)\n",
      "76.5\n",
      "/home/xing/Share/Projects/Sanmed/cell_seg/Data/20201020/valid/655107_656676_10000/masks/mask_208_0.png\n"
     ]
    },
    {
     "name": "stderr",
     "output_type": "stream",
     "text": [
      "\r",
      " 80%|███████▉  | 74/93 [00:04<00:01, 17.85it/s]"
     ]
    },
    {
     "name": "stdout",
     "output_type": "stream",
     "text": [
      "209\n",
      "(2048, 2448)\n",
      "87.5\n",
      "/home/xing/Share/Projects/Sanmed/cell_seg/Data/20201020/valid/655107_656676_10000/masks/mask_209_0.png\n",
      "210\n",
      "(2048, 2448)\n",
      "158.0\n",
      "/home/xing/Share/Projects/Sanmed/cell_seg/Data/20201020/valid/655107_656676_10000/masks/mask_210_0.png\n",
      "211\n",
      "(2048, 2448)\n",
      "248.0\n",
      "/home/xing/Share/Projects/Sanmed/cell_seg/Data/20201020/valid/655107_656676_10000/masks/mask_211_0.png\n",
      "214\n",
      "(2048, 2448)\n",
      "97.5\n",
      "/home/xing/Share/Projects/Sanmed/cell_seg/Data/20201020/valid/655107_656676_10000/masks/mask_214_0.png\n",
      "144.5\n"
     ]
    },
    {
     "name": "stderr",
     "output_type": "stream",
     "text": [
      " 85%|████████▍ | 79/93 [00:04<00:00, 17.91it/s]"
     ]
    },
    {
     "name": "stdout",
     "output_type": "stream",
     "text": [
      "/home/xing/Share/Projects/Sanmed/cell_seg/Data/20201020/valid/655107_656676_10000/masks/mask_214_1.png\n",
      "217\n",
      "(2048, 2448)\n",
      "283.5\n",
      "/home/xing/Share/Projects/Sanmed/cell_seg/Data/20201020/valid/655107_656676_10000/masks/mask_217_0.png\n",
      "219\n",
      "(2048, 2448)\n",
      "245.5\n",
      "/home/xing/Share/Projects/Sanmed/cell_seg/Data/20201020/valid/655107_656676_10000/masks/mask_219_0.png\n",
      "221\n",
      "(2048, 2448)\n",
      "317.0\n",
      "/home/xing/Share/Projects/Sanmed/cell_seg/Data/20201020/valid/655107_656676_10000/masks/mask_221_0.png\n",
      "223\n",
      "(2048, 2448)\n",
      "169.0\n",
      "/home/xing/Share/Projects/Sanmed/cell_seg/Data/20201020/valid/655107_656676_10000/masks/mask_223_0.png\n"
     ]
    },
    {
     "name": "stderr",
     "output_type": "stream",
     "text": [
      "\r",
      " 88%|████████▊ | 82/93 [00:04<00:00, 19.27it/s]"
     ]
    },
    {
     "name": "stdout",
     "output_type": "stream",
     "text": [
      "224\n",
      "(2048, 2448)\n",
      "124.0\n",
      "/home/xing/Share/Projects/Sanmed/cell_seg/Data/20201020/valid/655107_656676_10000/masks/mask_224_0.png\n",
      "225\n",
      "(2048, 2448)\n",
      "57.5\n",
      "/home/xing/Share/Projects/Sanmed/cell_seg/Data/20201020/valid/655107_656676_10000/masks/mask_225_0.png\n",
      "226\n",
      "(2048, 2448)\n",
      "125.5\n",
      "/home/xing/Share/Projects/Sanmed/cell_seg/Data/20201020/valid/655107_656676_10000/masks/mask_226_0.png\n",
      "227\n",
      "(2048, 2448)\n",
      "142.0\n",
      "/home/xing/Share/Projects/Sanmed/cell_seg/Data/20201020/valid/655107_656676_10000/masks/mask_227_0.png\n",
      "317.5\n",
      "/home/xing/Share/Projects/Sanmed/cell_seg/Data/20201020/valid/655107_656676_10000/masks/mask_227_1.png\n"
     ]
    },
    {
     "name": "stderr",
     "output_type": "stream",
     "text": [
      "\r",
      " 91%|█████████▏| 85/93 [00:04<00:00, 18.95it/s]"
     ]
    },
    {
     "name": "stdout",
     "output_type": "stream",
     "text": [
      "229\n",
      "(2048, 2448)\n",
      "91.5\n",
      "/home/xing/Share/Projects/Sanmed/cell_seg/Data/20201020/valid/655107_656676_10000/masks/mask_229_0.png\n",
      "237\n",
      "(2048, 2448)\n",
      "93.5\n",
      "/home/xing/Share/Projects/Sanmed/cell_seg/Data/20201020/valid/655107_656676_10000/masks/mask_237_0.png\n",
      "150.0\n",
      "/home/xing/Share/Projects/Sanmed/cell_seg/Data/20201020/valid/655107_656676_10000/masks/mask_237_1.png\n",
      "240\n",
      "(2048, 2448)\n",
      "129.5\n",
      "/home/xing/Share/Projects/Sanmed/cell_seg/Data/20201020/valid/655107_656676_10000/masks/mask_240_0.png\n",
      "257.0\n",
      "/home/xing/Share/Projects/Sanmed/cell_seg/Data/20201020/valid/655107_656676_10000/masks/mask_240_1.png\n"
     ]
    },
    {
     "name": "stderr",
     "output_type": "stream",
     "text": [
      " 97%|█████████▋| 90/93 [00:05<00:00, 16.89it/s]"
     ]
    },
    {
     "name": "stdout",
     "output_type": "stream",
     "text": [
      "241\n",
      "(2048, 2448)\n",
      "111.5\n",
      "/home/xing/Share/Projects/Sanmed/cell_seg/Data/20201020/valid/655107_656676_10000/masks/mask_241_0.png\n",
      "242\n",
      "(2048, 2448)\n",
      "187.5\n",
      "/home/xing/Share/Projects/Sanmed/cell_seg/Data/20201020/valid/655107_656676_10000/masks/mask_242_0.png\n",
      "243\n",
      "(2048, 2448)\n",
      "184.0\n",
      "/home/xing/Share/Projects/Sanmed/cell_seg/Data/20201020/valid/655107_656676_10000/masks/mask_243_0.png\n",
      "306.5\n",
      "/home/xing/Share/Projects/Sanmed/cell_seg/Data/20201020/valid/655107_656676_10000/masks/mask_243_1.png\n",
      "244\n",
      "(2048, 2448)\n",
      "178.0\n",
      "/home/xing/Share/Projects/Sanmed/cell_seg/Data/20201020/valid/655107_656676_10000/masks/mask_244_0.png\n"
     ]
    },
    {
     "name": "stderr",
     "output_type": "stream",
     "text": [
      "100%|██████████| 93/93 [00:05<00:00, 17.69it/s]\n"
     ]
    },
    {
     "name": "stdout",
     "output_type": "stream",
     "text": [
      "245\n",
      "(2048, 2448)\n",
      "153.0\n",
      "/home/xing/Share/Projects/Sanmed/cell_seg/Data/20201020/valid/655107_656676_10000/masks/mask_245_0.png\n",
      "248\n",
      "(2048, 2448)\n",
      "90.5\n",
      "/home/xing/Share/Projects/Sanmed/cell_seg/Data/20201020/valid/655107_656676_10000/masks/mask_248_0.png\n",
      "265.5\n",
      "/home/xing/Share/Projects/Sanmed/cell_seg/Data/20201020/valid/655107_656676_10000/masks/mask_248_1.png\n"
     ]
    },
    {
     "name": "stderr",
     "output_type": "stream",
     "text": [
      "  3%|▎         | 3/100 [00:00<00:04, 23.48it/s]"
     ]
    },
    {
     "name": "stdout",
     "output_type": "stream",
     "text": [
      "50\n",
      "(2048, 2448)\n",
      "116.0\n",
      "/home/xing/Share/Projects/Sanmed/cell_seg/Data/20201020/valid/666955_669496_10000/masks/mask_50_0.png\n",
      "54\n",
      "(2048, 2448)\n",
      "170.5\n",
      "/home/xing/Share/Projects/Sanmed/cell_seg/Data/20201020/valid/666955_669496_10000/masks/mask_54_0.png\n",
      "59\n",
      "(2048, 2448)\n",
      "107.0\n",
      "/home/xing/Share/Projects/Sanmed/cell_seg/Data/20201020/valid/666955_669496_10000/masks/mask_59_0.png\n",
      "61\n",
      "(2048, 2448)\n",
      "157.5\n",
      "/home/xing/Share/Projects/Sanmed/cell_seg/Data/20201020/valid/666955_669496_10000/masks/mask_61_0.png\n",
      "62\n",
      "(2048, 2448)\n",
      "270.0\n",
      "/home/xing/Share/Projects/Sanmed/cell_seg/Data/20201020/valid/666955_669496_10000/masks/mask_62_0.png\n"
     ]
    },
    {
     "name": "stderr",
     "output_type": "stream",
     "text": [
      "\r",
      "  6%|▌         | 6/100 [00:00<00:04, 23.01it/s]"
     ]
    },
    {
     "name": "stdout",
     "output_type": "stream",
     "text": [
      "63\n",
      "(2048, 2448)\n",
      "75.5\n",
      "/home/xing/Share/Projects/Sanmed/cell_seg/Data/20201020/valid/666955_669496_10000/masks/mask_63_0.png\n",
      "66\n",
      "(2048, 2448)\n",
      "208.0\n",
      "/home/xing/Share/Projects/Sanmed/cell_seg/Data/20201020/valid/666955_669496_10000/masks/mask_66_0.png\n",
      "67\n",
      "(2048, 2448)\n",
      "155.5\n",
      "/home/xing/Share/Projects/Sanmed/cell_seg/Data/20201020/valid/666955_669496_10000/masks/mask_67_0.png\n",
      "68\n",
      "(2048, 2448)\n",
      "93.0\n",
      "/home/xing/Share/Projects/Sanmed/cell_seg/Data/20201020/valid/666955_669496_10000/masks/mask_68_0.png\n",
      "160.0\n",
      "/home/xing/Share/Projects/Sanmed/cell_seg/Data/20201020/valid/666955_669496_10000/masks/mask_68_1.png\n"
     ]
    },
    {
     "name": "stderr",
     "output_type": "stream",
     "text": [
      " 12%|█▏        | 12/100 [00:00<00:04, 21.96it/s]"
     ]
    },
    {
     "name": "stdout",
     "output_type": "stream",
     "text": [
      "69\n",
      "(2048, 2448)\n",
      "68.0\n",
      "/home/xing/Share/Projects/Sanmed/cell_seg/Data/20201020/valid/666955_669496_10000/masks/mask_69_0.png\n",
      "73\n",
      "(2048, 2448)\n",
      "103.0\n",
      "/home/xing/Share/Projects/Sanmed/cell_seg/Data/20201020/valid/666955_669496_10000/masks/mask_73_0.png\n",
      "74\n",
      "(2048, 2448)\n",
      "118.0\n",
      "/home/xing/Share/Projects/Sanmed/cell_seg/Data/20201020/valid/666955_669496_10000/masks/mask_74_0.png\n",
      "75\n",
      "(2048, 2448)\n",
      "293.5\n",
      "/home/xing/Share/Projects/Sanmed/cell_seg/Data/20201020/valid/666955_669496_10000/masks/mask_75_0.png\n",
      "129.0\n",
      "/home/xing/Share/Projects/Sanmed/cell_seg/Data/20201020/valid/666955_669496_10000/masks/mask_75_1.png\n"
     ]
    },
    {
     "name": "stderr",
     "output_type": "stream",
     "text": [
      "\r",
      " 14%|█▍        | 14/100 [00:00<00:04, 17.74it/s]"
     ]
    },
    {
     "name": "stdout",
     "output_type": "stream",
     "text": [
      "77\n",
      "(2048, 2448)\n",
      "199.5\n",
      "/home/xing/Share/Projects/Sanmed/cell_seg/Data/20201020/valid/666955_669496_10000/masks/mask_77_0.png\n",
      "319.5\n",
      "/home/xing/Share/Projects/Sanmed/cell_seg/Data/20201020/valid/666955_669496_10000/masks/mask_77_1.png\n",
      "78\n",
      "(2048, 2448)\n",
      "129.5\n",
      "/home/xing/Share/Projects/Sanmed/cell_seg/Data/20201020/valid/666955_669496_10000/masks/mask_78_0.png\n",
      "80\n",
      "(2048, 2448)\n",
      "113.0\n",
      "/home/xing/Share/Projects/Sanmed/cell_seg/Data/20201020/valid/666955_669496_10000/masks/mask_80_0.png\n",
      "155.5\n",
      "/home/xing/Share/Projects/Sanmed/cell_seg/Data/20201020/valid/666955_669496_10000/masks/mask_80_1.png\n"
     ]
    },
    {
     "name": "stderr",
     "output_type": "stream",
     "text": [
      " 19%|█▉        | 19/100 [00:00<00:04, 18.62it/s]"
     ]
    },
    {
     "name": "stdout",
     "output_type": "stream",
     "text": [
      "82\n",
      "(2048, 2448)\n",
      "150.5\n",
      "/home/xing/Share/Projects/Sanmed/cell_seg/Data/20201020/valid/666955_669496_10000/masks/mask_82_0.png\n",
      "84\n",
      "(2048, 2448)\n",
      "115.0\n",
      "/home/xing/Share/Projects/Sanmed/cell_seg/Data/20201020/valid/666955_669496_10000/masks/mask_84_0.png\n",
      "85\n",
      "(2048, 2448)\n",
      "180.0\n",
      "/home/xing/Share/Projects/Sanmed/cell_seg/Data/20201020/valid/666955_669496_10000/masks/mask_85_0.png\n",
      "86\n",
      "(2048, 2448)\n",
      "70.5\n",
      "/home/xing/Share/Projects/Sanmed/cell_seg/Data/20201020/valid/666955_669496_10000/masks/mask_86_0.png\n",
      "87\n",
      "(2048, 2448)\n",
      "158.0\n",
      "/home/xing/Share/Projects/Sanmed/cell_seg/Data/20201020/valid/666955_669496_10000/masks/mask_87_0.png\n"
     ]
    },
    {
     "name": "stderr",
     "output_type": "stream",
     "text": [
      "\r",
      " 21%|██        | 21/100 [00:01<00:04, 17.68it/s]"
     ]
    },
    {
     "name": "stdout",
     "output_type": "stream",
     "text": [
      "105.5\n",
      "/home/xing/Share/Projects/Sanmed/cell_seg/Data/20201020/valid/666955_669496_10000/masks/mask_87_1.png\n",
      "90\n",
      "(2048, 2448)\n",
      "271.0\n",
      "/home/xing/Share/Projects/Sanmed/cell_seg/Data/20201020/valid/666955_669496_10000/masks/mask_90_0.png\n",
      "93\n",
      "(2048, 2448)\n",
      "134.5\n",
      "/home/xing/Share/Projects/Sanmed/cell_seg/Data/20201020/valid/666955_669496_10000/masks/mask_93_0.png\n",
      "153.5\n",
      "/home/xing/Share/Projects/Sanmed/cell_seg/Data/20201020/valid/666955_669496_10000/masks/mask_93_1.png\n",
      "82.0\n",
      "/home/xing/Share/Projects/Sanmed/cell_seg/Data/20201020/valid/666955_669496_10000/masks/mask_93_2.png\n"
     ]
    },
    {
     "name": "stderr",
     "output_type": "stream",
     "text": [
      " 25%|██▌       | 25/100 [00:01<00:04, 16.36it/s]"
     ]
    },
    {
     "name": "stdout",
     "output_type": "stream",
     "text": [
      "94\n",
      "(2048, 2448)\n",
      "155.5\n",
      "/home/xing/Share/Projects/Sanmed/cell_seg/Data/20201020/valid/666955_669496_10000/masks/mask_94_0.png\n",
      "96\n",
      "(2048, 2448)\n",
      "128.0\n",
      "/home/xing/Share/Projects/Sanmed/cell_seg/Data/20201020/valid/666955_669496_10000/masks/mask_96_0.png\n",
      "99\n",
      "(2048, 2448)\n",
      "73.0\n",
      "/home/xing/Share/Projects/Sanmed/cell_seg/Data/20201020/valid/666955_669496_10000/masks/mask_99_0.png\n",
      "100\n",
      "(2048, 2448)\n",
      "58.0\n",
      "/home/xing/Share/Projects/Sanmed/cell_seg/Data/20201020/valid/666955_669496_10000/masks/mask_100_0.png\n"
     ]
    },
    {
     "name": "stderr",
     "output_type": "stream",
     "text": [
      " 29%|██▉       | 29/100 [00:01<00:04, 17.56it/s]"
     ]
    },
    {
     "name": "stdout",
     "output_type": "stream",
     "text": [
      "101\n",
      "(2048, 2448)\n",
      "123.5\n",
      "/home/xing/Share/Projects/Sanmed/cell_seg/Data/20201020/valid/666955_669496_10000/masks/mask_101_0.png\n",
      "102\n",
      "(2048, 2448)\n",
      "138.5\n",
      "/home/xing/Share/Projects/Sanmed/cell_seg/Data/20201020/valid/666955_669496_10000/masks/mask_102_0.png\n",
      "103\n",
      "(2048, 2448)\n",
      "66.0\n",
      "/home/xing/Share/Projects/Sanmed/cell_seg/Data/20201020/valid/666955_669496_10000/masks/mask_103_0.png\n",
      "108\n",
      "(2048, 2448)\n",
      "92.0\n",
      "/home/xing/Share/Projects/Sanmed/cell_seg/Data/20201020/valid/666955_669496_10000/masks/mask_108_0.png\n",
      "111\n",
      "(2048, 2448)\n",
      "197.0\n"
     ]
    },
    {
     "name": "stderr",
     "output_type": "stream",
     "text": [
      " 35%|███▌      | 35/100 [00:01<00:03, 19.74it/s]"
     ]
    },
    {
     "name": "stdout",
     "output_type": "stream",
     "text": [
      "/home/xing/Share/Projects/Sanmed/cell_seg/Data/20201020/valid/666955_669496_10000/masks/mask_111_0.png\n",
      "112\n",
      "(2048, 2448)\n",
      "66.5\n",
      "/home/xing/Share/Projects/Sanmed/cell_seg/Data/20201020/valid/666955_669496_10000/masks/mask_112_0.png\n",
      "113\n",
      "(2048, 2448)\n",
      "75.5\n",
      "/home/xing/Share/Projects/Sanmed/cell_seg/Data/20201020/valid/666955_669496_10000/masks/mask_113_0.png\n",
      "116\n",
      "(2048, 2448)\n",
      "134.5\n",
      "/home/xing/Share/Projects/Sanmed/cell_seg/Data/20201020/valid/666955_669496_10000/masks/mask_116_0.png\n",
      "120\n",
      "(2048, 2448)\n",
      "206.5\n",
      "/home/xing/Share/Projects/Sanmed/cell_seg/Data/20201020/valid/666955_669496_10000/masks/mask_120_0.png\n"
     ]
    },
    {
     "name": "stderr",
     "output_type": "stream",
     "text": [
      "\r",
      " 38%|███▊      | 38/100 [00:01<00:02, 20.84it/s]"
     ]
    },
    {
     "name": "stdout",
     "output_type": "stream",
     "text": [
      "121\n",
      "(2048, 2448)\n",
      "110.5\n",
      "/home/xing/Share/Projects/Sanmed/cell_seg/Data/20201020/valid/666955_669496_10000/masks/mask_121_0.png\n",
      "124\n",
      "(2048, 2448)\n",
      "117.0\n",
      "/home/xing/Share/Projects/Sanmed/cell_seg/Data/20201020/valid/666955_669496_10000/masks/mask_124_0.png\n",
      "128\n",
      "(2048, 2448)\n",
      "125.5\n",
      "/home/xing/Share/Projects/Sanmed/cell_seg/Data/20201020/valid/666955_669496_10000/masks/mask_128_0.png\n",
      "131\n",
      "(2048, 2448)\n",
      "109.0\n",
      "/home/xing/Share/Projects/Sanmed/cell_seg/Data/20201020/valid/666955_669496_10000/masks/mask_131_0.png\n",
      "330.0\n",
      "/home/xing/Share/Projects/Sanmed/cell_seg/Data/20201020/valid/666955_669496_10000/masks/mask_131_1.png\n"
     ]
    },
    {
     "name": "stderr",
     "output_type": "stream",
     "text": [
      "\r",
      " 41%|████      | 41/100 [00:02<00:03, 19.59it/s]"
     ]
    },
    {
     "name": "stdout",
     "output_type": "stream",
     "text": [
      "132\n",
      "(2048, 2448)\n",
      "126.5\n",
      "/home/xing/Share/Projects/Sanmed/cell_seg/Data/20201020/valid/666955_669496_10000/masks/mask_132_0.png\n",
      "134\n",
      "(2048, 2448)\n",
      "224.5\n",
      "/home/xing/Share/Projects/Sanmed/cell_seg/Data/20201020/valid/666955_669496_10000/masks/mask_134_0.png\n",
      "135\n",
      "(2048, 2448)\n",
      "127.0\n",
      "/home/xing/Share/Projects/Sanmed/cell_seg/Data/20201020/valid/666955_669496_10000/masks/mask_135_0.png\n",
      "136\n",
      "(2048, 2448)\n",
      "58.5\n",
      "/home/xing/Share/Projects/Sanmed/cell_seg/Data/20201020/valid/666955_669496_10000/masks/mask_136_0.png\n",
      "217.0\n"
     ]
    },
    {
     "name": "stderr",
     "output_type": "stream",
     "text": [
      " 47%|████▋     | 47/100 [00:02<00:02, 19.05it/s]"
     ]
    },
    {
     "name": "stdout",
     "output_type": "stream",
     "text": [
      "/home/xing/Share/Projects/Sanmed/cell_seg/Data/20201020/valid/666955_669496_10000/masks/mask_136_1.png\n",
      "138\n",
      "(2048, 2448)\n",
      "192.5\n",
      "/home/xing/Share/Projects/Sanmed/cell_seg/Data/20201020/valid/666955_669496_10000/masks/mask_138_0.png\n",
      "139\n",
      "(2048, 2448)\n",
      "117.0\n",
      "/home/xing/Share/Projects/Sanmed/cell_seg/Data/20201020/valid/666955_669496_10000/masks/mask_139_0.png\n",
      "141\n",
      "(2048, 2448)\n",
      "92.5\n",
      "/home/xing/Share/Projects/Sanmed/cell_seg/Data/20201020/valid/666955_669496_10000/masks/mask_141_0.png\n",
      "144\n",
      "(2048, 2448)\n",
      "145.5\n",
      "/home/xing/Share/Projects/Sanmed/cell_seg/Data/20201020/valid/666955_669496_10000/masks/mask_144_0.png\n"
     ]
    },
    {
     "name": "stderr",
     "output_type": "stream",
     "text": [
      "\r",
      " 50%|█████     | 50/100 [00:02<00:02, 20.09it/s]"
     ]
    },
    {
     "name": "stdout",
     "output_type": "stream",
     "text": [
      "145\n",
      "(2048, 2448)\n",
      "187.5\n",
      "/home/xing/Share/Projects/Sanmed/cell_seg/Data/20201020/valid/666955_669496_10000/masks/mask_145_0.png\n",
      "147\n",
      "(2048, 2448)\n",
      "141.0\n",
      "/home/xing/Share/Projects/Sanmed/cell_seg/Data/20201020/valid/666955_669496_10000/masks/mask_147_0.png\n",
      "148\n",
      "(2048, 2448)\n",
      "174.0\n",
      "/home/xing/Share/Projects/Sanmed/cell_seg/Data/20201020/valid/666955_669496_10000/masks/mask_148_0.png\n",
      "152\n",
      "(2048, 2448)\n",
      "224.0\n",
      "/home/xing/Share/Projects/Sanmed/cell_seg/Data/20201020/valid/666955_669496_10000/masks/mask_152_0.png\n",
      "153\n",
      "(2048, 2448)\n",
      "137.0\n"
     ]
    },
    {
     "name": "stderr",
     "output_type": "stream",
     "text": [
      " 56%|█████▌    | 56/100 [00:02<00:02, 20.16it/s]"
     ]
    },
    {
     "name": "stdout",
     "output_type": "stream",
     "text": [
      "/home/xing/Share/Projects/Sanmed/cell_seg/Data/20201020/valid/666955_669496_10000/masks/mask_153_0.png\n",
      "154\n",
      "(2048, 2448)\n",
      "217.0\n",
      "/home/xing/Share/Projects/Sanmed/cell_seg/Data/20201020/valid/666955_669496_10000/masks/mask_154_0.png\n",
      "156\n",
      "(2048, 2448)\n",
      "238.0\n",
      "/home/xing/Share/Projects/Sanmed/cell_seg/Data/20201020/valid/666955_669496_10000/masks/mask_156_0.png\n",
      "157\n",
      "(2048, 2448)\n",
      "138.5\n",
      "/home/xing/Share/Projects/Sanmed/cell_seg/Data/20201020/valid/666955_669496_10000/masks/mask_157_0.png\n",
      "158\n",
      "(2048, 2448)\n",
      "174.0\n",
      "/home/xing/Share/Projects/Sanmed/cell_seg/Data/20201020/valid/666955_669496_10000/masks/mask_158_0.png\n"
     ]
    },
    {
     "name": "stderr",
     "output_type": "stream",
     "text": [
      "\r",
      " 59%|█████▉    | 59/100 [00:03<00:02, 19.31it/s]"
     ]
    },
    {
     "name": "stdout",
     "output_type": "stream",
     "text": [
      "159\n",
      "(2048, 2448)\n",
      "155.5\n",
      "/home/xing/Share/Projects/Sanmed/cell_seg/Data/20201020/valid/666955_669496_10000/masks/mask_159_0.png\n",
      "160\n",
      "(2048, 2448)\n",
      "63.5\n",
      "/home/xing/Share/Projects/Sanmed/cell_seg/Data/20201020/valid/666955_669496_10000/masks/mask_160_0.png\n",
      "107.0\n",
      "/home/xing/Share/Projects/Sanmed/cell_seg/Data/20201020/valid/666955_669496_10000/masks/mask_160_1.png\n",
      "162\n",
      "(2048, 2448)\n",
      "69.0\n",
      "/home/xing/Share/Projects/Sanmed/cell_seg/Data/20201020/valid/666955_669496_10000/masks/mask_162_0.png\n",
      "163\n",
      "(2048, 2448)\n",
      "192.0\n",
      "/home/xing/Share/Projects/Sanmed/cell_seg/Data/20201020/valid/666955_669496_10000/masks/mask_163_0.png\n"
     ]
    },
    {
     "name": "stderr",
     "output_type": "stream",
     "text": [
      "\r",
      " 62%|██████▏   | 62/100 [00:03<00:01, 19.02it/s]"
     ]
    },
    {
     "name": "stdout",
     "output_type": "stream",
     "text": [
      "164\n",
      "(2048, 2448)\n",
      "74.5\n",
      "/home/xing/Share/Projects/Sanmed/cell_seg/Data/20201020/valid/666955_669496_10000/masks/mask_164_0.png\n",
      "202.0\n",
      "/home/xing/Share/Projects/Sanmed/cell_seg/Data/20201020/valid/666955_669496_10000/masks/mask_164_1.png\n",
      "165\n",
      "(2048, 2448)\n",
      "137.0\n",
      "/home/xing/Share/Projects/Sanmed/cell_seg/Data/20201020/valid/666955_669496_10000/masks/mask_165_0.png\n",
      "166\n",
      "(2048, 2448)\n",
      "110.5\n",
      "/home/xing/Share/Projects/Sanmed/cell_seg/Data/20201020/valid/666955_669496_10000/masks/mask_166_0.png\n",
      "167\n",
      "(2048, 2448)\n",
      "94.0\n",
      "/home/xing/Share/Projects/Sanmed/cell_seg/Data/20201020/valid/666955_669496_10000/masks/mask_167_0.png\n"
     ]
    },
    {
     "name": "stderr",
     "output_type": "stream",
     "text": [
      " 68%|██████▊   | 68/100 [00:03<00:01, 20.09it/s]"
     ]
    },
    {
     "name": "stdout",
     "output_type": "stream",
     "text": [
      "87.0\n",
      "/home/xing/Share/Projects/Sanmed/cell_seg/Data/20201020/valid/666955_669496_10000/masks/mask_167_1.png\n",
      "173\n",
      "(2048, 2448)\n",
      "119.5\n",
      "/home/xing/Share/Projects/Sanmed/cell_seg/Data/20201020/valid/666955_669496_10000/masks/mask_173_0.png\n",
      "176\n",
      "(2048, 2448)\n",
      "66.5\n",
      "/home/xing/Share/Projects/Sanmed/cell_seg/Data/20201020/valid/666955_669496_10000/masks/mask_176_0.png\n",
      "177\n",
      "(2048, 2448)\n",
      "222.0\n",
      "/home/xing/Share/Projects/Sanmed/cell_seg/Data/20201020/valid/666955_669496_10000/masks/mask_177_0.png\n",
      "179\n",
      "(2048, 2448)\n",
      "87.5\n",
      "/home/xing/Share/Projects/Sanmed/cell_seg/Data/20201020/valid/666955_669496_10000/masks/mask_179_0.png\n"
     ]
    },
    {
     "name": "stderr",
     "output_type": "stream",
     "text": [
      "\r",
      " 71%|███████   | 71/100 [00:03<00:01, 19.46it/s]"
     ]
    },
    {
     "name": "stdout",
     "output_type": "stream",
     "text": [
      "182\n",
      "(2048, 2448)\n",
      "224.5\n",
      "/home/xing/Share/Projects/Sanmed/cell_seg/Data/20201020/valid/666955_669496_10000/masks/mask_182_0.png\n",
      "183\n",
      "(2048, 2448)\n",
      "115.0\n",
      "/home/xing/Share/Projects/Sanmed/cell_seg/Data/20201020/valid/666955_669496_10000/masks/mask_183_0.png\n",
      "99.0\n",
      "/home/xing/Share/Projects/Sanmed/cell_seg/Data/20201020/valid/666955_669496_10000/masks/mask_183_1.png\n",
      "185\n",
      "(2048, 2448)\n",
      "71.5\n",
      "/home/xing/Share/Projects/Sanmed/cell_seg/Data/20201020/valid/666955_669496_10000/masks/mask_185_0.png\n",
      "187\n",
      "(2048, 2448)\n",
      "207.0\n",
      "/home/xing/Share/Projects/Sanmed/cell_seg/Data/20201020/valid/666955_669496_10000/masks/mask_187_0.png\n"
     ]
    },
    {
     "name": "stderr",
     "output_type": "stream",
     "text": [
      "\r",
      " 74%|███████▍  | 74/100 [00:03<00:01, 20.59it/s]"
     ]
    },
    {
     "name": "stdout",
     "output_type": "stream",
     "text": [
      "188\n",
      "(2048, 2448)\n",
      "145.0\n",
      "/home/xing/Share/Projects/Sanmed/cell_seg/Data/20201020/valid/666955_669496_10000/masks/mask_188_0.png\n",
      "192\n",
      "(2048, 2448)\n",
      "144.0\n",
      "/home/xing/Share/Projects/Sanmed/cell_seg/Data/20201020/valid/666955_669496_10000/masks/mask_192_0.png\n",
      "149.5\n",
      "/home/xing/Share/Projects/Sanmed/cell_seg/Data/20201020/valid/666955_669496_10000/masks/mask_192_1.png\n",
      "197\n",
      "(2048, 2448)\n",
      "167.0\n",
      "/home/xing/Share/Projects/Sanmed/cell_seg/Data/20201020/valid/666955_669496_10000/masks/mask_197_0.png\n",
      "198\n",
      "(2048, 2448)\n",
      "101.5\n"
     ]
    },
    {
     "name": "stderr",
     "output_type": "stream",
     "text": [
      " 80%|████████  | 80/100 [00:04<00:01, 19.20it/s]"
     ]
    },
    {
     "name": "stdout",
     "output_type": "stream",
     "text": [
      "/home/xing/Share/Projects/Sanmed/cell_seg/Data/20201020/valid/666955_669496_10000/masks/mask_198_0.png\n",
      "200\n",
      "(2048, 2448)\n",
      "83.0\n",
      "/home/xing/Share/Projects/Sanmed/cell_seg/Data/20201020/valid/666955_669496_10000/masks/mask_200_0.png\n",
      "203\n",
      "(2048, 2448)\n",
      "120.5\n",
      "/home/xing/Share/Projects/Sanmed/cell_seg/Data/20201020/valid/666955_669496_10000/masks/mask_203_0.png\n",
      "205\n",
      "(2048, 2448)\n",
      "241.5\n",
      "/home/xing/Share/Projects/Sanmed/cell_seg/Data/20201020/valid/666955_669496_10000/masks/mask_205_0.png\n",
      "206\n",
      "(2048, 2448)\n",
      "68.5\n",
      "/home/xing/Share/Projects/Sanmed/cell_seg/Data/20201020/valid/666955_669496_10000/masks/mask_206_0.png\n"
     ]
    },
    {
     "name": "stderr",
     "output_type": "stream",
     "text": [
      "\r",
      " 82%|████████▏ | 82/100 [00:04<00:01, 16.52it/s]"
     ]
    },
    {
     "name": "stdout",
     "output_type": "stream",
     "text": [
      "208\n",
      "(2048, 2448)\n",
      "135.0\n",
      "/home/xing/Share/Projects/Sanmed/cell_seg/Data/20201020/valid/666955_669496_10000/masks/mask_208_0.png\n",
      "66.0\n",
      "/home/xing/Share/Projects/Sanmed/cell_seg/Data/20201020/valid/666955_669496_10000/masks/mask_208_1.png\n",
      "169.5\n",
      "/home/xing/Share/Projects/Sanmed/cell_seg/Data/20201020/valid/666955_669496_10000/masks/mask_208_2.png\n",
      "209\n",
      "(2048, 2448)\n",
      "91.5\n",
      "/home/xing/Share/Projects/Sanmed/cell_seg/Data/20201020/valid/666955_669496_10000/masks/mask_209_0.png\n",
      "211\n",
      "(2048, 2448)\n",
      "93.5\n",
      "/home/xing/Share/Projects/Sanmed/cell_seg/Data/20201020/valid/666955_669496_10000/masks/mask_211_0.png\n",
      "212\n"
     ]
    },
    {
     "name": "stderr",
     "output_type": "stream",
     "text": [
      " 87%|████████▋ | 87/100 [00:04<00:00, 17.62it/s]"
     ]
    },
    {
     "name": "stdout",
     "output_type": "stream",
     "text": [
      "(2048, 2448)\n",
      "130.0\n",
      "/home/xing/Share/Projects/Sanmed/cell_seg/Data/20201020/valid/666955_669496_10000/masks/mask_212_0.png\n",
      "215\n",
      "(2048, 2448)\n",
      "252.5\n",
      "/home/xing/Share/Projects/Sanmed/cell_seg/Data/20201020/valid/666955_669496_10000/masks/mask_215_0.png\n",
      "85.0\n",
      "/home/xing/Share/Projects/Sanmed/cell_seg/Data/20201020/valid/666955_669496_10000/masks/mask_215_1.png\n",
      "216\n",
      "(2048, 2448)\n",
      "69.5\n",
      "/home/xing/Share/Projects/Sanmed/cell_seg/Data/20201020/valid/666955_669496_10000/masks/mask_216_0.png\n",
      "219\n",
      "(2048, 2448)\n",
      "99.0\n",
      "/home/xing/Share/Projects/Sanmed/cell_seg/Data/20201020/valid/666955_669496_10000/masks/mask_219_0.png\n"
     ]
    },
    {
     "name": "stderr",
     "output_type": "stream",
     "text": [
      "\r",
      " 89%|████████▉ | 89/100 [00:04<00:00, 16.99it/s]"
     ]
    },
    {
     "name": "stdout",
     "output_type": "stream",
     "text": [
      "220\n",
      "(2048, 2448)\n",
      "73.0\n",
      "/home/xing/Share/Projects/Sanmed/cell_seg/Data/20201020/valid/666955_669496_10000/masks/mask_220_0.png\n",
      "93.5\n",
      "/home/xing/Share/Projects/Sanmed/cell_seg/Data/20201020/valid/666955_669496_10000/masks/mask_220_1.png\n",
      "225\n",
      "(2048, 2448)\n",
      "208.5\n",
      "/home/xing/Share/Projects/Sanmed/cell_seg/Data/20201020/valid/666955_669496_10000/masks/mask_225_0.png\n",
      "59.0\n",
      "/home/xing/Share/Projects/Sanmed/cell_seg/Data/20201020/valid/666955_669496_10000/masks/mask_225_1.png\n",
      "226\n",
      "(2048, 2448)\n",
      "206.0\n",
      "/home/xing/Share/Projects/Sanmed/cell_seg/Data/20201020/valid/666955_669496_10000/masks/mask_226_0.png\n"
     ]
    },
    {
     "name": "stderr",
     "output_type": "stream",
     "text": [
      " 93%|█████████▎| 93/100 [00:04<00:00, 16.65it/s]"
     ]
    },
    {
     "name": "stdout",
     "output_type": "stream",
     "text": [
      "229\n",
      "(2048, 2448)\n",
      "105.0\n",
      "/home/xing/Share/Projects/Sanmed/cell_seg/Data/20201020/valid/666955_669496_10000/masks/mask_229_0.png\n",
      "232\n",
      "(2048, 2448)\n",
      "164.5\n",
      "/home/xing/Share/Projects/Sanmed/cell_seg/Data/20201020/valid/666955_669496_10000/masks/mask_232_0.png\n",
      "116.5\n",
      "/home/xing/Share/Projects/Sanmed/cell_seg/Data/20201020/valid/666955_669496_10000/masks/mask_232_1.png\n",
      "233\n",
      "(2048, 2448)\n",
      "122.0\n",
      "/home/xing/Share/Projects/Sanmed/cell_seg/Data/20201020/valid/666955_669496_10000/masks/mask_233_0.png\n",
      "246.0\n",
      "/home/xing/Share/Projects/Sanmed/cell_seg/Data/20201020/valid/666955_669496_10000/masks/mask_233_1.png\n",
      "236\n"
     ]
    },
    {
     "name": "stderr",
     "output_type": "stream",
     "text": [
      " 98%|█████████▊| 98/100 [00:05<00:00, 18.29it/s]"
     ]
    },
    {
     "name": "stdout",
     "output_type": "stream",
     "text": [
      "(2048, 2448)\n",
      "281.5\n",
      "/home/xing/Share/Projects/Sanmed/cell_seg/Data/20201020/valid/666955_669496_10000/masks/mask_236_0.png\n",
      "240\n",
      "(2048, 2448)\n",
      "102.5\n",
      "/home/xing/Share/Projects/Sanmed/cell_seg/Data/20201020/valid/666955_669496_10000/masks/mask_240_0.png\n",
      "241\n",
      "(2048, 2448)\n",
      "257.0\n",
      "/home/xing/Share/Projects/Sanmed/cell_seg/Data/20201020/valid/666955_669496_10000/masks/mask_241_0.png\n",
      "243\n",
      "(2048, 2448)\n",
      "220.0\n",
      "/home/xing/Share/Projects/Sanmed/cell_seg/Data/20201020/valid/666955_669496_10000/masks/mask_243_0.png\n",
      "246\n",
      "(2048, 2448)\n",
      "144.0\n",
      "/home/xing/Share/Projects/Sanmed/cell_seg/Data/20201020/valid/666955_669496_10000/masks/mask_246_0.png\n"
     ]
    },
    {
     "name": "stderr",
     "output_type": "stream",
     "text": [
      "100%|██████████| 100/100 [00:05<00:00, 18.95it/s]\n",
      "  0%|          | 0/36 [00:00<?, ?it/s]"
     ]
    },
    {
     "name": "stdout",
     "output_type": "stream",
     "text": [
      "249\n",
      "(2048, 2448)\n",
      "134.0\n",
      "/home/xing/Share/Projects/Sanmed/cell_seg/Data/20201020/valid/666955_669496_10000/masks/mask_249_0.png\n",
      "50\n",
      "(2048, 2448)\n",
      "72.0\n",
      "/home/xing/Share/Projects/Sanmed/cell_seg/Data/20201020/valid/711426_714526_10000/masks/mask_50_0.png\n"
     ]
    },
    {
     "name": "stderr",
     "output_type": "stream",
     "text": [
      " 11%|█         | 4/36 [00:00<00:01, 19.69it/s]"
     ]
    },
    {
     "name": "stdout",
     "output_type": "stream",
     "text": [
      "58\n",
      "(2048, 2448)\n",
      "210.5\n",
      "/home/xing/Share/Projects/Sanmed/cell_seg/Data/20201020/valid/711426_714526_10000/masks/mask_58_0.png\n",
      "60\n",
      "(2048, 2448)\n",
      "99.0\n",
      "/home/xing/Share/Projects/Sanmed/cell_seg/Data/20201020/valid/711426_714526_10000/masks/mask_60_0.png\n",
      "64\n",
      "(2048, 2448)\n",
      "116.5\n",
      "/home/xing/Share/Projects/Sanmed/cell_seg/Data/20201020/valid/711426_714526_10000/masks/mask_64_0.png\n",
      "65\n",
      "(2048, 2448)\n",
      "157.5\n",
      "/home/xing/Share/Projects/Sanmed/cell_seg/Data/20201020/valid/711426_714526_10000/masks/mask_65_0.png\n",
      "69\n"
     ]
    },
    {
     "name": "stderr",
     "output_type": "stream",
     "text": [
      "\r",
      " 19%|█▉        | 7/36 [00:00<00:01, 20.13it/s]"
     ]
    },
    {
     "name": "stdout",
     "output_type": "stream",
     "text": [
      "(2048, 2448)\n",
      "105.0\n",
      "/home/xing/Share/Projects/Sanmed/cell_seg/Data/20201020/valid/711426_714526_10000/masks/mask_69_0.png\n",
      "77\n",
      "(2048, 2448)\n",
      "112.0\n",
      "/home/xing/Share/Projects/Sanmed/cell_seg/Data/20201020/valid/711426_714526_10000/masks/mask_77_0.png\n",
      "82\n",
      "(2048, 2448)\n",
      "123.0\n",
      "/home/xing/Share/Projects/Sanmed/cell_seg/Data/20201020/valid/711426_714526_10000/masks/mask_82_0.png\n",
      "86\n",
      "(2048, 2448)\n",
      "78.5\n",
      "/home/xing/Share/Projects/Sanmed/cell_seg/Data/20201020/valid/711426_714526_10000/masks/mask_86_0.png\n",
      "94\n",
      "(2048, 2448)\n",
      "105.0\n",
      "/home/xing/Share/Projects/Sanmed/cell_seg/Data/20201020/valid/711426_714526_10000/masks/mask_94_0.png\n"
     ]
    },
    {
     "name": "stderr",
     "output_type": "stream",
     "text": [
      " 36%|███▌      | 13/36 [00:00<00:01, 21.49it/s]"
     ]
    },
    {
     "name": "stdout",
     "output_type": "stream",
     "text": [
      "95\n",
      "(2048, 2448)\n",
      "72.5\n",
      "/home/xing/Share/Projects/Sanmed/cell_seg/Data/20201020/valid/711426_714526_10000/masks/mask_95_0.png\n",
      "99\n",
      "(2048, 2448)\n",
      "64.5\n",
      "/home/xing/Share/Projects/Sanmed/cell_seg/Data/20201020/valid/711426_714526_10000/masks/mask_99_0.png\n",
      "118\n",
      "(2048, 2448)\n",
      "131.5\n",
      "/home/xing/Share/Projects/Sanmed/cell_seg/Data/20201020/valid/711426_714526_10000/masks/mask_118_0.png\n",
      "121\n",
      "(2048, 2448)\n",
      "89.5\n",
      "/home/xing/Share/Projects/Sanmed/cell_seg/Data/20201020/valid/711426_714526_10000/masks/mask_121_0.png\n",
      "123\n",
      "(2048, 2448)\n",
      "68.5\n",
      "/home/xing/Share/Projects/Sanmed/cell_seg/Data/20201020/valid/711426_714526_10000/masks/mask_123_0.png\n"
     ]
    },
    {
     "name": "stderr",
     "output_type": "stream",
     "text": [
      " 53%|█████▎    | 19/36 [00:00<00:00, 22.38it/s]"
     ]
    },
    {
     "name": "stdout",
     "output_type": "stream",
     "text": [
      "128\n",
      "(2048, 2448)\n",
      "139.5\n",
      "/home/xing/Share/Projects/Sanmed/cell_seg/Data/20201020/valid/711426_714526_10000/masks/mask_128_0.png\n",
      "131\n",
      "(2048, 2448)\n",
      "76.5\n",
      "/home/xing/Share/Projects/Sanmed/cell_seg/Data/20201020/valid/711426_714526_10000/masks/mask_131_0.png\n",
      "142\n",
      "(2048, 2448)\n",
      "220.0\n",
      "/home/xing/Share/Projects/Sanmed/cell_seg/Data/20201020/valid/711426_714526_10000/masks/mask_142_0.png\n",
      "149\n",
      "(2048, 2448)\n",
      "133.5\n",
      "/home/xing/Share/Projects/Sanmed/cell_seg/Data/20201020/valid/711426_714526_10000/masks/mask_149_0.png\n",
      "153\n",
      "(2048, 2448)\n",
      "63.0\n",
      "/home/xing/Share/Projects/Sanmed/cell_seg/Data/20201020/valid/711426_714526_10000/masks/mask_153_0.png\n"
     ]
    },
    {
     "name": "stderr",
     "output_type": "stream",
     "text": [
      "\r",
      " 61%|██████    | 22/36 [00:00<00:00, 22.63it/s]"
     ]
    },
    {
     "name": "stdout",
     "output_type": "stream",
     "text": [
      "158\n",
      "(2048, 2448)\n",
      "109.5\n",
      "/home/xing/Share/Projects/Sanmed/cell_seg/Data/20201020/valid/711426_714526_10000/masks/mask_158_0.png\n",
      "159\n",
      "(2048, 2448)\n",
      "75.0\n",
      "/home/xing/Share/Projects/Sanmed/cell_seg/Data/20201020/valid/711426_714526_10000/masks/mask_159_0.png\n",
      "164\n",
      "(2048, 2448)\n",
      "216.0\n",
      "/home/xing/Share/Projects/Sanmed/cell_seg/Data/20201020/valid/711426_714526_10000/masks/mask_164_0.png\n",
      "174\n",
      "(2048, 2448)\n",
      "79.0\n",
      "/home/xing/Share/Projects/Sanmed/cell_seg/Data/20201020/valid/711426_714526_10000/masks/mask_174_0.png\n",
      "178\n",
      "(2048, 2448)\n",
      "124.5\n",
      "/home/xing/Share/Projects/Sanmed/cell_seg/Data/20201020/valid/711426_714526_10000/masks/mask_178_0.png\n"
     ]
    },
    {
     "name": "stderr",
     "output_type": "stream",
     "text": [
      " 78%|███████▊  | 28/36 [00:01<00:00, 22.93it/s]"
     ]
    },
    {
     "name": "stdout",
     "output_type": "stream",
     "text": [
      "179\n",
      "(2048, 2448)\n",
      "99.5\n",
      "/home/xing/Share/Projects/Sanmed/cell_seg/Data/20201020/valid/711426_714526_10000/masks/mask_179_0.png\n",
      "180\n",
      "(2048, 2448)\n",
      "102.0\n",
      "/home/xing/Share/Projects/Sanmed/cell_seg/Data/20201020/valid/711426_714526_10000/masks/mask_180_0.png\n",
      "197\n",
      "(2048, 2448)\n",
      "255.0\n",
      "/home/xing/Share/Projects/Sanmed/cell_seg/Data/20201020/valid/711426_714526_10000/masks/mask_197_0.png\n",
      "217\n",
      "(2048, 2448)\n",
      "78.5\n",
      "/home/xing/Share/Projects/Sanmed/cell_seg/Data/20201020/valid/711426_714526_10000/masks/mask_217_0.png\n",
      "224\n",
      "(2048, 2448)\n",
      "166.5\n",
      "/home/xing/Share/Projects/Sanmed/cell_seg/Data/20201020/valid/711426_714526_10000/masks/mask_224_0.png\n"
     ]
    },
    {
     "name": "stderr",
     "output_type": "stream",
     "text": [
      "\r",
      " 86%|████████▌ | 31/36 [00:01<00:00, 21.12it/s]"
     ]
    },
    {
     "name": "stdout",
     "output_type": "stream",
     "text": [
      "63.5\n",
      "/home/xing/Share/Projects/Sanmed/cell_seg/Data/20201020/valid/711426_714526_10000/masks/mask_224_1.png\n",
      "225\n",
      "(2048, 2448)\n",
      "69.5\n",
      "/home/xing/Share/Projects/Sanmed/cell_seg/Data/20201020/valid/711426_714526_10000/masks/mask_225_0.png\n",
      "228\n",
      "(2048, 2448)\n",
      "173.0\n",
      "/home/xing/Share/Projects/Sanmed/cell_seg/Data/20201020/valid/711426_714526_10000/masks/mask_228_0.png\n",
      "231\n",
      "(2048, 2448)\n",
      "239.5\n",
      "/home/xing/Share/Projects/Sanmed/cell_seg/Data/20201020/valid/711426_714526_10000/masks/mask_231_0.png\n",
      "235\n",
      "(2048, 2448)\n",
      "309.5\n",
      "/home/xing/Share/Projects/Sanmed/cell_seg/Data/20201020/valid/711426_714526_10000/masks/mask_235_0.png\n"
     ]
    },
    {
     "name": "stderr",
     "output_type": "stream",
     "text": [
      "100%|██████████| 36/36 [00:01<00:00, 21.88it/s]\n"
     ]
    },
    {
     "name": "stdout",
     "output_type": "stream",
     "text": [
      "242\n",
      "(2048, 2448)\n",
      "118.0\n",
      "/home/xing/Share/Projects/Sanmed/cell_seg/Data/20201020/valid/711426_714526_10000/masks/mask_242_0.png\n",
      "245\n",
      "(2048, 2448)\n",
      "203.0\n",
      "/home/xing/Share/Projects/Sanmed/cell_seg/Data/20201020/valid/711426_714526_10000/masks/mask_245_0.png\n"
     ]
    },
    {
     "name": "stderr",
     "output_type": "stream",
     "text": [
      "  2%|▏         | 2/96 [00:00<00:04, 19.00it/s]"
     ]
    },
    {
     "name": "stdout",
     "output_type": "stream",
     "text": [
      "50\n",
      "(2048, 2448)\n",
      "157.5\n",
      "/home/xing/Share/Projects/Sanmed/cell_seg/Data/20201020/valid/664843_660804_10000/masks/mask_50_0.png\n",
      "51\n",
      "(2048, 2448)\n",
      "100.5\n",
      "/home/xing/Share/Projects/Sanmed/cell_seg/Data/20201020/valid/664843_660804_10000/masks/mask_51_0.png\n",
      "53\n",
      "(2048, 2448)\n",
      "134.0\n",
      "/home/xing/Share/Projects/Sanmed/cell_seg/Data/20201020/valid/664843_660804_10000/masks/mask_53_0.png\n",
      "57\n",
      "(2048, 2448)\n",
      "161.5\n",
      "/home/xing/Share/Projects/Sanmed/cell_seg/Data/20201020/valid/664843_660804_10000/masks/mask_57_0.png\n"
     ]
    },
    {
     "name": "stderr",
     "output_type": "stream",
     "text": [
      "  6%|▋         | 6/96 [00:00<00:05, 15.74it/s]"
     ]
    },
    {
     "name": "stdout",
     "output_type": "stream",
     "text": [
      "59.0\n",
      "/home/xing/Share/Projects/Sanmed/cell_seg/Data/20201020/valid/664843_660804_10000/masks/mask_57_1.png\n",
      "58\n",
      "(2048, 2448)\n",
      "234.0\n",
      "/home/xing/Share/Projects/Sanmed/cell_seg/Data/20201020/valid/664843_660804_10000/masks/mask_58_0.png\n",
      "145.0\n",
      "/home/xing/Share/Projects/Sanmed/cell_seg/Data/20201020/valid/664843_660804_10000/masks/mask_58_1.png\n",
      "60\n",
      "(2048, 2448)\n",
      "78.5\n",
      "/home/xing/Share/Projects/Sanmed/cell_seg/Data/20201020/valid/664843_660804_10000/masks/mask_60_0.png\n",
      "62\n",
      "(2048, 2448)\n",
      "134.0\n"
     ]
    },
    {
     "name": "stderr",
     "output_type": "stream",
     "text": [
      "\r",
      "  8%|▊         | 8/96 [00:00<00:05, 14.98it/s]"
     ]
    },
    {
     "name": "stdout",
     "output_type": "stream",
     "text": [
      "/home/xing/Share/Projects/Sanmed/cell_seg/Data/20201020/valid/664843_660804_10000/masks/mask_62_0.png\n",
      "104.0\n",
      "/home/xing/Share/Projects/Sanmed/cell_seg/Data/20201020/valid/664843_660804_10000/masks/mask_62_1.png\n",
      "65\n",
      "(2048, 2448)\n",
      "110.0\n",
      "/home/xing/Share/Projects/Sanmed/cell_seg/Data/20201020/valid/664843_660804_10000/masks/mask_65_0.png\n",
      "66\n",
      "(2048, 2448)\n",
      "136.0\n",
      "/home/xing/Share/Projects/Sanmed/cell_seg/Data/20201020/valid/664843_660804_10000/masks/mask_66_0.png\n",
      "67\n",
      "(2048, 2448)\n",
      "142.0\n",
      "/home/xing/Share/Projects/Sanmed/cell_seg/Data/20201020/valid/664843_660804_10000/masks/mask_67_0.png\n"
     ]
    },
    {
     "name": "stderr",
     "output_type": "stream",
     "text": [
      " 12%|█▎        | 12/96 [00:00<00:05, 14.48it/s]"
     ]
    },
    {
     "name": "stdout",
     "output_type": "stream",
     "text": [
      "68\n",
      "(2048, 2448)\n",
      "94.5\n",
      "/home/xing/Share/Projects/Sanmed/cell_seg/Data/20201020/valid/664843_660804_10000/masks/mask_68_0.png\n",
      "87.5\n",
      "/home/xing/Share/Projects/Sanmed/cell_seg/Data/20201020/valid/664843_660804_10000/masks/mask_68_1.png\n",
      "69\n",
      "(2048, 2448)\n",
      "182.5\n",
      "/home/xing/Share/Projects/Sanmed/cell_seg/Data/20201020/valid/664843_660804_10000/masks/mask_69_0.png\n",
      "60.5\n",
      "/home/xing/Share/Projects/Sanmed/cell_seg/Data/20201020/valid/664843_660804_10000/masks/mask_69_1.png\n",
      "73\n",
      "(2048, 2448)\n",
      "243.5\n",
      "/home/xing/Share/Projects/Sanmed/cell_seg/Data/20201020/valid/664843_660804_10000/masks/mask_73_0.png\n"
     ]
    },
    {
     "name": "stderr",
     "output_type": "stream",
     "text": [
      "\r",
      " 15%|█▍        | 14/96 [00:00<00:06, 13.65it/s]"
     ]
    },
    {
     "name": "stdout",
     "output_type": "stream",
     "text": [
      "150.5\n",
      "/home/xing/Share/Projects/Sanmed/cell_seg/Data/20201020/valid/664843_660804_10000/masks/mask_73_1.png\n",
      "74\n",
      "(2048, 2448)\n",
      "172.5\n",
      "/home/xing/Share/Projects/Sanmed/cell_seg/Data/20201020/valid/664843_660804_10000/masks/mask_74_0.png\n",
      "120.0\n",
      "/home/xing/Share/Projects/Sanmed/cell_seg/Data/20201020/valid/664843_660804_10000/masks/mask_74_1.png\n",
      "75\n",
      "(2048, 2448)\n",
      "135.5\n",
      "/home/xing/Share/Projects/Sanmed/cell_seg/Data/20201020/valid/664843_660804_10000/masks/mask_75_0.png\n",
      "113.5\n",
      "/home/xing/Share/Projects/Sanmed/cell_seg/Data/20201020/valid/664843_660804_10000/masks/mask_75_1.png\n"
     ]
    },
    {
     "name": "stderr",
     "output_type": "stream",
     "text": [
      "\r",
      " 17%|█▋        | 16/96 [00:01<00:06, 12.81it/s]"
     ]
    },
    {
     "name": "stdout",
     "output_type": "stream",
     "text": [
      "158.5\n",
      "/home/xing/Share/Projects/Sanmed/cell_seg/Data/20201020/valid/664843_660804_10000/masks/mask_75_2.png\n",
      "77\n",
      "(2048, 2448)\n",
      "197.0\n",
      "/home/xing/Share/Projects/Sanmed/cell_seg/Data/20201020/valid/664843_660804_10000/masks/mask_77_0.png\n",
      "78\n",
      "(2048, 2448)\n",
      "71.5\n",
      "/home/xing/Share/Projects/Sanmed/cell_seg/Data/20201020/valid/664843_660804_10000/masks/mask_78_0.png\n",
      "79\n",
      "(2048, 2448)\n",
      "106.5\n",
      "/home/xing/Share/Projects/Sanmed/cell_seg/Data/20201020/valid/664843_660804_10000/masks/mask_79_0.png\n",
      "232.5\n",
      "/home/xing/Share/Projects/Sanmed/cell_seg/Data/20201020/valid/664843_660804_10000/masks/mask_79_1.png\n"
     ]
    },
    {
     "name": "stderr",
     "output_type": "stream",
     "text": [
      " 21%|██        | 20/96 [00:01<00:05, 14.22it/s]"
     ]
    },
    {
     "name": "stdout",
     "output_type": "stream",
     "text": [
      "80\n",
      "(2048, 2448)\n",
      "101.5\n",
      "/home/xing/Share/Projects/Sanmed/cell_seg/Data/20201020/valid/664843_660804_10000/masks/mask_80_0.png\n",
      "94.5\n",
      "/home/xing/Share/Projects/Sanmed/cell_seg/Data/20201020/valid/664843_660804_10000/masks/mask_80_1.png\n",
      "82\n",
      "(2048, 2448)\n",
      "181.0\n",
      "/home/xing/Share/Projects/Sanmed/cell_seg/Data/20201020/valid/664843_660804_10000/masks/mask_82_0.png\n",
      "85\n",
      "(2048, 2448)\n",
      "96.0\n",
      "/home/xing/Share/Projects/Sanmed/cell_seg/Data/20201020/valid/664843_660804_10000/masks/mask_85_0.png\n",
      "111.0\n",
      "/home/xing/Share/Projects/Sanmed/cell_seg/Data/20201020/valid/664843_660804_10000/masks/mask_85_1.png\n"
     ]
    },
    {
     "name": "stderr",
     "output_type": "stream",
     "text": [
      " 25%|██▌       | 24/96 [00:01<00:04, 14.40it/s]"
     ]
    },
    {
     "name": "stdout",
     "output_type": "stream",
     "text": [
      "135.5\n",
      "/home/xing/Share/Projects/Sanmed/cell_seg/Data/20201020/valid/664843_660804_10000/masks/mask_85_2.png\n",
      "87\n",
      "(2048, 2448)\n",
      "63.0\n",
      "/home/xing/Share/Projects/Sanmed/cell_seg/Data/20201020/valid/664843_660804_10000/masks/mask_87_0.png\n",
      "89\n",
      "(2048, 2448)\n",
      "240.5\n",
      "/home/xing/Share/Projects/Sanmed/cell_seg/Data/20201020/valid/664843_660804_10000/masks/mask_89_0.png\n",
      "587.0\n",
      "/home/xing/Share/Projects/Sanmed/cell_seg/Data/20201020/valid/664843_660804_10000/masks/mask_89_1.png\n",
      "90\n",
      "(2048, 2448)\n",
      "75.5\n",
      "/home/xing/Share/Projects/Sanmed/cell_seg/Data/20201020/valid/664843_660804_10000/masks/mask_90_0.png\n",
      "92\n",
      "(2048, 2448)\n"
     ]
    },
    {
     "name": "stderr",
     "output_type": "stream",
     "text": [
      "\r",
      " 28%|██▊       | 27/96 [00:01<00:04, 16.35it/s]"
     ]
    },
    {
     "name": "stdout",
     "output_type": "stream",
     "text": [
      "176.0\n",
      "/home/xing/Share/Projects/Sanmed/cell_seg/Data/20201020/valid/664843_660804_10000/masks/mask_92_0.png\n",
      "93\n",
      "(2048, 2448)\n",
      "88.5\n",
      "/home/xing/Share/Projects/Sanmed/cell_seg/Data/20201020/valid/664843_660804_10000/masks/mask_93_0.png\n",
      "95\n",
      "(2048, 2448)\n",
      "63.0\n",
      "/home/xing/Share/Projects/Sanmed/cell_seg/Data/20201020/valid/664843_660804_10000/masks/mask_95_0.png\n",
      "96\n",
      "(2048, 2448)\n",
      "272.5\n",
      "/home/xing/Share/Projects/Sanmed/cell_seg/Data/20201020/valid/664843_660804_10000/masks/mask_96_0.png\n",
      "104\n",
      "(2048, 2448)\n",
      "191.5\n",
      "/home/xing/Share/Projects/Sanmed/cell_seg/Data/20201020/valid/664843_660804_10000/masks/mask_104_0.png\n"
     ]
    },
    {
     "name": "stderr",
     "output_type": "stream",
     "text": [
      " 33%|███▎      | 32/96 [00:02<00:03, 18.05it/s]"
     ]
    },
    {
     "name": "stdout",
     "output_type": "stream",
     "text": [
      "113.0\n",
      "/home/xing/Share/Projects/Sanmed/cell_seg/Data/20201020/valid/664843_660804_10000/masks/mask_104_1.png\n",
      "107\n",
      "(2048, 2448)\n",
      "81.5\n",
      "/home/xing/Share/Projects/Sanmed/cell_seg/Data/20201020/valid/664843_660804_10000/masks/mask_107_0.png\n",
      "109\n",
      "(2048, 2448)\n",
      "91.5\n",
      "/home/xing/Share/Projects/Sanmed/cell_seg/Data/20201020/valid/664843_660804_10000/masks/mask_109_0.png\n",
      "112\n",
      "(2048, 2448)\n",
      "104.5\n",
      "/home/xing/Share/Projects/Sanmed/cell_seg/Data/20201020/valid/664843_660804_10000/masks/mask_112_0.png\n",
      "115\n",
      "(2048, 2448)\n",
      "158.0\n",
      "/home/xing/Share/Projects/Sanmed/cell_seg/Data/20201020/valid/664843_660804_10000/masks/mask_115_0.png\n"
     ]
    },
    {
     "name": "stderr",
     "output_type": "stream",
     "text": [
      "\r",
      " 36%|███▋      | 35/96 [00:02<00:03, 19.27it/s]"
     ]
    },
    {
     "name": "stdout",
     "output_type": "stream",
     "text": [
      "117\n",
      "(2048, 2448)\n",
      "68.5\n",
      "/home/xing/Share/Projects/Sanmed/cell_seg/Data/20201020/valid/664843_660804_10000/masks/mask_117_0.png\n",
      "121\n",
      "(2048, 2448)\n",
      "89.0\n",
      "/home/xing/Share/Projects/Sanmed/cell_seg/Data/20201020/valid/664843_660804_10000/masks/mask_121_0.png\n",
      "122\n",
      "(2048, 2448)\n",
      "163.5\n",
      "/home/xing/Share/Projects/Sanmed/cell_seg/Data/20201020/valid/664843_660804_10000/masks/mask_122_0.png\n",
      "123\n",
      "(2048, 2448)\n",
      "175.0\n",
      "/home/xing/Share/Projects/Sanmed/cell_seg/Data/20201020/valid/664843_660804_10000/masks/mask_123_0.png\n",
      "124\n",
      "(2048, 2448)\n",
      "79.5\n",
      "/home/xing/Share/Projects/Sanmed/cell_seg/Data/20201020/valid/664843_660804_10000/masks/mask_124_0.png\n"
     ]
    },
    {
     "name": "stderr",
     "output_type": "stream",
     "text": [
      "\r",
      " 40%|███▉      | 38/96 [00:02<00:03, 18.80it/s]"
     ]
    },
    {
     "name": "stdout",
     "output_type": "stream",
     "text": [
      "90.0\n",
      "/home/xing/Share/Projects/Sanmed/cell_seg/Data/20201020/valid/664843_660804_10000/masks/mask_124_1.png\n",
      "125\n",
      "(2048, 2448)\n",
      "225.5\n",
      "/home/xing/Share/Projects/Sanmed/cell_seg/Data/20201020/valid/664843_660804_10000/masks/mask_125_0.png\n",
      "192.0\n",
      "/home/xing/Share/Projects/Sanmed/cell_seg/Data/20201020/valid/664843_660804_10000/masks/mask_125_1.png\n",
      "126\n",
      "(2048, 2448)\n",
      "140.5\n",
      "/home/xing/Share/Projects/Sanmed/cell_seg/Data/20201020/valid/664843_660804_10000/masks/mask_126_0.png\n",
      "173.5\n",
      "/home/xing/Share/Projects/Sanmed/cell_seg/Data/20201020/valid/664843_660804_10000/masks/mask_126_1.png\n"
     ]
    },
    {
     "name": "stderr",
     "output_type": "stream",
     "text": [
      " 45%|████▍     | 43/96 [00:02<00:02, 17.93it/s]"
     ]
    },
    {
     "name": "stdout",
     "output_type": "stream",
     "text": [
      "128\n",
      "(2048, 2448)\n",
      "174.5\n",
      "/home/xing/Share/Projects/Sanmed/cell_seg/Data/20201020/valid/664843_660804_10000/masks/mask_128_0.png\n",
      "129\n",
      "(2048, 2448)\n",
      "152.0\n",
      "/home/xing/Share/Projects/Sanmed/cell_seg/Data/20201020/valid/664843_660804_10000/masks/mask_129_0.png\n",
      "132\n",
      "(2048, 2448)\n",
      "199.0\n",
      "/home/xing/Share/Projects/Sanmed/cell_seg/Data/20201020/valid/664843_660804_10000/masks/mask_132_0.png\n",
      "134\n",
      "(2048, 2448)\n",
      "90.0\n",
      "/home/xing/Share/Projects/Sanmed/cell_seg/Data/20201020/valid/664843_660804_10000/masks/mask_134_0.png\n",
      "136\n",
      "(2048, 2448)\n",
      "69.0\n",
      "/home/xing/Share/Projects/Sanmed/cell_seg/Data/20201020/valid/664843_660804_10000/masks/mask_136_0.png\n"
     ]
    },
    {
     "name": "stderr",
     "output_type": "stream",
     "text": [
      " 50%|█████     | 48/96 [00:02<00:02, 17.77it/s]"
     ]
    },
    {
     "name": "stdout",
     "output_type": "stream",
     "text": [
      "116.5\n",
      "/home/xing/Share/Projects/Sanmed/cell_seg/Data/20201020/valid/664843_660804_10000/masks/mask_136_1.png\n",
      "138\n",
      "(2048, 2448)\n",
      "83.5\n",
      "/home/xing/Share/Projects/Sanmed/cell_seg/Data/20201020/valid/664843_660804_10000/masks/mask_138_0.png\n",
      "140\n",
      "(2048, 2448)\n",
      "198.0\n",
      "/home/xing/Share/Projects/Sanmed/cell_seg/Data/20201020/valid/664843_660804_10000/masks/mask_140_0.png\n",
      "142\n",
      "(2048, 2448)\n",
      "65.5\n",
      "/home/xing/Share/Projects/Sanmed/cell_seg/Data/20201020/valid/664843_660804_10000/masks/mask_142_0.png\n",
      "108.0\n",
      "/home/xing/Share/Projects/Sanmed/cell_seg/Data/20201020/valid/664843_660804_10000/masks/mask_142_1.png\n",
      "150\n",
      "(2048, 2448)\n"
     ]
    },
    {
     "name": "stderr",
     "output_type": "stream",
     "text": [
      "\r",
      " 52%|█████▏    | 50/96 [00:03<00:02, 16.17it/s]"
     ]
    },
    {
     "name": "stdout",
     "output_type": "stream",
     "text": [
      "208.0\n",
      "/home/xing/Share/Projects/Sanmed/cell_seg/Data/20201020/valid/664843_660804_10000/masks/mask_150_0.png\n",
      "153\n",
      "(2048, 2448)\n",
      "315.0\n",
      "/home/xing/Share/Projects/Sanmed/cell_seg/Data/20201020/valid/664843_660804_10000/masks/mask_153_0.png\n",
      "144.5\n",
      "/home/xing/Share/Projects/Sanmed/cell_seg/Data/20201020/valid/664843_660804_10000/masks/mask_153_1.png\n",
      "155\n",
      "(2048, 2448)\n",
      "128.0\n",
      "/home/xing/Share/Projects/Sanmed/cell_seg/Data/20201020/valid/664843_660804_10000/masks/mask_155_0.png\n",
      "157\n",
      "(2048, 2448)\n"
     ]
    },
    {
     "name": "stderr",
     "output_type": "stream",
     "text": [
      " 56%|█████▋    | 54/96 [00:03<00:02, 17.68it/s]"
     ]
    },
    {
     "name": "stdout",
     "output_type": "stream",
     "text": [
      "146.5\n",
      "/home/xing/Share/Projects/Sanmed/cell_seg/Data/20201020/valid/664843_660804_10000/masks/mask_157_0.png\n",
      "158\n",
      "(2048, 2448)\n",
      "93.0\n",
      "/home/xing/Share/Projects/Sanmed/cell_seg/Data/20201020/valid/664843_660804_10000/masks/mask_158_0.png\n",
      "159\n",
      "(2048, 2448)\n",
      "128.0\n",
      "/home/xing/Share/Projects/Sanmed/cell_seg/Data/20201020/valid/664843_660804_10000/masks/mask_159_0.png\n",
      "160\n",
      "(2048, 2448)\n",
      "60.0\n",
      "/home/xing/Share/Projects/Sanmed/cell_seg/Data/20201020/valid/664843_660804_10000/masks/mask_160_0.png\n",
      "165\n"
     ]
    },
    {
     "name": "stderr",
     "output_type": "stream",
     "text": [
      "\r",
      " 58%|█████▊    | 56/96 [00:03<00:02, 17.83it/s]"
     ]
    },
    {
     "name": "stdout",
     "output_type": "stream",
     "text": [
      "(2048, 2448)\n",
      "232.5\n",
      "/home/xing/Share/Projects/Sanmed/cell_seg/Data/20201020/valid/664843_660804_10000/masks/mask_165_0.png\n",
      "166\n",
      "(2048, 2448)\n",
      "176.5\n",
      "/home/xing/Share/Projects/Sanmed/cell_seg/Data/20201020/valid/664843_660804_10000/masks/mask_166_0.png\n",
      "168\n",
      "(2048, 2448)\n",
      "71.0\n",
      "/home/xing/Share/Projects/Sanmed/cell_seg/Data/20201020/valid/664843_660804_10000/masks/mask_168_0.png\n",
      "194.5\n",
      "/home/xing/Share/Projects/Sanmed/cell_seg/Data/20201020/valid/664843_660804_10000/masks/mask_168_1.png\n"
     ]
    },
    {
     "name": "stderr",
     "output_type": "stream",
     "text": [
      " 64%|██████▎   | 61/96 [00:03<00:01, 17.51it/s]"
     ]
    },
    {
     "name": "stdout",
     "output_type": "stream",
     "text": [
      "170\n",
      "(2048, 2448)\n",
      "69.5\n",
      "/home/xing/Share/Projects/Sanmed/cell_seg/Data/20201020/valid/664843_660804_10000/masks/mask_170_0.png\n",
      "174\n",
      "(2048, 2448)\n",
      "55.0\n",
      "/home/xing/Share/Projects/Sanmed/cell_seg/Data/20201020/valid/664843_660804_10000/masks/mask_174_0.png\n",
      "175\n",
      "(2048, 2448)\n",
      "174.5\n",
      "/home/xing/Share/Projects/Sanmed/cell_seg/Data/20201020/valid/664843_660804_10000/masks/mask_175_0.png\n",
      "178\n",
      "(2048, 2448)\n",
      "43.5\n",
      "/home/xing/Share/Projects/Sanmed/cell_seg/Data/20201020/valid/664843_660804_10000/masks/mask_178_0.png\n",
      "180.0\n"
     ]
    },
    {
     "name": "stderr",
     "output_type": "stream",
     "text": [
      "\r",
      " 66%|██████▌   | 63/96 [00:03<00:02, 15.38it/s]"
     ]
    },
    {
     "name": "stdout",
     "output_type": "stream",
     "text": [
      "/home/xing/Share/Projects/Sanmed/cell_seg/Data/20201020/valid/664843_660804_10000/masks/mask_178_1.png\n",
      "180\n",
      "(2048, 2448)\n",
      "109.5\n",
      "/home/xing/Share/Projects/Sanmed/cell_seg/Data/20201020/valid/664843_660804_10000/masks/mask_180_0.png\n",
      "74.5\n",
      "/home/xing/Share/Projects/Sanmed/cell_seg/Data/20201020/valid/664843_660804_10000/masks/mask_180_1.png\n",
      "183\n",
      "(2048, 2448)\n",
      "79.0\n",
      "/home/xing/Share/Projects/Sanmed/cell_seg/Data/20201020/valid/664843_660804_10000/masks/mask_183_0.png\n",
      "69.5\n",
      "/home/xing/Share/Projects/Sanmed/cell_seg/Data/20201020/valid/664843_660804_10000/masks/mask_183_1.png\n",
      "186\n",
      "(2048, 2448)\n",
      "62.5\n"
     ]
    },
    {
     "name": "stderr",
     "output_type": "stream",
     "text": [
      " 70%|██████▉   | 67/96 [00:04<00:01, 14.87it/s]"
     ]
    },
    {
     "name": "stdout",
     "output_type": "stream",
     "text": [
      "/home/xing/Share/Projects/Sanmed/cell_seg/Data/20201020/valid/664843_660804_10000/masks/mask_186_0.png\n",
      "187\n",
      "(2048, 2448)\n",
      "188.5\n",
      "/home/xing/Share/Projects/Sanmed/cell_seg/Data/20201020/valid/664843_660804_10000/masks/mask_187_0.png\n",
      "189\n",
      "(2048, 2448)\n",
      "132.5\n",
      "/home/xing/Share/Projects/Sanmed/cell_seg/Data/20201020/valid/664843_660804_10000/masks/mask_189_0.png\n",
      "255.5\n",
      "/home/xing/Share/Projects/Sanmed/cell_seg/Data/20201020/valid/664843_660804_10000/masks/mask_189_1.png\n",
      "191\n",
      "(2048, 2448)\n",
      "157.5\n",
      "/home/xing/Share/Projects/Sanmed/cell_seg/Data/20201020/valid/664843_660804_10000/masks/mask_191_0.png\n"
     ]
    },
    {
     "name": "stderr",
     "output_type": "stream",
     "text": [
      "\r",
      " 72%|███████▏  | 69/96 [00:04<00:02, 13.43it/s]"
     ]
    },
    {
     "name": "stdout",
     "output_type": "stream",
     "text": [
      "84.0\n",
      "/home/xing/Share/Projects/Sanmed/cell_seg/Data/20201020/valid/664843_660804_10000/masks/mask_191_1.png\n",
      "192\n",
      "(2048, 2448)\n",
      "73.5\n",
      "/home/xing/Share/Projects/Sanmed/cell_seg/Data/20201020/valid/664843_660804_10000/masks/mask_192_0.png\n",
      "203.0\n",
      "/home/xing/Share/Projects/Sanmed/cell_seg/Data/20201020/valid/664843_660804_10000/masks/mask_192_1.png\n",
      "193\n",
      "(2048, 2448)\n",
      "241.0\n",
      "/home/xing/Share/Projects/Sanmed/cell_seg/Data/20201020/valid/664843_660804_10000/masks/mask_193_0.png\n",
      "55.0\n",
      "/home/xing/Share/Projects/Sanmed/cell_seg/Data/20201020/valid/664843_660804_10000/masks/mask_193_1.png\n"
     ]
    },
    {
     "name": "stderr",
     "output_type": "stream",
     "text": [
      "\r",
      " 74%|███████▍  | 71/96 [00:04<00:02, 11.87it/s]"
     ]
    },
    {
     "name": "stdout",
     "output_type": "stream",
     "text": [
      "114.5\n",
      "/home/xing/Share/Projects/Sanmed/cell_seg/Data/20201020/valid/664843_660804_10000/masks/mask_193_2.png\n",
      "200\n",
      "(2048, 2448)\n",
      "90.5\n",
      "/home/xing/Share/Projects/Sanmed/cell_seg/Data/20201020/valid/664843_660804_10000/masks/mask_200_0.png\n",
      "73.5\n",
      "/home/xing/Share/Projects/Sanmed/cell_seg/Data/20201020/valid/664843_660804_10000/masks/mask_200_1.png\n",
      "205\n",
      "(2048, 2448)\n",
      "88.5\n",
      "/home/xing/Share/Projects/Sanmed/cell_seg/Data/20201020/valid/664843_660804_10000/masks/mask_205_0.png\n",
      "286.0\n",
      "/home/xing/Share/Projects/Sanmed/cell_seg/Data/20201020/valid/664843_660804_10000/masks/mask_205_1.png\n"
     ]
    },
    {
     "name": "stderr",
     "output_type": "stream",
     "text": [
      "\r",
      " 76%|███████▌  | 73/96 [00:04<00:02, 11.42it/s]"
     ]
    },
    {
     "name": "stdout",
     "output_type": "stream",
     "text": [
      "208\n",
      "(2048, 2448)\n",
      "202.0\n",
      "/home/xing/Share/Projects/Sanmed/cell_seg/Data/20201020/valid/664843_660804_10000/masks/mask_208_0.png\n",
      "82.5\n",
      "/home/xing/Share/Projects/Sanmed/cell_seg/Data/20201020/valid/664843_660804_10000/masks/mask_208_1.png\n",
      "211\n",
      "(2048, 2448)\n",
      "279.5\n",
      "/home/xing/Share/Projects/Sanmed/cell_seg/Data/20201020/valid/664843_660804_10000/masks/mask_211_0.png\n",
      "2.0\n",
      "213\n",
      "(2048, 2448)\n",
      "57.0\n",
      "/home/xing/Share/Projects/Sanmed/cell_seg/Data/20201020/valid/664843_660804_10000/masks/mask_213_0.png\n",
      "118.0\n",
      "/home/xing/Share/Projects/Sanmed/cell_seg/Data/20201020/valid/664843_660804_10000/masks/mask_213_1.png\n"
     ]
    },
    {
     "name": "stderr",
     "output_type": "stream",
     "text": [
      " 81%|████████▏ | 78/96 [00:04<00:01, 14.51it/s]"
     ]
    },
    {
     "name": "stdout",
     "output_type": "stream",
     "text": [
      "215\n",
      "(2048, 2448)\n",
      "169.0\n",
      "/home/xing/Share/Projects/Sanmed/cell_seg/Data/20201020/valid/664843_660804_10000/masks/mask_215_0.png\n",
      "216\n",
      "(2048, 2448)\n",
      "135.0\n",
      "/home/xing/Share/Projects/Sanmed/cell_seg/Data/20201020/valid/664843_660804_10000/masks/mask_216_0.png\n",
      "217\n",
      "(2048, 2448)\n",
      "69.0\n",
      "/home/xing/Share/Projects/Sanmed/cell_seg/Data/20201020/valid/664843_660804_10000/masks/mask_217_0.png\n",
      "221\n",
      "(2048, 2448)\n",
      "92.0\n",
      "/home/xing/Share/Projects/Sanmed/cell_seg/Data/20201020/valid/664843_660804_10000/masks/mask_221_0.png\n",
      "168.5\n",
      "/home/xing/Share/Projects/Sanmed/cell_seg/Data/20201020/valid/664843_660804_10000/masks/mask_221_1.png\n"
     ]
    },
    {
     "name": "stderr",
     "output_type": "stream",
     "text": [
      " 86%|████████▋ | 83/96 [00:05<00:00, 16.26it/s]"
     ]
    },
    {
     "name": "stdout",
     "output_type": "stream",
     "text": [
      "222\n",
      "(2048, 2448)\n",
      "108.0\n",
      "/home/xing/Share/Projects/Sanmed/cell_seg/Data/20201020/valid/664843_660804_10000/masks/mask_222_0.png\n",
      "226\n",
      "(2048, 2448)\n",
      "64.5\n",
      "/home/xing/Share/Projects/Sanmed/cell_seg/Data/20201020/valid/664843_660804_10000/masks/mask_226_0.png\n",
      "227\n",
      "(2048, 2448)\n",
      "105.0\n",
      "/home/xing/Share/Projects/Sanmed/cell_seg/Data/20201020/valid/664843_660804_10000/masks/mask_227_0.png\n",
      "228\n",
      "(2048, 2448)\n",
      "131.0\n",
      "/home/xing/Share/Projects/Sanmed/cell_seg/Data/20201020/valid/664843_660804_10000/masks/mask_228_0.png\n",
      "229\n",
      "(2048, 2448)\n",
      "75.5\n"
     ]
    },
    {
     "name": "stderr",
     "output_type": "stream",
     "text": [
      "\r",
      " 89%|████████▊ | 85/96 [00:05<00:00, 15.48it/s]"
     ]
    },
    {
     "name": "stdout",
     "output_type": "stream",
     "text": [
      "/home/xing/Share/Projects/Sanmed/cell_seg/Data/20201020/valid/664843_660804_10000/masks/mask_229_0.png\n",
      "125.0\n",
      "/home/xing/Share/Projects/Sanmed/cell_seg/Data/20201020/valid/664843_660804_10000/masks/mask_229_1.png\n",
      "230\n",
      "(2048, 2448)\n",
      "96.0\n",
      "/home/xing/Share/Projects/Sanmed/cell_seg/Data/20201020/valid/664843_660804_10000/masks/mask_230_0.png\n",
      "231\n",
      "(2048, 2448)\n",
      "88.5\n",
      "/home/xing/Share/Projects/Sanmed/cell_seg/Data/20201020/valid/664843_660804_10000/masks/mask_231_0.png\n",
      "233\n",
      "(2048, 2448)\n",
      "176.0\n",
      "/home/xing/Share/Projects/Sanmed/cell_seg/Data/20201020/valid/664843_660804_10000/masks/mask_233_0.png\n"
     ]
    },
    {
     "name": "stderr",
     "output_type": "stream",
     "text": [
      " 94%|█████████▍| 90/96 [00:05<00:00, 15.97it/s]"
     ]
    },
    {
     "name": "stdout",
     "output_type": "stream",
     "text": [
      "235\n",
      "(2048, 2448)\n",
      "167.5\n",
      "/home/xing/Share/Projects/Sanmed/cell_seg/Data/20201020/valid/664843_660804_10000/masks/mask_235_0.png\n",
      "238\n",
      "(2048, 2448)\n",
      "244.0\n",
      "/home/xing/Share/Projects/Sanmed/cell_seg/Data/20201020/valid/664843_660804_10000/masks/mask_238_0.png\n",
      "240\n",
      "(2048, 2448)\n",
      "134.5\n",
      "/home/xing/Share/Projects/Sanmed/cell_seg/Data/20201020/valid/664843_660804_10000/masks/mask_240_0.png\n",
      "117.0\n",
      "/home/xing/Share/Projects/Sanmed/cell_seg/Data/20201020/valid/664843_660804_10000/masks/mask_240_1.png\n",
      "241\n",
      "(2048, 2448)\n",
      "91.5\n"
     ]
    },
    {
     "name": "stderr",
     "output_type": "stream",
     "text": [
      "\r",
      " 97%|█████████▋| 93/96 [00:05<00:00, 16.77it/s]"
     ]
    },
    {
     "name": "stdout",
     "output_type": "stream",
     "text": [
      "/home/xing/Share/Projects/Sanmed/cell_seg/Data/20201020/valid/664843_660804_10000/masks/mask_241_0.png\n",
      "242\n",
      "(2048, 2448)\n",
      "123.0\n",
      "/home/xing/Share/Projects/Sanmed/cell_seg/Data/20201020/valid/664843_660804_10000/masks/mask_242_0.png\n",
      "243\n",
      "(2048, 2448)\n",
      "75.0\n",
      "/home/xing/Share/Projects/Sanmed/cell_seg/Data/20201020/valid/664843_660804_10000/masks/mask_243_0.png\n",
      "245\n",
      "(2048, 2448)\n",
      "246.5\n",
      "/home/xing/Share/Projects/Sanmed/cell_seg/Data/20201020/valid/664843_660804_10000/masks/mask_245_0.png\n",
      "68.5\n"
     ]
    },
    {
     "name": "stderr",
     "output_type": "stream",
     "text": [
      "\r",
      " 99%|█████████▉| 95/96 [00:06<00:00, 12.77it/s]"
     ]
    },
    {
     "name": "stdout",
     "output_type": "stream",
     "text": [
      "/home/xing/Share/Projects/Sanmed/cell_seg/Data/20201020/valid/664843_660804_10000/masks/mask_245_1.png\n",
      "191.5\n",
      "/home/xing/Share/Projects/Sanmed/cell_seg/Data/20201020/valid/664843_660804_10000/masks/mask_245_2.png\n",
      "246\n",
      "(2048, 2448)\n",
      "66.0\n",
      "/home/xing/Share/Projects/Sanmed/cell_seg/Data/20201020/valid/664843_660804_10000/masks/mask_246_0.png\n",
      "231.5\n",
      "/home/xing/Share/Projects/Sanmed/cell_seg/Data/20201020/valid/664843_660804_10000/masks/mask_246_1.png\n",
      "249\n",
      "(2048, 2448)\n",
      "126.5\n",
      "/home/xing/Share/Projects/Sanmed/cell_seg/Data/20201020/valid/664843_660804_10000/masks/mask_249_0.png\n"
     ]
    },
    {
     "name": "stderr",
     "output_type": "stream",
     "text": [
      "100%|██████████| 96/96 [00:06<00:00, 15.66it/s]\n"
     ]
    }
   ],
   "source": [
    "# generate the data according to kaggle format\n",
    "\n",
    "import shutil\n",
    "\n",
    "\n",
    "for mask_file in valid_file_list:\n",
    "    \n",
    "    sid = key_fn(mask_file)\n",
    "    \n",
    "    img_pth = os.path.join(valid_dir,sid+'.jpg')\n",
    "    \n",
    "    folder = os.path.join(valid_dir,sid)\n",
    "    folder_images = os.path.join(folder,'images')\n",
    "    folder_masks = os.path.join(folder,'masks')\n",
    "    \n",
    "    if not os.path.exists(folder):\n",
    "        os.mkdir(folder)\n",
    "        os.mkdir(folder_images)\n",
    "        os.mkdir(folder_masks)\n",
    "    \n",
    "    shutil.copy(img_pth,folder_images)\n",
    "    mask_generation(mask_file,folder_masks)\n"
   ]
  },
  {
   "cell_type": "code",
   "execution_count": null,
   "metadata": {},
   "outputs": [],
   "source": []
  }
 ],
 "metadata": {
  "kernelspec": {
   "display_name": "env_fastai",
   "language": "python",
   "name": "env_fastai"
  },
  "language_info": {
   "codemirror_mode": {
    "name": "ipython",
    "version": 3
   },
   "file_extension": ".py",
   "mimetype": "text/x-python",
   "name": "python",
   "nbconvert_exporter": "python",
   "pygments_lexer": "ipython3",
   "version": "3.6.12"
  }
 },
 "nbformat": 4,
 "nbformat_minor": 4
}
