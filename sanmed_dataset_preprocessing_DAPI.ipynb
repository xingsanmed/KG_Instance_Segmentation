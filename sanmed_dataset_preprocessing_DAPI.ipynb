{
 "cells": [
  {
   "cell_type": "code",
   "execution_count": 1,
   "metadata": {},
   "outputs": [],
   "source": [
    "import os\n",
    "import glob2\n",
    "import numpy as np\n",
    "import pandas as pd\n",
    "import cv2\n",
    "\n",
    "import matplotlib.pyplot as plt"
   ]
  },
  {
   "cell_type": "code",
   "execution_count": 11,
   "metadata": {},
   "outputs": [],
   "source": [
    "base_dir = '/home/xing/Share/Projects/Sanmed/cell_seg/20201127'"
   ]
  },
  {
   "cell_type": "code",
   "execution_count": 2,
   "metadata": {},
   "outputs": [],
   "source": [
    "train_dir = '/home/xing/Share/Projects/Sanmed/cell_seg/20201127/train/DAPI-Low'\n",
    "valid_dir = '/home/xing/Share/Projects/Sanmed/cell_seg/20201127/valid/DAPI-Low'"
   ]
  },
  {
   "cell_type": "code",
   "execution_count": 3,
   "metadata": {},
   "outputs": [],
   "source": [
    "train_file_list = glob2.glob(os.path.join(train_dir,'*'+'.png'))\n",
    "valid_file_list = glob2.glob(os.path.join(valid_dir,'*'+'.png'))"
   ]
  },
  {
   "cell_type": "code",
   "execution_count": 4,
   "metadata": {},
   "outputs": [
    {
     "data": {
      "text/plain": [
       "10"
      ]
     },
     "execution_count": 4,
     "metadata": {},
     "output_type": "execute_result"
    }
   ],
   "source": [
    "len(valid_file_list)"
   ]
  },
  {
   "cell_type": "code",
   "execution_count": 5,
   "metadata": {},
   "outputs": [],
   "source": [
    "key_fn = lambda x: os.path.split(x)[-1].split('.')[0]"
   ]
  },
  {
   "cell_type": "code",
   "execution_count": 8,
   "metadata": {},
   "outputs": [],
   "source": [
    "ID = []\n",
    "mask_path = []\n",
    "image_path = []\n",
    "\n",
    "for mask_file in train_file_list:\n",
    "    \n",
    "    sid = key_fn(mask_file)\n",
    "    ID.append(sid)\n",
    "    mask_path.append(mask_file)\n",
    "    img_pth = os.path.join(train_dir,sid+'.jpg')\n",
    "    image_path.append(img_pth)"
   ]
  },
  {
   "cell_type": "code",
   "execution_count": 9,
   "metadata": {},
   "outputs": [],
   "source": [
    "base_df = pd.DataFrame({'sid':ID,\n",
    "                       'image_path':image_path,\n",
    "                       'mask_path':mask_path})"
   ]
  },
  {
   "cell_type": "code",
   "execution_count": 10,
   "metadata": {},
   "outputs": [
    {
     "data": {
      "text/html": [
       "<div>\n",
       "<style scoped>\n",
       "    .dataframe tbody tr th:only-of-type {\n",
       "        vertical-align: middle;\n",
       "    }\n",
       "\n",
       "    .dataframe tbody tr th {\n",
       "        vertical-align: top;\n",
       "    }\n",
       "\n",
       "    .dataframe thead th {\n",
       "        text-align: right;\n",
       "    }\n",
       "</style>\n",
       "<table border=\"1\" class=\"dataframe\">\n",
       "  <thead>\n",
       "    <tr style=\"text-align: right;\">\n",
       "      <th></th>\n",
       "      <th>sid</th>\n",
       "      <th>image_path</th>\n",
       "      <th>mask_path</th>\n",
       "    </tr>\n",
       "  </thead>\n",
       "  <tbody>\n",
       "    <tr>\n",
       "      <th>0</th>\n",
       "      <td>897068_899051_10000</td>\n",
       "      <td>/home/xing/Share/Projects/Sanmed/cell_seg/2020...</td>\n",
       "      <td>/home/xing/Share/Projects/Sanmed/cell_seg/2020...</td>\n",
       "    </tr>\n",
       "    <tr>\n",
       "      <th>1</th>\n",
       "      <td>1245106_1249759_10000</td>\n",
       "      <td>/home/xing/Share/Projects/Sanmed/cell_seg/2020...</td>\n",
       "      <td>/home/xing/Share/Projects/Sanmed/cell_seg/2020...</td>\n",
       "    </tr>\n",
       "    <tr>\n",
       "      <th>2</th>\n",
       "      <td>809842_806027_10000</td>\n",
       "      <td>/home/xing/Share/Projects/Sanmed/cell_seg/2020...</td>\n",
       "      <td>/home/xing/Share/Projects/Sanmed/cell_seg/2020...</td>\n",
       "    </tr>\n",
       "    <tr>\n",
       "      <th>3</th>\n",
       "      <td>1408274_1406233_10000</td>\n",
       "      <td>/home/xing/Share/Projects/Sanmed/cell_seg/2020...</td>\n",
       "      <td>/home/xing/Share/Projects/Sanmed/cell_seg/2020...</td>\n",
       "    </tr>\n",
       "    <tr>\n",
       "      <th>4</th>\n",
       "      <td>753802_751973_10000</td>\n",
       "      <td>/home/xing/Share/Projects/Sanmed/cell_seg/2020...</td>\n",
       "      <td>/home/xing/Share/Projects/Sanmed/cell_seg/2020...</td>\n",
       "    </tr>\n",
       "  </tbody>\n",
       "</table>\n",
       "</div>"
      ],
      "text/plain": [
       "                     sid                                         image_path  \\\n",
       "0    897068_899051_10000  /home/xing/Share/Projects/Sanmed/cell_seg/2020...   \n",
       "1  1245106_1249759_10000  /home/xing/Share/Projects/Sanmed/cell_seg/2020...   \n",
       "2    809842_806027_10000  /home/xing/Share/Projects/Sanmed/cell_seg/2020...   \n",
       "3  1408274_1406233_10000  /home/xing/Share/Projects/Sanmed/cell_seg/2020...   \n",
       "4    753802_751973_10000  /home/xing/Share/Projects/Sanmed/cell_seg/2020...   \n",
       "\n",
       "                                           mask_path  \n",
       "0  /home/xing/Share/Projects/Sanmed/cell_seg/2020...  \n",
       "1  /home/xing/Share/Projects/Sanmed/cell_seg/2020...  \n",
       "2  /home/xing/Share/Projects/Sanmed/cell_seg/2020...  \n",
       "3  /home/xing/Share/Projects/Sanmed/cell_seg/2020...  \n",
       "4  /home/xing/Share/Projects/Sanmed/cell_seg/2020...  "
      ]
     },
     "execution_count": 10,
     "metadata": {},
     "output_type": "execute_result"
    }
   ],
   "source": [
    "base_df.head()"
   ]
  },
  {
   "cell_type": "code",
   "execution_count": 12,
   "metadata": {},
   "outputs": [],
   "source": [
    "base_df.to_csv(os.path.join(base_dir,'train_df.csv'))"
   ]
  },
  {
   "cell_type": "code",
   "execution_count": 13,
   "metadata": {},
   "outputs": [],
   "source": [
    "def mask_generation(mask,folder):\n",
    "    from tqdm import tqdm\n",
    "    \n",
    "    if isinstance(mask,str):\n",
    "        mask = cv2.imread(mask)\n",
    "        \n",
    "    mask = np.array(mask,np.uint8)\n",
    "    mask_gray = mask[:,:,0].copy()\n",
    "    uniq = np.unique(mask_gray)\n",
    "    instances = np.delete(uniq,[0])\n",
    "    for inst in instances:\n",
    "#         print(inst)\n",
    "        mask_new = np.zeros_like(mask_gray)\n",
    "#         print(mask_new.shape)\n",
    "        mask_new[mask_gray==inst] = 100\n",
    "        \n",
    "        contours,hierarchy = cv2.findContours(mask_new,cv2.RETR_TREE,cv2.CHAIN_APPROX_SIMPLE)\n",
    "        \n",
    "        for idx,contour in enumerate(contours):\n",
    "            mask_sub = np.zeros_like(mask_gray)\n",
    "            area = cv2.contourArea(contour)\n",
    "#             print(area)\n",
    "            if area > 5:\n",
    "                cv2.drawContours(mask_sub,contours,idx,255,-1)\n",
    "                mask_sub = np.where(mask_sub>0,100,0)\n",
    "                mask_nm = os.path.join(folder,'mask_'+str(inst)+'_'+str(idx)+'.png')\n",
    "#                 print(mask_nm)\n",
    "                cv2.imwrite(mask_nm,mask_sub)"
   ]
  },
  {
   "cell_type": "code",
   "execution_count": 14,
   "metadata": {},
   "outputs": [],
   "source": [
    "def generate_folder(output,idx):\n",
    "    \n",
    "    img_folder = os.path.join(output,idx,'images') \n",
    "    msk_folder = os.path.join(output,idx,'masks') \n",
    "    \n",
    "    if not os.path.exists(img_folder):\n",
    "        os.makedirs(img_folder)\n",
    "    if not os.path.exists(msk_folder):\n",
    "        os.makedirs(msk_folder)\n",
    "        \n",
    "    return img_folder,msk_folder"
   ]
  },
  {
   "cell_type": "code",
   "execution_count": 32,
   "metadata": {},
   "outputs": [],
   "source": [
    "def image_pad(img,new_shape):\n",
    "    w,h,_ = img.shape\n",
    "    (w_new,h_new) = new_shape\n",
    "    \n",
    "    pad = (w_new-w,h_new-h)\n",
    "    \n",
    "#     print(pad[0]//2,w_new-(pad[0]//2))\n",
    "    imgNew = np.zeros((w_new,h_new,3))\n",
    "    imgNew[pad[0]//2:w_new-(pad[0]//2),pad[1]//2:h_new-(pad[1]//2),:] = img\n",
    "    \n",
    "    return imgNew"
   ]
  },
  {
   "cell_type": "code",
   "execution_count": 31,
   "metadata": {
    "scrolled": true
   },
   "outputs": [
    {
     "name": "stderr",
     "output_type": "stream",
     "text": [
      "\r",
      "  0%|          | 0/114 [00:00<?, ?it/s]"
     ]
    },
    {
     "name": "stdout",
     "output_type": "stream",
     "text": [
      "256 2304\n",
      "256 2304\n"
     ]
    },
    {
     "name": "stderr",
     "output_type": "stream",
     "text": [
      "\r",
      "  1%|          | 1/114 [00:01<02:16,  1.21s/it]"
     ]
    },
    {
     "name": "stdout",
     "output_type": "stream",
     "text": [
      "256 2304\n",
      "256 2304\n"
     ]
    },
    {
     "name": "stderr",
     "output_type": "stream",
     "text": [
      "\r",
      "  2%|▏         | 2/114 [00:02<02:17,  1.23s/it]"
     ]
    },
    {
     "name": "stdout",
     "output_type": "stream",
     "text": [
      "256 2304\n",
      "256 2304\n"
     ]
    },
    {
     "name": "stderr",
     "output_type": "stream",
     "text": [
      "\r",
      "  3%|▎         | 3/114 [00:03<02:19,  1.25s/it]"
     ]
    },
    {
     "name": "stdout",
     "output_type": "stream",
     "text": [
      "256 2304\n",
      "256 2304\n"
     ]
    },
    {
     "name": "stderr",
     "output_type": "stream",
     "text": [
      "\r",
      "  4%|▎         | 4/114 [00:05<02:31,  1.37s/it]"
     ]
    },
    {
     "name": "stdout",
     "output_type": "stream",
     "text": [
      "256 2304\n",
      "256 2304\n"
     ]
    },
    {
     "name": "stderr",
     "output_type": "stream",
     "text": [
      "\r",
      "  4%|▍         | 5/114 [00:07<02:52,  1.58s/it]"
     ]
    },
    {
     "name": "stdout",
     "output_type": "stream",
     "text": [
      "256 2304\n",
      "256 2304\n"
     ]
    },
    {
     "name": "stderr",
     "output_type": "stream",
     "text": [
      "\r",
      "  5%|▌         | 6/114 [00:08<02:36,  1.45s/it]"
     ]
    },
    {
     "name": "stdout",
     "output_type": "stream",
     "text": [
      "256 2304\n",
      "256 2304\n"
     ]
    },
    {
     "name": "stderr",
     "output_type": "stream",
     "text": [
      "\r",
      "  6%|▌         | 7/114 [00:10<02:42,  1.52s/it]"
     ]
    },
    {
     "name": "stdout",
     "output_type": "stream",
     "text": [
      "256 2304\n",
      "256 2304\n"
     ]
    },
    {
     "name": "stderr",
     "output_type": "stream",
     "text": [
      "\r",
      "  7%|▋         | 8/114 [00:11<02:36,  1.48s/it]"
     ]
    },
    {
     "name": "stdout",
     "output_type": "stream",
     "text": [
      "256 2304\n",
      "256 2304\n"
     ]
    },
    {
     "name": "stderr",
     "output_type": "stream",
     "text": [
      "\r",
      "  8%|▊         | 9/114 [00:14<03:04,  1.75s/it]"
     ]
    },
    {
     "name": "stdout",
     "output_type": "stream",
     "text": [
      "256 2304\n",
      "256 2304\n"
     ]
    },
    {
     "name": "stderr",
     "output_type": "stream",
     "text": [
      "\r",
      "  9%|▉         | 10/114 [00:15<02:46,  1.60s/it]"
     ]
    },
    {
     "name": "stdout",
     "output_type": "stream",
     "text": [
      "256 2304\n",
      "256 2304\n"
     ]
    },
    {
     "name": "stderr",
     "output_type": "stream",
     "text": [
      "\r",
      " 10%|▉         | 11/114 [00:16<02:35,  1.51s/it]"
     ]
    },
    {
     "name": "stdout",
     "output_type": "stream",
     "text": [
      "256 2304\n",
      "256 2304\n"
     ]
    },
    {
     "name": "stderr",
     "output_type": "stream",
     "text": [
      "\r",
      " 11%|█         | 12/114 [00:18<02:52,  1.69s/it]"
     ]
    },
    {
     "name": "stdout",
     "output_type": "stream",
     "text": [
      "256 2304\n",
      "256 2304\n"
     ]
    },
    {
     "name": "stderr",
     "output_type": "stream",
     "text": [
      "\r",
      " 11%|█▏        | 13/114 [00:20<02:37,  1.56s/it]"
     ]
    },
    {
     "name": "stdout",
     "output_type": "stream",
     "text": [
      "256 2304\n",
      "256 2304\n"
     ]
    },
    {
     "name": "stderr",
     "output_type": "stream",
     "text": [
      "\r",
      " 12%|█▏        | 14/114 [00:21<02:21,  1.42s/it]"
     ]
    },
    {
     "name": "stdout",
     "output_type": "stream",
     "text": [
      "256 2304\n",
      "256 2304\n"
     ]
    },
    {
     "name": "stderr",
     "output_type": "stream",
     "text": [
      "\r",
      " 13%|█▎        | 15/114 [00:22<02:20,  1.42s/it]"
     ]
    },
    {
     "name": "stdout",
     "output_type": "stream",
     "text": [
      "256 2304\n",
      "256 2304\n"
     ]
    },
    {
     "name": "stderr",
     "output_type": "stream",
     "text": [
      "\r",
      " 14%|█▍        | 16/114 [00:23<02:12,  1.35s/it]"
     ]
    },
    {
     "name": "stdout",
     "output_type": "stream",
     "text": [
      "256 2304\n",
      "256 2304\n"
     ]
    },
    {
     "name": "stderr",
     "output_type": "stream",
     "text": [
      "\r",
      " 15%|█▍        | 17/114 [00:24<02:04,  1.28s/it]"
     ]
    },
    {
     "name": "stdout",
     "output_type": "stream",
     "text": [
      "256 2304\n",
      "256 2304\n"
     ]
    },
    {
     "name": "stderr",
     "output_type": "stream",
     "text": [
      "\r",
      " 16%|█▌        | 18/114 [00:25<01:52,  1.17s/it]"
     ]
    },
    {
     "name": "stdout",
     "output_type": "stream",
     "text": [
      "256 2304\n",
      "256 2304\n"
     ]
    },
    {
     "name": "stderr",
     "output_type": "stream",
     "text": [
      "\r",
      " 17%|█▋        | 19/114 [00:26<01:52,  1.18s/it]"
     ]
    },
    {
     "name": "stdout",
     "output_type": "stream",
     "text": [
      "256 2304\n",
      "256 2304\n"
     ]
    },
    {
     "name": "stderr",
     "output_type": "stream",
     "text": [
      "\r",
      " 18%|█▊        | 20/114 [00:27<01:46,  1.14s/it]"
     ]
    },
    {
     "name": "stdout",
     "output_type": "stream",
     "text": [
      "256 2304\n",
      "256 2304\n"
     ]
    },
    {
     "name": "stderr",
     "output_type": "stream",
     "text": [
      "\r",
      " 18%|█▊        | 21/114 [00:28<01:40,  1.08s/it]"
     ]
    },
    {
     "name": "stdout",
     "output_type": "stream",
     "text": [
      "256 2304\n",
      "256 2304\n"
     ]
    },
    {
     "name": "stderr",
     "output_type": "stream",
     "text": [
      "\r",
      " 19%|█▉        | 22/114 [00:30<01:58,  1.29s/it]"
     ]
    },
    {
     "name": "stdout",
     "output_type": "stream",
     "text": [
      "256 2304\n",
      "256 2304\n"
     ]
    },
    {
     "name": "stderr",
     "output_type": "stream",
     "text": [
      "\r",
      " 20%|██        | 23/114 [00:31<01:55,  1.27s/it]"
     ]
    },
    {
     "name": "stdout",
     "output_type": "stream",
     "text": [
      "256 2304\n",
      "256 2304\n"
     ]
    },
    {
     "name": "stderr",
     "output_type": "stream",
     "text": [
      "\r",
      " 21%|██        | 24/114 [00:33<01:52,  1.25s/it]"
     ]
    },
    {
     "name": "stdout",
     "output_type": "stream",
     "text": [
      "256 2304\n",
      "256 2304\n"
     ]
    },
    {
     "name": "stderr",
     "output_type": "stream",
     "text": [
      "\r",
      " 22%|██▏       | 25/114 [00:35<02:09,  1.45s/it]"
     ]
    },
    {
     "name": "stdout",
     "output_type": "stream",
     "text": [
      "256 2304\n",
      "256 2304\n"
     ]
    },
    {
     "name": "stderr",
     "output_type": "stream",
     "text": [
      "\r",
      " 23%|██▎       | 26/114 [00:36<02:02,  1.40s/it]"
     ]
    },
    {
     "name": "stdout",
     "output_type": "stream",
     "text": [
      "256 2304\n",
      "256 2304\n"
     ]
    },
    {
     "name": "stderr",
     "output_type": "stream",
     "text": [
      "\r",
      " 24%|██▎       | 27/114 [00:38<02:09,  1.49s/it]"
     ]
    },
    {
     "name": "stdout",
     "output_type": "stream",
     "text": [
      "256 2304\n",
      "256 2304\n"
     ]
    },
    {
     "name": "stderr",
     "output_type": "stream",
     "text": [
      "\r",
      " 25%|██▍       | 28/114 [00:39<02:01,  1.42s/it]"
     ]
    },
    {
     "name": "stdout",
     "output_type": "stream",
     "text": [
      "256 2304\n",
      "256 2304\n"
     ]
    },
    {
     "name": "stderr",
     "output_type": "stream",
     "text": [
      "\r",
      " 25%|██▌       | 29/114 [00:40<02:03,  1.45s/it]"
     ]
    },
    {
     "name": "stdout",
     "output_type": "stream",
     "text": [
      "256 2304\n",
      "256 2304\n"
     ]
    },
    {
     "name": "stderr",
     "output_type": "stream",
     "text": [
      "\r",
      " 26%|██▋       | 30/114 [00:42<02:14,  1.60s/it]"
     ]
    },
    {
     "name": "stdout",
     "output_type": "stream",
     "text": [
      "256 2304\n",
      "256 2304\n"
     ]
    },
    {
     "name": "stderr",
     "output_type": "stream",
     "text": [
      "\r",
      " 27%|██▋       | 31/114 [00:45<02:42,  1.96s/it]"
     ]
    },
    {
     "name": "stdout",
     "output_type": "stream",
     "text": [
      "256 2304\n",
      "256 2304\n"
     ]
    },
    {
     "name": "stderr",
     "output_type": "stream",
     "text": [
      "\r",
      " 28%|██▊       | 32/114 [00:47<02:28,  1.82s/it]"
     ]
    },
    {
     "name": "stdout",
     "output_type": "stream",
     "text": [
      "256 2304\n",
      "256 2304\n"
     ]
    },
    {
     "name": "stderr",
     "output_type": "stream",
     "text": [
      "\r",
      " 29%|██▉       | 33/114 [00:48<02:20,  1.73s/it]"
     ]
    },
    {
     "name": "stdout",
     "output_type": "stream",
     "text": [
      "256 2304\n",
      "256 2304\n"
     ]
    },
    {
     "name": "stderr",
     "output_type": "stream",
     "text": [
      "\r",
      " 30%|██▉       | 34/114 [00:49<02:08,  1.60s/it]"
     ]
    },
    {
     "name": "stdout",
     "output_type": "stream",
     "text": [
      "256 2304\n",
      "256 2304\n"
     ]
    },
    {
     "name": "stderr",
     "output_type": "stream",
     "text": [
      "\r",
      " 31%|███       | 35/114 [00:51<01:55,  1.46s/it]"
     ]
    },
    {
     "name": "stdout",
     "output_type": "stream",
     "text": [
      "256 2304\n",
      "256 2304\n"
     ]
    },
    {
     "name": "stderr",
     "output_type": "stream",
     "text": [
      "\r",
      " 32%|███▏      | 36/114 [00:52<01:52,  1.44s/it]"
     ]
    },
    {
     "name": "stdout",
     "output_type": "stream",
     "text": [
      "256 2304\n",
      "256 2304\n"
     ]
    },
    {
     "name": "stderr",
     "output_type": "stream",
     "text": [
      "\r",
      " 32%|███▏      | 37/114 [00:54<01:59,  1.55s/it]"
     ]
    },
    {
     "name": "stdout",
     "output_type": "stream",
     "text": [
      "256 2304\n",
      "256 2304\n"
     ]
    },
    {
     "name": "stderr",
     "output_type": "stream",
     "text": [
      "\r",
      " 33%|███▎      | 38/114 [00:55<01:51,  1.46s/it]"
     ]
    },
    {
     "name": "stdout",
     "output_type": "stream",
     "text": [
      "256 2304\n",
      "256 2304\n"
     ]
    },
    {
     "name": "stderr",
     "output_type": "stream",
     "text": [
      "\r",
      " 34%|███▍      | 39/114 [00:56<01:45,  1.40s/it]"
     ]
    },
    {
     "name": "stdout",
     "output_type": "stream",
     "text": [
      "256 2304\n",
      "256 2304\n"
     ]
    },
    {
     "name": "stderr",
     "output_type": "stream",
     "text": [
      "\r",
      " 35%|███▌      | 40/114 [00:57<01:40,  1.35s/it]"
     ]
    },
    {
     "name": "stdout",
     "output_type": "stream",
     "text": [
      "256 2304\n",
      "256 2304\n"
     ]
    },
    {
     "name": "stderr",
     "output_type": "stream",
     "text": [
      "\r",
      " 36%|███▌      | 41/114 [00:59<01:37,  1.34s/it]"
     ]
    },
    {
     "name": "stdout",
     "output_type": "stream",
     "text": [
      "256 2304\n",
      "256 2304\n"
     ]
    },
    {
     "name": "stderr",
     "output_type": "stream",
     "text": [
      "\r",
      " 37%|███▋      | 42/114 [01:00<01:36,  1.34s/it]"
     ]
    },
    {
     "name": "stdout",
     "output_type": "stream",
     "text": [
      "256 2304\n",
      "256 2304\n"
     ]
    },
    {
     "name": "stderr",
     "output_type": "stream",
     "text": [
      "\r",
      " 38%|███▊      | 43/114 [01:02<01:41,  1.42s/it]"
     ]
    },
    {
     "name": "stdout",
     "output_type": "stream",
     "text": [
      "256 2304\n",
      "256 2304\n"
     ]
    },
    {
     "name": "stderr",
     "output_type": "stream",
     "text": [
      "\r",
      " 39%|███▊      | 44/114 [01:04<01:51,  1.59s/it]"
     ]
    },
    {
     "name": "stdout",
     "output_type": "stream",
     "text": [
      "256 2304\n",
      "256 2304\n"
     ]
    },
    {
     "name": "stderr",
     "output_type": "stream",
     "text": [
      "\r",
      " 39%|███▉      | 45/114 [01:05<01:39,  1.44s/it]"
     ]
    },
    {
     "name": "stdout",
     "output_type": "stream",
     "text": [
      "256 2304\n",
      "256 2304\n"
     ]
    },
    {
     "name": "stderr",
     "output_type": "stream",
     "text": [
      "\r",
      " 40%|████      | 46/114 [01:06<01:32,  1.36s/it]"
     ]
    },
    {
     "name": "stdout",
     "output_type": "stream",
     "text": [
      "256 2304\n",
      "256 2304\n"
     ]
    },
    {
     "name": "stderr",
     "output_type": "stream",
     "text": [
      "\r",
      " 41%|████      | 47/114 [01:07<01:28,  1.31s/it]"
     ]
    },
    {
     "name": "stdout",
     "output_type": "stream",
     "text": [
      "256 2304\n",
      "256 2304\n"
     ]
    },
    {
     "name": "stderr",
     "output_type": "stream",
     "text": [
      "\r",
      " 42%|████▏     | 48/114 [01:09<01:31,  1.38s/it]"
     ]
    },
    {
     "name": "stdout",
     "output_type": "stream",
     "text": [
      "256 2304\n",
      "256 2304\n"
     ]
    },
    {
     "name": "stderr",
     "output_type": "stream",
     "text": [
      "\r",
      " 43%|████▎     | 49/114 [01:10<01:26,  1.33s/it]"
     ]
    },
    {
     "name": "stdout",
     "output_type": "stream",
     "text": [
      "256 2304\n",
      "256 2304\n"
     ]
    },
    {
     "name": "stderr",
     "output_type": "stream",
     "text": [
      "\r",
      " 44%|████▍     | 50/114 [01:11<01:21,  1.27s/it]"
     ]
    },
    {
     "name": "stdout",
     "output_type": "stream",
     "text": [
      "256 2304\n",
      "256 2304\n"
     ]
    },
    {
     "name": "stderr",
     "output_type": "stream",
     "text": [
      "\r",
      " 45%|████▍     | 51/114 [01:12<01:23,  1.32s/it]"
     ]
    },
    {
     "name": "stdout",
     "output_type": "stream",
     "text": [
      "256 2304\n",
      "256 2304\n"
     ]
    },
    {
     "name": "stderr",
     "output_type": "stream",
     "text": [
      "\r",
      " 46%|████▌     | 52/114 [01:14<01:23,  1.34s/it]"
     ]
    },
    {
     "name": "stdout",
     "output_type": "stream",
     "text": [
      "256 2304\n",
      "256 2304\n"
     ]
    },
    {
     "name": "stderr",
     "output_type": "stream",
     "text": [
      "\r",
      " 46%|████▋     | 53/114 [01:15<01:15,  1.24s/it]"
     ]
    },
    {
     "name": "stdout",
     "output_type": "stream",
     "text": [
      "256 2304\n",
      "256 2304\n"
     ]
    },
    {
     "name": "stderr",
     "output_type": "stream",
     "text": [
      "\r",
      " 47%|████▋     | 54/114 [01:16<01:12,  1.22s/it]"
     ]
    },
    {
     "name": "stdout",
     "output_type": "stream",
     "text": [
      "256 2304\n",
      "256 2304\n"
     ]
    },
    {
     "name": "stderr",
     "output_type": "stream",
     "text": [
      "\r",
      " 48%|████▊     | 55/114 [01:17<01:12,  1.24s/it]"
     ]
    },
    {
     "name": "stdout",
     "output_type": "stream",
     "text": [
      "256 2304\n",
      "256 2304\n"
     ]
    },
    {
     "name": "stderr",
     "output_type": "stream",
     "text": [
      "\r",
      " 49%|████▉     | 56/114 [01:19<01:22,  1.42s/it]"
     ]
    },
    {
     "name": "stdout",
     "output_type": "stream",
     "text": [
      "256 2304\n",
      "256 2304\n"
     ]
    },
    {
     "name": "stderr",
     "output_type": "stream",
     "text": [
      "\r",
      " 50%|█████     | 57/114 [01:20<01:15,  1.33s/it]"
     ]
    },
    {
     "name": "stdout",
     "output_type": "stream",
     "text": [
      "256 2304\n",
      "256 2304\n"
     ]
    },
    {
     "name": "stderr",
     "output_type": "stream",
     "text": [
      "\r",
      " 51%|█████     | 58/114 [01:22<01:16,  1.37s/it]"
     ]
    },
    {
     "name": "stdout",
     "output_type": "stream",
     "text": [
      "256 2304\n",
      "256 2304\n"
     ]
    },
    {
     "name": "stderr",
     "output_type": "stream",
     "text": [
      "\r",
      " 52%|█████▏    | 59/114 [01:23<01:12,  1.31s/it]"
     ]
    },
    {
     "name": "stdout",
     "output_type": "stream",
     "text": [
      "256 2304\n",
      "256 2304\n"
     ]
    },
    {
     "name": "stderr",
     "output_type": "stream",
     "text": [
      "\r",
      " 53%|█████▎    | 60/114 [01:24<01:07,  1.25s/it]"
     ]
    },
    {
     "name": "stdout",
     "output_type": "stream",
     "text": [
      "256 2304\n",
      "256 2304\n"
     ]
    },
    {
     "name": "stderr",
     "output_type": "stream",
     "text": [
      "\r",
      " 54%|█████▎    | 61/114 [01:26<01:15,  1.43s/it]"
     ]
    },
    {
     "name": "stdout",
     "output_type": "stream",
     "text": [
      "256 2304\n",
      "256 2304\n"
     ]
    },
    {
     "name": "stderr",
     "output_type": "stream",
     "text": [
      "\r",
      " 54%|█████▍    | 62/114 [01:27<01:13,  1.42s/it]"
     ]
    },
    {
     "name": "stdout",
     "output_type": "stream",
     "text": [
      "256 2304\n",
      "256 2304\n"
     ]
    },
    {
     "name": "stderr",
     "output_type": "stream",
     "text": [
      "\r",
      " 55%|█████▌    | 63/114 [01:29<01:11,  1.40s/it]"
     ]
    },
    {
     "name": "stdout",
     "output_type": "stream",
     "text": [
      "256 2304\n",
      "256 2304\n"
     ]
    },
    {
     "name": "stderr",
     "output_type": "stream",
     "text": [
      "\r",
      " 56%|█████▌    | 64/114 [01:30<01:14,  1.48s/it]"
     ]
    },
    {
     "name": "stdout",
     "output_type": "stream",
     "text": [
      "256 2304\n",
      "256 2304\n"
     ]
    },
    {
     "name": "stderr",
     "output_type": "stream",
     "text": [
      "\r",
      " 57%|█████▋    | 65/114 [01:32<01:09,  1.41s/it]"
     ]
    },
    {
     "name": "stdout",
     "output_type": "stream",
     "text": [
      "256 2304\n",
      "256 2304\n"
     ]
    },
    {
     "name": "stderr",
     "output_type": "stream",
     "text": [
      "\r",
      " 58%|█████▊    | 66/114 [01:33<01:02,  1.30s/it]"
     ]
    },
    {
     "name": "stdout",
     "output_type": "stream",
     "text": [
      "256 2304\n",
      "256 2304\n"
     ]
    },
    {
     "name": "stderr",
     "output_type": "stream",
     "text": [
      "\r",
      " 59%|█████▉    | 67/114 [01:34<01:01,  1.30s/it]"
     ]
    },
    {
     "name": "stdout",
     "output_type": "stream",
     "text": [
      "256 2304\n",
      "256 2304\n"
     ]
    },
    {
     "name": "stderr",
     "output_type": "stream",
     "text": [
      "\r",
      " 60%|█████▉    | 68/114 [01:35<00:55,  1.21s/it]"
     ]
    },
    {
     "name": "stdout",
     "output_type": "stream",
     "text": [
      "256 2304\n",
      "256 2304\n"
     ]
    },
    {
     "name": "stderr",
     "output_type": "stream",
     "text": [
      "\r",
      " 61%|██████    | 69/114 [01:36<00:51,  1.14s/it]"
     ]
    },
    {
     "name": "stdout",
     "output_type": "stream",
     "text": [
      "256 2304\n",
      "256 2304\n"
     ]
    },
    {
     "name": "stderr",
     "output_type": "stream",
     "text": [
      "\r",
      " 61%|██████▏   | 70/114 [01:37<00:52,  1.19s/it]"
     ]
    },
    {
     "name": "stdout",
     "output_type": "stream",
     "text": [
      "256 2304\n",
      "256 2304\n"
     ]
    },
    {
     "name": "stderr",
     "output_type": "stream",
     "text": [
      "\r",
      " 62%|██████▏   | 71/114 [01:38<00:49,  1.14s/it]"
     ]
    },
    {
     "name": "stdout",
     "output_type": "stream",
     "text": [
      "256 2304\n",
      "256 2304\n"
     ]
    },
    {
     "name": "stderr",
     "output_type": "stream",
     "text": [
      "\r",
      " 63%|██████▎   | 72/114 [01:40<00:50,  1.20s/it]"
     ]
    },
    {
     "name": "stdout",
     "output_type": "stream",
     "text": [
      "256 2304\n",
      "256 2304\n"
     ]
    },
    {
     "name": "stderr",
     "output_type": "stream",
     "text": [
      "\r",
      " 64%|██████▍   | 73/114 [01:41<00:55,  1.35s/it]"
     ]
    },
    {
     "name": "stdout",
     "output_type": "stream",
     "text": [
      "256 2304\n",
      "256 2304\n"
     ]
    },
    {
     "name": "stderr",
     "output_type": "stream",
     "text": [
      "\r",
      " 65%|██████▍   | 74/114 [01:42<00:50,  1.27s/it]"
     ]
    },
    {
     "name": "stdout",
     "output_type": "stream",
     "text": [
      "256 2304\n",
      "256 2304\n"
     ]
    },
    {
     "name": "stderr",
     "output_type": "stream",
     "text": [
      "\r",
      " 66%|██████▌   | 75/114 [01:43<00:46,  1.20s/it]"
     ]
    },
    {
     "name": "stdout",
     "output_type": "stream",
     "text": [
      "256 2304\n",
      "256 2304\n"
     ]
    },
    {
     "name": "stderr",
     "output_type": "stream",
     "text": [
      "\r",
      " 67%|██████▋   | 76/114 [01:45<00:47,  1.26s/it]"
     ]
    },
    {
     "name": "stdout",
     "output_type": "stream",
     "text": [
      "256 2304\n",
      "256 2304\n"
     ]
    },
    {
     "name": "stderr",
     "output_type": "stream",
     "text": [
      "\r",
      " 68%|██████▊   | 77/114 [01:46<00:45,  1.24s/it]"
     ]
    },
    {
     "name": "stdout",
     "output_type": "stream",
     "text": [
      "256 2304\n",
      "256 2304\n"
     ]
    },
    {
     "name": "stderr",
     "output_type": "stream",
     "text": [
      "\r",
      " 68%|██████▊   | 78/114 [01:48<00:49,  1.37s/it]"
     ]
    },
    {
     "name": "stdout",
     "output_type": "stream",
     "text": [
      "256 2304\n",
      "256 2304\n"
     ]
    },
    {
     "name": "stderr",
     "output_type": "stream",
     "text": [
      "\r",
      " 69%|██████▉   | 79/114 [01:49<00:49,  1.43s/it]"
     ]
    },
    {
     "name": "stdout",
     "output_type": "stream",
     "text": [
      "256 2304\n",
      "256 2304\n"
     ]
    },
    {
     "name": "stderr",
     "output_type": "stream",
     "text": [
      "\r",
      " 70%|███████   | 80/114 [01:50<00:43,  1.27s/it]"
     ]
    },
    {
     "name": "stdout",
     "output_type": "stream",
     "text": [
      "256 2304\n",
      "256 2304\n"
     ]
    },
    {
     "name": "stderr",
     "output_type": "stream",
     "text": [
      "\r",
      " 71%|███████   | 81/114 [01:51<00:39,  1.20s/it]"
     ]
    },
    {
     "name": "stdout",
     "output_type": "stream",
     "text": [
      "256 2304\n",
      "256 2304\n"
     ]
    },
    {
     "name": "stderr",
     "output_type": "stream",
     "text": [
      "\r",
      " 72%|███████▏  | 82/114 [01:52<00:36,  1.14s/it]"
     ]
    },
    {
     "name": "stdout",
     "output_type": "stream",
     "text": [
      "256 2304\n",
      "256 2304\n"
     ]
    },
    {
     "name": "stderr",
     "output_type": "stream",
     "text": [
      "\r",
      " 73%|███████▎  | 83/114 [01:53<00:34,  1.12s/it]"
     ]
    },
    {
     "name": "stdout",
     "output_type": "stream",
     "text": [
      "256 2304\n",
      "256 2304\n"
     ]
    },
    {
     "name": "stderr",
     "output_type": "stream",
     "text": [
      "\r",
      " 74%|███████▎  | 84/114 [01:54<00:33,  1.12s/it]"
     ]
    },
    {
     "name": "stdout",
     "output_type": "stream",
     "text": [
      "256 2304\n",
      "256 2304\n"
     ]
    },
    {
     "name": "stderr",
     "output_type": "stream",
     "text": [
      "\r",
      " 75%|███████▍  | 85/114 [01:55<00:32,  1.11s/it]"
     ]
    },
    {
     "name": "stdout",
     "output_type": "stream",
     "text": [
      "256 2304\n",
      "256 2304\n"
     ]
    },
    {
     "name": "stderr",
     "output_type": "stream",
     "text": [
      "\r",
      " 75%|███████▌  | 86/114 [01:57<00:32,  1.15s/it]"
     ]
    },
    {
     "name": "stdout",
     "output_type": "stream",
     "text": [
      "256 2304\n",
      "256 2304\n"
     ]
    },
    {
     "name": "stderr",
     "output_type": "stream",
     "text": [
      "\r",
      " 76%|███████▋  | 87/114 [01:58<00:31,  1.18s/it]"
     ]
    },
    {
     "name": "stdout",
     "output_type": "stream",
     "text": [
      "256 2304\n",
      "256 2304\n"
     ]
    },
    {
     "name": "stderr",
     "output_type": "stream",
     "text": [
      "\r",
      " 77%|███████▋  | 88/114 [01:59<00:29,  1.13s/it]"
     ]
    },
    {
     "name": "stdout",
     "output_type": "stream",
     "text": [
      "256 2304\n",
      "256 2304\n"
     ]
    },
    {
     "name": "stderr",
     "output_type": "stream",
     "text": [
      "\r",
      " 78%|███████▊  | 89/114 [02:00<00:29,  1.17s/it]"
     ]
    },
    {
     "name": "stdout",
     "output_type": "stream",
     "text": [
      "256 2304\n",
      "256 2304\n"
     ]
    },
    {
     "name": "stderr",
     "output_type": "stream",
     "text": [
      "\r",
      " 79%|███████▉  | 90/114 [02:02<00:31,  1.30s/it]"
     ]
    },
    {
     "name": "stdout",
     "output_type": "stream",
     "text": [
      "256 2304\n",
      "256 2304\n"
     ]
    },
    {
     "name": "stderr",
     "output_type": "stream",
     "text": [
      "\r",
      " 80%|███████▉  | 91/114 [02:04<00:35,  1.56s/it]"
     ]
    },
    {
     "name": "stdout",
     "output_type": "stream",
     "text": [
      "256 2304\n",
      "256 2304\n"
     ]
    },
    {
     "name": "stderr",
     "output_type": "stream",
     "text": [
      "\r",
      " 81%|████████  | 92/114 [02:05<00:32,  1.47s/it]"
     ]
    },
    {
     "name": "stdout",
     "output_type": "stream",
     "text": [
      "256 2304\n",
      "256 2304\n"
     ]
    },
    {
     "name": "stderr",
     "output_type": "stream",
     "text": [
      "\r",
      " 82%|████████▏ | 93/114 [02:06<00:27,  1.31s/it]"
     ]
    },
    {
     "name": "stdout",
     "output_type": "stream",
     "text": [
      "256 2304\n",
      "256 2304\n"
     ]
    },
    {
     "name": "stderr",
     "output_type": "stream",
     "text": [
      "\r",
      " 82%|████████▏ | 94/114 [02:07<00:25,  1.25s/it]"
     ]
    },
    {
     "name": "stdout",
     "output_type": "stream",
     "text": [
      "256 2304\n",
      "256 2304\n"
     ]
    },
    {
     "name": "stderr",
     "output_type": "stream",
     "text": [
      "\r",
      " 83%|████████▎ | 95/114 [02:08<00:23,  1.22s/it]"
     ]
    },
    {
     "name": "stdout",
     "output_type": "stream",
     "text": [
      "256 2304\n",
      "256 2304\n"
     ]
    },
    {
     "name": "stderr",
     "output_type": "stream",
     "text": [
      "\r",
      " 84%|████████▍ | 96/114 [02:10<00:23,  1.32s/it]"
     ]
    },
    {
     "name": "stdout",
     "output_type": "stream",
     "text": [
      "256 2304\n",
      "256 2304\n"
     ]
    },
    {
     "name": "stderr",
     "output_type": "stream",
     "text": [
      "\r",
      " 85%|████████▌ | 97/114 [02:11<00:21,  1.29s/it]"
     ]
    },
    {
     "name": "stdout",
     "output_type": "stream",
     "text": [
      "256 2304\n",
      "256 2304\n"
     ]
    },
    {
     "name": "stderr",
     "output_type": "stream",
     "text": [
      "\r",
      " 86%|████████▌ | 98/114 [02:13<00:20,  1.31s/it]"
     ]
    },
    {
     "name": "stdout",
     "output_type": "stream",
     "text": [
      "256 2304\n",
      "256 2304\n"
     ]
    },
    {
     "name": "stderr",
     "output_type": "stream",
     "text": [
      "\r",
      " 87%|████████▋ | 99/114 [02:14<00:18,  1.26s/it]"
     ]
    },
    {
     "name": "stdout",
     "output_type": "stream",
     "text": [
      "256 2304\n",
      "256 2304\n"
     ]
    },
    {
     "name": "stderr",
     "output_type": "stream",
     "text": [
      "\r",
      " 88%|████████▊ | 100/114 [02:15<00:15,  1.14s/it]"
     ]
    },
    {
     "name": "stdout",
     "output_type": "stream",
     "text": [
      "256 2304\n",
      "256 2304\n"
     ]
    },
    {
     "name": "stderr",
     "output_type": "stream",
     "text": [
      "\r",
      " 89%|████████▊ | 101/114 [02:16<00:15,  1.16s/it]"
     ]
    },
    {
     "name": "stdout",
     "output_type": "stream",
     "text": [
      "256 2304\n",
      "256 2304\n"
     ]
    },
    {
     "name": "stderr",
     "output_type": "stream",
     "text": [
      "\r",
      " 89%|████████▉ | 102/114 [02:17<00:13,  1.14s/it]"
     ]
    },
    {
     "name": "stdout",
     "output_type": "stream",
     "text": [
      "256 2304\n",
      "256 2304\n"
     ]
    },
    {
     "name": "stderr",
     "output_type": "stream",
     "text": [
      "\r",
      " 90%|█████████ | 103/114 [02:18<00:12,  1.13s/it]"
     ]
    },
    {
     "name": "stdout",
     "output_type": "stream",
     "text": [
      "256 2304\n",
      "256 2304\n"
     ]
    },
    {
     "name": "stderr",
     "output_type": "stream",
     "text": [
      "\r",
      " 91%|█████████ | 104/114 [02:19<00:11,  1.12s/it]"
     ]
    },
    {
     "name": "stdout",
     "output_type": "stream",
     "text": [
      "256 2304\n",
      "256 2304\n"
     ]
    },
    {
     "name": "stderr",
     "output_type": "stream",
     "text": [
      "\r",
      " 92%|█████████▏| 105/114 [02:20<00:10,  1.12s/it]"
     ]
    },
    {
     "name": "stdout",
     "output_type": "stream",
     "text": [
      "256 2304\n",
      "256 2304\n"
     ]
    },
    {
     "name": "stderr",
     "output_type": "stream",
     "text": [
      "\r",
      " 93%|█████████▎| 106/114 [02:22<00:11,  1.40s/it]"
     ]
    },
    {
     "name": "stdout",
     "output_type": "stream",
     "text": [
      "256 2304\n",
      "256 2304\n"
     ]
    },
    {
     "name": "stderr",
     "output_type": "stream",
     "text": [
      "\r",
      " 94%|█████████▍| 107/114 [02:24<00:09,  1.42s/it]"
     ]
    },
    {
     "name": "stdout",
     "output_type": "stream",
     "text": [
      "256 2304\n",
      "256 2304\n"
     ]
    },
    {
     "name": "stderr",
     "output_type": "stream",
     "text": [
      "\r",
      " 95%|█████████▍| 108/114 [02:25<00:09,  1.51s/it]"
     ]
    },
    {
     "name": "stdout",
     "output_type": "stream",
     "text": [
      "256 2304\n",
      "256 2304\n"
     ]
    },
    {
     "name": "stderr",
     "output_type": "stream",
     "text": [
      "\r",
      " 96%|█████████▌| 109/114 [02:27<00:07,  1.54s/it]"
     ]
    },
    {
     "name": "stdout",
     "output_type": "stream",
     "text": [
      "256 2304\n",
      "256 2304\n"
     ]
    },
    {
     "name": "stderr",
     "output_type": "stream",
     "text": [
      "\r",
      " 96%|█████████▋| 110/114 [02:29<00:06,  1.59s/it]"
     ]
    },
    {
     "name": "stdout",
     "output_type": "stream",
     "text": [
      "256 2304\n",
      "256 2304\n"
     ]
    },
    {
     "name": "stderr",
     "output_type": "stream",
     "text": [
      "\r",
      " 97%|█████████▋| 111/114 [02:30<00:04,  1.61s/it]"
     ]
    },
    {
     "name": "stdout",
     "output_type": "stream",
     "text": [
      "256 2304\n",
      "256 2304\n"
     ]
    },
    {
     "name": "stderr",
     "output_type": "stream",
     "text": [
      "\r",
      " 98%|█████████▊| 112/114 [02:32<00:02,  1.49s/it]"
     ]
    },
    {
     "name": "stdout",
     "output_type": "stream",
     "text": [
      "256 2304\n",
      "256 2304\n"
     ]
    },
    {
     "name": "stderr",
     "output_type": "stream",
     "text": [
      "\r",
      " 99%|█████████▉| 113/114 [02:33<00:01,  1.57s/it]"
     ]
    },
    {
     "name": "stdout",
     "output_type": "stream",
     "text": [
      "256 2304\n",
      "256 2304\n"
     ]
    },
    {
     "name": "stderr",
     "output_type": "stream",
     "text": [
      "100%|██████████| 114/114 [02:35<00:00,  1.36s/it]\n"
     ]
    }
   ],
   "source": [
    "# generate the data according to kaggle format with pathes\n",
    "\n",
    "import shutil\n",
    "from skimage.util.shape import view_as_windows\n",
    "from tqdm import tqdm\n",
    "\n",
    "# input_dir = r''\n",
    "input_dir = r'/home/xing/Share/Projects/Sanmed/cell_seg/20201127/train/DAPI-Low'\n",
    "output_dir = r'/home/xing/Share/Projects/Sanmed/cell_seg/20201127/Dapi_output/train'\n",
    "w = 2560\n",
    "h = 2560\n",
    "pw = 512\n",
    "ph = 512\n",
    "\n",
    "file_list = glob2.glob(os.path.join(input_dir,'*'+'.png'))\n",
    "\n",
    "for mask_pth in tqdm(file_list):\n",
    "    \n",
    "    sid = key_fn(mask_pth)\n",
    "    \n",
    "#     print(sid,mask_pth)\n",
    "    \n",
    "    # step 1: image readin, resize, and patch generation\n",
    "    \n",
    "    img_pth = os.path.join(input_dir,sid+'.jpg')\n",
    "#     print(img_pth)\n",
    "    \n",
    "    image = cv2.imread(img_pth)\n",
    "    mask = cv2.imread(mask_pth)\n",
    "#     print(mask.shape)\n",
    "#     image_new = cv2.resize(image,(w,h),interpolation = cv2.INTER_AREA)\n",
    "#     mask_new = cv2.resize(mask,(w,h),interpolation = cv2.INTER_NEAREST)\n",
    "    image_new = image_pad(image,(w,h))\n",
    "    mask_new = image_pad(mask,(w,h))\n",
    "    \n",
    "    image_patch = view_as_windows(image,(pw,ph,3),(pw//2,ph//2,3))\n",
    "    mask_patch = view_as_windows(mask,(pw,ph,3),(pw//2,ph//2,3))\n",
    "    \n",
    "#     print(sid,image_patch.shape,len(mask_patch))\n",
    "    \n",
    "    for i,(imgs,msks) in enumerate(zip(image_patch,mask_patch)):\n",
    "\n",
    "        for j,(img,msk) in enumerate(zip(imgs,msks)):\n",
    "            \n",
    "            msk = np.squeeze(msk)\n",
    "            img = np.squeeze(img)\n",
    "            \n",
    "            r,c = np.where(msk[:,:,0] > 0)\n",
    "            \n",
    "#             print(len(r))\n",
    "            \n",
    "            if len(r)>50:\n",
    "            \n",
    "                idx = sid+'_'+str(i)+'_'+str(j)\n",
    "\n",
    "                img_folder,msk_folder = generate_folder(output_dir,idx)\n",
    "\n",
    "#                 print(i,j,img_folder,msk_folder)\n",
    "\n",
    "                img_pth = os.path.join(img_folder,idx+'.jpg')\n",
    "\n",
    "                cv2.imwrite(img_pth,img)\n",
    "\n",
    "                mask_generation(msk,msk_folder)\n",
    "            \n",
    "        \n",
    "    \n",
    "#     folder = os.path.join(input_dir,sid)\n",
    "#     folder_images = os.path.join(folder,'images')\n",
    "#     folder_masks = os.path.join(folder,'masks')\n",
    "    \n",
    "#     if not os.path.exists(folder):\n",
    "#         os.mkdir(folder)\n",
    "#         os.mkdir(folder_images)\n",
    "#         os.mkdir(folder_masks)\n",
    "    \n",
    "#     shutil.copy(img_pth,folder_images)\n",
    "#     mask_generation(mask_file,folder_masks)\n"
   ]
  },
  {
   "cell_type": "code",
   "execution_count": 33,
   "metadata": {},
   "outputs": [
    {
     "name": "stderr",
     "output_type": "stream",
     "text": [
      "100%|██████████| 10/10 [00:14<00:00,  1.46s/it]\n"
     ]
    }
   ],
   "source": [
    "# generate the data according to kaggle format with pathes for valid and test\n",
    "\n",
    "import shutil\n",
    "from skimage.util.shape import view_as_windows\n",
    "from tqdm import tqdm\n",
    "\n",
    "# input_dir = r''\n",
    "input_dir = r'/home/xing/Share/Projects/Sanmed/cell_seg/20201127/valid/DAPI-Low'\n",
    "output_dir = r'/home/xing/Share/Projects/Sanmed/cell_seg/20201127/Dapi_output/val'\n",
    "w = 2560\n",
    "h = 2560\n",
    "pw = 512\n",
    "ph = 512\n",
    "\n",
    "file_list = glob2.glob(os.path.join(input_dir,'*'+'.png'))\n",
    "\n",
    "for mask_pth in tqdm(file_list):\n",
    "    \n",
    "    sid = key_fn(mask_pth)\n",
    "    \n",
    "#     print(sid,mask_pth)\n",
    "    \n",
    "    # step 1: image readin, resize, and patch generation\n",
    "    \n",
    "    img_pth = os.path.join(input_dir,sid+'.jpg')\n",
    "#     print(img_pth)\n",
    "    \n",
    "    image = cv2.imread(img_pth)\n",
    "    mask = cv2.imread(mask_pth)\n",
    "#     print(mask.shape)\n",
    "#     image_new = cv2.resize(image,(w,h),interpolation = cv2.INTER_AREA)\n",
    "#     mask_new = cv2.resize(mask,(w,h),interpolation = cv2.INTER_NEAREST)\n",
    "    image_new = image_pad(image,(w,h))\n",
    "    mask_new = image_pad(mask,(w,h))\n",
    "    \n",
    "    image_patch = view_as_windows(image,(pw,ph,3),(pw//2,ph//2,3))\n",
    "    mask_patch = view_as_windows(mask,(pw,ph,3),(pw//2,ph//2,3))\n",
    "    \n",
    "#     print(sid,image_patch.shape,len(mask_patch))\n",
    "    \n",
    "    for i,(imgs,msks) in enumerate(zip(image_patch,mask_patch)):\n",
    "\n",
    "        for j,(img,msk) in enumerate(zip(imgs,msks)):\n",
    "            \n",
    "            msk = np.squeeze(msk)\n",
    "            img = np.squeeze(img)\n",
    "            \n",
    "            r,c = np.where(msk[:,:,0] > 0)\n",
    "            \n",
    "#             print(len(r))\n",
    "            \n",
    "            if len(r)>50:\n",
    "            \n",
    "                idx = sid+'_'+str(i)+'_'+str(j)\n",
    "\n",
    "                img_folder,msk_folder = generate_folder(output_dir,idx)\n",
    "\n",
    "#                 print(i,j,img_folder,msk_folder)\n",
    "\n",
    "                img_pth = os.path.join(img_folder,idx+'.jpg')\n",
    "\n",
    "                cv2.imwrite(img_pth,img)\n",
    "\n",
    "                mask_generation(msk,msk_folder)"
   ]
  },
  {
   "cell_type": "markdown",
   "metadata": {},
   "source": [
    "# only pad, resize and save, no crop"
   ]
  },
  {
   "cell_type": "code",
   "execution_count": 39,
   "metadata": {},
   "outputs": [
    {
     "name": "stderr",
     "output_type": "stream",
     "text": [
      "100%|██████████| 114/114 [06:41<00:00,  3.52s/it]\n"
     ]
    }
   ],
   "source": [
    "# generate the data according to kaggle format with pathes\n",
    "\n",
    "import shutil\n",
    "from skimage.util.shape import view_as_windows\n",
    "from tqdm import tqdm\n",
    "\n",
    "# input_dir = r''\n",
    "input_dir = r'/home/xing/Share/Projects/Sanmed/cell_seg/20201127/train/DAPI-Low'\n",
    "output_dir = r'/home/xing/Share/Projects/Sanmed/cell_seg/20201127/Dapi_output_resize/train'\n",
    "w = 2560\n",
    "h = 2560\n",
    "pw = 512\n",
    "ph = 512\n",
    "\n",
    "file_list = glob2.glob(os.path.join(input_dir,'*'+'.png'))\n",
    "\n",
    "for mask_pth in tqdm(file_list):\n",
    "    \n",
    "    sid = key_fn(mask_pth)\n",
    "    \n",
    "#     print(sid,mask_pth)\n",
    "    \n",
    "    # step 1: image readin, resize, and patch generation\n",
    "    \n",
    "    img_pth = os.path.join(input_dir,sid+'.jpg')\n",
    "#     print(img_pth)\n",
    "    \n",
    "    image = cv2.imread(img_pth)\n",
    "    mask = cv2.imread(mask_pth)\n",
    "#     print(mask.shape)\n",
    "\n",
    "    image_new = image_pad(image,(w,h))\n",
    "    mask_new = image_pad(mask,(w,h))\n",
    "    \n",
    "#     image_new = cv2.resize(image_new,(w//2,h//2),interpolation = cv2.INTER_AREA)\n",
    "#     mask_new = cv2.resize(mask_new,(w//2,h//2),interpolation = cv2.INTER_NEAREST)\n",
    "\n",
    "    img_folder,msk_folder = generate_folder(output_dir,sid)\n",
    "    \n",
    "    img_pth = os.path.join(img_folder,sid+'.jpg')\n",
    "    \n",
    "    cv2.imwrite(img_pth,image_new)\n",
    "\n",
    "    mask_generation(mask_new,msk_folder)\n",
    "    "
   ]
  },
  {
   "cell_type": "code",
   "execution_count": 40,
   "metadata": {},
   "outputs": [
    {
     "name": "stderr",
     "output_type": "stream",
     "text": [
      "100%|██████████| 10/10 [00:38<00:00,  3.87s/it]\n"
     ]
    }
   ],
   "source": [
    "# generate the data according to kaggle format with pathes\n",
    "\n",
    "import shutil\n",
    "from skimage.util.shape import view_as_windows\n",
    "from tqdm import tqdm\n",
    "\n",
    "# input_dir = r''\n",
    "input_dir = r'/home/xing/Share/Projects/Sanmed/cell_seg/20201127/valid/DAPI-Low'\n",
    "output_dir = r'/home/xing/Share/Projects/Sanmed/cell_seg/20201127/Dapi_output_resize/val'\n",
    "w = 2560\n",
    "h = 2560\n",
    "pw = 512\n",
    "ph = 512\n",
    "\n",
    "file_list = glob2.glob(os.path.join(input_dir,'*'+'.png'))\n",
    "\n",
    "for mask_pth in tqdm(file_list):\n",
    "    \n",
    "    sid = key_fn(mask_pth)\n",
    "    \n",
    "#     print(sid,mask_pth)\n",
    "    \n",
    "    # step 1: image readin, resize, and patch generation\n",
    "    \n",
    "    img_pth = os.path.join(input_dir,sid+'.jpg')\n",
    "#     print(img_pth)\n",
    "    \n",
    "    image = cv2.imread(img_pth)\n",
    "    mask = cv2.imread(mask_pth)\n",
    "#     print(mask.shape)\n",
    "\n",
    "    image_new = image_pad(image,(w,h))\n",
    "    mask_new = image_pad(mask,(w,h))\n",
    "    \n",
    "#     image_new = cv2.resize(image_new,(w//2,h//2),interpolation = cv2.INTER_AREA)\n",
    "#     mask_new = cv2.resize(mask_new,(w//2,h//2),interpolation = cv2.INTER_NEAREST)\n",
    "\n",
    "    img_folder,msk_folder = generate_folder(output_dir,sid)\n",
    "    \n",
    "    img_pth = os.path.join(img_folder,sid+'.jpg')\n",
    "    \n",
    "    cv2.imwrite(img_pth,image_new)\n",
    "\n",
    "    mask_generation(mask_new,msk_folder)"
   ]
  },
  {
   "cell_type": "code",
   "execution_count": null,
   "metadata": {},
   "outputs": [],
   "source": []
  }
 ],
 "metadata": {
  "kernelspec": {
   "display_name": "env_fastai",
   "language": "python",
   "name": "env_fastai"
  },
  "language_info": {
   "codemirror_mode": {
    "name": "ipython",
    "version": 3
   },
   "file_extension": ".py",
   "mimetype": "text/x-python",
   "name": "python",
   "nbconvert_exporter": "python",
   "pygments_lexer": "ipython3",
   "version": "3.6.12"
  }
 },
 "nbformat": 4,
 "nbformat_minor": 4
}
